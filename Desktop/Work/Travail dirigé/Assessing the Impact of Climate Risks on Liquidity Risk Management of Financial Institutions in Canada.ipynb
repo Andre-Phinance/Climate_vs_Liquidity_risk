{
 "cells": [
  {
   "cell_type": "code",
   "execution_count": null,
   "metadata": {},
   "outputs": [],
   "source": [
    "#%load_ext autoreload\n",
    "#%autoreload 2"
   ]
  },
  {
   "cell_type": "code",
   "execution_count": null,
   "metadata": {},
   "outputs": [
    {
     "data": {
      "text/html": [
       "        <script type=\"text/javascript\">\n",
       "        window.PlotlyConfig = {MathJaxConfig: 'local'};\n",
       "        if (window.MathJax && window.MathJax.Hub && window.MathJax.Hub.Config) {window.MathJax.Hub.Config({SVG: {font: \"STIX-Web\"}});}\n",
       "        if (typeof require !== 'undefined') {\n",
       "        require.undef(\"plotly\");\n",
       "        requirejs.config({\n",
       "            paths: {\n",
       "                'plotly': ['https://cdn.plot.ly/plotly-2.30.0.min']\n",
       "            }\n",
       "        });\n",
       "        require(['plotly'], function(Plotly) {\n",
       "            window._Plotly = Plotly;\n",
       "        });\n",
       "        }\n",
       "        </script>\n",
       "        "
      ]
     },
     "metadata": {},
     "output_type": "display_data"
    }
   ],
   "source": [
    "# Import necessary libraries\n",
    "import yfinance as yf\n",
    "import pandas as pd\n",
    "import datetime as dt\n",
    "import numpy as np\n",
    "import matplotlib.pyplot as plt\n",
    "import seaborn as sns\n",
    "import plotly.express as px\n",
    "import plotly.graph_objects as go\n",
    "import plotly.offline as pyo\n",
    "import cufflinks as cf\n",
    "from plotly.subplots import make_subplots\n",
    "from scipy.optimize import curve_fit\n",
    "import statsmodels.api as sm\n",
    "from statsmodels.formula.api import ols\n",
    "from sklearn.linear_model import LinearRegression\n",
    "from sklearn.metrics import r2_score, mean_squared_error\n",
    "import warnings\n",
    "warnings.filterwarnings(\"ignore\")\n",
    "\n",
    "# Configure Plotly and Cufflinks\n",
    "cf.go_offline()\n",
    "cf.set_config_file(offline=False, world_readable=True)\n",
    "\n",
    "# Setting seaborn style for plots\n",
    "sns.set_theme(style='whitegrid')"
   ]
  },
  {
   "cell_type": "markdown",
   "metadata": {},
   "source": [
    "# Collecting data"
   ]
  },
  {
   "cell_type": "markdown",
   "metadata": {},
   "source": [
    "## Financial Data"
   ]
  },
  {
   "cell_type": "code",
   "execution_count": null,
   "metadata": {},
   "outputs": [],
   "source": [
    "# Symbols for 3 major banks in the S&P/TSX Capped Financials Index\n",
    "symbols = [\n",
    "    'RY.TO',  # Royal Bank of Canada\n",
    "    'TD.TO',  # Toronto-Dominion Bank\n",
    "    'BNS.TO',  # Bank of Nova Scotia (Scotiabank)\n",
    "]"
   ]
  },
  {
   "cell_type": "code",
   "execution_count": null,
   "metadata": {},
   "outputs": [
    {
     "data": {
      "text/html": [
       "<div>\n",
       "<style scoped>\n",
       "    .dataframe tbody tr th:only-of-type {\n",
       "        vertical-align: middle;\n",
       "    }\n",
       "\n",
       "    .dataframe tbody tr th {\n",
       "        vertical-align: top;\n",
       "    }\n",
       "\n",
       "    .dataframe thead th {\n",
       "        text-align: right;\n",
       "    }\n",
       "</style>\n",
       "<table border=\"1\" class=\"dataframe\">\n",
       "  <thead>\n",
       "    <tr style=\"text-align: right;\">\n",
       "      <th></th>\n",
       "      <th>Quarters</th>\n",
       "      <th>Cash ratio</th>\n",
       "      <th>Quick ratio</th>\n",
       "      <th>Current ratio</th>\n",
       "    </tr>\n",
       "  </thead>\n",
       "  <tbody>\n",
       "    <tr>\n",
       "      <th>109</th>\n",
       "      <td>1997-Q1</td>\n",
       "      <td>0.0371</td>\n",
       "      <td>0.0371</td>\n",
       "      <td>0.0371</td>\n",
       "    </tr>\n",
       "    <tr>\n",
       "      <th>110</th>\n",
       "      <td>1996-Q4</td>\n",
       "      <td>0.2871</td>\n",
       "      <td>0.2871</td>\n",
       "      <td>0.2871</td>\n",
       "    </tr>\n",
       "    <tr>\n",
       "      <th>111</th>\n",
       "      <td>1996-Q3</td>\n",
       "      <td>0.0416</td>\n",
       "      <td>0.0416</td>\n",
       "      <td>0.0416</td>\n",
       "    </tr>\n",
       "    <tr>\n",
       "      <th>112</th>\n",
       "      <td>1996-Q2</td>\n",
       "      <td>0.0448</td>\n",
       "      <td>0.0448</td>\n",
       "      <td>0.0448</td>\n",
       "    </tr>\n",
       "    <tr>\n",
       "      <th>113</th>\n",
       "      <td>1996-Q1</td>\n",
       "      <td>NaN</td>\n",
       "      <td>NaN</td>\n",
       "      <td>NaN</td>\n",
       "    </tr>\n",
       "  </tbody>\n",
       "</table>\n",
       "</div>"
      ],
      "text/plain": [
       "    Quarters  Cash ratio  Quick ratio  Current ratio\n",
       "109  1997-Q1      0.0371       0.0371         0.0371\n",
       "110  1996-Q4      0.2871       0.2871         0.2871\n",
       "111  1996-Q3      0.0416       0.0416         0.0416\n",
       "112  1996-Q2      0.0448       0.0448         0.0448\n",
       "113  1996-Q1         NaN          NaN            NaN"
      ]
     },
     "execution_count": 5,
     "metadata": {},
     "output_type": "execute_result"
    }
   ],
   "source": [
    "# Loading the Excel file\n",
    "sheets = '/Users/juvenalagbanou/Desktop/Work/Travail dirigé/transformed_key_ratios.xlsx'\n",
    "financial_ratios_data = pd.read_excel(sheets, sheet_name=None)\n",
    "\n",
    "financial_ratios_data['TD.TO'].tail()"
   ]
  },
  {
   "cell_type": "code",
   "execution_count": null,
   "metadata": {},
   "outputs": [],
   "source": [
    "# Function to fill missing values using moving average of t-1 and t+1\n",
    "def fill_missing_with_moving_avg(df, column):\n",
    "    for i in range(len(df)):\n",
    "        if pd.isna(df.loc[i, column]):\n",
    "            if i == 0:\n",
    "                # If missing value is at the start, use the next value\n",
    "                if len(df) > 1 and not pd.isna(df.loc[i + 1, column]):\n",
    "                    df.loc[i, column] = df.loc[i + 1, column]\n",
    "            elif i == len(df) - 1:\n",
    "                # If missing value is at the end, use the previous value\n",
    "                df.loc[i, column] = df.loc[i - 1, column]\n",
    "            else:\n",
    "                # For missing values in between, use the moving average of t-1 and t+1\n",
    "                if not pd.isna(df.loc[i - 1, column]) and not pd.isna(df.loc[i + 1, column]):\n",
    "                    df.loc[i, column] = (df.loc[i - 1, column] + df.loc[i + 1, column]) / 2\n",
    "    return df\n",
    "\n",
    "\n",
    "# Processing each sheet\n",
    "for sheet_name, df in financial_ratios_data.items():\n",
    "    columns_with_missing_values = ['Cash ratio', 'Quick ratio', 'Current ratio']\n",
    "    for column in columns_with_missing_values:\n",
    "        df = fill_missing_with_moving_avg(df, column)\n",
    "    financial_ratios_data[sheet_name] = df\n",
    "\n",
    "# We can now continue to work with the filled data in the notebook"
   ]
  },
  {
   "cell_type": "code",
   "execution_count": null,
   "metadata": {},
   "outputs": [
    {
     "data": {
      "text/html": [
       "<div>\n",
       "<style scoped>\n",
       "    .dataframe tbody tr th:only-of-type {\n",
       "        vertical-align: middle;\n",
       "    }\n",
       "\n",
       "    .dataframe tbody tr th {\n",
       "        vertical-align: top;\n",
       "    }\n",
       "\n",
       "    .dataframe thead th {\n",
       "        text-align: right;\n",
       "    }\n",
       "</style>\n",
       "<table border=\"1\" class=\"dataframe\">\n",
       "  <thead>\n",
       "    <tr style=\"text-align: right;\">\n",
       "      <th></th>\n",
       "      <th>Quarters</th>\n",
       "      <th>Cash ratio</th>\n",
       "      <th>Quick ratio</th>\n",
       "      <th>Current ratio</th>\n",
       "    </tr>\n",
       "  </thead>\n",
       "  <tbody>\n",
       "    <tr>\n",
       "      <th>0</th>\n",
       "      <td>2024-Q2</td>\n",
       "      <td>0.2053</td>\n",
       "      <td>0.4931</td>\n",
       "      <td>1.126</td>\n",
       "    </tr>\n",
       "    <tr>\n",
       "      <th>1</th>\n",
       "      <td>2024-Q1</td>\n",
       "      <td>0.1843</td>\n",
       "      <td>0.4784</td>\n",
       "      <td>1.070</td>\n",
       "    </tr>\n",
       "    <tr>\n",
       "      <th>2</th>\n",
       "      <td>2023-Q4</td>\n",
       "      <td>0.2423</td>\n",
       "      <td>0.4448</td>\n",
       "      <td>1.122</td>\n",
       "    </tr>\n",
       "    <tr>\n",
       "      <th>3</th>\n",
       "      <td>2023-Q3</td>\n",
       "      <td>0.2141</td>\n",
       "      <td>0.4871</td>\n",
       "      <td>1.147</td>\n",
       "    </tr>\n",
       "    <tr>\n",
       "      <th>4</th>\n",
       "      <td>2023-Q2</td>\n",
       "      <td>0.2463</td>\n",
       "      <td>0.5185</td>\n",
       "      <td>1.133</td>\n",
       "    </tr>\n",
       "  </tbody>\n",
       "</table>\n",
       "</div>"
      ],
      "text/plain": [
       "  Quarters  Cash ratio  Quick ratio  Current ratio\n",
       "0  2024-Q2      0.2053       0.4931          1.126\n",
       "1  2024-Q1      0.1843       0.4784          1.070\n",
       "2  2023-Q4      0.2423       0.4448          1.122\n",
       "3  2023-Q3      0.2141       0.4871          1.147\n",
       "4  2023-Q2      0.2463       0.5185          1.133"
      ]
     },
     "execution_count": 7,
     "metadata": {},
     "output_type": "execute_result"
    }
   ],
   "source": [
    "financial_ratios_data['TD.TO'].head()"
   ]
  },
  {
   "cell_type": "code",
   "execution_count": null,
   "metadata": {},
   "outputs": [],
   "source": [
    "# Define the range\n",
    "start_quarter = '2023-Q3'\n",
    "end_quarter = '1996-Q1'\n",
    "\n",
    "# Function to filter data by quarter range\n",
    "def filter_by_quarter_range(df, start_quarter, end_quarter):\n",
    "    # Filter DataFrame based on the Quarters column\n",
    "    filtered_df = df[(df['Quarters'] >= end_quarter) & (df['Quarters'] <= start_quarter)]\n",
    "    return filtered_df\n",
    "\n",
    "# Create a dictionary to hold the filtered data for each sheet\n",
    "key_ratios_df = {}\n",
    "\n",
    "# Process each sheet and filter the data\n",
    "for sheet_name, df in financial_ratios_data.items():\n",
    "    if 'Quarters' in df.columns:\n",
    "        filtered_df = filter_by_quarter_range(df, start_quarter, end_quarter)\n",
    "        # Re-index the filtered DataFrame\n",
    "        filtered_df.reset_index(drop=True, inplace=True)\n",
    "        key_ratios_df[sheet_name] = filtered_df\n",
    "\n",
    "# key_ratios_df now contains the filtered and re-indexed DataFrames for each sheet"
   ]
  },
  {
   "cell_type": "code",
   "execution_count": null,
   "metadata": {},
   "outputs": [],
   "source": [
    "# Reorder the data for each bank from the oldest to the newest\n",
    "key_ratios_df['RY.TO'] = key_ratios_df['RY.TO'].sort_values(by='Quarters', ascending=True).reset_index(drop=True)\n",
    "key_ratios_df['TD.TO'] = key_ratios_df['TD.TO'].sort_values(by='Quarters', ascending=True).reset_index(drop=True)\n",
    "key_ratios_df['BNS.TO'] = key_ratios_df['BNS.TO'].sort_values(by='Quarters', ascending=True).reset_index(drop=True)\n",
    "\n",
    "# Display the first few rows to confirm the change\n",
    "#print(key_ratios_df['TD.TO'].head())\n",
    "#print(key_ratios_df['RY.TO'].tail())\n",
    "#print(key_ratios_df['BNS.TO'].head())"
   ]
  },
  {
   "cell_type": "code",
   "execution_count": null,
   "metadata": {},
   "outputs": [
    {
     "data": {
      "text/plain": [
       "(111, 4)"
      ]
     },
     "execution_count": 10,
     "metadata": {},
     "output_type": "execute_result"
    }
   ],
   "source": [
    "key_ratios_df['RY.TO'].shape"
   ]
  },
  {
   "cell_type": "markdown",
   "metadata": {},
   "source": [
    "## Climate Data "
   ]
  },
  {
   "cell_type": "code",
   "execution_count": null,
   "metadata": {},
   "outputs": [
    {
     "data": {
      "text/html": [
       "<div>\n",
       "<style scoped>\n",
       "    .dataframe tbody tr th:only-of-type {\n",
       "        vertical-align: middle;\n",
       "    }\n",
       "\n",
       "    .dataframe tbody tr th {\n",
       "        vertical-align: top;\n",
       "    }\n",
       "\n",
       "    .dataframe thead th {\n",
       "        text-align: right;\n",
       "    }\n",
       "</style>\n",
       "<table border=\"1\" class=\"dataframe\">\n",
       "  <thead>\n",
       "    <tr style=\"text-align: right;\">\n",
       "      <th></th>\n",
       "      <th>Sea_Lvl_M</th>\n",
       "      <th>CDD_M</th>\n",
       "      <th>Rx5Day_M</th>\n",
       "      <th>T10_M</th>\n",
       "      <th>T90_M</th>\n",
       "      <th>WP90_M</th>\n",
       "      <th>ACI_Comb_M</th>\n",
       "    </tr>\n",
       "  </thead>\n",
       "  <tbody>\n",
       "    <tr>\n",
       "      <th>0</th>\n",
       "      <td>-0.34</td>\n",
       "      <td>-0.60</td>\n",
       "      <td>0.31</td>\n",
       "      <td>-0.18</td>\n",
       "      <td>0.22</td>\n",
       "      <td>0.37</td>\n",
       "      <td>0.02</td>\n",
       "    </tr>\n",
       "    <tr>\n",
       "      <th>1</th>\n",
       "      <td>-0.34</td>\n",
       "      <td>-0.60</td>\n",
       "      <td>0.33</td>\n",
       "      <td>-0.15</td>\n",
       "      <td>0.20</td>\n",
       "      <td>0.36</td>\n",
       "      <td>0.02</td>\n",
       "    </tr>\n",
       "    <tr>\n",
       "      <th>2</th>\n",
       "      <td>-0.36</td>\n",
       "      <td>-0.60</td>\n",
       "      <td>0.32</td>\n",
       "      <td>-0.13</td>\n",
       "      <td>0.20</td>\n",
       "      <td>0.38</td>\n",
       "      <td>0.01</td>\n",
       "    </tr>\n",
       "    <tr>\n",
       "      <th>3</th>\n",
       "      <td>-0.37</td>\n",
       "      <td>-0.61</td>\n",
       "      <td>0.30</td>\n",
       "      <td>-0.11</td>\n",
       "      <td>0.18</td>\n",
       "      <td>0.42</td>\n",
       "      <td>0.00</td>\n",
       "    </tr>\n",
       "    <tr>\n",
       "      <th>4</th>\n",
       "      <td>-0.35</td>\n",
       "      <td>-0.62</td>\n",
       "      <td>0.30</td>\n",
       "      <td>-0.07</td>\n",
       "      <td>0.13</td>\n",
       "      <td>0.39</td>\n",
       "      <td>-0.01</td>\n",
       "    </tr>\n",
       "  </tbody>\n",
       "</table>\n",
       "</div>"
      ],
      "text/plain": [
       "   Sea_Lvl_M  CDD_M  Rx5Day_M  T10_M  T90_M  WP90_M  ACI_Comb_M\n",
       "0      -0.34  -0.60      0.31  -0.18   0.22    0.37        0.02\n",
       "1      -0.34  -0.60      0.33  -0.15   0.20    0.36        0.02\n",
       "2      -0.36  -0.60      0.32  -0.13   0.20    0.38        0.01\n",
       "3      -0.37  -0.61      0.30  -0.11   0.18    0.42        0.00\n",
       "4      -0.35  -0.62      0.30  -0.07   0.13    0.39       -0.01"
      ]
     },
     "execution_count": 11,
     "metadata": {},
     "output_type": "execute_result"
    }
   ],
   "source": [
    "# Climate data from January 1996 to September 2023\n",
    "# File path\n",
    "file_path = '/Users/juvenalagbanou/Desktop/Work/Travail dirigé/Climate_data_CAN.xlsx' \n",
    "\n",
    "# Read the Excel file\n",
    "climate_df = pd.read_excel(file_path)\n",
    "\n",
    "climate_df.head()"
   ]
  },
  {
   "cell_type": "code",
   "execution_count": null,
   "metadata": {},
   "outputs": [
    {
     "name": "stdout",
     "output_type": "stream",
     "text": [
      "     Sea_Lvl_M     CDD_M  Rx5Day_M     T10_M     T90_M    WP90_M  ACI_Comb_M\n",
      "106   0.203333  1.760000  1.143333 -0.696667  0.753333  0.533333    0.850000\n",
      "107   0.173333  1.740000  1.143333 -0.703333  0.793333  0.570000    0.853333\n",
      "108   0.163333  1.680000  1.173333 -0.706667  0.796667  0.526667    0.840000\n",
      "109   0.163333  1.643333  1.190000 -0.730000  0.813333  0.516667    0.843333\n",
      "110   0.216667  1.643333  1.240000 -0.740000  0.836667  0.430000    0.850000\n"
     ]
    }
   ],
   "source": [
    "# Initialize an empty list to store quarterly data\n",
    "quarterly_data = []\n",
    "\n",
    "# Iterate through the DataFrame in steps of three to calculate quarterly means\n",
    "for i in range(0, len(climate_df), 3):\n",
    "    quarterly_mean = climate_df.iloc[i:i+3].mean()\n",
    "    quarterly_data.append(quarterly_mean)\n",
    "\n",
    "# Convert the list of quarterly data back to a DataFrame\n",
    "quarterly_climate_df = pd.DataFrame(quarterly_data)\n",
    "\n",
    "# Reset the index to ensure it's sequential\n",
    "quarterly_climate_df.reset_index(drop=True, inplace=True)\n",
    "\n",
    "# Display the first few rows of the quarterly DataFrame to confirm the change\n",
    "print(quarterly_climate_df.tail())"
   ]
  },
  {
   "cell_type": "code",
   "execution_count": null,
   "metadata": {},
   "outputs": [
    {
     "name": "stdout",
     "output_type": "stream",
     "text": [
      "    Quarters  Sea_Lvl_M     CDD_M  Rx5Day_M     T10_M     T90_M    WP90_M  \\\n",
      "106  2022-Q3   0.203333  1.760000  1.143333 -0.696667  0.753333  0.533333   \n",
      "107  2022-Q4   0.173333  1.740000  1.143333 -0.703333  0.793333  0.570000   \n",
      "108  2023-Q1   0.163333  1.680000  1.173333 -0.706667  0.796667  0.526667   \n",
      "109  2023-Q2   0.163333  1.643333  1.190000 -0.730000  0.813333  0.516667   \n",
      "110  2023-Q3   0.216667  1.643333  1.240000 -0.740000  0.836667  0.430000   \n",
      "\n",
      "     ACI_Comb_M  \n",
      "106    0.850000  \n",
      "107    0.853333  \n",
      "108    0.840000  \n",
      "109    0.843333  \n",
      "110    0.850000  \n"
     ]
    }
   ],
   "source": [
    "# Assuming all sheets have the same \"Quarters\" column, we can take it from the first sheet\n",
    "first_sheet_name = list(key_ratios_df.keys())[0]\n",
    "quarters_column = key_ratios_df[first_sheet_name]['Quarters']\n",
    "\n",
    "# Add the \"Quarters\" column to the quarterly_climate_df\n",
    "quarterly_climate_df['Quarters'] = quarters_column.values\n",
    "\n",
    "# Rearrange columns to have \"Quarters\" as the first column\n",
    "quarterly_climate_df = quarterly_climate_df[['Quarters'] + [col for col in quarterly_climate_df.columns if col != 'Quarters']]\n",
    "\n",
    "# Display the first few rows to confirm\n",
    "print(quarterly_climate_df.tail())"
   ]
  },
  {
   "cell_type": "code",
   "execution_count": 14,
   "metadata": {},
   "outputs": [
    {
     "data": {
      "text/plain": [
       "(111, 8)"
      ]
     },
     "execution_count": 14,
     "metadata": {},
     "output_type": "execute_result"
    }
   ],
   "source": [
    "quarterly_climate_df.shape"
   ]
  },
  {
   "cell_type": "markdown",
   "metadata": {},
   "source": [
    "# Regressions"
   ]
  },
  {
   "cell_type": "markdown",
   "metadata": {},
   "source": [
    "## Initialization"
   ]
  },
  {
   "cell_type": "code",
   "execution_count": null,
   "metadata": {},
   "outputs": [
    {
     "name": "stdout",
     "output_type": "stream",
     "text": [
      "Regression DataFrame for RY.TO:\n",
      "  Quarters  Cash ratio  Quick ratio  Current ratio  Sea_Lvl_M     CDD_M  \\\n",
      "0  1996-Q1      1.3680       1.3680         1.3680  -0.346667 -0.600000   \n",
      "1  1996-Q2      1.3170       1.3170         1.3170  -0.350000 -0.616667   \n",
      "2  1996-Q3      1.1020       1.1020         1.1020  -0.266667 -0.643333   \n",
      "3  1996-Q4      1.5525       1.5525         1.5525  -0.200000 -0.686667   \n",
      "4  1997-Q1      2.0030       2.0030         2.0030  -0.193333 -0.733333   \n",
      "\n",
      "   Rx5Day_M     T10_M     T90_M    WP90_M  ACI_Comb_M  \n",
      "0  0.320000 -0.153333  0.206667  0.370000    0.016667  \n",
      "1  0.300000 -0.080000  0.143333  0.390000   -0.010000  \n",
      "2  0.300000 -0.053333  0.090000  0.330000   -0.023333  \n",
      "3  0.296667 -0.050000  0.046667  0.313333   -0.030000  \n",
      "4  0.320000 -0.016667 -0.026667  0.340000   -0.046667  \n",
      "\n",
      "\n",
      "Regression DataFrame for TD.TO:\n",
      "  Quarters  Cash ratio  Quick ratio  Current ratio  Sea_Lvl_M     CDD_M  \\\n",
      "0  1996-Q1      0.0448       0.0448         0.0448  -0.346667 -0.600000   \n",
      "1  1996-Q2      0.0448       0.0448         0.0448  -0.350000 -0.616667   \n",
      "2  1996-Q3      0.0416       0.0416         0.0416  -0.266667 -0.643333   \n",
      "3  1996-Q4      0.2871       0.2871         0.2871  -0.200000 -0.686667   \n",
      "4  1997-Q1      0.0371       0.0371         0.0371  -0.193333 -0.733333   \n",
      "\n",
      "   Rx5Day_M     T10_M     T90_M    WP90_M  ACI_Comb_M  \n",
      "0  0.320000 -0.153333  0.206667  0.370000    0.016667  \n",
      "1  0.300000 -0.080000  0.143333  0.390000   -0.010000  \n",
      "2  0.300000 -0.053333  0.090000  0.330000   -0.023333  \n",
      "3  0.296667 -0.050000  0.046667  0.313333   -0.030000  \n",
      "4  0.320000 -0.016667 -0.026667  0.340000   -0.046667  \n",
      "\n",
      "\n",
      "Regression DataFrame for BNS.TO:\n",
      "  Quarters  Cash ratio  Quick ratio  Current ratio  Sea_Lvl_M     CDD_M  \\\n",
      "0  1996-Q1      1.4560       1.4560         1.4560  -0.346667 -0.600000   \n",
      "1  1996-Q2      1.1000       1.1000         1.1000  -0.350000 -0.616667   \n",
      "2  1996-Q3      1.1440       1.1440         1.1440  -0.266667 -0.643333   \n",
      "3  1996-Q4      0.8463       0.9657         0.9657  -0.200000 -0.686667   \n",
      "4  1997-Q1      1.0860       1.0860         1.0860  -0.193333 -0.733333   \n",
      "\n",
      "   Rx5Day_M     T10_M     T90_M    WP90_M  ACI_Comb_M  \n",
      "0  0.320000 -0.153333  0.206667  0.370000    0.016667  \n",
      "1  0.300000 -0.080000  0.143333  0.390000   -0.010000  \n",
      "2  0.300000 -0.053333  0.090000  0.330000   -0.023333  \n",
      "3  0.296667 -0.050000  0.046667  0.313333   -0.030000  \n",
      "4  0.320000 -0.016667 -0.026667  0.340000   -0.046667  \n",
      "\n",
      "\n"
     ]
    }
   ],
   "source": [
    "# Initialize dictionaries to store regression dataframes\n",
    "regression_dataframes = {}\n",
    "\n",
    "# Iterate through each symbol and merge data\n",
    "for symbol in symbols:\n",
    "    # Get the data for the current symbol\n",
    "    df = key_ratios_df[symbol]\n",
    "    \n",
    "    # Merge with climate data\n",
    "    merged_df = pd.merge(df, quarterly_climate_df, on='Quarters', how='left')\n",
    "    \n",
    "    # Store the merged dataframe in the dictionary\n",
    "    regression_dataframes[symbol] = merged_df\n",
    "\n",
    "# Display the first few rows of each regression dataframe\n",
    "for symbol, regression_df in regression_dataframes.items():\n",
    "    print(f\"Regression DataFrame for {symbol}:\")\n",
    "    print(regression_df.head())\n",
    "    print(\"\\n\")\n",
    "\n",
    "# Access the individual dataframes\n",
    "regression_df_RY = regression_dataframes['RY.TO']\n",
    "regression_df_TD = regression_dataframes['TD.TO']\n",
    "regression_df_BNS = regression_dataframes['BNS.TO']"
   ]
  },
  {
   "cell_type": "code",
   "execution_count": null,
   "metadata": {},
   "outputs": [],
   "source": [
    "#regression_df_BNS.shape"
   ]
  },
  {
   "cell_type": "code",
   "execution_count": null,
   "metadata": {},
   "outputs": [],
   "source": [
    "# Define the features for linear regression\n",
    "features = ['Sea_Lvl_M', 'CDD_M', 'Rx5Day_M', 'T10_M', 'T90_M', 'WP90_M']"
   ]
  },
  {
   "cell_type": "code",
   "execution_count": null,
   "metadata": {},
   "outputs": [
    {
     "data": {
      "application/vnd.plotly.v1+json": {
       "config": {
        "plotlyServerURL": "https://plot.ly"
       },
       "data": [
        {
         "line": {
          "width": 1.5
         },
         "marker": {
          "size": 6
         },
         "mode": "lines+markers",
         "name": "Sea_Lvl_M",
         "type": "scatter",
         "x": [
          "1996-Q1",
          "1996-Q2",
          "1996-Q3",
          "1996-Q4",
          "1997-Q1",
          "1997-Q2",
          "1997-Q3",
          "1997-Q4",
          "1998-Q1",
          "1998-Q2",
          "1998-Q3",
          "1998-Q4",
          "1999-Q1",
          "1999-Q2",
          "1999-Q3",
          "1999-Q4",
          "2000-Q1",
          "2000-Q2",
          "2000-Q3",
          "2000-Q4",
          "2001-Q1",
          "2001-Q2",
          "2001-Q3",
          "2001-Q4",
          "2002-Q1",
          "2002-Q2",
          "2002-Q3",
          "2002-Q4",
          "2003-Q1",
          "2003-Q2",
          "2003-Q3",
          "2003-Q4",
          "2004-Q1",
          "2004-Q2",
          "2004-Q3",
          "2004-Q4",
          "2005-Q1",
          "2005-Q2",
          "2005-Q3",
          "2005-Q4",
          "2006-Q1",
          "2006-Q2",
          "2006-Q3",
          "2006-Q4",
          "2007-Q1",
          "2007-Q2",
          "2007-Q3",
          "2007-Q4",
          "2008-Q1",
          "2008-Q2",
          "2008-Q3",
          "2008-Q4",
          "2009-Q1",
          "2009-Q2",
          "2009-Q3",
          "2009-Q4",
          "2010-Q1",
          "2010-Q2",
          "2010-Q3",
          "2010-Q4",
          "2011-Q1",
          "2011-Q2",
          "2011-Q3",
          "2011-Q4",
          "2012-Q1",
          "2012-Q2",
          "2012-Q3",
          "2012-Q4",
          "2013-Q1",
          "2013-Q2",
          "2013-Q3",
          "2013-Q4",
          "2014-Q1",
          "2014-Q2",
          "2014-Q3",
          "2014-Q4",
          "2015-Q1",
          "2015-Q2",
          "2015-Q3",
          "2015-Q4",
          "2016-Q1",
          "2016-Q2",
          "2016-Q3",
          "2016-Q4",
          "2017-Q1",
          "2017-Q2",
          "2017-Q3",
          "2017-Q4",
          "2018-Q1",
          "2018-Q2",
          "2018-Q3",
          "2018-Q4",
          "2019-Q1",
          "2019-Q2",
          "2019-Q3",
          "2019-Q4",
          "2020-Q1",
          "2020-Q2",
          "2020-Q3",
          "2020-Q4",
          "2021-Q1",
          "2021-Q2",
          "2021-Q3",
          "2021-Q4",
          "2022-Q1",
          "2022-Q2",
          "2022-Q3",
          "2022-Q4",
          "2023-Q1",
          "2023-Q2",
          "2023-Q3"
         ],
         "y": [
          -0.3466666666666667,
          -0.35000000000000003,
          -0.26666666666666666,
          -0.19999999999999998,
          -0.19333333333333336,
          -0.14,
          -0.043333333333333335,
          0.03666666666666667,
          0.1366666666666667,
          0.15333333333333335,
          0.1366666666666667,
          0.12333333333333334,
          0.12666666666666668,
          0.11333333333333333,
          0.06333333333333334,
          0.04,
          -0.023333333333333334,
          -0.006666666666666665,
          0.04,
          0,
          -0.11666666666666668,
          -0.20666666666666667,
          -0.3233333333333333,
          -0.41,
          -0.45999999999999996,
          -0.5533333333333333,
          -0.6433333333333333,
          -0.81,
          -0.9700000000000001,
          -1.09,
          -1.133333333333333,
          -1.09,
          -1.02,
          -1.0133333333333334,
          -0.9833333333333334,
          -0.9500000000000001,
          -0.9533333333333333,
          -0.91,
          -0.9366666666666665,
          -0.8833333333333333,
          -0.7600000000000001,
          -0.6699999999999999,
          -0.6266666666666666,
          -0.5566666666666668,
          -0.5233333333333333,
          -0.49333333333333335,
          -0.5066666666666667,
          -0.48666666666666664,
          -0.4666666666666666,
          -0.4166666666666667,
          -0.32,
          -0.3433333333333333,
          -0.41,
          -0.39333333333333337,
          -0.3666666666666667,
          -0.3466666666666667,
          -0.25333333333333335,
          -0.2933333333333334,
          -0.33,
          -0.29333333333333333,
          -0.3,
          -0.2833333333333333,
          -0.20000000000000004,
          -0.20666666666666667,
          -0.24333333333333332,
          -0.22333333333333336,
          -0.23,
          -0.20666666666666667,
          -0.22333333333333336,
          -0.2333333333333333,
          -0.28,
          -0.30000000000000004,
          -0.3333333333333333,
          -0.31666666666666665,
          -0.31666666666666665,
          -0.25333333333333335,
          -0.31,
          -0.33,
          -0.25666666666666665,
          -0.26666666666666666,
          -0.24,
          -0.24333333333333332,
          -0.33,
          -0.3233333333333333,
          -0.26666666666666666,
          -0.17666666666666667,
          -0.06666666666666667,
          -0.016666666666666666,
          0.03333333333333333,
          0.07666666666666667,
          0.06666666666666667,
          0.13,
          0.2333333333333333,
          0.25666666666666665,
          0.2833333333333334,
          0.24666666666666667,
          0.2833333333333334,
          0.34333333333333327,
          0.37666666666666665,
          0.38000000000000006,
          0.35000000000000003,
          0.27666666666666667,
          0.2933333333333334,
          0.31666666666666665,
          0.2966666666666667,
          0.22666666666666666,
          0.20333333333333337,
          0.17333333333333334,
          0.16333333333333333,
          0.16333333333333333,
          0.21666666666666667
         ]
        },
        {
         "line": {
          "width": 1.5
         },
         "marker": {
          "size": 6
         },
         "mode": "lines+markers",
         "name": "CDD_M",
         "type": "scatter",
         "x": [
          "1996-Q1",
          "1996-Q2",
          "1996-Q3",
          "1996-Q4",
          "1997-Q1",
          "1997-Q2",
          "1997-Q3",
          "1997-Q4",
          "1998-Q1",
          "1998-Q2",
          "1998-Q3",
          "1998-Q4",
          "1999-Q1",
          "1999-Q2",
          "1999-Q3",
          "1999-Q4",
          "2000-Q1",
          "2000-Q2",
          "2000-Q3",
          "2000-Q4",
          "2001-Q1",
          "2001-Q2",
          "2001-Q3",
          "2001-Q4",
          "2002-Q1",
          "2002-Q2",
          "2002-Q3",
          "2002-Q4",
          "2003-Q1",
          "2003-Q2",
          "2003-Q3",
          "2003-Q4",
          "2004-Q1",
          "2004-Q2",
          "2004-Q3",
          "2004-Q4",
          "2005-Q1",
          "2005-Q2",
          "2005-Q3",
          "2005-Q4",
          "2006-Q1",
          "2006-Q2",
          "2006-Q3",
          "2006-Q4",
          "2007-Q1",
          "2007-Q2",
          "2007-Q3",
          "2007-Q4",
          "2008-Q1",
          "2008-Q2",
          "2008-Q3",
          "2008-Q4",
          "2009-Q1",
          "2009-Q2",
          "2009-Q3",
          "2009-Q4",
          "2010-Q1",
          "2010-Q2",
          "2010-Q3",
          "2010-Q4",
          "2011-Q1",
          "2011-Q2",
          "2011-Q3",
          "2011-Q4",
          "2012-Q1",
          "2012-Q2",
          "2012-Q3",
          "2012-Q4",
          "2013-Q1",
          "2013-Q2",
          "2013-Q3",
          "2013-Q4",
          "2014-Q1",
          "2014-Q2",
          "2014-Q3",
          "2014-Q4",
          "2015-Q1",
          "2015-Q2",
          "2015-Q3",
          "2015-Q4",
          "2016-Q1",
          "2016-Q2",
          "2016-Q3",
          "2016-Q4",
          "2017-Q1",
          "2017-Q2",
          "2017-Q3",
          "2017-Q4",
          "2018-Q1",
          "2018-Q2",
          "2018-Q3",
          "2018-Q4",
          "2019-Q1",
          "2019-Q2",
          "2019-Q3",
          "2019-Q4",
          "2020-Q1",
          "2020-Q2",
          "2020-Q3",
          "2020-Q4",
          "2021-Q1",
          "2021-Q2",
          "2021-Q3",
          "2021-Q4",
          "2022-Q1",
          "2022-Q2",
          "2022-Q3",
          "2022-Q4",
          "2023-Q1",
          "2023-Q2",
          "2023-Q3"
         ],
         "y": [
          -0.6,
          -0.6166666666666667,
          -0.6433333333333334,
          -0.6866666666666665,
          -0.7333333333333334,
          -0.7766666666666667,
          -0.81,
          -0.84,
          -0.8666666666666667,
          -0.89,
          -0.91,
          -0.93,
          -0.9466666666666667,
          -0.9466666666666667,
          -0.93,
          -0.8966666666666666,
          -0.8533333333333334,
          -0.82,
          -0.79,
          -0.7666666666666666,
          -0.7366666666666667,
          -0.6766666666666666,
          -0.59,
          -0.47333333333333333,
          -0.34,
          -0.2133333333333333,
          -0.10333333333333335,
          0,
          0.08,
          0.13333333333333333,
          0.16,
          0.15666666666666665,
          0.13333333333333333,
          0.10999999999999999,
          0.08,
          0.049999999999999996,
          0.02,
          -0.0033333333333333335,
          -0.016666666666666666,
          -0.02,
          -0.02,
          -0.02666666666666667,
          -0.049999999999999996,
          -0.08,
          -0.12333333333333334,
          -0.18333333333333332,
          -0.26,
          -0.35666666666666663,
          -0.45999999999999996,
          -0.5466666666666667,
          -0.62,
          -0.68,
          -0.7200000000000001,
          -0.73,
          -0.71,
          -0.6633333333333334,
          -0.5933333333333333,
          -0.51,
          -0.4066666666666667,
          -0.2866666666666667,
          -0.17333333333333334,
          -0.09999999999999999,
          -0.06666666666666667,
          -0.08,
          -0.10666666666666667,
          -0.11,
          -0.09666666666666668,
          -0.05666666666666667,
          -0.01,
          0.016666666666666666,
          0.02,
          0.006666666666666667,
          -0.03333333333333333,
          -0.10666666666666667,
          -0.21,
          -0.3466666666666667,
          -0.5066666666666667,
          -0.68,
          -0.8633333333333334,
          -1.0599999999999998,
          -1.2466666666666668,
          -1.3966666666666665,
          -1.5,
          -1.57,
          -1.6033333333333335,
          -1.6066666666666667,
          -1.586666666666667,
          -1.54,
          -1.4666666666666668,
          -1.3766666666666667,
          -1.27,
          -1.1500000000000001,
          -1.0166666666666666,
          -0.87,
          -0.7200000000000001,
          -0.5566666666666666,
          -0.38333333333333336,
          -0.18333333333333335,
          0.04,
          0.2833333333333334,
          0.5433333333333333,
          0.8033333333333333,
          1.0633333333333332,
          1.3233333333333333,
          1.55,
          1.6966666666666665,
          1.7599999999999998,
          1.74,
          1.68,
          1.6433333333333333,
          1.6433333333333333
         ]
        },
        {
         "line": {
          "width": 1.5
         },
         "marker": {
          "size": 6
         },
         "mode": "lines+markers",
         "name": "Rx5Day_M",
         "type": "scatter",
         "x": [
          "1996-Q1",
          "1996-Q2",
          "1996-Q3",
          "1996-Q4",
          "1997-Q1",
          "1997-Q2",
          "1997-Q3",
          "1997-Q4",
          "1998-Q1",
          "1998-Q2",
          "1998-Q3",
          "1998-Q4",
          "1999-Q1",
          "1999-Q2",
          "1999-Q3",
          "1999-Q4",
          "2000-Q1",
          "2000-Q2",
          "2000-Q3",
          "2000-Q4",
          "2001-Q1",
          "2001-Q2",
          "2001-Q3",
          "2001-Q4",
          "2002-Q1",
          "2002-Q2",
          "2002-Q3",
          "2002-Q4",
          "2003-Q1",
          "2003-Q2",
          "2003-Q3",
          "2003-Q4",
          "2004-Q1",
          "2004-Q2",
          "2004-Q3",
          "2004-Q4",
          "2005-Q1",
          "2005-Q2",
          "2005-Q3",
          "2005-Q4",
          "2006-Q1",
          "2006-Q2",
          "2006-Q3",
          "2006-Q4",
          "2007-Q1",
          "2007-Q2",
          "2007-Q3",
          "2007-Q4",
          "2008-Q1",
          "2008-Q2",
          "2008-Q3",
          "2008-Q4",
          "2009-Q1",
          "2009-Q2",
          "2009-Q3",
          "2009-Q4",
          "2010-Q1",
          "2010-Q2",
          "2010-Q3",
          "2010-Q4",
          "2011-Q1",
          "2011-Q2",
          "2011-Q3",
          "2011-Q4",
          "2012-Q1",
          "2012-Q2",
          "2012-Q3",
          "2012-Q4",
          "2013-Q1",
          "2013-Q2",
          "2013-Q3",
          "2013-Q4",
          "2014-Q1",
          "2014-Q2",
          "2014-Q3",
          "2014-Q4",
          "2015-Q1",
          "2015-Q2",
          "2015-Q3",
          "2015-Q4",
          "2016-Q1",
          "2016-Q2",
          "2016-Q3",
          "2016-Q4",
          "2017-Q1",
          "2017-Q2",
          "2017-Q3",
          "2017-Q4",
          "2018-Q1",
          "2018-Q2",
          "2018-Q3",
          "2018-Q4",
          "2019-Q1",
          "2019-Q2",
          "2019-Q3",
          "2019-Q4",
          "2020-Q1",
          "2020-Q2",
          "2020-Q3",
          "2020-Q4",
          "2021-Q1",
          "2021-Q2",
          "2021-Q3",
          "2021-Q4",
          "2022-Q1",
          "2022-Q2",
          "2022-Q3",
          "2022-Q4",
          "2023-Q1",
          "2023-Q2",
          "2023-Q3"
         ],
         "y": [
          0.32,
          0.3,
          0.30000000000000004,
          0.29666666666666663,
          0.32,
          0.33,
          0.33,
          0.3333333333333333,
          0.3333333333333333,
          0.3466666666666667,
          0.32,
          0.3466666666666667,
          0.36000000000000004,
          0.36000000000000004,
          0.41,
          0.43,
          0.40666666666666673,
          0.4533333333333333,
          0.49333333333333335,
          0.43999999999999995,
          0.34,
          0.27,
          0.24,
          0.18666666666666668,
          0.10999999999999999,
          0.10333333333333333,
          0.10666666666666667,
          0.07666666666666667,
          0.06,
          0.06666666666666667,
          0.016666666666666666,
          0.06333333333333334,
          0.056666666666666664,
          0.02666666666666667,
          0.006666666666666667,
          0.02,
          0.07666666666666667,
          0.12333333333333334,
          0.16,
          0.2933333333333334,
          0.36999999999999994,
          0.4266666666666667,
          0.42333333333333334,
          0.5066666666666667,
          0.5866666666666666,
          0.65,
          0.6266666666666666,
          0.65,
          0.67,
          0.66,
          0.7333333333333334,
          0.7066666666666667,
          0.7366666666666667,
          0.7866666666666667,
          0.77,
          0.7666666666666666,
          0.71,
          0.7066666666666667,
          0.6900000000000001,
          0.6666666666666666,
          0.6766666666666667,
          0.7166666666666667,
          0.7933333333333333,
          0.7633333333333333,
          0.73,
          0.73,
          0.7666666666666666,
          0.7966666666666667,
          0.81,
          0.8733333333333334,
          0.8733333333333334,
          0.88,
          0.88,
          0.96,
          1.0333333333333332,
          1.086666666666667,
          1.1533333333333333,
          1.116666666666667,
          1.09,
          1.1033333333333335,
          1.1266666666666667,
          1.1166666666666665,
          1.0866666666666667,
          1.1466666666666667,
          1.18,
          1.1966666666666665,
          1.163333333333333,
          1.24,
          1.2766666666666666,
          1.22,
          1.14,
          1.153333333333333,
          1.1533333333333333,
          1.03,
          0.9633333333333333,
          0.9633333333333333,
          0.98,
          1.0133333333333334,
          1.0433333333333332,
          1.01,
          1.0033333333333332,
          0.9899999999999999,
          0.9633333333333333,
          0.9966666666666667,
          1.0466666666666666,
          1.0633333333333335,
          1.1433333333333333,
          1.1433333333333333,
          1.1733333333333331,
          1.19,
          1.24
         ]
        },
        {
         "line": {
          "width": 1.5
         },
         "marker": {
          "size": 6
         },
         "mode": "lines+markers",
         "name": "T10_M",
         "type": "scatter",
         "x": [
          "1996-Q1",
          "1996-Q2",
          "1996-Q3",
          "1996-Q4",
          "1997-Q1",
          "1997-Q2",
          "1997-Q3",
          "1997-Q4",
          "1998-Q1",
          "1998-Q2",
          "1998-Q3",
          "1998-Q4",
          "1999-Q1",
          "1999-Q2",
          "1999-Q3",
          "1999-Q4",
          "2000-Q1",
          "2000-Q2",
          "2000-Q3",
          "2000-Q4",
          "2001-Q1",
          "2001-Q2",
          "2001-Q3",
          "2001-Q4",
          "2002-Q1",
          "2002-Q2",
          "2002-Q3",
          "2002-Q4",
          "2003-Q1",
          "2003-Q2",
          "2003-Q3",
          "2003-Q4",
          "2004-Q1",
          "2004-Q2",
          "2004-Q3",
          "2004-Q4",
          "2005-Q1",
          "2005-Q2",
          "2005-Q3",
          "2005-Q4",
          "2006-Q1",
          "2006-Q2",
          "2006-Q3",
          "2006-Q4",
          "2007-Q1",
          "2007-Q2",
          "2007-Q3",
          "2007-Q4",
          "2008-Q1",
          "2008-Q2",
          "2008-Q3",
          "2008-Q4",
          "2009-Q1",
          "2009-Q2",
          "2009-Q3",
          "2009-Q4",
          "2010-Q1",
          "2010-Q2",
          "2010-Q3",
          "2010-Q4",
          "2011-Q1",
          "2011-Q2",
          "2011-Q3",
          "2011-Q4",
          "2012-Q1",
          "2012-Q2",
          "2012-Q3",
          "2012-Q4",
          "2013-Q1",
          "2013-Q2",
          "2013-Q3",
          "2013-Q4",
          "2014-Q1",
          "2014-Q2",
          "2014-Q3",
          "2014-Q4",
          "2015-Q1",
          "2015-Q2",
          "2015-Q3",
          "2015-Q4",
          "2016-Q1",
          "2016-Q2",
          "2016-Q3",
          "2016-Q4",
          "2017-Q1",
          "2017-Q2",
          "2017-Q3",
          "2017-Q4",
          "2018-Q1",
          "2018-Q2",
          "2018-Q3",
          "2018-Q4",
          "2019-Q1",
          "2019-Q2",
          "2019-Q3",
          "2019-Q4",
          "2020-Q1",
          "2020-Q2",
          "2020-Q3",
          "2020-Q4",
          "2021-Q1",
          "2021-Q2",
          "2021-Q3",
          "2021-Q4",
          "2022-Q1",
          "2022-Q2",
          "2022-Q3",
          "2022-Q4",
          "2023-Q1",
          "2023-Q2",
          "2023-Q3"
         ],
         "y": [
          -0.15333333333333332,
          -0.08,
          -0.05333333333333334,
          -0.049999999999999996,
          -0.016666666666666666,
          -0.03333333333333333,
          -0.17666666666666667,
          -0.24333333333333332,
          -0.30000000000000004,
          -0.3466666666666667,
          -0.44333333333333336,
          -0.5133333333333333,
          -0.5833333333333334,
          -0.5966666666666667,
          -0.5566666666666668,
          -0.5533333333333333,
          -0.5733333333333334,
          -0.5766666666666667,
          -0.5366666666666667,
          -0.52,
          -0.5866666666666666,
          -0.64,
          -0.6733333333333333,
          -0.7666666666666666,
          -0.8099999999999999,
          -0.7399999999999999,
          -0.7033333333333333,
          -0.67,
          -0.6433333333333334,
          -0.57,
          -0.5533333333333333,
          -0.5166666666666667,
          -0.48666666666666664,
          -0.45999999999999996,
          -0.4366666666666667,
          -0.4166666666666667,
          -0.3866666666666667,
          -0.4033333333333333,
          -0.4566666666666667,
          -0.5133333333333333,
          -0.53,
          -0.56,
          -0.61,
          -0.57,
          -0.5566666666666666,
          -0.6433333333333334,
          -0.7066666666666667,
          -0.77,
          -0.7733333333333334,
          -0.7966666666666667,
          -0.7733333333333334,
          -0.7733333333333334,
          -0.7600000000000001,
          -0.7466666666666667,
          -0.7466666666666667,
          -0.7366666666666667,
          -0.7533333333333333,
          -0.7633333333333333,
          -0.7833333333333333,
          -0.7833333333333333,
          -0.7633333333333333,
          -0.7166666666666667,
          -0.6999999999999998,
          -0.7433333333333333,
          -0.7666666666666666,
          -0.81,
          -0.8366666666666666,
          -0.8066666666666666,
          -0.8266666666666667,
          -0.7966666666666667,
          -0.8000000000000002,
          -0.8033333333333333,
          -0.7766666666666667,
          -0.7799999999999999,
          -0.8566666666666666,
          -0.88,
          -0.8433333333333333,
          -0.82,
          -0.82,
          -0.8233333333333333,
          -0.86,
          -0.9,
          -0.9233333333333333,
          -0.91,
          -0.88,
          -0.8533333333333334,
          -0.83,
          -0.84,
          -0.8133333333333334,
          -0.8333333333333334,
          -0.8633333333333333,
          -0.82,
          -0.8433333333333333,
          -0.8533333333333334,
          -0.8733333333333334,
          -0.8466666666666667,
          -0.87,
          -0.8266666666666667,
          -0.8333333333333334,
          -0.7733333333333334,
          -0.75,
          -0.7066666666666667,
          -0.6933333333333334,
          -0.6966666666666667,
          -0.6933333333333334,
          -0.67,
          -0.6966666666666667,
          -0.7033333333333333,
          -0.7066666666666667,
          -0.73,
          -0.7399999999999999
         ]
        },
        {
         "line": {
          "width": 1.5
         },
         "marker": {
          "size": 6
         },
         "mode": "lines+markers",
         "name": "T90_M",
         "type": "scatter",
         "x": [
          "1996-Q1",
          "1996-Q2",
          "1996-Q3",
          "1996-Q4",
          "1997-Q1",
          "1997-Q2",
          "1997-Q3",
          "1997-Q4",
          "1998-Q1",
          "1998-Q2",
          "1998-Q3",
          "1998-Q4",
          "1999-Q1",
          "1999-Q2",
          "1999-Q3",
          "1999-Q4",
          "2000-Q1",
          "2000-Q2",
          "2000-Q3",
          "2000-Q4",
          "2001-Q1",
          "2001-Q2",
          "2001-Q3",
          "2001-Q4",
          "2002-Q1",
          "2002-Q2",
          "2002-Q3",
          "2002-Q4",
          "2003-Q1",
          "2003-Q2",
          "2003-Q3",
          "2003-Q4",
          "2004-Q1",
          "2004-Q2",
          "2004-Q3",
          "2004-Q4",
          "2005-Q1",
          "2005-Q2",
          "2005-Q3",
          "2005-Q4",
          "2006-Q1",
          "2006-Q2",
          "2006-Q3",
          "2006-Q4",
          "2007-Q1",
          "2007-Q2",
          "2007-Q3",
          "2007-Q4",
          "2008-Q1",
          "2008-Q2",
          "2008-Q3",
          "2008-Q4",
          "2009-Q1",
          "2009-Q2",
          "2009-Q3",
          "2009-Q4",
          "2010-Q1",
          "2010-Q2",
          "2010-Q3",
          "2010-Q4",
          "2011-Q1",
          "2011-Q2",
          "2011-Q3",
          "2011-Q4",
          "2012-Q1",
          "2012-Q2",
          "2012-Q3",
          "2012-Q4",
          "2013-Q1",
          "2013-Q2",
          "2013-Q3",
          "2013-Q4",
          "2014-Q1",
          "2014-Q2",
          "2014-Q3",
          "2014-Q4",
          "2015-Q1",
          "2015-Q2",
          "2015-Q3",
          "2015-Q4",
          "2016-Q1",
          "2016-Q2",
          "2016-Q3",
          "2016-Q4",
          "2017-Q1",
          "2017-Q2",
          "2017-Q3",
          "2017-Q4",
          "2018-Q1",
          "2018-Q2",
          "2018-Q3",
          "2018-Q4",
          "2019-Q1",
          "2019-Q2",
          "2019-Q3",
          "2019-Q4",
          "2020-Q1",
          "2020-Q2",
          "2020-Q3",
          "2020-Q4",
          "2021-Q1",
          "2021-Q2",
          "2021-Q3",
          "2021-Q4",
          "2022-Q1",
          "2022-Q2",
          "2022-Q3",
          "2022-Q4",
          "2023-Q1",
          "2023-Q2",
          "2023-Q3"
         ],
         "y": [
          0.2066666666666667,
          0.14333333333333334,
          0.09000000000000001,
          0.04666666666666667,
          -0.02666666666666667,
          -0.08333333333333333,
          -0.049999999999999996,
          0.006666666666666668,
          0.07666666666666667,
          0.13333333333333333,
          0.21333333333333335,
          0.2933333333333334,
          0.33666666666666667,
          0.35666666666666663,
          0.37666666666666665,
          0.3933333333333333,
          0.42,
          0.4033333333333333,
          0.3233333333333333,
          0.30666666666666664,
          0.3133333333333333,
          0.3333333333333333,
          0.38000000000000006,
          0.47,
          0.5466666666666667,
          0.5466666666666667,
          0.59,
          0.6133333333333333,
          0.6,
          0.5133333333333333,
          0.49,
          0.5166666666666667,
          0.48,
          0.4566666666666666,
          0.44333333333333336,
          0.4166666666666667,
          0.3833333333333333,
          0.44,
          0.5166666666666667,
          0.5933333333333333,
          0.6933333333333334,
          0.7433333333333333,
          0.7833333333333333,
          0.7633333333333333,
          0.7600000000000001,
          0.7966666666666667,
          0.8066666666666666,
          0.7600000000000001,
          0.6866666666666666,
          0.66,
          0.6066666666666666,
          0.54,
          0.5233333333333333,
          0.48333333333333334,
          0.48,
          0.51,
          0.54,
          0.5566666666666666,
          0.54,
          0.5266666666666667,
          0.45,
          0.37000000000000005,
          0.3233333333333333,
          0.35333333333333333,
          0.36999999999999994,
          0.41333333333333333,
          0.43333333333333335,
          0.4566666666666667,
          0.4766666666666666,
          0.5066666666666667,
          0.5866666666666668,
          0.6166666666666667,
          0.6266666666666666,
          0.6266666666666666,
          0.6366666666666667,
          0.6433333333333334,
          0.6466666666666666,
          0.6233333333333334,
          0.6699999999999999,
          0.7066666666666667,
          0.7999999999999999,
          0.9233333333333333,
          0.9700000000000001,
          0.98,
          0.9700000000000001,
          0.93,
          0.8766666666666666,
          0.9133333333333334,
          0.9333333333333335,
          0.94,
          0.9500000000000001,
          0.9333333333333332,
          0.9666666666666667,
          1,
          1.0033333333333332,
          0.9833333333333334,
          0.9500000000000001,
          0.89,
          0.8633333333333333,
          0.8133333333333334,
          0.7600000000000001,
          0.7133333333333334,
          0.77,
          0.7799999999999999,
          0.73,
          0.7033333333333333,
          0.7533333333333333,
          0.7933333333333333,
          0.7966666666666667,
          0.8133333333333334,
          0.8366666666666666
         ]
        },
        {
         "line": {
          "width": 1.5
         },
         "marker": {
          "size": 6
         },
         "mode": "lines+markers",
         "name": "WP90_M",
         "type": "scatter",
         "x": [
          "1996-Q1",
          "1996-Q2",
          "1996-Q3",
          "1996-Q4",
          "1997-Q1",
          "1997-Q2",
          "1997-Q3",
          "1997-Q4",
          "1998-Q1",
          "1998-Q2",
          "1998-Q3",
          "1998-Q4",
          "1999-Q1",
          "1999-Q2",
          "1999-Q3",
          "1999-Q4",
          "2000-Q1",
          "2000-Q2",
          "2000-Q3",
          "2000-Q4",
          "2001-Q1",
          "2001-Q2",
          "2001-Q3",
          "2001-Q4",
          "2002-Q1",
          "2002-Q2",
          "2002-Q3",
          "2002-Q4",
          "2003-Q1",
          "2003-Q2",
          "2003-Q3",
          "2003-Q4",
          "2004-Q1",
          "2004-Q2",
          "2004-Q3",
          "2004-Q4",
          "2005-Q1",
          "2005-Q2",
          "2005-Q3",
          "2005-Q4",
          "2006-Q1",
          "2006-Q2",
          "2006-Q3",
          "2006-Q4",
          "2007-Q1",
          "2007-Q2",
          "2007-Q3",
          "2007-Q4",
          "2008-Q1",
          "2008-Q2",
          "2008-Q3",
          "2008-Q4",
          "2009-Q1",
          "2009-Q2",
          "2009-Q3",
          "2009-Q4",
          "2010-Q1",
          "2010-Q2",
          "2010-Q3",
          "2010-Q4",
          "2011-Q1",
          "2011-Q2",
          "2011-Q3",
          "2011-Q4",
          "2012-Q1",
          "2012-Q2",
          "2012-Q3",
          "2012-Q4",
          "2013-Q1",
          "2013-Q2",
          "2013-Q3",
          "2013-Q4",
          "2014-Q1",
          "2014-Q2",
          "2014-Q3",
          "2014-Q4",
          "2015-Q1",
          "2015-Q2",
          "2015-Q3",
          "2015-Q4",
          "2016-Q1",
          "2016-Q2",
          "2016-Q3",
          "2016-Q4",
          "2017-Q1",
          "2017-Q2",
          "2017-Q3",
          "2017-Q4",
          "2018-Q1",
          "2018-Q2",
          "2018-Q3",
          "2018-Q4",
          "2019-Q1",
          "2019-Q2",
          "2019-Q3",
          "2019-Q4",
          "2020-Q1",
          "2020-Q2",
          "2020-Q3",
          "2020-Q4",
          "2021-Q1",
          "2021-Q2",
          "2021-Q3",
          "2021-Q4",
          "2022-Q1",
          "2022-Q2",
          "2022-Q3",
          "2022-Q4",
          "2023-Q1",
          "2023-Q2",
          "2023-Q3"
         ],
         "y": [
          0.36999999999999994,
          0.38999999999999996,
          0.33,
          0.3133333333333333,
          0.34,
          0.34333333333333327,
          0.3666666666666667,
          0.35333333333333333,
          0.28,
          0.27666666666666667,
          0.2866666666666667,
          0.2966666666666667,
          0.32666666666666666,
          0.32666666666666666,
          0.33666666666666667,
          0.32666666666666666,
          0.37666666666666665,
          0.39666666666666667,
          0.4166666666666667,
          0.4366666666666667,
          0.41333333333333333,
          0.4566666666666667,
          0.5133333333333333,
          0.5266666666666667,
          0.4766666666666666,
          0.51,
          0.5733333333333333,
          0.5966666666666667,
          0.6833333333333332,
          0.7166666666666667,
          0.7466666666666667,
          0.75,
          0.7533333333333333,
          0.7466666666666667,
          0.6766666666666667,
          0.7033333333333333,
          0.6966666666666667,
          0.7466666666666667,
          0.7399999999999999,
          0.7466666666666667,
          0.75,
          0.7133333333333333,
          0.6466666666666666,
          0.6533333333333333,
          0.6966666666666667,
          0.7166666666666667,
          0.6333333333333333,
          0.6166666666666667,
          0.5666666666666667,
          0.5766666666666667,
          0.61,
          0.62,
          0.5966666666666667,
          0.5566666666666668,
          0.5933333333333333,
          0.59,
          0.5866666666666666,
          0.5633333333333334,
          0.5766666666666667,
          0.6233333333333334,
          0.6433333333333334,
          0.6333333333333333,
          0.6833333333333332,
          0.7033333333333333,
          0.7133333333333333,
          0.6866666666666666,
          0.71,
          0.7133333333333333,
          0.6833333333333335,
          0.6966666666666667,
          0.66,
          0.6166666666666667,
          0.6266666666666666,
          0.63,
          0.6266666666666666,
          0.61,
          0.6066666666666666,
          0.5766666666666667,
          0.5766666666666667,
          0.53,
          0.47,
          0.4666666666666666,
          0.4766666666666666,
          0.41,
          0.39999999999999997,
          0.39333333333333337,
          0.4166666666666667,
          0.43333333333333335,
          0.47,
          0.45999999999999996,
          0.48666666666666664,
          0.45999999999999996,
          0.4466666666666666,
          0.4633333333333333,
          0.48333333333333334,
          0.48333333333333334,
          0.4366666666666667,
          0.48666666666666664,
          0.49666666666666665,
          0.48333333333333334,
          0.49333333333333335,
          0.5233333333333333,
          0.5033333333333333,
          0.52,
          0.53,
          0.5533333333333333,
          0.5333333333333333,
          0.57,
          0.5266666666666667,
          0.5166666666666667,
          0.43
         ]
        }
       ],
       "layout": {
        "legend": {
         "orientation": "h",
         "x": 1,
         "xanchor": "right",
         "y": 1.02,
         "yanchor": "bottom"
        },
        "template": {
         "data": {
          "bar": [
           {
            "error_x": {
             "color": "#2a3f5f"
            },
            "error_y": {
             "color": "#2a3f5f"
            },
            "marker": {
             "line": {
              "color": "#E5ECF6",
              "width": 0.5
             },
             "pattern": {
              "fillmode": "overlay",
              "size": 10,
              "solidity": 0.2
             }
            },
            "type": "bar"
           }
          ],
          "barpolar": [
           {
            "marker": {
             "line": {
              "color": "#E5ECF6",
              "width": 0.5
             },
             "pattern": {
              "fillmode": "overlay",
              "size": 10,
              "solidity": 0.2
             }
            },
            "type": "barpolar"
           }
          ],
          "carpet": [
           {
            "aaxis": {
             "endlinecolor": "#2a3f5f",
             "gridcolor": "white",
             "linecolor": "white",
             "minorgridcolor": "white",
             "startlinecolor": "#2a3f5f"
            },
            "baxis": {
             "endlinecolor": "#2a3f5f",
             "gridcolor": "white",
             "linecolor": "white",
             "minorgridcolor": "white",
             "startlinecolor": "#2a3f5f"
            },
            "type": "carpet"
           }
          ],
          "choropleth": [
           {
            "colorbar": {
             "outlinewidth": 0,
             "ticks": ""
            },
            "type": "choropleth"
           }
          ],
          "contour": [
           {
            "colorbar": {
             "outlinewidth": 0,
             "ticks": ""
            },
            "colorscale": [
             [
              0,
              "#0d0887"
             ],
             [
              0.1111111111111111,
              "#46039f"
             ],
             [
              0.2222222222222222,
              "#7201a8"
             ],
             [
              0.3333333333333333,
              "#9c179e"
             ],
             [
              0.4444444444444444,
              "#bd3786"
             ],
             [
              0.5555555555555556,
              "#d8576b"
             ],
             [
              0.6666666666666666,
              "#ed7953"
             ],
             [
              0.7777777777777778,
              "#fb9f3a"
             ],
             [
              0.8888888888888888,
              "#fdca26"
             ],
             [
              1,
              "#f0f921"
             ]
            ],
            "type": "contour"
           }
          ],
          "contourcarpet": [
           {
            "colorbar": {
             "outlinewidth": 0,
             "ticks": ""
            },
            "type": "contourcarpet"
           }
          ],
          "heatmap": [
           {
            "colorbar": {
             "outlinewidth": 0,
             "ticks": ""
            },
            "colorscale": [
             [
              0,
              "#0d0887"
             ],
             [
              0.1111111111111111,
              "#46039f"
             ],
             [
              0.2222222222222222,
              "#7201a8"
             ],
             [
              0.3333333333333333,
              "#9c179e"
             ],
             [
              0.4444444444444444,
              "#bd3786"
             ],
             [
              0.5555555555555556,
              "#d8576b"
             ],
             [
              0.6666666666666666,
              "#ed7953"
             ],
             [
              0.7777777777777778,
              "#fb9f3a"
             ],
             [
              0.8888888888888888,
              "#fdca26"
             ],
             [
              1,
              "#f0f921"
             ]
            ],
            "type": "heatmap"
           }
          ],
          "heatmapgl": [
           {
            "colorbar": {
             "outlinewidth": 0,
             "ticks": ""
            },
            "colorscale": [
             [
              0,
              "#0d0887"
             ],
             [
              0.1111111111111111,
              "#46039f"
             ],
             [
              0.2222222222222222,
              "#7201a8"
             ],
             [
              0.3333333333333333,
              "#9c179e"
             ],
             [
              0.4444444444444444,
              "#bd3786"
             ],
             [
              0.5555555555555556,
              "#d8576b"
             ],
             [
              0.6666666666666666,
              "#ed7953"
             ],
             [
              0.7777777777777778,
              "#fb9f3a"
             ],
             [
              0.8888888888888888,
              "#fdca26"
             ],
             [
              1,
              "#f0f921"
             ]
            ],
            "type": "heatmapgl"
           }
          ],
          "histogram": [
           {
            "marker": {
             "pattern": {
              "fillmode": "overlay",
              "size": 10,
              "solidity": 0.2
             }
            },
            "type": "histogram"
           }
          ],
          "histogram2d": [
           {
            "colorbar": {
             "outlinewidth": 0,
             "ticks": ""
            },
            "colorscale": [
             [
              0,
              "#0d0887"
             ],
             [
              0.1111111111111111,
              "#46039f"
             ],
             [
              0.2222222222222222,
              "#7201a8"
             ],
             [
              0.3333333333333333,
              "#9c179e"
             ],
             [
              0.4444444444444444,
              "#bd3786"
             ],
             [
              0.5555555555555556,
              "#d8576b"
             ],
             [
              0.6666666666666666,
              "#ed7953"
             ],
             [
              0.7777777777777778,
              "#fb9f3a"
             ],
             [
              0.8888888888888888,
              "#fdca26"
             ],
             [
              1,
              "#f0f921"
             ]
            ],
            "type": "histogram2d"
           }
          ],
          "histogram2dcontour": [
           {
            "colorbar": {
             "outlinewidth": 0,
             "ticks": ""
            },
            "colorscale": [
             [
              0,
              "#0d0887"
             ],
             [
              0.1111111111111111,
              "#46039f"
             ],
             [
              0.2222222222222222,
              "#7201a8"
             ],
             [
              0.3333333333333333,
              "#9c179e"
             ],
             [
              0.4444444444444444,
              "#bd3786"
             ],
             [
              0.5555555555555556,
              "#d8576b"
             ],
             [
              0.6666666666666666,
              "#ed7953"
             ],
             [
              0.7777777777777778,
              "#fb9f3a"
             ],
             [
              0.8888888888888888,
              "#fdca26"
             ],
             [
              1,
              "#f0f921"
             ]
            ],
            "type": "histogram2dcontour"
           }
          ],
          "mesh3d": [
           {
            "colorbar": {
             "outlinewidth": 0,
             "ticks": ""
            },
            "type": "mesh3d"
           }
          ],
          "parcoords": [
           {
            "line": {
             "colorbar": {
              "outlinewidth": 0,
              "ticks": ""
             }
            },
            "type": "parcoords"
           }
          ],
          "pie": [
           {
            "automargin": true,
            "type": "pie"
           }
          ],
          "scatter": [
           {
            "fillpattern": {
             "fillmode": "overlay",
             "size": 10,
             "solidity": 0.2
            },
            "type": "scatter"
           }
          ],
          "scatter3d": [
           {
            "line": {
             "colorbar": {
              "outlinewidth": 0,
              "ticks": ""
             }
            },
            "marker": {
             "colorbar": {
              "outlinewidth": 0,
              "ticks": ""
             }
            },
            "type": "scatter3d"
           }
          ],
          "scattercarpet": [
           {
            "marker": {
             "colorbar": {
              "outlinewidth": 0,
              "ticks": ""
             }
            },
            "type": "scattercarpet"
           }
          ],
          "scattergeo": [
           {
            "marker": {
             "colorbar": {
              "outlinewidth": 0,
              "ticks": ""
             }
            },
            "type": "scattergeo"
           }
          ],
          "scattergl": [
           {
            "marker": {
             "colorbar": {
              "outlinewidth": 0,
              "ticks": ""
             }
            },
            "type": "scattergl"
           }
          ],
          "scattermapbox": [
           {
            "marker": {
             "colorbar": {
              "outlinewidth": 0,
              "ticks": ""
             }
            },
            "type": "scattermapbox"
           }
          ],
          "scatterpolar": [
           {
            "marker": {
             "colorbar": {
              "outlinewidth": 0,
              "ticks": ""
             }
            },
            "type": "scatterpolar"
           }
          ],
          "scatterpolargl": [
           {
            "marker": {
             "colorbar": {
              "outlinewidth": 0,
              "ticks": ""
             }
            },
            "type": "scatterpolargl"
           }
          ],
          "scatterternary": [
           {
            "marker": {
             "colorbar": {
              "outlinewidth": 0,
              "ticks": ""
             }
            },
            "type": "scatterternary"
           }
          ],
          "surface": [
           {
            "colorbar": {
             "outlinewidth": 0,
             "ticks": ""
            },
            "colorscale": [
             [
              0,
              "#0d0887"
             ],
             [
              0.1111111111111111,
              "#46039f"
             ],
             [
              0.2222222222222222,
              "#7201a8"
             ],
             [
              0.3333333333333333,
              "#9c179e"
             ],
             [
              0.4444444444444444,
              "#bd3786"
             ],
             [
              0.5555555555555556,
              "#d8576b"
             ],
             [
              0.6666666666666666,
              "#ed7953"
             ],
             [
              0.7777777777777778,
              "#fb9f3a"
             ],
             [
              0.8888888888888888,
              "#fdca26"
             ],
             [
              1,
              "#f0f921"
             ]
            ],
            "type": "surface"
           }
          ],
          "table": [
           {
            "cells": {
             "fill": {
              "color": "#EBF0F8"
             },
             "line": {
              "color": "white"
             }
            },
            "header": {
             "fill": {
              "color": "#C8D4E3"
             },
             "line": {
              "color": "white"
             }
            },
            "type": "table"
           }
          ]
         },
         "layout": {
          "annotationdefaults": {
           "arrowcolor": "#2a3f5f",
           "arrowhead": 0,
           "arrowwidth": 1
          },
          "autotypenumbers": "strict",
          "coloraxis": {
           "colorbar": {
            "outlinewidth": 0,
            "ticks": ""
           }
          },
          "colorscale": {
           "diverging": [
            [
             0,
             "#8e0152"
            ],
            [
             0.1,
             "#c51b7d"
            ],
            [
             0.2,
             "#de77ae"
            ],
            [
             0.3,
             "#f1b6da"
            ],
            [
             0.4,
             "#fde0ef"
            ],
            [
             0.5,
             "#f7f7f7"
            ],
            [
             0.6,
             "#e6f5d0"
            ],
            [
             0.7,
             "#b8e186"
            ],
            [
             0.8,
             "#7fbc41"
            ],
            [
             0.9,
             "#4d9221"
            ],
            [
             1,
             "#276419"
            ]
           ],
           "sequential": [
            [
             0,
             "#0d0887"
            ],
            [
             0.1111111111111111,
             "#46039f"
            ],
            [
             0.2222222222222222,
             "#7201a8"
            ],
            [
             0.3333333333333333,
             "#9c179e"
            ],
            [
             0.4444444444444444,
             "#bd3786"
            ],
            [
             0.5555555555555556,
             "#d8576b"
            ],
            [
             0.6666666666666666,
             "#ed7953"
            ],
            [
             0.7777777777777778,
             "#fb9f3a"
            ],
            [
             0.8888888888888888,
             "#fdca26"
            ],
            [
             1,
             "#f0f921"
            ]
           ],
           "sequentialminus": [
            [
             0,
             "#0d0887"
            ],
            [
             0.1111111111111111,
             "#46039f"
            ],
            [
             0.2222222222222222,
             "#7201a8"
            ],
            [
             0.3333333333333333,
             "#9c179e"
            ],
            [
             0.4444444444444444,
             "#bd3786"
            ],
            [
             0.5555555555555556,
             "#d8576b"
            ],
            [
             0.6666666666666666,
             "#ed7953"
            ],
            [
             0.7777777777777778,
             "#fb9f3a"
            ],
            [
             0.8888888888888888,
             "#fdca26"
            ],
            [
             1,
             "#f0f921"
            ]
           ]
          },
          "colorway": [
           "#636efa",
           "#EF553B",
           "#00cc96",
           "#ab63fa",
           "#FFA15A",
           "#19d3f3",
           "#FF6692",
           "#B6E880",
           "#FF97FF",
           "#FECB52"
          ],
          "font": {
           "color": "#2a3f5f"
          },
          "geo": {
           "bgcolor": "white",
           "lakecolor": "white",
           "landcolor": "#E5ECF6",
           "showlakes": true,
           "showland": true,
           "subunitcolor": "white"
          },
          "hoverlabel": {
           "align": "left"
          },
          "hovermode": "closest",
          "mapbox": {
           "style": "light"
          },
          "paper_bgcolor": "white",
          "plot_bgcolor": "#E5ECF6",
          "polar": {
           "angularaxis": {
            "gridcolor": "white",
            "linecolor": "white",
            "ticks": ""
           },
           "bgcolor": "#E5ECF6",
           "radialaxis": {
            "gridcolor": "white",
            "linecolor": "white",
            "ticks": ""
           }
          },
          "scene": {
           "xaxis": {
            "backgroundcolor": "#E5ECF6",
            "gridcolor": "white",
            "gridwidth": 2,
            "linecolor": "white",
            "showbackground": true,
            "ticks": "",
            "zerolinecolor": "white"
           },
           "yaxis": {
            "backgroundcolor": "#E5ECF6",
            "gridcolor": "white",
            "gridwidth": 2,
            "linecolor": "white",
            "showbackground": true,
            "ticks": "",
            "zerolinecolor": "white"
           },
           "zaxis": {
            "backgroundcolor": "#E5ECF6",
            "gridcolor": "white",
            "gridwidth": 2,
            "linecolor": "white",
            "showbackground": true,
            "ticks": "",
            "zerolinecolor": "white"
           }
          },
          "shapedefaults": {
           "line": {
            "color": "#2a3f5f"
           }
          },
          "ternary": {
           "aaxis": {
            "gridcolor": "white",
            "linecolor": "white",
            "ticks": ""
           },
           "baxis": {
            "gridcolor": "white",
            "linecolor": "white",
            "ticks": ""
           },
           "bgcolor": "#E5ECF6",
           "caxis": {
            "gridcolor": "white",
            "linecolor": "white",
            "ticks": ""
           }
          },
          "title": {
           "x": 0.05
          },
          "xaxis": {
           "automargin": true,
           "gridcolor": "white",
           "linecolor": "white",
           "ticks": "",
           "title": {
            "standoff": 15
           },
           "zerolinecolor": "white",
           "zerolinewidth": 2
          },
          "yaxis": {
           "automargin": true,
           "gridcolor": "white",
           "linecolor": "white",
           "ticks": "",
           "title": {
            "standoff": 15
           },
           "zerolinecolor": "white",
           "zerolinewidth": 2
          }
         }
        },
        "xaxis": {
         "title": {
          "text": "Quarters"
         }
        },
        "yaxis": {
         "title": {
          "text": "Climate Variables (Standardized Anomalies)"
         }
        }
       }
      },
      "text/html": [
       "<div>                            <div id=\"1e0884af-f829-46cc-b467-c86484e3db33\" class=\"plotly-graph-div\" style=\"height:525px; width:100%;\"></div>            <script type=\"text/javascript\">                require([\"plotly\"], function(Plotly) {                    window.PLOTLYENV=window.PLOTLYENV || {};                                    if (document.getElementById(\"1e0884af-f829-46cc-b467-c86484e3db33\")) {                    Plotly.newPlot(                        \"1e0884af-f829-46cc-b467-c86484e3db33\",                        [{\"line\":{\"width\":1.5},\"marker\":{\"size\":6},\"mode\":\"lines+markers\",\"name\":\"Sea_Lvl_M\",\"x\":[\"1996-Q1\",\"1996-Q2\",\"1996-Q3\",\"1996-Q4\",\"1997-Q1\",\"1997-Q2\",\"1997-Q3\",\"1997-Q4\",\"1998-Q1\",\"1998-Q2\",\"1998-Q3\",\"1998-Q4\",\"1999-Q1\",\"1999-Q2\",\"1999-Q3\",\"1999-Q4\",\"2000-Q1\",\"2000-Q2\",\"2000-Q3\",\"2000-Q4\",\"2001-Q1\",\"2001-Q2\",\"2001-Q3\",\"2001-Q4\",\"2002-Q1\",\"2002-Q2\",\"2002-Q3\",\"2002-Q4\",\"2003-Q1\",\"2003-Q2\",\"2003-Q3\",\"2003-Q4\",\"2004-Q1\",\"2004-Q2\",\"2004-Q3\",\"2004-Q4\",\"2005-Q1\",\"2005-Q2\",\"2005-Q3\",\"2005-Q4\",\"2006-Q1\",\"2006-Q2\",\"2006-Q3\",\"2006-Q4\",\"2007-Q1\",\"2007-Q2\",\"2007-Q3\",\"2007-Q4\",\"2008-Q1\",\"2008-Q2\",\"2008-Q3\",\"2008-Q4\",\"2009-Q1\",\"2009-Q2\",\"2009-Q3\",\"2009-Q4\",\"2010-Q1\",\"2010-Q2\",\"2010-Q3\",\"2010-Q4\",\"2011-Q1\",\"2011-Q2\",\"2011-Q3\",\"2011-Q4\",\"2012-Q1\",\"2012-Q2\",\"2012-Q3\",\"2012-Q4\",\"2013-Q1\",\"2013-Q2\",\"2013-Q3\",\"2013-Q4\",\"2014-Q1\",\"2014-Q2\",\"2014-Q3\",\"2014-Q4\",\"2015-Q1\",\"2015-Q2\",\"2015-Q3\",\"2015-Q4\",\"2016-Q1\",\"2016-Q2\",\"2016-Q3\",\"2016-Q4\",\"2017-Q1\",\"2017-Q2\",\"2017-Q3\",\"2017-Q4\",\"2018-Q1\",\"2018-Q2\",\"2018-Q3\",\"2018-Q4\",\"2019-Q1\",\"2019-Q2\",\"2019-Q3\",\"2019-Q4\",\"2020-Q1\",\"2020-Q2\",\"2020-Q3\",\"2020-Q4\",\"2021-Q1\",\"2021-Q2\",\"2021-Q3\",\"2021-Q4\",\"2022-Q1\",\"2022-Q2\",\"2022-Q3\",\"2022-Q4\",\"2023-Q1\",\"2023-Q2\",\"2023-Q3\"],\"y\":[-0.3466666666666667,-0.35000000000000003,-0.26666666666666666,-0.19999999999999998,-0.19333333333333336,-0.14,-0.043333333333333335,0.03666666666666667,0.1366666666666667,0.15333333333333335,0.1366666666666667,0.12333333333333334,0.12666666666666668,0.11333333333333333,0.06333333333333334,0.04,-0.023333333333333334,-0.006666666666666665,0.04,0.0,-0.11666666666666668,-0.20666666666666667,-0.3233333333333333,-0.41,-0.45999999999999996,-0.5533333333333333,-0.6433333333333333,-0.81,-0.9700000000000001,-1.09,-1.133333333333333,-1.09,-1.02,-1.0133333333333334,-0.9833333333333334,-0.9500000000000001,-0.9533333333333333,-0.91,-0.9366666666666665,-0.8833333333333333,-0.7600000000000001,-0.6699999999999999,-0.6266666666666666,-0.5566666666666668,-0.5233333333333333,-0.49333333333333335,-0.5066666666666667,-0.48666666666666664,-0.4666666666666666,-0.4166666666666667,-0.32,-0.3433333333333333,-0.41,-0.39333333333333337,-0.3666666666666667,-0.3466666666666667,-0.25333333333333335,-0.2933333333333334,-0.33,-0.29333333333333333,-0.3,-0.2833333333333333,-0.20000000000000004,-0.20666666666666667,-0.24333333333333332,-0.22333333333333336,-0.23,-0.20666666666666667,-0.22333333333333336,-0.2333333333333333,-0.28,-0.30000000000000004,-0.3333333333333333,-0.31666666666666665,-0.31666666666666665,-0.25333333333333335,-0.31,-0.33,-0.25666666666666665,-0.26666666666666666,-0.24,-0.24333333333333332,-0.33,-0.3233333333333333,-0.26666666666666666,-0.17666666666666667,-0.06666666666666667,-0.016666666666666666,0.03333333333333333,0.07666666666666667,0.06666666666666667,0.13,0.2333333333333333,0.25666666666666665,0.2833333333333334,0.24666666666666667,0.2833333333333334,0.34333333333333327,0.37666666666666665,0.38000000000000006,0.35000000000000003,0.27666666666666667,0.2933333333333334,0.31666666666666665,0.2966666666666667,0.22666666666666666,0.20333333333333337,0.17333333333333334,0.16333333333333333,0.16333333333333333,0.21666666666666667],\"type\":\"scatter\"},{\"line\":{\"width\":1.5},\"marker\":{\"size\":6},\"mode\":\"lines+markers\",\"name\":\"CDD_M\",\"x\":[\"1996-Q1\",\"1996-Q2\",\"1996-Q3\",\"1996-Q4\",\"1997-Q1\",\"1997-Q2\",\"1997-Q3\",\"1997-Q4\",\"1998-Q1\",\"1998-Q2\",\"1998-Q3\",\"1998-Q4\",\"1999-Q1\",\"1999-Q2\",\"1999-Q3\",\"1999-Q4\",\"2000-Q1\",\"2000-Q2\",\"2000-Q3\",\"2000-Q4\",\"2001-Q1\",\"2001-Q2\",\"2001-Q3\",\"2001-Q4\",\"2002-Q1\",\"2002-Q2\",\"2002-Q3\",\"2002-Q4\",\"2003-Q1\",\"2003-Q2\",\"2003-Q3\",\"2003-Q4\",\"2004-Q1\",\"2004-Q2\",\"2004-Q3\",\"2004-Q4\",\"2005-Q1\",\"2005-Q2\",\"2005-Q3\",\"2005-Q4\",\"2006-Q1\",\"2006-Q2\",\"2006-Q3\",\"2006-Q4\",\"2007-Q1\",\"2007-Q2\",\"2007-Q3\",\"2007-Q4\",\"2008-Q1\",\"2008-Q2\",\"2008-Q3\",\"2008-Q4\",\"2009-Q1\",\"2009-Q2\",\"2009-Q3\",\"2009-Q4\",\"2010-Q1\",\"2010-Q2\",\"2010-Q3\",\"2010-Q4\",\"2011-Q1\",\"2011-Q2\",\"2011-Q3\",\"2011-Q4\",\"2012-Q1\",\"2012-Q2\",\"2012-Q3\",\"2012-Q4\",\"2013-Q1\",\"2013-Q2\",\"2013-Q3\",\"2013-Q4\",\"2014-Q1\",\"2014-Q2\",\"2014-Q3\",\"2014-Q4\",\"2015-Q1\",\"2015-Q2\",\"2015-Q3\",\"2015-Q4\",\"2016-Q1\",\"2016-Q2\",\"2016-Q3\",\"2016-Q4\",\"2017-Q1\",\"2017-Q2\",\"2017-Q3\",\"2017-Q4\",\"2018-Q1\",\"2018-Q2\",\"2018-Q3\",\"2018-Q4\",\"2019-Q1\",\"2019-Q2\",\"2019-Q3\",\"2019-Q4\",\"2020-Q1\",\"2020-Q2\",\"2020-Q3\",\"2020-Q4\",\"2021-Q1\",\"2021-Q2\",\"2021-Q3\",\"2021-Q4\",\"2022-Q1\",\"2022-Q2\",\"2022-Q3\",\"2022-Q4\",\"2023-Q1\",\"2023-Q2\",\"2023-Q3\"],\"y\":[-0.6,-0.6166666666666667,-0.6433333333333334,-0.6866666666666665,-0.7333333333333334,-0.7766666666666667,-0.81,-0.84,-0.8666666666666667,-0.89,-0.91,-0.93,-0.9466666666666667,-0.9466666666666667,-0.93,-0.8966666666666666,-0.8533333333333334,-0.82,-0.79,-0.7666666666666666,-0.7366666666666667,-0.6766666666666666,-0.59,-0.47333333333333333,-0.34,-0.2133333333333333,-0.10333333333333335,0.0,0.08,0.13333333333333333,0.16,0.15666666666666665,0.13333333333333333,0.10999999999999999,0.08,0.049999999999999996,0.02,-0.0033333333333333335,-0.016666666666666666,-0.02,-0.02,-0.02666666666666667,-0.049999999999999996,-0.08,-0.12333333333333334,-0.18333333333333332,-0.26,-0.35666666666666663,-0.45999999999999996,-0.5466666666666667,-0.62,-0.68,-0.7200000000000001,-0.73,-0.71,-0.6633333333333334,-0.5933333333333333,-0.51,-0.4066666666666667,-0.2866666666666667,-0.17333333333333334,-0.09999999999999999,-0.06666666666666667,-0.08,-0.10666666666666667,-0.11,-0.09666666666666668,-0.05666666666666667,-0.01,0.016666666666666666,0.02,0.006666666666666667,-0.03333333333333333,-0.10666666666666667,-0.21,-0.3466666666666667,-0.5066666666666667,-0.68,-0.8633333333333334,-1.0599999999999998,-1.2466666666666668,-1.3966666666666665,-1.5,-1.57,-1.6033333333333335,-1.6066666666666667,-1.586666666666667,-1.54,-1.4666666666666668,-1.3766666666666667,-1.27,-1.1500000000000001,-1.0166666666666666,-0.87,-0.7200000000000001,-0.5566666666666666,-0.38333333333333336,-0.18333333333333335,0.04,0.2833333333333334,0.5433333333333333,0.8033333333333333,1.0633333333333332,1.3233333333333333,1.55,1.6966666666666665,1.7599999999999998,1.74,1.68,1.6433333333333333,1.6433333333333333],\"type\":\"scatter\"},{\"line\":{\"width\":1.5},\"marker\":{\"size\":6},\"mode\":\"lines+markers\",\"name\":\"Rx5Day_M\",\"x\":[\"1996-Q1\",\"1996-Q2\",\"1996-Q3\",\"1996-Q4\",\"1997-Q1\",\"1997-Q2\",\"1997-Q3\",\"1997-Q4\",\"1998-Q1\",\"1998-Q2\",\"1998-Q3\",\"1998-Q4\",\"1999-Q1\",\"1999-Q2\",\"1999-Q3\",\"1999-Q4\",\"2000-Q1\",\"2000-Q2\",\"2000-Q3\",\"2000-Q4\",\"2001-Q1\",\"2001-Q2\",\"2001-Q3\",\"2001-Q4\",\"2002-Q1\",\"2002-Q2\",\"2002-Q3\",\"2002-Q4\",\"2003-Q1\",\"2003-Q2\",\"2003-Q3\",\"2003-Q4\",\"2004-Q1\",\"2004-Q2\",\"2004-Q3\",\"2004-Q4\",\"2005-Q1\",\"2005-Q2\",\"2005-Q3\",\"2005-Q4\",\"2006-Q1\",\"2006-Q2\",\"2006-Q3\",\"2006-Q4\",\"2007-Q1\",\"2007-Q2\",\"2007-Q3\",\"2007-Q4\",\"2008-Q1\",\"2008-Q2\",\"2008-Q3\",\"2008-Q4\",\"2009-Q1\",\"2009-Q2\",\"2009-Q3\",\"2009-Q4\",\"2010-Q1\",\"2010-Q2\",\"2010-Q3\",\"2010-Q4\",\"2011-Q1\",\"2011-Q2\",\"2011-Q3\",\"2011-Q4\",\"2012-Q1\",\"2012-Q2\",\"2012-Q3\",\"2012-Q4\",\"2013-Q1\",\"2013-Q2\",\"2013-Q3\",\"2013-Q4\",\"2014-Q1\",\"2014-Q2\",\"2014-Q3\",\"2014-Q4\",\"2015-Q1\",\"2015-Q2\",\"2015-Q3\",\"2015-Q4\",\"2016-Q1\",\"2016-Q2\",\"2016-Q3\",\"2016-Q4\",\"2017-Q1\",\"2017-Q2\",\"2017-Q3\",\"2017-Q4\",\"2018-Q1\",\"2018-Q2\",\"2018-Q3\",\"2018-Q4\",\"2019-Q1\",\"2019-Q2\",\"2019-Q3\",\"2019-Q4\",\"2020-Q1\",\"2020-Q2\",\"2020-Q3\",\"2020-Q4\",\"2021-Q1\",\"2021-Q2\",\"2021-Q3\",\"2021-Q4\",\"2022-Q1\",\"2022-Q2\",\"2022-Q3\",\"2022-Q4\",\"2023-Q1\",\"2023-Q2\",\"2023-Q3\"],\"y\":[0.32,0.3,0.30000000000000004,0.29666666666666663,0.32,0.33,0.33,0.3333333333333333,0.3333333333333333,0.3466666666666667,0.32,0.3466666666666667,0.36000000000000004,0.36000000000000004,0.41,0.43,0.40666666666666673,0.4533333333333333,0.49333333333333335,0.43999999999999995,0.34,0.27,0.24,0.18666666666666668,0.10999999999999999,0.10333333333333333,0.10666666666666667,0.07666666666666667,0.06,0.06666666666666667,0.016666666666666666,0.06333333333333334,0.056666666666666664,0.02666666666666667,0.006666666666666667,0.02,0.07666666666666667,0.12333333333333334,0.16,0.2933333333333334,0.36999999999999994,0.4266666666666667,0.42333333333333334,0.5066666666666667,0.5866666666666666,0.65,0.6266666666666666,0.65,0.67,0.66,0.7333333333333334,0.7066666666666667,0.7366666666666667,0.7866666666666667,0.77,0.7666666666666666,0.71,0.7066666666666667,0.6900000000000001,0.6666666666666666,0.6766666666666667,0.7166666666666667,0.7933333333333333,0.7633333333333333,0.73,0.73,0.7666666666666666,0.7966666666666667,0.81,0.8733333333333334,0.8733333333333334,0.88,0.88,0.96,1.0333333333333332,1.086666666666667,1.1533333333333333,1.116666666666667,1.09,1.1033333333333335,1.1266666666666667,1.1166666666666665,1.0866666666666667,1.1466666666666667,1.18,1.1966666666666665,1.163333333333333,1.24,1.2766666666666666,1.22,1.14,1.153333333333333,1.1533333333333333,1.03,0.9633333333333333,0.9633333333333333,0.98,1.0133333333333334,1.0433333333333332,1.01,1.0033333333333332,0.9899999999999999,0.9633333333333333,0.9966666666666667,1.0466666666666666,1.0633333333333335,1.1433333333333333,1.1433333333333333,1.1733333333333331,1.19,1.24],\"type\":\"scatter\"},{\"line\":{\"width\":1.5},\"marker\":{\"size\":6},\"mode\":\"lines+markers\",\"name\":\"T10_M\",\"x\":[\"1996-Q1\",\"1996-Q2\",\"1996-Q3\",\"1996-Q4\",\"1997-Q1\",\"1997-Q2\",\"1997-Q3\",\"1997-Q4\",\"1998-Q1\",\"1998-Q2\",\"1998-Q3\",\"1998-Q4\",\"1999-Q1\",\"1999-Q2\",\"1999-Q3\",\"1999-Q4\",\"2000-Q1\",\"2000-Q2\",\"2000-Q3\",\"2000-Q4\",\"2001-Q1\",\"2001-Q2\",\"2001-Q3\",\"2001-Q4\",\"2002-Q1\",\"2002-Q2\",\"2002-Q3\",\"2002-Q4\",\"2003-Q1\",\"2003-Q2\",\"2003-Q3\",\"2003-Q4\",\"2004-Q1\",\"2004-Q2\",\"2004-Q3\",\"2004-Q4\",\"2005-Q1\",\"2005-Q2\",\"2005-Q3\",\"2005-Q4\",\"2006-Q1\",\"2006-Q2\",\"2006-Q3\",\"2006-Q4\",\"2007-Q1\",\"2007-Q2\",\"2007-Q3\",\"2007-Q4\",\"2008-Q1\",\"2008-Q2\",\"2008-Q3\",\"2008-Q4\",\"2009-Q1\",\"2009-Q2\",\"2009-Q3\",\"2009-Q4\",\"2010-Q1\",\"2010-Q2\",\"2010-Q3\",\"2010-Q4\",\"2011-Q1\",\"2011-Q2\",\"2011-Q3\",\"2011-Q4\",\"2012-Q1\",\"2012-Q2\",\"2012-Q3\",\"2012-Q4\",\"2013-Q1\",\"2013-Q2\",\"2013-Q3\",\"2013-Q4\",\"2014-Q1\",\"2014-Q2\",\"2014-Q3\",\"2014-Q4\",\"2015-Q1\",\"2015-Q2\",\"2015-Q3\",\"2015-Q4\",\"2016-Q1\",\"2016-Q2\",\"2016-Q3\",\"2016-Q4\",\"2017-Q1\",\"2017-Q2\",\"2017-Q3\",\"2017-Q4\",\"2018-Q1\",\"2018-Q2\",\"2018-Q3\",\"2018-Q4\",\"2019-Q1\",\"2019-Q2\",\"2019-Q3\",\"2019-Q4\",\"2020-Q1\",\"2020-Q2\",\"2020-Q3\",\"2020-Q4\",\"2021-Q1\",\"2021-Q2\",\"2021-Q3\",\"2021-Q4\",\"2022-Q1\",\"2022-Q2\",\"2022-Q3\",\"2022-Q4\",\"2023-Q1\",\"2023-Q2\",\"2023-Q3\"],\"y\":[-0.15333333333333332,-0.08,-0.05333333333333334,-0.049999999999999996,-0.016666666666666666,-0.03333333333333333,-0.17666666666666667,-0.24333333333333332,-0.30000000000000004,-0.3466666666666667,-0.44333333333333336,-0.5133333333333333,-0.5833333333333334,-0.5966666666666667,-0.5566666666666668,-0.5533333333333333,-0.5733333333333334,-0.5766666666666667,-0.5366666666666667,-0.52,-0.5866666666666666,-0.64,-0.6733333333333333,-0.7666666666666666,-0.8099999999999999,-0.7399999999999999,-0.7033333333333333,-0.67,-0.6433333333333334,-0.57,-0.5533333333333333,-0.5166666666666667,-0.48666666666666664,-0.45999999999999996,-0.4366666666666667,-0.4166666666666667,-0.3866666666666667,-0.4033333333333333,-0.4566666666666667,-0.5133333333333333,-0.53,-0.56,-0.61,-0.57,-0.5566666666666666,-0.6433333333333334,-0.7066666666666667,-0.77,-0.7733333333333334,-0.7966666666666667,-0.7733333333333334,-0.7733333333333334,-0.7600000000000001,-0.7466666666666667,-0.7466666666666667,-0.7366666666666667,-0.7533333333333333,-0.7633333333333333,-0.7833333333333333,-0.7833333333333333,-0.7633333333333333,-0.7166666666666667,-0.6999999999999998,-0.7433333333333333,-0.7666666666666666,-0.81,-0.8366666666666666,-0.8066666666666666,-0.8266666666666667,-0.7966666666666667,-0.8000000000000002,-0.8033333333333333,-0.7766666666666667,-0.7799999999999999,-0.8566666666666666,-0.88,-0.8433333333333333,-0.82,-0.82,-0.8233333333333333,-0.86,-0.9,-0.9233333333333333,-0.91,-0.88,-0.8533333333333334,-0.83,-0.84,-0.8133333333333334,-0.8333333333333334,-0.8633333333333333,-0.82,-0.8433333333333333,-0.8533333333333334,-0.8733333333333334,-0.8466666666666667,-0.87,-0.8266666666666667,-0.8333333333333334,-0.7733333333333334,-0.75,-0.7066666666666667,-0.6933333333333334,-0.6966666666666667,-0.6933333333333334,-0.67,-0.6966666666666667,-0.7033333333333333,-0.7066666666666667,-0.73,-0.7399999999999999],\"type\":\"scatter\"},{\"line\":{\"width\":1.5},\"marker\":{\"size\":6},\"mode\":\"lines+markers\",\"name\":\"T90_M\",\"x\":[\"1996-Q1\",\"1996-Q2\",\"1996-Q3\",\"1996-Q4\",\"1997-Q1\",\"1997-Q2\",\"1997-Q3\",\"1997-Q4\",\"1998-Q1\",\"1998-Q2\",\"1998-Q3\",\"1998-Q4\",\"1999-Q1\",\"1999-Q2\",\"1999-Q3\",\"1999-Q4\",\"2000-Q1\",\"2000-Q2\",\"2000-Q3\",\"2000-Q4\",\"2001-Q1\",\"2001-Q2\",\"2001-Q3\",\"2001-Q4\",\"2002-Q1\",\"2002-Q2\",\"2002-Q3\",\"2002-Q4\",\"2003-Q1\",\"2003-Q2\",\"2003-Q3\",\"2003-Q4\",\"2004-Q1\",\"2004-Q2\",\"2004-Q3\",\"2004-Q4\",\"2005-Q1\",\"2005-Q2\",\"2005-Q3\",\"2005-Q4\",\"2006-Q1\",\"2006-Q2\",\"2006-Q3\",\"2006-Q4\",\"2007-Q1\",\"2007-Q2\",\"2007-Q3\",\"2007-Q4\",\"2008-Q1\",\"2008-Q2\",\"2008-Q3\",\"2008-Q4\",\"2009-Q1\",\"2009-Q2\",\"2009-Q3\",\"2009-Q4\",\"2010-Q1\",\"2010-Q2\",\"2010-Q3\",\"2010-Q4\",\"2011-Q1\",\"2011-Q2\",\"2011-Q3\",\"2011-Q4\",\"2012-Q1\",\"2012-Q2\",\"2012-Q3\",\"2012-Q4\",\"2013-Q1\",\"2013-Q2\",\"2013-Q3\",\"2013-Q4\",\"2014-Q1\",\"2014-Q2\",\"2014-Q3\",\"2014-Q4\",\"2015-Q1\",\"2015-Q2\",\"2015-Q3\",\"2015-Q4\",\"2016-Q1\",\"2016-Q2\",\"2016-Q3\",\"2016-Q4\",\"2017-Q1\",\"2017-Q2\",\"2017-Q3\",\"2017-Q4\",\"2018-Q1\",\"2018-Q2\",\"2018-Q3\",\"2018-Q4\",\"2019-Q1\",\"2019-Q2\",\"2019-Q3\",\"2019-Q4\",\"2020-Q1\",\"2020-Q2\",\"2020-Q3\",\"2020-Q4\",\"2021-Q1\",\"2021-Q2\",\"2021-Q3\",\"2021-Q4\",\"2022-Q1\",\"2022-Q2\",\"2022-Q3\",\"2022-Q4\",\"2023-Q1\",\"2023-Q2\",\"2023-Q3\"],\"y\":[0.2066666666666667,0.14333333333333334,0.09000000000000001,0.04666666666666667,-0.02666666666666667,-0.08333333333333333,-0.049999999999999996,0.006666666666666668,0.07666666666666667,0.13333333333333333,0.21333333333333335,0.2933333333333334,0.33666666666666667,0.35666666666666663,0.37666666666666665,0.3933333333333333,0.42,0.4033333333333333,0.3233333333333333,0.30666666666666664,0.3133333333333333,0.3333333333333333,0.38000000000000006,0.47,0.5466666666666667,0.5466666666666667,0.59,0.6133333333333333,0.6,0.5133333333333333,0.49,0.5166666666666667,0.48,0.4566666666666666,0.44333333333333336,0.4166666666666667,0.3833333333333333,0.44,0.5166666666666667,0.5933333333333333,0.6933333333333334,0.7433333333333333,0.7833333333333333,0.7633333333333333,0.7600000000000001,0.7966666666666667,0.8066666666666666,0.7600000000000001,0.6866666666666666,0.66,0.6066666666666666,0.54,0.5233333333333333,0.48333333333333334,0.48,0.51,0.54,0.5566666666666666,0.54,0.5266666666666667,0.45,0.37000000000000005,0.3233333333333333,0.35333333333333333,0.36999999999999994,0.41333333333333333,0.43333333333333335,0.4566666666666667,0.4766666666666666,0.5066666666666667,0.5866666666666668,0.6166666666666667,0.6266666666666666,0.6266666666666666,0.6366666666666667,0.6433333333333334,0.6466666666666666,0.6233333333333334,0.6699999999999999,0.7066666666666667,0.7999999999999999,0.9233333333333333,0.9700000000000001,0.98,0.9700000000000001,0.93,0.8766666666666666,0.9133333333333334,0.9333333333333335,0.94,0.9500000000000001,0.9333333333333332,0.9666666666666667,1.0,1.0033333333333332,0.9833333333333334,0.9500000000000001,0.89,0.8633333333333333,0.8133333333333334,0.7600000000000001,0.7133333333333334,0.77,0.7799999999999999,0.73,0.7033333333333333,0.7533333333333333,0.7933333333333333,0.7966666666666667,0.8133333333333334,0.8366666666666666],\"type\":\"scatter\"},{\"line\":{\"width\":1.5},\"marker\":{\"size\":6},\"mode\":\"lines+markers\",\"name\":\"WP90_M\",\"x\":[\"1996-Q1\",\"1996-Q2\",\"1996-Q3\",\"1996-Q4\",\"1997-Q1\",\"1997-Q2\",\"1997-Q3\",\"1997-Q4\",\"1998-Q1\",\"1998-Q2\",\"1998-Q3\",\"1998-Q4\",\"1999-Q1\",\"1999-Q2\",\"1999-Q3\",\"1999-Q4\",\"2000-Q1\",\"2000-Q2\",\"2000-Q3\",\"2000-Q4\",\"2001-Q1\",\"2001-Q2\",\"2001-Q3\",\"2001-Q4\",\"2002-Q1\",\"2002-Q2\",\"2002-Q3\",\"2002-Q4\",\"2003-Q1\",\"2003-Q2\",\"2003-Q3\",\"2003-Q4\",\"2004-Q1\",\"2004-Q2\",\"2004-Q3\",\"2004-Q4\",\"2005-Q1\",\"2005-Q2\",\"2005-Q3\",\"2005-Q4\",\"2006-Q1\",\"2006-Q2\",\"2006-Q3\",\"2006-Q4\",\"2007-Q1\",\"2007-Q2\",\"2007-Q3\",\"2007-Q4\",\"2008-Q1\",\"2008-Q2\",\"2008-Q3\",\"2008-Q4\",\"2009-Q1\",\"2009-Q2\",\"2009-Q3\",\"2009-Q4\",\"2010-Q1\",\"2010-Q2\",\"2010-Q3\",\"2010-Q4\",\"2011-Q1\",\"2011-Q2\",\"2011-Q3\",\"2011-Q4\",\"2012-Q1\",\"2012-Q2\",\"2012-Q3\",\"2012-Q4\",\"2013-Q1\",\"2013-Q2\",\"2013-Q3\",\"2013-Q4\",\"2014-Q1\",\"2014-Q2\",\"2014-Q3\",\"2014-Q4\",\"2015-Q1\",\"2015-Q2\",\"2015-Q3\",\"2015-Q4\",\"2016-Q1\",\"2016-Q2\",\"2016-Q3\",\"2016-Q4\",\"2017-Q1\",\"2017-Q2\",\"2017-Q3\",\"2017-Q4\",\"2018-Q1\",\"2018-Q2\",\"2018-Q3\",\"2018-Q4\",\"2019-Q1\",\"2019-Q2\",\"2019-Q3\",\"2019-Q4\",\"2020-Q1\",\"2020-Q2\",\"2020-Q3\",\"2020-Q4\",\"2021-Q1\",\"2021-Q2\",\"2021-Q3\",\"2021-Q4\",\"2022-Q1\",\"2022-Q2\",\"2022-Q3\",\"2022-Q4\",\"2023-Q1\",\"2023-Q2\",\"2023-Q3\"],\"y\":[0.36999999999999994,0.38999999999999996,0.33,0.3133333333333333,0.34,0.34333333333333327,0.3666666666666667,0.35333333333333333,0.28,0.27666666666666667,0.2866666666666667,0.2966666666666667,0.32666666666666666,0.32666666666666666,0.33666666666666667,0.32666666666666666,0.37666666666666665,0.39666666666666667,0.4166666666666667,0.4366666666666667,0.41333333333333333,0.4566666666666667,0.5133333333333333,0.5266666666666667,0.4766666666666666,0.51,0.5733333333333333,0.5966666666666667,0.6833333333333332,0.7166666666666667,0.7466666666666667,0.75,0.7533333333333333,0.7466666666666667,0.6766666666666667,0.7033333333333333,0.6966666666666667,0.7466666666666667,0.7399999999999999,0.7466666666666667,0.75,0.7133333333333333,0.6466666666666666,0.6533333333333333,0.6966666666666667,0.7166666666666667,0.6333333333333333,0.6166666666666667,0.5666666666666667,0.5766666666666667,0.61,0.62,0.5966666666666667,0.5566666666666668,0.5933333333333333,0.59,0.5866666666666666,0.5633333333333334,0.5766666666666667,0.6233333333333334,0.6433333333333334,0.6333333333333333,0.6833333333333332,0.7033333333333333,0.7133333333333333,0.6866666666666666,0.71,0.7133333333333333,0.6833333333333335,0.6966666666666667,0.66,0.6166666666666667,0.6266666666666666,0.63,0.6266666666666666,0.61,0.6066666666666666,0.5766666666666667,0.5766666666666667,0.53,0.47,0.4666666666666666,0.4766666666666666,0.41,0.39999999999999997,0.39333333333333337,0.4166666666666667,0.43333333333333335,0.47,0.45999999999999996,0.48666666666666664,0.45999999999999996,0.4466666666666666,0.4633333333333333,0.48333333333333334,0.48333333333333334,0.4366666666666667,0.48666666666666664,0.49666666666666665,0.48333333333333334,0.49333333333333335,0.5233333333333333,0.5033333333333333,0.52,0.53,0.5533333333333333,0.5333333333333333,0.57,0.5266666666666667,0.5166666666666667,0.43],\"type\":\"scatter\"}],                        {\"legend\":{\"orientation\":\"h\",\"x\":1,\"xanchor\":\"right\",\"y\":1.02,\"yanchor\":\"bottom\"},\"xaxis\":{\"title\":{\"text\":\"Quarters\"}},\"yaxis\":{\"title\":{\"text\":\"Climate Variables (Standardized Anomalies)\"}},\"template\":{\"data\":{\"histogram2dcontour\":[{\"type\":\"histogram2dcontour\",\"colorbar\":{\"outlinewidth\":0,\"ticks\":\"\"},\"colorscale\":[[0.0,\"#0d0887\"],[0.1111111111111111,\"#46039f\"],[0.2222222222222222,\"#7201a8\"],[0.3333333333333333,\"#9c179e\"],[0.4444444444444444,\"#bd3786\"],[0.5555555555555556,\"#d8576b\"],[0.6666666666666666,\"#ed7953\"],[0.7777777777777778,\"#fb9f3a\"],[0.8888888888888888,\"#fdca26\"],[1.0,\"#f0f921\"]]}],\"choropleth\":[{\"type\":\"choropleth\",\"colorbar\":{\"outlinewidth\":0,\"ticks\":\"\"}}],\"histogram2d\":[{\"type\":\"histogram2d\",\"colorbar\":{\"outlinewidth\":0,\"ticks\":\"\"},\"colorscale\":[[0.0,\"#0d0887\"],[0.1111111111111111,\"#46039f\"],[0.2222222222222222,\"#7201a8\"],[0.3333333333333333,\"#9c179e\"],[0.4444444444444444,\"#bd3786\"],[0.5555555555555556,\"#d8576b\"],[0.6666666666666666,\"#ed7953\"],[0.7777777777777778,\"#fb9f3a\"],[0.8888888888888888,\"#fdca26\"],[1.0,\"#f0f921\"]]}],\"heatmap\":[{\"type\":\"heatmap\",\"colorbar\":{\"outlinewidth\":0,\"ticks\":\"\"},\"colorscale\":[[0.0,\"#0d0887\"],[0.1111111111111111,\"#46039f\"],[0.2222222222222222,\"#7201a8\"],[0.3333333333333333,\"#9c179e\"],[0.4444444444444444,\"#bd3786\"],[0.5555555555555556,\"#d8576b\"],[0.6666666666666666,\"#ed7953\"],[0.7777777777777778,\"#fb9f3a\"],[0.8888888888888888,\"#fdca26\"],[1.0,\"#f0f921\"]]}],\"heatmapgl\":[{\"type\":\"heatmapgl\",\"colorbar\":{\"outlinewidth\":0,\"ticks\":\"\"},\"colorscale\":[[0.0,\"#0d0887\"],[0.1111111111111111,\"#46039f\"],[0.2222222222222222,\"#7201a8\"],[0.3333333333333333,\"#9c179e\"],[0.4444444444444444,\"#bd3786\"],[0.5555555555555556,\"#d8576b\"],[0.6666666666666666,\"#ed7953\"],[0.7777777777777778,\"#fb9f3a\"],[0.8888888888888888,\"#fdca26\"],[1.0,\"#f0f921\"]]}],\"contourcarpet\":[{\"type\":\"contourcarpet\",\"colorbar\":{\"outlinewidth\":0,\"ticks\":\"\"}}],\"contour\":[{\"type\":\"contour\",\"colorbar\":{\"outlinewidth\":0,\"ticks\":\"\"},\"colorscale\":[[0.0,\"#0d0887\"],[0.1111111111111111,\"#46039f\"],[0.2222222222222222,\"#7201a8\"],[0.3333333333333333,\"#9c179e\"],[0.4444444444444444,\"#bd3786\"],[0.5555555555555556,\"#d8576b\"],[0.6666666666666666,\"#ed7953\"],[0.7777777777777778,\"#fb9f3a\"],[0.8888888888888888,\"#fdca26\"],[1.0,\"#f0f921\"]]}],\"surface\":[{\"type\":\"surface\",\"colorbar\":{\"outlinewidth\":0,\"ticks\":\"\"},\"colorscale\":[[0.0,\"#0d0887\"],[0.1111111111111111,\"#46039f\"],[0.2222222222222222,\"#7201a8\"],[0.3333333333333333,\"#9c179e\"],[0.4444444444444444,\"#bd3786\"],[0.5555555555555556,\"#d8576b\"],[0.6666666666666666,\"#ed7953\"],[0.7777777777777778,\"#fb9f3a\"],[0.8888888888888888,\"#fdca26\"],[1.0,\"#f0f921\"]]}],\"mesh3d\":[{\"type\":\"mesh3d\",\"colorbar\":{\"outlinewidth\":0,\"ticks\":\"\"}}],\"scatter\":[{\"fillpattern\":{\"fillmode\":\"overlay\",\"size\":10,\"solidity\":0.2},\"type\":\"scatter\"}],\"parcoords\":[{\"type\":\"parcoords\",\"line\":{\"colorbar\":{\"outlinewidth\":0,\"ticks\":\"\"}}}],\"scatterpolargl\":[{\"type\":\"scatterpolargl\",\"marker\":{\"colorbar\":{\"outlinewidth\":0,\"ticks\":\"\"}}}],\"bar\":[{\"error_x\":{\"color\":\"#2a3f5f\"},\"error_y\":{\"color\":\"#2a3f5f\"},\"marker\":{\"line\":{\"color\":\"#E5ECF6\",\"width\":0.5},\"pattern\":{\"fillmode\":\"overlay\",\"size\":10,\"solidity\":0.2}},\"type\":\"bar\"}],\"scattergeo\":[{\"type\":\"scattergeo\",\"marker\":{\"colorbar\":{\"outlinewidth\":0,\"ticks\":\"\"}}}],\"scatterpolar\":[{\"type\":\"scatterpolar\",\"marker\":{\"colorbar\":{\"outlinewidth\":0,\"ticks\":\"\"}}}],\"histogram\":[{\"marker\":{\"pattern\":{\"fillmode\":\"overlay\",\"size\":10,\"solidity\":0.2}},\"type\":\"histogram\"}],\"scattergl\":[{\"type\":\"scattergl\",\"marker\":{\"colorbar\":{\"outlinewidth\":0,\"ticks\":\"\"}}}],\"scatter3d\":[{\"type\":\"scatter3d\",\"line\":{\"colorbar\":{\"outlinewidth\":0,\"ticks\":\"\"}},\"marker\":{\"colorbar\":{\"outlinewidth\":0,\"ticks\":\"\"}}}],\"scattermapbox\":[{\"type\":\"scattermapbox\",\"marker\":{\"colorbar\":{\"outlinewidth\":0,\"ticks\":\"\"}}}],\"scatterternary\":[{\"type\":\"scatterternary\",\"marker\":{\"colorbar\":{\"outlinewidth\":0,\"ticks\":\"\"}}}],\"scattercarpet\":[{\"type\":\"scattercarpet\",\"marker\":{\"colorbar\":{\"outlinewidth\":0,\"ticks\":\"\"}}}],\"carpet\":[{\"aaxis\":{\"endlinecolor\":\"#2a3f5f\",\"gridcolor\":\"white\",\"linecolor\":\"white\",\"minorgridcolor\":\"white\",\"startlinecolor\":\"#2a3f5f\"},\"baxis\":{\"endlinecolor\":\"#2a3f5f\",\"gridcolor\":\"white\",\"linecolor\":\"white\",\"minorgridcolor\":\"white\",\"startlinecolor\":\"#2a3f5f\"},\"type\":\"carpet\"}],\"table\":[{\"cells\":{\"fill\":{\"color\":\"#EBF0F8\"},\"line\":{\"color\":\"white\"}},\"header\":{\"fill\":{\"color\":\"#C8D4E3\"},\"line\":{\"color\":\"white\"}},\"type\":\"table\"}],\"barpolar\":[{\"marker\":{\"line\":{\"color\":\"#E5ECF6\",\"width\":0.5},\"pattern\":{\"fillmode\":\"overlay\",\"size\":10,\"solidity\":0.2}},\"type\":\"barpolar\"}],\"pie\":[{\"automargin\":true,\"type\":\"pie\"}]},\"layout\":{\"autotypenumbers\":\"strict\",\"colorway\":[\"#636efa\",\"#EF553B\",\"#00cc96\",\"#ab63fa\",\"#FFA15A\",\"#19d3f3\",\"#FF6692\",\"#B6E880\",\"#FF97FF\",\"#FECB52\"],\"font\":{\"color\":\"#2a3f5f\"},\"hovermode\":\"closest\",\"hoverlabel\":{\"align\":\"left\"},\"paper_bgcolor\":\"white\",\"plot_bgcolor\":\"#E5ECF6\",\"polar\":{\"bgcolor\":\"#E5ECF6\",\"angularaxis\":{\"gridcolor\":\"white\",\"linecolor\":\"white\",\"ticks\":\"\"},\"radialaxis\":{\"gridcolor\":\"white\",\"linecolor\":\"white\",\"ticks\":\"\"}},\"ternary\":{\"bgcolor\":\"#E5ECF6\",\"aaxis\":{\"gridcolor\":\"white\",\"linecolor\":\"white\",\"ticks\":\"\"},\"baxis\":{\"gridcolor\":\"white\",\"linecolor\":\"white\",\"ticks\":\"\"},\"caxis\":{\"gridcolor\":\"white\",\"linecolor\":\"white\",\"ticks\":\"\"}},\"coloraxis\":{\"colorbar\":{\"outlinewidth\":0,\"ticks\":\"\"}},\"colorscale\":{\"sequential\":[[0.0,\"#0d0887\"],[0.1111111111111111,\"#46039f\"],[0.2222222222222222,\"#7201a8\"],[0.3333333333333333,\"#9c179e\"],[0.4444444444444444,\"#bd3786\"],[0.5555555555555556,\"#d8576b\"],[0.6666666666666666,\"#ed7953\"],[0.7777777777777778,\"#fb9f3a\"],[0.8888888888888888,\"#fdca26\"],[1.0,\"#f0f921\"]],\"sequentialminus\":[[0.0,\"#0d0887\"],[0.1111111111111111,\"#46039f\"],[0.2222222222222222,\"#7201a8\"],[0.3333333333333333,\"#9c179e\"],[0.4444444444444444,\"#bd3786\"],[0.5555555555555556,\"#d8576b\"],[0.6666666666666666,\"#ed7953\"],[0.7777777777777778,\"#fb9f3a\"],[0.8888888888888888,\"#fdca26\"],[1.0,\"#f0f921\"]],\"diverging\":[[0,\"#8e0152\"],[0.1,\"#c51b7d\"],[0.2,\"#de77ae\"],[0.3,\"#f1b6da\"],[0.4,\"#fde0ef\"],[0.5,\"#f7f7f7\"],[0.6,\"#e6f5d0\"],[0.7,\"#b8e186\"],[0.8,\"#7fbc41\"],[0.9,\"#4d9221\"],[1,\"#276419\"]]},\"xaxis\":{\"gridcolor\":\"white\",\"linecolor\":\"white\",\"ticks\":\"\",\"title\":{\"standoff\":15},\"zerolinecolor\":\"white\",\"automargin\":true,\"zerolinewidth\":2},\"yaxis\":{\"gridcolor\":\"white\",\"linecolor\":\"white\",\"ticks\":\"\",\"title\":{\"standoff\":15},\"zerolinecolor\":\"white\",\"automargin\":true,\"zerolinewidth\":2},\"scene\":{\"xaxis\":{\"backgroundcolor\":\"#E5ECF6\",\"gridcolor\":\"white\",\"linecolor\":\"white\",\"showbackground\":true,\"ticks\":\"\",\"zerolinecolor\":\"white\",\"gridwidth\":2},\"yaxis\":{\"backgroundcolor\":\"#E5ECF6\",\"gridcolor\":\"white\",\"linecolor\":\"white\",\"showbackground\":true,\"ticks\":\"\",\"zerolinecolor\":\"white\",\"gridwidth\":2},\"zaxis\":{\"backgroundcolor\":\"#E5ECF6\",\"gridcolor\":\"white\",\"linecolor\":\"white\",\"showbackground\":true,\"ticks\":\"\",\"zerolinecolor\":\"white\",\"gridwidth\":2}},\"shapedefaults\":{\"line\":{\"color\":\"#2a3f5f\"}},\"annotationdefaults\":{\"arrowcolor\":\"#2a3f5f\",\"arrowhead\":0,\"arrowwidth\":1},\"geo\":{\"bgcolor\":\"white\",\"landcolor\":\"#E5ECF6\",\"subunitcolor\":\"white\",\"showland\":true,\"showlakes\":true,\"lakecolor\":\"white\"},\"title\":{\"x\":0.05},\"mapbox\":{\"style\":\"light\"}}}},                        {\"responsive\": true}                    ).then(function(){\n",
       "                            \n",
       "var gd = document.getElementById('1e0884af-f829-46cc-b467-c86484e3db33');\n",
       "var x = new MutationObserver(function (mutations, observer) {{\n",
       "        var display = window.getComputedStyle(gd).display;\n",
       "        if (!display || display === 'none') {{\n",
       "            console.log([gd, 'removed!']);\n",
       "            Plotly.purge(gd);\n",
       "            observer.disconnect();\n",
       "        }}\n",
       "}});\n",
       "\n",
       "// Listen for the removal of the full notebook cells\n",
       "var notebookContainer = gd.closest('#notebook-container');\n",
       "if (notebookContainer) {{\n",
       "    x.observe(notebookContainer, {childList: true});\n",
       "}}\n",
       "\n",
       "// Listen for the clearing of the current output cell\n",
       "var outputEl = gd.closest('.output');\n",
       "if (outputEl) {{\n",
       "    x.observe(outputEl, {childList: true});\n",
       "}}\n",
       "\n",
       "                        })                };                });            </script>        </div>"
      ]
     },
     "metadata": {},
     "output_type": "display_data"
    }
   ],
   "source": [
    "# Combine data into a single DataFrame for plotting\n",
    "combined_df_climate = pd.DataFrame({\n",
    "    'Quarters': regression_df_RY['Quarters'],\n",
    "    'Sea_Lvl_M': regression_df_RY['Sea_Lvl_M'],\n",
    "    'CDD_M': regression_df_RY['CDD_M'],\n",
    "    'Rx5Day_M': regression_df_RY['Rx5Day_M'],\n",
    "    'T10_M': regression_df_RY['T10_M'],\n",
    "    'T90_M': regression_df_RY['T90_M'],\n",
    "    'WP90_M': regression_df_RY['WP90_M']\n",
    "})\n",
    "\n",
    "# Set the index to 'Quarters' for better plotting\n",
    "combined_df_climate.set_index('Quarters', inplace=True)\n",
    "\n",
    "# Create traces for each climate variable\n",
    "trace_sea_lvl = go.Scatter(\n",
    "    x=combined_df_climate.index,\n",
    "    y=combined_df_climate['Sea_Lvl_M'],\n",
    "    mode='lines+markers',\n",
    "    name='Sea_Lvl_M',\n",
    "    marker=dict(size=6),\n",
    "    line=dict(width=1.5)\n",
    ")\n",
    "\n",
    "trace_cdd_m = go.Scatter(\n",
    "    x=combined_df_climate.index,\n",
    "    y=combined_df_climate['CDD_M'],\n",
    "    mode='lines+markers',\n",
    "    name='CDD_M',\n",
    "    marker=dict(size=6),\n",
    "    line=dict(width=1.5)\n",
    ")\n",
    "\n",
    "trace_rx5day_m = go.Scatter(\n",
    "    x=combined_df_climate.index,\n",
    "    y=combined_df_climate['Rx5Day_M'],\n",
    "    mode='lines+markers',\n",
    "    name='Rx5Day_M',\n",
    "    marker=dict(size=6),\n",
    "    line=dict(width=1.5)\n",
    ")\n",
    "\n",
    "trace_t10_m = go.Scatter(\n",
    "    x=combined_df_climate.index,\n",
    "    y=combined_df_climate['T10_M'],\n",
    "    mode='lines+markers',\n",
    "    name='T10_M',\n",
    "    marker=dict(size=6),\n",
    "    line=dict(width=1.5)\n",
    ")\n",
    "\n",
    "trace_t90_m = go.Scatter(\n",
    "    x=combined_df_climate.index,\n",
    "    y=combined_df_climate['T90_M'],\n",
    "    mode='lines+markers',\n",
    "    name='T90_M',\n",
    "    marker=dict(size=6),\n",
    "    line=dict(width=1.5)\n",
    ")\n",
    "\n",
    "trace_wp90_m = go.Scatter(\n",
    "    x=combined_df_climate.index,\n",
    "    y=combined_df_climate['WP90_M'],\n",
    "    mode='lines+markers',\n",
    "    name='WP90_M',\n",
    "    marker=dict(size=6),\n",
    "    line=dict(width=1.5)\n",
    ")\n",
    "\n",
    "# Combine all traces into a list\n",
    "data_climate = [\n",
    "    trace_sea_lvl,\n",
    "    trace_cdd_m,\n",
    "    trace_rx5day_m,\n",
    "    trace_t10_m,\n",
    "    trace_t90_m,\n",
    "    trace_wp90_m\n",
    "]\n",
    "\n",
    "# Define the layout\n",
    "layout_climate = go.Layout(\n",
    "    xaxis=dict(title='Quarters'),\n",
    "    yaxis=dict(title='Climate Variables (Standardized Anomalies)'),\n",
    "    legend=dict(orientation=\"h\", yanchor=\"bottom\", y=1.02, xanchor=\"right\", x=1)\n",
    ")\n",
    "\n",
    "# Create the figure\n",
    "fig_climate = go.Figure(data=data_climate, layout=layout_climate)\n",
    "\n",
    "# Plot the figure\n",
    "fig_climate.show()"
   ]
  },
  {
   "cell_type": "markdown",
   "metadata": {},
   "source": [
    "## Cash ratio"
   ]
  },
  {
   "cell_type": "markdown",
   "metadata": {},
   "source": [
    "### Visualizing data"
   ]
  },
  {
   "cell_type": "code",
   "execution_count": null,
   "metadata": {},
   "outputs": [
    {
     "data": {
      "application/vnd.plotly.v1+json": {
       "config": {
        "plotlyServerURL": "https://plot.ly"
       },
       "data": [
        {
         "line": {
          "width": 1.5
         },
         "marker": {
          "size": 6
         },
         "mode": "lines+markers",
         "name": "RY.TO",
         "type": "scatter",
         "x": [
          "1996-Q1",
          "1996-Q2",
          "1996-Q3",
          "1996-Q4",
          "1997-Q1",
          "1997-Q2",
          "1997-Q3",
          "1997-Q4",
          "1998-Q1",
          "1998-Q2",
          "1998-Q3",
          "1998-Q4",
          "1999-Q1",
          "1999-Q2",
          "1999-Q3",
          "1999-Q4",
          "2000-Q1",
          "2000-Q2",
          "2000-Q3",
          "2000-Q4",
          "2001-Q1",
          "2001-Q2",
          "2001-Q3",
          "2001-Q4",
          "2002-Q1",
          "2002-Q2",
          "2002-Q3",
          "2002-Q4",
          "2003-Q1",
          "2003-Q2",
          "2003-Q3",
          "2003-Q4",
          "2004-Q1",
          "2004-Q2",
          "2004-Q3",
          "2004-Q4",
          "2005-Q1",
          "2005-Q2",
          "2005-Q3",
          "2005-Q4",
          "2006-Q1",
          "2006-Q2",
          "2006-Q3",
          "2006-Q4",
          "2007-Q1",
          "2007-Q2",
          "2007-Q3",
          "2007-Q4",
          "2008-Q1",
          "2008-Q2",
          "2008-Q3",
          "2008-Q4",
          "2009-Q1",
          "2009-Q2",
          "2009-Q3",
          "2009-Q4",
          "2010-Q1",
          "2010-Q2",
          "2010-Q3",
          "2010-Q4",
          "2011-Q1",
          "2011-Q2",
          "2011-Q3",
          "2011-Q4",
          "2012-Q1",
          "2012-Q2",
          "2012-Q3",
          "2012-Q4",
          "2013-Q1",
          "2013-Q2",
          "2013-Q3",
          "2013-Q4",
          "2014-Q1",
          "2014-Q2",
          "2014-Q3",
          "2014-Q4",
          "2015-Q1",
          "2015-Q2",
          "2015-Q3",
          "2015-Q4",
          "2016-Q1",
          "2016-Q2",
          "2016-Q3",
          "2016-Q4",
          "2017-Q1",
          "2017-Q2",
          "2017-Q3",
          "2017-Q4",
          "2018-Q1",
          "2018-Q2",
          "2018-Q3",
          "2018-Q4",
          "2019-Q1",
          "2019-Q2",
          "2019-Q3",
          "2019-Q4",
          "2020-Q1",
          "2020-Q2",
          "2020-Q3",
          "2020-Q4",
          "2021-Q1",
          "2021-Q2",
          "2021-Q3",
          "2021-Q4",
          "2022-Q1",
          "2022-Q2",
          "2022-Q3",
          "2022-Q4",
          "2023-Q1",
          "2023-Q2",
          "2023-Q3"
         ],
         "y": [
          1.368,
          1.317,
          1.102,
          1.5525000000000002,
          2.003,
          2.536,
          2.048,
          0.7667,
          1.957,
          1.311,
          0.6147,
          0.5163,
          0.828,
          0.8309,
          1.018,
          0.819,
          0.9877,
          0.8544,
          1.035,
          0.8743,
          0.602,
          0.5915,
          0.6109,
          0.47,
          0.4549,
          0.891,
          0.5376,
          0.5302,
          0.4755,
          0.4951,
          0.4589,
          0.3768,
          0.4308,
          0.2684,
          0.3556,
          0.3769,
          0.2256,
          0.216,
          0.5602,
          0.1836,
          0.241,
          0.2192,
          0.1941,
          0.1661,
          0.1316,
          0.1427,
          0.1676,
          0.1679,
          0.2104,
          0.1279,
          0.3006,
          0.3859,
          0.3904,
          0.3204,
          0.5461,
          0.4915,
          0.1838,
          0.2001,
          0.2237,
          0.5265,
          0.1774,
          0.2091,
          0.2588,
          0.442,
          0.2545,
          0.176,
          0.1956,
          0.282,
          0.3457,
          0.2968,
          0.3274,
          0.3263,
          0.3287,
          0.3306,
          0.3314,
          0.1921,
          0.2939,
          0.2807,
          0.3689,
          0.1924,
          0.4198,
          0.4564,
          0.3509,
          0.2315,
          0.3867,
          0.4407,
          0.4952,
          0.2576,
          0.3914,
          0.4081,
          0.4556,
          0.2118,
          0.2493,
          0.1893,
          0.1856,
          0.1871,
          0.1846,
          0.3728,
          0.4283,
          0.4204,
          0.4942,
          0.506,
          0.5327,
          0.5005,
          0.5201,
          0.4788,
          0.4677,
          0.4034,
          0.4343,
          0.4485,
          0.3729
         ]
        },
        {
         "line": {
          "width": 1.5
         },
         "marker": {
          "size": 6
         },
         "mode": "lines+markers",
         "name": "TD.TO",
         "type": "scatter",
         "x": [
          "1996-Q1",
          "1996-Q2",
          "1996-Q3",
          "1996-Q4",
          "1997-Q1",
          "1997-Q2",
          "1997-Q3",
          "1997-Q4",
          "1998-Q1",
          "1998-Q2",
          "1998-Q3",
          "1998-Q4",
          "1999-Q1",
          "1999-Q2",
          "1999-Q3",
          "1999-Q4",
          "2000-Q1",
          "2000-Q2",
          "2000-Q3",
          "2000-Q4",
          "2001-Q1",
          "2001-Q2",
          "2001-Q3",
          "2001-Q4",
          "2002-Q1",
          "2002-Q2",
          "2002-Q3",
          "2002-Q4",
          "2003-Q1",
          "2003-Q2",
          "2003-Q3",
          "2003-Q4",
          "2004-Q1",
          "2004-Q2",
          "2004-Q3",
          "2004-Q4",
          "2005-Q1",
          "2005-Q2",
          "2005-Q3",
          "2005-Q4",
          "2006-Q1",
          "2006-Q2",
          "2006-Q3",
          "2006-Q4",
          "2007-Q1",
          "2007-Q2",
          "2007-Q3",
          "2007-Q4",
          "2008-Q1",
          "2008-Q2",
          "2008-Q3",
          "2008-Q4",
          "2009-Q1",
          "2009-Q2",
          "2009-Q3",
          "2009-Q4",
          "2010-Q1",
          "2010-Q2",
          "2010-Q3",
          "2010-Q4",
          "2011-Q1",
          "2011-Q2",
          "2011-Q3",
          "2011-Q4",
          "2012-Q1",
          "2012-Q2",
          "2012-Q3",
          "2012-Q4",
          "2013-Q1",
          "2013-Q2",
          "2013-Q3",
          "2013-Q4",
          "2014-Q1",
          "2014-Q2",
          "2014-Q3",
          "2014-Q4",
          "2015-Q1",
          "2015-Q2",
          "2015-Q3",
          "2015-Q4",
          "2016-Q1",
          "2016-Q2",
          "2016-Q3",
          "2016-Q4",
          "2017-Q1",
          "2017-Q2",
          "2017-Q3",
          "2017-Q4",
          "2018-Q1",
          "2018-Q2",
          "2018-Q3",
          "2018-Q4",
          "2019-Q1",
          "2019-Q2",
          "2019-Q3",
          "2019-Q4",
          "2020-Q1",
          "2020-Q2",
          "2020-Q3",
          "2020-Q4",
          "2021-Q1",
          "2021-Q2",
          "2021-Q3",
          "2021-Q4",
          "2022-Q1",
          "2022-Q2",
          "2022-Q3",
          "2022-Q4",
          "2023-Q1",
          "2023-Q2",
          "2023-Q3"
         ],
         "y": [
          0.0448,
          0.0448,
          0.0416,
          0.2871,
          0.0371,
          0.0197,
          0.0221,
          0.2717,
          0.2036,
          0.2193,
          0.1707,
          0.119,
          0.2639,
          0.2431,
          0.1978,
          0.155,
          0.2571,
          0.1945,
          0.1993,
          0.1503,
          0.1918,
          0.1133,
          0.1262,
          0.1648,
          0.1277,
          0.1531,
          0.1837,
          0.2542,
          0.2596,
          0.1676,
          0.2332,
          0.3328,
          0.2186,
          0.32,
          0.3373,
          0.2276,
          0.3301,
          0.3535,
          0.3627,
          0.5442,
          0.3442,
          0.2804,
          0.2798,
          0.3413,
          0.2314,
          0.3233,
          0.3115,
          0.4951,
          0.3494,
          0.4719,
          0.3834,
          0.5593,
          0.9517,
          0.7064,
          0.9046,
          0.6909,
          0.6904,
          0.5556,
          0.9128,
          0.5837,
          0.4087,
          0.694,
          0.6015,
          0.6105,
          0.2692,
          0.3171,
          0.5828,
          0.4914,
          0.663,
          0.5336,
          0.5106,
          0.6474,
          0.8394,
          0.5744,
          0.5802,
          0.2924,
          0.5891,
          0.5862,
          0.5456,
          0.4714,
          0.5439,
          0.5291,
          0.6326,
          0.3815,
          0.6375,
          0.5274,
          0.4801,
          0.2495,
          0.4175,
          0.333,
          0.3395,
          0.1487,
          0.1424,
          0.1272,
          0.1324,
          0.1126,
          0.1251,
          0.4391,
          0.475,
          0.5246,
          0.6268,
          0.6503,
          0.5512,
          0.5273,
          0.5041,
          0.4024,
          0.3886,
          0.3835,
          0.353,
          0.2463,
          0.2141
         ]
        },
        {
         "line": {
          "width": 1.5
         },
         "marker": {
          "size": 6
         },
         "mode": "lines+markers",
         "name": "BNS.TO",
         "type": "scatter",
         "x": [
          "1996-Q1",
          "1996-Q2",
          "1996-Q3",
          "1996-Q4",
          "1997-Q1",
          "1997-Q2",
          "1997-Q3",
          "1997-Q4",
          "1998-Q1",
          "1998-Q2",
          "1998-Q3",
          "1998-Q4",
          "1999-Q1",
          "1999-Q2",
          "1999-Q3",
          "1999-Q4",
          "2000-Q1",
          "2000-Q2",
          "2000-Q3",
          "2000-Q4",
          "2001-Q1",
          "2001-Q2",
          "2001-Q3",
          "2001-Q4",
          "2002-Q1",
          "2002-Q2",
          "2002-Q3",
          "2002-Q4",
          "2003-Q1",
          "2003-Q2",
          "2003-Q3",
          "2003-Q4",
          "2004-Q1",
          "2004-Q2",
          "2004-Q3",
          "2004-Q4",
          "2005-Q1",
          "2005-Q2",
          "2005-Q3",
          "2005-Q4",
          "2006-Q1",
          "2006-Q2",
          "2006-Q3",
          "2006-Q4",
          "2007-Q1",
          "2007-Q2",
          "2007-Q3",
          "2007-Q4",
          "2008-Q1",
          "2008-Q2",
          "2008-Q3",
          "2008-Q4",
          "2009-Q1",
          "2009-Q2",
          "2009-Q3",
          "2009-Q4",
          "2010-Q1",
          "2010-Q2",
          "2010-Q3",
          "2010-Q4",
          "2011-Q1",
          "2011-Q2",
          "2011-Q3",
          "2011-Q4",
          "2012-Q1",
          "2012-Q2",
          "2012-Q3",
          "2012-Q4",
          "2013-Q1",
          "2013-Q2",
          "2013-Q3",
          "2013-Q4",
          "2014-Q1",
          "2014-Q2",
          "2014-Q3",
          "2014-Q4",
          "2015-Q1",
          "2015-Q2",
          "2015-Q3",
          "2015-Q4",
          "2016-Q1",
          "2016-Q2",
          "2016-Q3",
          "2016-Q4",
          "2017-Q1",
          "2017-Q2",
          "2017-Q3",
          "2017-Q4",
          "2018-Q1",
          "2018-Q2",
          "2018-Q3",
          "2018-Q4",
          "2019-Q1",
          "2019-Q2",
          "2019-Q3",
          "2019-Q4",
          "2020-Q1",
          "2020-Q2",
          "2020-Q3",
          "2020-Q4",
          "2021-Q1",
          "2021-Q2",
          "2021-Q3",
          "2021-Q4",
          "2022-Q1",
          "2022-Q2",
          "2022-Q3",
          "2022-Q4",
          "2023-Q1",
          "2023-Q2",
          "2023-Q3"
         ],
         "y": [
          1.456,
          1.1,
          1.144,
          0.8463,
          1.086,
          1.106,
          0.8083,
          0.9382,
          1.192,
          0.9533,
          0.9718,
          1.044,
          1.089,
          0.8394,
          0.8569,
          0.7051,
          0.8586,
          0.8074,
          0.728,
          0.5259,
          0.6001,
          0.4896,
          0.374,
          0.4075,
          0.4683,
          0.4365,
          0.4568,
          0.4017,
          0.425,
          0.3755,
          0.4548,
          0.4326,
          0.4911,
          0.8025,
          0.5256,
          0.4585,
          0.5504,
          0.5367,
          0.5356,
          0.4782,
          0.5802,
          0.529,
          0.4665,
          0.5038,
          0.4766,
          0.5186,
          0.4837,
          0.7225,
          0.6929,
          0.6785,
          0.7,
          0.7937,
          0.6367,
          2.324,
          2.148,
          0.8515,
          4.298,
          2.482,
          2.333,
          0.9905,
          2.02,
          2.803,
          2.627,
          0.9663,
          2.452,
          1.017,
          2.37,
          0.7096,
          0.7337,
          0.6833,
          0.6045,
          0.6174,
          0.6289,
          0.6762,
          0.549,
          0.2706,
          0.8307,
          0.6765,
          1.065,
          0.3599,
          0.8411,
          0.5978,
          0.7424,
          0.2285,
          0.4803,
          0.5318,
          0.6277,
          0.3002,
          0.6309,
          0.6799,
          0.6351,
          0.3046,
          0.2364,
          0.2228,
          0.199,
          0.189,
          0.2546,
          0.3662,
          0.2699,
          0.3696,
          0.4521,
          0.2905,
          0.4099,
          0.3965,
          0.4342,
          0.356,
          0.2854,
          0.2335,
          0.3001,
          0.2353,
          0.3207
         ]
        }
       ],
       "layout": {
        "template": {
         "data": {
          "bar": [
           {
            "error_x": {
             "color": "#2a3f5f"
            },
            "error_y": {
             "color": "#2a3f5f"
            },
            "marker": {
             "line": {
              "color": "#E5ECF6",
              "width": 0.5
             },
             "pattern": {
              "fillmode": "overlay",
              "size": 10,
              "solidity": 0.2
             }
            },
            "type": "bar"
           }
          ],
          "barpolar": [
           {
            "marker": {
             "line": {
              "color": "#E5ECF6",
              "width": 0.5
             },
             "pattern": {
              "fillmode": "overlay",
              "size": 10,
              "solidity": 0.2
             }
            },
            "type": "barpolar"
           }
          ],
          "carpet": [
           {
            "aaxis": {
             "endlinecolor": "#2a3f5f",
             "gridcolor": "white",
             "linecolor": "white",
             "minorgridcolor": "white",
             "startlinecolor": "#2a3f5f"
            },
            "baxis": {
             "endlinecolor": "#2a3f5f",
             "gridcolor": "white",
             "linecolor": "white",
             "minorgridcolor": "white",
             "startlinecolor": "#2a3f5f"
            },
            "type": "carpet"
           }
          ],
          "choropleth": [
           {
            "colorbar": {
             "outlinewidth": 0,
             "ticks": ""
            },
            "type": "choropleth"
           }
          ],
          "contour": [
           {
            "colorbar": {
             "outlinewidth": 0,
             "ticks": ""
            },
            "colorscale": [
             [
              0,
              "#0d0887"
             ],
             [
              0.1111111111111111,
              "#46039f"
             ],
             [
              0.2222222222222222,
              "#7201a8"
             ],
             [
              0.3333333333333333,
              "#9c179e"
             ],
             [
              0.4444444444444444,
              "#bd3786"
             ],
             [
              0.5555555555555556,
              "#d8576b"
             ],
             [
              0.6666666666666666,
              "#ed7953"
             ],
             [
              0.7777777777777778,
              "#fb9f3a"
             ],
             [
              0.8888888888888888,
              "#fdca26"
             ],
             [
              1,
              "#f0f921"
             ]
            ],
            "type": "contour"
           }
          ],
          "contourcarpet": [
           {
            "colorbar": {
             "outlinewidth": 0,
             "ticks": ""
            },
            "type": "contourcarpet"
           }
          ],
          "heatmap": [
           {
            "colorbar": {
             "outlinewidth": 0,
             "ticks": ""
            },
            "colorscale": [
             [
              0,
              "#0d0887"
             ],
             [
              0.1111111111111111,
              "#46039f"
             ],
             [
              0.2222222222222222,
              "#7201a8"
             ],
             [
              0.3333333333333333,
              "#9c179e"
             ],
             [
              0.4444444444444444,
              "#bd3786"
             ],
             [
              0.5555555555555556,
              "#d8576b"
             ],
             [
              0.6666666666666666,
              "#ed7953"
             ],
             [
              0.7777777777777778,
              "#fb9f3a"
             ],
             [
              0.8888888888888888,
              "#fdca26"
             ],
             [
              1,
              "#f0f921"
             ]
            ],
            "type": "heatmap"
           }
          ],
          "heatmapgl": [
           {
            "colorbar": {
             "outlinewidth": 0,
             "ticks": ""
            },
            "colorscale": [
             [
              0,
              "#0d0887"
             ],
             [
              0.1111111111111111,
              "#46039f"
             ],
             [
              0.2222222222222222,
              "#7201a8"
             ],
             [
              0.3333333333333333,
              "#9c179e"
             ],
             [
              0.4444444444444444,
              "#bd3786"
             ],
             [
              0.5555555555555556,
              "#d8576b"
             ],
             [
              0.6666666666666666,
              "#ed7953"
             ],
             [
              0.7777777777777778,
              "#fb9f3a"
             ],
             [
              0.8888888888888888,
              "#fdca26"
             ],
             [
              1,
              "#f0f921"
             ]
            ],
            "type": "heatmapgl"
           }
          ],
          "histogram": [
           {
            "marker": {
             "pattern": {
              "fillmode": "overlay",
              "size": 10,
              "solidity": 0.2
             }
            },
            "type": "histogram"
           }
          ],
          "histogram2d": [
           {
            "colorbar": {
             "outlinewidth": 0,
             "ticks": ""
            },
            "colorscale": [
             [
              0,
              "#0d0887"
             ],
             [
              0.1111111111111111,
              "#46039f"
             ],
             [
              0.2222222222222222,
              "#7201a8"
             ],
             [
              0.3333333333333333,
              "#9c179e"
             ],
             [
              0.4444444444444444,
              "#bd3786"
             ],
             [
              0.5555555555555556,
              "#d8576b"
             ],
             [
              0.6666666666666666,
              "#ed7953"
             ],
             [
              0.7777777777777778,
              "#fb9f3a"
             ],
             [
              0.8888888888888888,
              "#fdca26"
             ],
             [
              1,
              "#f0f921"
             ]
            ],
            "type": "histogram2d"
           }
          ],
          "histogram2dcontour": [
           {
            "colorbar": {
             "outlinewidth": 0,
             "ticks": ""
            },
            "colorscale": [
             [
              0,
              "#0d0887"
             ],
             [
              0.1111111111111111,
              "#46039f"
             ],
             [
              0.2222222222222222,
              "#7201a8"
             ],
             [
              0.3333333333333333,
              "#9c179e"
             ],
             [
              0.4444444444444444,
              "#bd3786"
             ],
             [
              0.5555555555555556,
              "#d8576b"
             ],
             [
              0.6666666666666666,
              "#ed7953"
             ],
             [
              0.7777777777777778,
              "#fb9f3a"
             ],
             [
              0.8888888888888888,
              "#fdca26"
             ],
             [
              1,
              "#f0f921"
             ]
            ],
            "type": "histogram2dcontour"
           }
          ],
          "mesh3d": [
           {
            "colorbar": {
             "outlinewidth": 0,
             "ticks": ""
            },
            "type": "mesh3d"
           }
          ],
          "parcoords": [
           {
            "line": {
             "colorbar": {
              "outlinewidth": 0,
              "ticks": ""
             }
            },
            "type": "parcoords"
           }
          ],
          "pie": [
           {
            "automargin": true,
            "type": "pie"
           }
          ],
          "scatter": [
           {
            "fillpattern": {
             "fillmode": "overlay",
             "size": 10,
             "solidity": 0.2
            },
            "type": "scatter"
           }
          ],
          "scatter3d": [
           {
            "line": {
             "colorbar": {
              "outlinewidth": 0,
              "ticks": ""
             }
            },
            "marker": {
             "colorbar": {
              "outlinewidth": 0,
              "ticks": ""
             }
            },
            "type": "scatter3d"
           }
          ],
          "scattercarpet": [
           {
            "marker": {
             "colorbar": {
              "outlinewidth": 0,
              "ticks": ""
             }
            },
            "type": "scattercarpet"
           }
          ],
          "scattergeo": [
           {
            "marker": {
             "colorbar": {
              "outlinewidth": 0,
              "ticks": ""
             }
            },
            "type": "scattergeo"
           }
          ],
          "scattergl": [
           {
            "marker": {
             "colorbar": {
              "outlinewidth": 0,
              "ticks": ""
             }
            },
            "type": "scattergl"
           }
          ],
          "scattermapbox": [
           {
            "marker": {
             "colorbar": {
              "outlinewidth": 0,
              "ticks": ""
             }
            },
            "type": "scattermapbox"
           }
          ],
          "scatterpolar": [
           {
            "marker": {
             "colorbar": {
              "outlinewidth": 0,
              "ticks": ""
             }
            },
            "type": "scatterpolar"
           }
          ],
          "scatterpolargl": [
           {
            "marker": {
             "colorbar": {
              "outlinewidth": 0,
              "ticks": ""
             }
            },
            "type": "scatterpolargl"
           }
          ],
          "scatterternary": [
           {
            "marker": {
             "colorbar": {
              "outlinewidth": 0,
              "ticks": ""
             }
            },
            "type": "scatterternary"
           }
          ],
          "surface": [
           {
            "colorbar": {
             "outlinewidth": 0,
             "ticks": ""
            },
            "colorscale": [
             [
              0,
              "#0d0887"
             ],
             [
              0.1111111111111111,
              "#46039f"
             ],
             [
              0.2222222222222222,
              "#7201a8"
             ],
             [
              0.3333333333333333,
              "#9c179e"
             ],
             [
              0.4444444444444444,
              "#bd3786"
             ],
             [
              0.5555555555555556,
              "#d8576b"
             ],
             [
              0.6666666666666666,
              "#ed7953"
             ],
             [
              0.7777777777777778,
              "#fb9f3a"
             ],
             [
              0.8888888888888888,
              "#fdca26"
             ],
             [
              1,
              "#f0f921"
             ]
            ],
            "type": "surface"
           }
          ],
          "table": [
           {
            "cells": {
             "fill": {
              "color": "#EBF0F8"
             },
             "line": {
              "color": "white"
             }
            },
            "header": {
             "fill": {
              "color": "#C8D4E3"
             },
             "line": {
              "color": "white"
             }
            },
            "type": "table"
           }
          ]
         },
         "layout": {
          "annotationdefaults": {
           "arrowcolor": "#2a3f5f",
           "arrowhead": 0,
           "arrowwidth": 1
          },
          "autotypenumbers": "strict",
          "coloraxis": {
           "colorbar": {
            "outlinewidth": 0,
            "ticks": ""
           }
          },
          "colorscale": {
           "diverging": [
            [
             0,
             "#8e0152"
            ],
            [
             0.1,
             "#c51b7d"
            ],
            [
             0.2,
             "#de77ae"
            ],
            [
             0.3,
             "#f1b6da"
            ],
            [
             0.4,
             "#fde0ef"
            ],
            [
             0.5,
             "#f7f7f7"
            ],
            [
             0.6,
             "#e6f5d0"
            ],
            [
             0.7,
             "#b8e186"
            ],
            [
             0.8,
             "#7fbc41"
            ],
            [
             0.9,
             "#4d9221"
            ],
            [
             1,
             "#276419"
            ]
           ],
           "sequential": [
            [
             0,
             "#0d0887"
            ],
            [
             0.1111111111111111,
             "#46039f"
            ],
            [
             0.2222222222222222,
             "#7201a8"
            ],
            [
             0.3333333333333333,
             "#9c179e"
            ],
            [
             0.4444444444444444,
             "#bd3786"
            ],
            [
             0.5555555555555556,
             "#d8576b"
            ],
            [
             0.6666666666666666,
             "#ed7953"
            ],
            [
             0.7777777777777778,
             "#fb9f3a"
            ],
            [
             0.8888888888888888,
             "#fdca26"
            ],
            [
             1,
             "#f0f921"
            ]
           ],
           "sequentialminus": [
            [
             0,
             "#0d0887"
            ],
            [
             0.1111111111111111,
             "#46039f"
            ],
            [
             0.2222222222222222,
             "#7201a8"
            ],
            [
             0.3333333333333333,
             "#9c179e"
            ],
            [
             0.4444444444444444,
             "#bd3786"
            ],
            [
             0.5555555555555556,
             "#d8576b"
            ],
            [
             0.6666666666666666,
             "#ed7953"
            ],
            [
             0.7777777777777778,
             "#fb9f3a"
            ],
            [
             0.8888888888888888,
             "#fdca26"
            ],
            [
             1,
             "#f0f921"
            ]
           ]
          },
          "colorway": [
           "#636efa",
           "#EF553B",
           "#00cc96",
           "#ab63fa",
           "#FFA15A",
           "#19d3f3",
           "#FF6692",
           "#B6E880",
           "#FF97FF",
           "#FECB52"
          ],
          "font": {
           "color": "#2a3f5f"
          },
          "geo": {
           "bgcolor": "white",
           "lakecolor": "white",
           "landcolor": "#E5ECF6",
           "showlakes": true,
           "showland": true,
           "subunitcolor": "white"
          },
          "hoverlabel": {
           "align": "left"
          },
          "hovermode": "closest",
          "mapbox": {
           "style": "light"
          },
          "paper_bgcolor": "white",
          "plot_bgcolor": "#E5ECF6",
          "polar": {
           "angularaxis": {
            "gridcolor": "white",
            "linecolor": "white",
            "ticks": ""
           },
           "bgcolor": "#E5ECF6",
           "radialaxis": {
            "gridcolor": "white",
            "linecolor": "white",
            "ticks": ""
           }
          },
          "scene": {
           "xaxis": {
            "backgroundcolor": "#E5ECF6",
            "gridcolor": "white",
            "gridwidth": 2,
            "linecolor": "white",
            "showbackground": true,
            "ticks": "",
            "zerolinecolor": "white"
           },
           "yaxis": {
            "backgroundcolor": "#E5ECF6",
            "gridcolor": "white",
            "gridwidth": 2,
            "linecolor": "white",
            "showbackground": true,
            "ticks": "",
            "zerolinecolor": "white"
           },
           "zaxis": {
            "backgroundcolor": "#E5ECF6",
            "gridcolor": "white",
            "gridwidth": 2,
            "linecolor": "white",
            "showbackground": true,
            "ticks": "",
            "zerolinecolor": "white"
           }
          },
          "shapedefaults": {
           "line": {
            "color": "#2a3f5f"
           }
          },
          "ternary": {
           "aaxis": {
            "gridcolor": "white",
            "linecolor": "white",
            "ticks": ""
           },
           "baxis": {
            "gridcolor": "white",
            "linecolor": "white",
            "ticks": ""
           },
           "bgcolor": "#E5ECF6",
           "caxis": {
            "gridcolor": "white",
            "linecolor": "white",
            "ticks": ""
           }
          },
          "title": {
           "x": 0.05
          },
          "xaxis": {
           "automargin": true,
           "gridcolor": "white",
           "linecolor": "white",
           "ticks": "",
           "title": {
            "standoff": 15
           },
           "zerolinecolor": "white",
           "zerolinewidth": 2
          },
          "yaxis": {
           "automargin": true,
           "gridcolor": "white",
           "linecolor": "white",
           "ticks": "",
           "title": {
            "standoff": 15
           },
           "zerolinecolor": "white",
           "zerolinewidth": 2
          }
         }
        },
        "xaxis": {
         "title": {
          "text": "Quarters"
         }
        },
        "yaxis": {
         "title": {
          "text": "Cash Ratio"
         }
        }
       }
      },
      "text/html": [
       "<div>                            <div id=\"139b80bf-5757-4c37-a82e-e47cb7918957\" class=\"plotly-graph-div\" style=\"height:525px; width:100%;\"></div>            <script type=\"text/javascript\">                require([\"plotly\"], function(Plotly) {                    window.PLOTLYENV=window.PLOTLYENV || {};                                    if (document.getElementById(\"139b80bf-5757-4c37-a82e-e47cb7918957\")) {                    Plotly.newPlot(                        \"139b80bf-5757-4c37-a82e-e47cb7918957\",                        [{\"line\":{\"width\":1.5},\"marker\":{\"size\":6},\"mode\":\"lines+markers\",\"name\":\"RY.TO\",\"x\":[\"1996-Q1\",\"1996-Q2\",\"1996-Q3\",\"1996-Q4\",\"1997-Q1\",\"1997-Q2\",\"1997-Q3\",\"1997-Q4\",\"1998-Q1\",\"1998-Q2\",\"1998-Q3\",\"1998-Q4\",\"1999-Q1\",\"1999-Q2\",\"1999-Q3\",\"1999-Q4\",\"2000-Q1\",\"2000-Q2\",\"2000-Q3\",\"2000-Q4\",\"2001-Q1\",\"2001-Q2\",\"2001-Q3\",\"2001-Q4\",\"2002-Q1\",\"2002-Q2\",\"2002-Q3\",\"2002-Q4\",\"2003-Q1\",\"2003-Q2\",\"2003-Q3\",\"2003-Q4\",\"2004-Q1\",\"2004-Q2\",\"2004-Q3\",\"2004-Q4\",\"2005-Q1\",\"2005-Q2\",\"2005-Q3\",\"2005-Q4\",\"2006-Q1\",\"2006-Q2\",\"2006-Q3\",\"2006-Q4\",\"2007-Q1\",\"2007-Q2\",\"2007-Q3\",\"2007-Q4\",\"2008-Q1\",\"2008-Q2\",\"2008-Q3\",\"2008-Q4\",\"2009-Q1\",\"2009-Q2\",\"2009-Q3\",\"2009-Q4\",\"2010-Q1\",\"2010-Q2\",\"2010-Q3\",\"2010-Q4\",\"2011-Q1\",\"2011-Q2\",\"2011-Q3\",\"2011-Q4\",\"2012-Q1\",\"2012-Q2\",\"2012-Q3\",\"2012-Q4\",\"2013-Q1\",\"2013-Q2\",\"2013-Q3\",\"2013-Q4\",\"2014-Q1\",\"2014-Q2\",\"2014-Q3\",\"2014-Q4\",\"2015-Q1\",\"2015-Q2\",\"2015-Q3\",\"2015-Q4\",\"2016-Q1\",\"2016-Q2\",\"2016-Q3\",\"2016-Q4\",\"2017-Q1\",\"2017-Q2\",\"2017-Q3\",\"2017-Q4\",\"2018-Q1\",\"2018-Q2\",\"2018-Q3\",\"2018-Q4\",\"2019-Q1\",\"2019-Q2\",\"2019-Q3\",\"2019-Q4\",\"2020-Q1\",\"2020-Q2\",\"2020-Q3\",\"2020-Q4\",\"2021-Q1\",\"2021-Q2\",\"2021-Q3\",\"2021-Q4\",\"2022-Q1\",\"2022-Q2\",\"2022-Q3\",\"2022-Q4\",\"2023-Q1\",\"2023-Q2\",\"2023-Q3\"],\"y\":[1.368,1.317,1.102,1.5525000000000002,2.003,2.536,2.048,0.7667,1.957,1.311,0.6147,0.5163,0.828,0.8309,1.018,0.819,0.9877,0.8544,1.035,0.8743,0.602,0.5915,0.6109,0.47,0.4549,0.891,0.5376,0.5302,0.4755,0.4951,0.4589,0.3768,0.4308,0.2684,0.3556,0.3769,0.2256,0.216,0.5602,0.1836,0.241,0.2192,0.1941,0.1661,0.1316,0.1427,0.1676,0.1679,0.2104,0.1279,0.3006,0.3859,0.3904,0.3204,0.5461,0.4915,0.1838,0.2001,0.2237,0.5265,0.1774,0.2091,0.2588,0.442,0.2545,0.176,0.1956,0.282,0.3457,0.2968,0.3274,0.3263,0.3287,0.3306,0.3314,0.1921,0.2939,0.2807,0.3689,0.1924,0.4198,0.4564,0.3509,0.2315,0.3867,0.4407,0.4952,0.2576,0.3914,0.4081,0.4556,0.2118,0.2493,0.1893,0.1856,0.1871,0.1846,0.3728,0.4283,0.4204,0.4942,0.506,0.5327,0.5005,0.5201,0.4788,0.4677,0.4034,0.4343,0.4485,0.3729],\"type\":\"scatter\"},{\"line\":{\"width\":1.5},\"marker\":{\"size\":6},\"mode\":\"lines+markers\",\"name\":\"TD.TO\",\"x\":[\"1996-Q1\",\"1996-Q2\",\"1996-Q3\",\"1996-Q4\",\"1997-Q1\",\"1997-Q2\",\"1997-Q3\",\"1997-Q4\",\"1998-Q1\",\"1998-Q2\",\"1998-Q3\",\"1998-Q4\",\"1999-Q1\",\"1999-Q2\",\"1999-Q3\",\"1999-Q4\",\"2000-Q1\",\"2000-Q2\",\"2000-Q3\",\"2000-Q4\",\"2001-Q1\",\"2001-Q2\",\"2001-Q3\",\"2001-Q4\",\"2002-Q1\",\"2002-Q2\",\"2002-Q3\",\"2002-Q4\",\"2003-Q1\",\"2003-Q2\",\"2003-Q3\",\"2003-Q4\",\"2004-Q1\",\"2004-Q2\",\"2004-Q3\",\"2004-Q4\",\"2005-Q1\",\"2005-Q2\",\"2005-Q3\",\"2005-Q4\",\"2006-Q1\",\"2006-Q2\",\"2006-Q3\",\"2006-Q4\",\"2007-Q1\",\"2007-Q2\",\"2007-Q3\",\"2007-Q4\",\"2008-Q1\",\"2008-Q2\",\"2008-Q3\",\"2008-Q4\",\"2009-Q1\",\"2009-Q2\",\"2009-Q3\",\"2009-Q4\",\"2010-Q1\",\"2010-Q2\",\"2010-Q3\",\"2010-Q4\",\"2011-Q1\",\"2011-Q2\",\"2011-Q3\",\"2011-Q4\",\"2012-Q1\",\"2012-Q2\",\"2012-Q3\",\"2012-Q4\",\"2013-Q1\",\"2013-Q2\",\"2013-Q3\",\"2013-Q4\",\"2014-Q1\",\"2014-Q2\",\"2014-Q3\",\"2014-Q4\",\"2015-Q1\",\"2015-Q2\",\"2015-Q3\",\"2015-Q4\",\"2016-Q1\",\"2016-Q2\",\"2016-Q3\",\"2016-Q4\",\"2017-Q1\",\"2017-Q2\",\"2017-Q3\",\"2017-Q4\",\"2018-Q1\",\"2018-Q2\",\"2018-Q3\",\"2018-Q4\",\"2019-Q1\",\"2019-Q2\",\"2019-Q3\",\"2019-Q4\",\"2020-Q1\",\"2020-Q2\",\"2020-Q3\",\"2020-Q4\",\"2021-Q1\",\"2021-Q2\",\"2021-Q3\",\"2021-Q4\",\"2022-Q1\",\"2022-Q2\",\"2022-Q3\",\"2022-Q4\",\"2023-Q1\",\"2023-Q2\",\"2023-Q3\"],\"y\":[0.0448,0.0448,0.0416,0.2871,0.0371,0.0197,0.0221,0.2717,0.2036,0.2193,0.1707,0.119,0.2639,0.2431,0.1978,0.155,0.2571,0.1945,0.1993,0.1503,0.1918,0.1133,0.1262,0.1648,0.1277,0.1531,0.1837,0.2542,0.2596,0.1676,0.2332,0.3328,0.2186,0.32,0.3373,0.2276,0.3301,0.3535,0.3627,0.5442,0.3442,0.2804,0.2798,0.3413,0.2314,0.3233,0.3115,0.4951,0.3494,0.4719,0.3834,0.5593,0.9517,0.7064,0.9046,0.6909,0.6904,0.5556,0.9128,0.5837,0.4087,0.694,0.6015,0.6105,0.2692,0.3171,0.5828,0.4914,0.663,0.5336,0.5106,0.6474,0.8394,0.5744,0.5802,0.2924,0.5891,0.5862,0.5456,0.4714,0.5439,0.5291,0.6326,0.3815,0.6375,0.5274,0.4801,0.2495,0.4175,0.333,0.3395,0.1487,0.1424,0.1272,0.1324,0.1126,0.1251,0.4391,0.475,0.5246,0.6268,0.6503,0.5512,0.5273,0.5041,0.4024,0.3886,0.3835,0.353,0.2463,0.2141],\"type\":\"scatter\"},{\"line\":{\"width\":1.5},\"marker\":{\"size\":6},\"mode\":\"lines+markers\",\"name\":\"BNS.TO\",\"x\":[\"1996-Q1\",\"1996-Q2\",\"1996-Q3\",\"1996-Q4\",\"1997-Q1\",\"1997-Q2\",\"1997-Q3\",\"1997-Q4\",\"1998-Q1\",\"1998-Q2\",\"1998-Q3\",\"1998-Q4\",\"1999-Q1\",\"1999-Q2\",\"1999-Q3\",\"1999-Q4\",\"2000-Q1\",\"2000-Q2\",\"2000-Q3\",\"2000-Q4\",\"2001-Q1\",\"2001-Q2\",\"2001-Q3\",\"2001-Q4\",\"2002-Q1\",\"2002-Q2\",\"2002-Q3\",\"2002-Q4\",\"2003-Q1\",\"2003-Q2\",\"2003-Q3\",\"2003-Q4\",\"2004-Q1\",\"2004-Q2\",\"2004-Q3\",\"2004-Q4\",\"2005-Q1\",\"2005-Q2\",\"2005-Q3\",\"2005-Q4\",\"2006-Q1\",\"2006-Q2\",\"2006-Q3\",\"2006-Q4\",\"2007-Q1\",\"2007-Q2\",\"2007-Q3\",\"2007-Q4\",\"2008-Q1\",\"2008-Q2\",\"2008-Q3\",\"2008-Q4\",\"2009-Q1\",\"2009-Q2\",\"2009-Q3\",\"2009-Q4\",\"2010-Q1\",\"2010-Q2\",\"2010-Q3\",\"2010-Q4\",\"2011-Q1\",\"2011-Q2\",\"2011-Q3\",\"2011-Q4\",\"2012-Q1\",\"2012-Q2\",\"2012-Q3\",\"2012-Q4\",\"2013-Q1\",\"2013-Q2\",\"2013-Q3\",\"2013-Q4\",\"2014-Q1\",\"2014-Q2\",\"2014-Q3\",\"2014-Q4\",\"2015-Q1\",\"2015-Q2\",\"2015-Q3\",\"2015-Q4\",\"2016-Q1\",\"2016-Q2\",\"2016-Q3\",\"2016-Q4\",\"2017-Q1\",\"2017-Q2\",\"2017-Q3\",\"2017-Q4\",\"2018-Q1\",\"2018-Q2\",\"2018-Q3\",\"2018-Q4\",\"2019-Q1\",\"2019-Q2\",\"2019-Q3\",\"2019-Q4\",\"2020-Q1\",\"2020-Q2\",\"2020-Q3\",\"2020-Q4\",\"2021-Q1\",\"2021-Q2\",\"2021-Q3\",\"2021-Q4\",\"2022-Q1\",\"2022-Q2\",\"2022-Q3\",\"2022-Q4\",\"2023-Q1\",\"2023-Q2\",\"2023-Q3\"],\"y\":[1.456,1.1,1.144,0.8463,1.086,1.106,0.8083,0.9382,1.192,0.9533,0.9718,1.044,1.089,0.8394,0.8569,0.7051,0.8586,0.8074,0.728,0.5259,0.6001,0.4896,0.374,0.4075,0.4683,0.4365,0.4568,0.4017,0.425,0.3755,0.4548,0.4326,0.4911,0.8025,0.5256,0.4585,0.5504,0.5367,0.5356,0.4782,0.5802,0.529,0.4665,0.5038,0.4766,0.5186,0.4837,0.7225,0.6929,0.6785,0.7,0.7937,0.6367,2.324,2.148,0.8515,4.298,2.482,2.333,0.9905,2.02,2.803,2.627,0.9663,2.452,1.017,2.37,0.7096,0.7337,0.6833,0.6045,0.6174,0.6289,0.6762,0.549,0.2706,0.8307,0.6765,1.065,0.3599,0.8411,0.5978,0.7424,0.2285,0.4803,0.5318,0.6277,0.3002,0.6309,0.6799,0.6351,0.3046,0.2364,0.2228,0.199,0.189,0.2546,0.3662,0.2699,0.3696,0.4521,0.2905,0.4099,0.3965,0.4342,0.356,0.2854,0.2335,0.3001,0.2353,0.3207],\"type\":\"scatter\"}],                        {\"xaxis\":{\"title\":{\"text\":\"Quarters\"}},\"yaxis\":{\"title\":{\"text\":\"Cash Ratio\"}},\"template\":{\"data\":{\"histogram2dcontour\":[{\"type\":\"histogram2dcontour\",\"colorbar\":{\"outlinewidth\":0,\"ticks\":\"\"},\"colorscale\":[[0.0,\"#0d0887\"],[0.1111111111111111,\"#46039f\"],[0.2222222222222222,\"#7201a8\"],[0.3333333333333333,\"#9c179e\"],[0.4444444444444444,\"#bd3786\"],[0.5555555555555556,\"#d8576b\"],[0.6666666666666666,\"#ed7953\"],[0.7777777777777778,\"#fb9f3a\"],[0.8888888888888888,\"#fdca26\"],[1.0,\"#f0f921\"]]}],\"choropleth\":[{\"type\":\"choropleth\",\"colorbar\":{\"outlinewidth\":0,\"ticks\":\"\"}}],\"histogram2d\":[{\"type\":\"histogram2d\",\"colorbar\":{\"outlinewidth\":0,\"ticks\":\"\"},\"colorscale\":[[0.0,\"#0d0887\"],[0.1111111111111111,\"#46039f\"],[0.2222222222222222,\"#7201a8\"],[0.3333333333333333,\"#9c179e\"],[0.4444444444444444,\"#bd3786\"],[0.5555555555555556,\"#d8576b\"],[0.6666666666666666,\"#ed7953\"],[0.7777777777777778,\"#fb9f3a\"],[0.8888888888888888,\"#fdca26\"],[1.0,\"#f0f921\"]]}],\"heatmap\":[{\"type\":\"heatmap\",\"colorbar\":{\"outlinewidth\":0,\"ticks\":\"\"},\"colorscale\":[[0.0,\"#0d0887\"],[0.1111111111111111,\"#46039f\"],[0.2222222222222222,\"#7201a8\"],[0.3333333333333333,\"#9c179e\"],[0.4444444444444444,\"#bd3786\"],[0.5555555555555556,\"#d8576b\"],[0.6666666666666666,\"#ed7953\"],[0.7777777777777778,\"#fb9f3a\"],[0.8888888888888888,\"#fdca26\"],[1.0,\"#f0f921\"]]}],\"heatmapgl\":[{\"type\":\"heatmapgl\",\"colorbar\":{\"outlinewidth\":0,\"ticks\":\"\"},\"colorscale\":[[0.0,\"#0d0887\"],[0.1111111111111111,\"#46039f\"],[0.2222222222222222,\"#7201a8\"],[0.3333333333333333,\"#9c179e\"],[0.4444444444444444,\"#bd3786\"],[0.5555555555555556,\"#d8576b\"],[0.6666666666666666,\"#ed7953\"],[0.7777777777777778,\"#fb9f3a\"],[0.8888888888888888,\"#fdca26\"],[1.0,\"#f0f921\"]]}],\"contourcarpet\":[{\"type\":\"contourcarpet\",\"colorbar\":{\"outlinewidth\":0,\"ticks\":\"\"}}],\"contour\":[{\"type\":\"contour\",\"colorbar\":{\"outlinewidth\":0,\"ticks\":\"\"},\"colorscale\":[[0.0,\"#0d0887\"],[0.1111111111111111,\"#46039f\"],[0.2222222222222222,\"#7201a8\"],[0.3333333333333333,\"#9c179e\"],[0.4444444444444444,\"#bd3786\"],[0.5555555555555556,\"#d8576b\"],[0.6666666666666666,\"#ed7953\"],[0.7777777777777778,\"#fb9f3a\"],[0.8888888888888888,\"#fdca26\"],[1.0,\"#f0f921\"]]}],\"surface\":[{\"type\":\"surface\",\"colorbar\":{\"outlinewidth\":0,\"ticks\":\"\"},\"colorscale\":[[0.0,\"#0d0887\"],[0.1111111111111111,\"#46039f\"],[0.2222222222222222,\"#7201a8\"],[0.3333333333333333,\"#9c179e\"],[0.4444444444444444,\"#bd3786\"],[0.5555555555555556,\"#d8576b\"],[0.6666666666666666,\"#ed7953\"],[0.7777777777777778,\"#fb9f3a\"],[0.8888888888888888,\"#fdca26\"],[1.0,\"#f0f921\"]]}],\"mesh3d\":[{\"type\":\"mesh3d\",\"colorbar\":{\"outlinewidth\":0,\"ticks\":\"\"}}],\"scatter\":[{\"fillpattern\":{\"fillmode\":\"overlay\",\"size\":10,\"solidity\":0.2},\"type\":\"scatter\"}],\"parcoords\":[{\"type\":\"parcoords\",\"line\":{\"colorbar\":{\"outlinewidth\":0,\"ticks\":\"\"}}}],\"scatterpolargl\":[{\"type\":\"scatterpolargl\",\"marker\":{\"colorbar\":{\"outlinewidth\":0,\"ticks\":\"\"}}}],\"bar\":[{\"error_x\":{\"color\":\"#2a3f5f\"},\"error_y\":{\"color\":\"#2a3f5f\"},\"marker\":{\"line\":{\"color\":\"#E5ECF6\",\"width\":0.5},\"pattern\":{\"fillmode\":\"overlay\",\"size\":10,\"solidity\":0.2}},\"type\":\"bar\"}],\"scattergeo\":[{\"type\":\"scattergeo\",\"marker\":{\"colorbar\":{\"outlinewidth\":0,\"ticks\":\"\"}}}],\"scatterpolar\":[{\"type\":\"scatterpolar\",\"marker\":{\"colorbar\":{\"outlinewidth\":0,\"ticks\":\"\"}}}],\"histogram\":[{\"marker\":{\"pattern\":{\"fillmode\":\"overlay\",\"size\":10,\"solidity\":0.2}},\"type\":\"histogram\"}],\"scattergl\":[{\"type\":\"scattergl\",\"marker\":{\"colorbar\":{\"outlinewidth\":0,\"ticks\":\"\"}}}],\"scatter3d\":[{\"type\":\"scatter3d\",\"line\":{\"colorbar\":{\"outlinewidth\":0,\"ticks\":\"\"}},\"marker\":{\"colorbar\":{\"outlinewidth\":0,\"ticks\":\"\"}}}],\"scattermapbox\":[{\"type\":\"scattermapbox\",\"marker\":{\"colorbar\":{\"outlinewidth\":0,\"ticks\":\"\"}}}],\"scatterternary\":[{\"type\":\"scatterternary\",\"marker\":{\"colorbar\":{\"outlinewidth\":0,\"ticks\":\"\"}}}],\"scattercarpet\":[{\"type\":\"scattercarpet\",\"marker\":{\"colorbar\":{\"outlinewidth\":0,\"ticks\":\"\"}}}],\"carpet\":[{\"aaxis\":{\"endlinecolor\":\"#2a3f5f\",\"gridcolor\":\"white\",\"linecolor\":\"white\",\"minorgridcolor\":\"white\",\"startlinecolor\":\"#2a3f5f\"},\"baxis\":{\"endlinecolor\":\"#2a3f5f\",\"gridcolor\":\"white\",\"linecolor\":\"white\",\"minorgridcolor\":\"white\",\"startlinecolor\":\"#2a3f5f\"},\"type\":\"carpet\"}],\"table\":[{\"cells\":{\"fill\":{\"color\":\"#EBF0F8\"},\"line\":{\"color\":\"white\"}},\"header\":{\"fill\":{\"color\":\"#C8D4E3\"},\"line\":{\"color\":\"white\"}},\"type\":\"table\"}],\"barpolar\":[{\"marker\":{\"line\":{\"color\":\"#E5ECF6\",\"width\":0.5},\"pattern\":{\"fillmode\":\"overlay\",\"size\":10,\"solidity\":0.2}},\"type\":\"barpolar\"}],\"pie\":[{\"automargin\":true,\"type\":\"pie\"}]},\"layout\":{\"autotypenumbers\":\"strict\",\"colorway\":[\"#636efa\",\"#EF553B\",\"#00cc96\",\"#ab63fa\",\"#FFA15A\",\"#19d3f3\",\"#FF6692\",\"#B6E880\",\"#FF97FF\",\"#FECB52\"],\"font\":{\"color\":\"#2a3f5f\"},\"hovermode\":\"closest\",\"hoverlabel\":{\"align\":\"left\"},\"paper_bgcolor\":\"white\",\"plot_bgcolor\":\"#E5ECF6\",\"polar\":{\"bgcolor\":\"#E5ECF6\",\"angularaxis\":{\"gridcolor\":\"white\",\"linecolor\":\"white\",\"ticks\":\"\"},\"radialaxis\":{\"gridcolor\":\"white\",\"linecolor\":\"white\",\"ticks\":\"\"}},\"ternary\":{\"bgcolor\":\"#E5ECF6\",\"aaxis\":{\"gridcolor\":\"white\",\"linecolor\":\"white\",\"ticks\":\"\"},\"baxis\":{\"gridcolor\":\"white\",\"linecolor\":\"white\",\"ticks\":\"\"},\"caxis\":{\"gridcolor\":\"white\",\"linecolor\":\"white\",\"ticks\":\"\"}},\"coloraxis\":{\"colorbar\":{\"outlinewidth\":0,\"ticks\":\"\"}},\"colorscale\":{\"sequential\":[[0.0,\"#0d0887\"],[0.1111111111111111,\"#46039f\"],[0.2222222222222222,\"#7201a8\"],[0.3333333333333333,\"#9c179e\"],[0.4444444444444444,\"#bd3786\"],[0.5555555555555556,\"#d8576b\"],[0.6666666666666666,\"#ed7953\"],[0.7777777777777778,\"#fb9f3a\"],[0.8888888888888888,\"#fdca26\"],[1.0,\"#f0f921\"]],\"sequentialminus\":[[0.0,\"#0d0887\"],[0.1111111111111111,\"#46039f\"],[0.2222222222222222,\"#7201a8\"],[0.3333333333333333,\"#9c179e\"],[0.4444444444444444,\"#bd3786\"],[0.5555555555555556,\"#d8576b\"],[0.6666666666666666,\"#ed7953\"],[0.7777777777777778,\"#fb9f3a\"],[0.8888888888888888,\"#fdca26\"],[1.0,\"#f0f921\"]],\"diverging\":[[0,\"#8e0152\"],[0.1,\"#c51b7d\"],[0.2,\"#de77ae\"],[0.3,\"#f1b6da\"],[0.4,\"#fde0ef\"],[0.5,\"#f7f7f7\"],[0.6,\"#e6f5d0\"],[0.7,\"#b8e186\"],[0.8,\"#7fbc41\"],[0.9,\"#4d9221\"],[1,\"#276419\"]]},\"xaxis\":{\"gridcolor\":\"white\",\"linecolor\":\"white\",\"ticks\":\"\",\"title\":{\"standoff\":15},\"zerolinecolor\":\"white\",\"automargin\":true,\"zerolinewidth\":2},\"yaxis\":{\"gridcolor\":\"white\",\"linecolor\":\"white\",\"ticks\":\"\",\"title\":{\"standoff\":15},\"zerolinecolor\":\"white\",\"automargin\":true,\"zerolinewidth\":2},\"scene\":{\"xaxis\":{\"backgroundcolor\":\"#E5ECF6\",\"gridcolor\":\"white\",\"linecolor\":\"white\",\"showbackground\":true,\"ticks\":\"\",\"zerolinecolor\":\"white\",\"gridwidth\":2},\"yaxis\":{\"backgroundcolor\":\"#E5ECF6\",\"gridcolor\":\"white\",\"linecolor\":\"white\",\"showbackground\":true,\"ticks\":\"\",\"zerolinecolor\":\"white\",\"gridwidth\":2},\"zaxis\":{\"backgroundcolor\":\"#E5ECF6\",\"gridcolor\":\"white\",\"linecolor\":\"white\",\"showbackground\":true,\"ticks\":\"\",\"zerolinecolor\":\"white\",\"gridwidth\":2}},\"shapedefaults\":{\"line\":{\"color\":\"#2a3f5f\"}},\"annotationdefaults\":{\"arrowcolor\":\"#2a3f5f\",\"arrowhead\":0,\"arrowwidth\":1},\"geo\":{\"bgcolor\":\"white\",\"landcolor\":\"#E5ECF6\",\"subunitcolor\":\"white\",\"showland\":true,\"showlakes\":true,\"lakecolor\":\"white\"},\"title\":{\"x\":0.05},\"mapbox\":{\"style\":\"light\"}}}},                        {\"responsive\": true}                    ).then(function(){\n",
       "                            \n",
       "var gd = document.getElementById('139b80bf-5757-4c37-a82e-e47cb7918957');\n",
       "var x = new MutationObserver(function (mutations, observer) {{\n",
       "        var display = window.getComputedStyle(gd).display;\n",
       "        if (!display || display === 'none') {{\n",
       "            console.log([gd, 'removed!']);\n",
       "            Plotly.purge(gd);\n",
       "            observer.disconnect();\n",
       "        }}\n",
       "}});\n",
       "\n",
       "// Listen for the removal of the full notebook cells\n",
       "var notebookContainer = gd.closest('#notebook-container');\n",
       "if (notebookContainer) {{\n",
       "    x.observe(notebookContainer, {childList: true});\n",
       "}}\n",
       "\n",
       "// Listen for the clearing of the current output cell\n",
       "var outputEl = gd.closest('.output');\n",
       "if (outputEl) {{\n",
       "    x.observe(outputEl, {childList: true});\n",
       "}}\n",
       "\n",
       "                        })                };                });            </script>        </div>"
      ]
     },
     "metadata": {},
     "output_type": "display_data"
    }
   ],
   "source": [
    "# Combine data into a single DataFrame for plotting\n",
    "combined_df = pd.DataFrame({\n",
    "    'Quarters': regression_df_RY['Quarters'],\n",
    "    'RY.TO': regression_df_RY['Cash ratio'],\n",
    "    'TD.TO': regression_df_TD['Cash ratio'],\n",
    "    'BNS.TO': regression_df_BNS['Cash ratio']\n",
    "})\n",
    "\n",
    "# Set the index to 'Quarters' for better plotting\n",
    "combined_df.set_index('Quarters', inplace=True)\n",
    "\n",
    "# Create traces for each company\n",
    "trace_ry = go.Scatter(\n",
    "    x=combined_df.index,\n",
    "    y=combined_df['RY.TO'],\n",
    "    mode='lines+markers',\n",
    "    name='RY.TO',\n",
    "    marker=dict(size=6),  # Adjust the size of the markers\n",
    "    line=dict(width=1.5)  # Adjust the width of the lines\n",
    ")\n",
    "\n",
    "trace_td = go.Scatter(\n",
    "    x=combined_df.index,\n",
    "    y=combined_df['TD.TO'],\n",
    "    mode='lines+markers',\n",
    "    name='TD.TO',\n",
    "    marker=dict(size=6),\n",
    "    line=dict(width=1.5)\n",
    ")\n",
    "\n",
    "trace_bns = go.Scatter(\n",
    "    x=combined_df.index,\n",
    "    y=combined_df['BNS.TO'],\n",
    "    mode='lines+markers',\n",
    "    name='BNS.TO',\n",
    "    marker=dict(size=6),\n",
    "    line=dict(width=1.5)\n",
    ")\n",
    "\n",
    "# Combine the traces\n",
    "data = [trace_ry, trace_td, trace_bns]\n",
    "\n",
    "# Define the layout\n",
    "layout = go.Layout(\n",
    "    #title='Cash Ratio for RY.TO, TD.TO, and BNS.TO on quarter basis',\n",
    "    xaxis=dict(title='Quarters'),\n",
    "    yaxis=dict(title='Cash Ratio')\n",
    ")\n",
    "\n",
    "# Create the figure\n",
    "fig = go.Figure(data=data, layout=layout)\n",
    "\n",
    "# Plot the figure\n",
    "fig.show()"
   ]
  },
  {
   "cell_type": "markdown",
   "metadata": {},
   "source": [
    "### Linear regression"
   ]
  },
  {
   "cell_type": "code",
   "execution_count": null,
   "metadata": {},
   "outputs": [
    {
     "name": "stdout",
     "output_type": "stream",
     "text": [
      "Linear Regression Results for RY.TO:\n",
      "                            OLS Regression Results                            \n",
      "==============================================================================\n",
      "Dep. Variable:             Cash_Ratio   R-squared:                       0.777\n",
      "Model:                            OLS   Adj. R-squared:                  0.764\n",
      "Method:                 Least Squares   F-statistic:                     60.35\n",
      "Date:                Thu, 08 Aug 2024   Prob (F-statistic):           1.17e-31\n",
      "Time:                        14:22:04   Log-Likelihood:                 21.479\n",
      "No. Observations:                 111   AIC:                            -28.96\n",
      "Df Residuals:                     104   BIC:                            -9.992\n",
      "Df Model:                           6                                         \n",
      "Covariance Type:            nonrobust                                         \n",
      "==============================================================================\n",
      "                 coef    std err          t      P>|t|      [0.025      0.975]\n",
      "------------------------------------------------------------------------------\n",
      "Intercept      2.1245      0.128     16.558      0.000       1.870       2.379\n",
      "Sea_Lvl_M     -0.1017      0.129     -0.785      0.434      -0.358       0.155\n",
      "CDD_M          0.0251      0.038      0.664      0.508      -0.050       0.100\n",
      "Rx5Day_M       0.2037      0.107      1.901      0.060      -0.009       0.416\n",
      "T10_M          0.8944      0.185      4.847      0.000       0.528       1.260\n",
      "T90_M         -0.5872      0.137     -4.297      0.000      -0.858      -0.316\n",
      "WP90_M        -1.5593      0.344     -4.531      0.000      -2.242      -0.877\n",
      "==============================================================================\n",
      "Omnibus:                       21.304   Durbin-Watson:                   1.511\n",
      "Prob(Omnibus):                  0.000   Jarque-Bera (JB):               89.913\n",
      "Skew:                           0.425   Prob(JB):                     2.99e-20\n",
      "Kurtosis:                       7.326   Cond. No.                         33.5\n",
      "==============================================================================\n",
      "\n",
      "Notes:\n",
      "[1] Standard Errors assume that the covariance matrix of the errors is correctly specified.\n",
      "MSE: 0.03976009729809122\n",
      "R-squared: 0.7768653553280571\n",
      "\n",
      "\n",
      "Linear Regression Results for TD.TO:\n",
      "                            OLS Regression Results                            \n",
      "==============================================================================\n",
      "Dep. Variable:             Cash_Ratio   R-squared:                       0.526\n",
      "Model:                            OLS   Adj. R-squared:                  0.498\n",
      "Method:                 Least Squares   F-statistic:                     19.21\n",
      "Date:                Thu, 08 Aug 2024   Prob (F-statistic):           5.89e-15\n",
      "Time:                        14:22:04   Log-Likelihood:                 57.763\n",
      "No. Observations:                 111   AIC:                            -101.5\n",
      "Df Residuals:                     104   BIC:                            -82.56\n",
      "Df Model:                           6                                         \n",
      "Covariance Type:            nonrobust                                         \n",
      "==============================================================================\n",
      "                 coef    std err          t      P>|t|      [0.025      0.975]\n",
      "------------------------------------------------------------------------------\n",
      "Intercept     -0.1554      0.093     -1.679      0.096      -0.339       0.028\n",
      "Sea_Lvl_M     -0.2191      0.093     -2.346      0.021      -0.404      -0.034\n",
      "CDD_M          0.0192      0.027      0.702      0.485      -0.035       0.073\n",
      "Rx5Day_M       0.4435      0.077      5.739      0.000       0.290       0.597\n",
      "T10_M         -0.4662      0.133     -3.503      0.001      -0.730      -0.202\n",
      "T90_M         -0.4877      0.099     -4.949      0.000      -0.683      -0.292\n",
      "WP90_M         0.2939      0.248      1.184      0.239      -0.198       0.786\n",
      "==============================================================================\n",
      "Omnibus:                        6.644   Durbin-Watson:                   0.951\n",
      "Prob(Omnibus):                  0.036   Jarque-Bera (JB):                6.243\n",
      "Skew:                           0.480   Prob(JB):                       0.0441\n",
      "Kurtosis:                       3.655   Cond. No.                         33.5\n",
      "==============================================================================\n",
      "\n",
      "Notes:\n",
      "[1] Standard Errors assume that the covariance matrix of the errors is correctly specified.\n",
      "MSE: 0.020678504191199175\n",
      "R-squared: 0.5256247326893608\n",
      "\n",
      "\n",
      "Linear Regression Results for BNS.TO:\n",
      "                            OLS Regression Results                            \n",
      "==============================================================================\n",
      "Dep. Variable:             Cash_Ratio   R-squared:                       0.352\n",
      "Model:                            OLS   Adj. R-squared:                  0.315\n",
      "Method:                 Least Squares   F-statistic:                     9.416\n",
      "Date:                Thu, 08 Aug 2024   Prob (F-statistic):           3.02e-08\n",
      "Time:                        14:22:04   Log-Likelihood:                -85.064\n",
      "No. Observations:                 111   AIC:                             184.1\n",
      "Df Residuals:                     104   BIC:                             203.1\n",
      "Df Model:                           6                                         \n",
      "Covariance Type:            nonrobust                                         \n",
      "==============================================================================\n",
      "                 coef    std err          t      P>|t|      [0.025      0.975]\n",
      "------------------------------------------------------------------------------\n",
      "Intercept      0.1981      0.335      0.591      0.556      -0.466       0.862\n",
      "Sea_Lvl_M      0.1047      0.338      0.310      0.757      -0.566       0.775\n",
      "CDD_M         -0.1959      0.099     -1.981      0.050      -0.392       0.000\n",
      "Rx5Day_M       0.5920      0.280      2.116      0.037       0.037       1.147\n",
      "T10_M         -0.8450      0.482     -1.754      0.082      -1.801       0.111\n",
      "T90_M         -2.2295      0.357     -6.248      0.000      -2.937      -1.522\n",
      "WP90_M         1.6240      0.899      1.807      0.074      -0.158       3.406\n",
      "==============================================================================\n",
      "Omnibus:                       89.779   Durbin-Watson:                   1.276\n",
      "Prob(Omnibus):                  0.000   Jarque-Bera (JB):              817.612\n",
      "Skew:                           2.640   Prob(JB):                    2.87e-178\n",
      "Kurtosis:                      15.203   Cond. No.                         33.5\n",
      "==============================================================================\n",
      "\n",
      "Notes:\n",
      "[1] Standard Errors assume that the covariance matrix of the errors is correctly specified.\n",
      "MSE: 0.2711227708244499\n",
      "R-squared: 0.35200794668686786\n",
      "\n",
      "\n"
     ]
    }
   ],
   "source": [
    "def perform_linear_regression(df):\n",
    "    # Rename the 'Cash ratio' column to 'Cash_Ratio'\n",
    "    df = df.rename(columns={'Cash ratio': 'Cash_Ratio'})\n",
    "    \n",
    "    # Create a formula for OLS\n",
    "    formula = 'Cash_Ratio ~ ' + ' + '.join(features)\n",
    "    \n",
    "    # Fit the model using OLS\n",
    "    model = ols(formula, data=df).fit()\n",
    "    \n",
    "    # Predict and evaluate the model\n",
    "    y_pred = model.fittedvalues\n",
    "    y_test = df['Cash_Ratio']\n",
    "    \n",
    "    # Calculate metrics\n",
    "    mse = mean_squared_error(y_test, y_pred)\n",
    "    r2 = r2_score(y_test, y_pred)\n",
    "    \n",
    "    return model.summary(), mse, r2\n",
    "\n",
    "# Perform linear regression for each bank\n",
    "linear_results = {}\n",
    "for symbol, regression_df in regression_dataframes.items():\n",
    "    summary, mse, r2 = perform_linear_regression(regression_df)\n",
    "    linear_results[symbol] = {\n",
    "        'Summary': summary,\n",
    "        'MSE': mse,\n",
    "        'R2': r2\n",
    "    }\n",
    "\n",
    "# Display the results\n",
    "for symbol, result in linear_results.items():\n",
    "    print(f\"Linear Regression Results for {symbol}:\")\n",
    "    print(result['Summary'])\n",
    "    print(f\"MSE: {result['MSE']}\")\n",
    "    print(f\"R-squared: {result['R2']}\")\n",
    "    print(\"\\n\")"
   ]
  },
  {
   "cell_type": "markdown",
   "metadata": {},
   "source": [
    "### Log-linear regression"
   ]
  },
  {
   "cell_type": "code",
   "execution_count": null,
   "metadata": {},
   "outputs": [
    {
     "data": {
      "application/vnd.plotly.v1+json": {
       "config": {
        "plotlyServerURL": "https://plot.ly"
       },
       "data": [
        {
         "marker": {
          "size": 6
         },
         "mode": "markers",
         "name": "RY.TO Data",
         "type": "scatter",
         "x": [
          "1996-Q1",
          "1996-Q2",
          "1996-Q3",
          "1996-Q4",
          "1997-Q1",
          "1997-Q2",
          "1997-Q3",
          "1997-Q4",
          "1998-Q1",
          "1998-Q2",
          "1998-Q3",
          "1998-Q4",
          "1999-Q1",
          "1999-Q2",
          "1999-Q3",
          "1999-Q4",
          "2000-Q1",
          "2000-Q2",
          "2000-Q3",
          "2000-Q4",
          "2001-Q1",
          "2001-Q2",
          "2001-Q3",
          "2001-Q4",
          "2002-Q1",
          "2002-Q2",
          "2002-Q3",
          "2002-Q4",
          "2003-Q1",
          "2003-Q2",
          "2003-Q3",
          "2003-Q4",
          "2004-Q1",
          "2004-Q2",
          "2004-Q3",
          "2004-Q4",
          "2005-Q1",
          "2005-Q2",
          "2005-Q3",
          "2005-Q4",
          "2006-Q1",
          "2006-Q2",
          "2006-Q3",
          "2006-Q4",
          "2007-Q1",
          "2007-Q2",
          "2007-Q3",
          "2007-Q4",
          "2008-Q1",
          "2008-Q2",
          "2008-Q3",
          "2008-Q4",
          "2009-Q1",
          "2009-Q2",
          "2009-Q3",
          "2009-Q4",
          "2010-Q1",
          "2010-Q2",
          "2010-Q3",
          "2010-Q4",
          "2011-Q1",
          "2011-Q2",
          "2011-Q3",
          "2011-Q4",
          "2012-Q1",
          "2012-Q2",
          "2012-Q3",
          "2012-Q4",
          "2013-Q1",
          "2013-Q2",
          "2013-Q3",
          "2013-Q4",
          "2014-Q1",
          "2014-Q2",
          "2014-Q3",
          "2014-Q4",
          "2015-Q1",
          "2015-Q2",
          "2015-Q3",
          "2015-Q4",
          "2016-Q1",
          "2016-Q2",
          "2016-Q3",
          "2016-Q4",
          "2017-Q1",
          "2017-Q2",
          "2017-Q3",
          "2017-Q4",
          "2018-Q1",
          "2018-Q2",
          "2018-Q3",
          "2018-Q4",
          "2019-Q1",
          "2019-Q2",
          "2019-Q3",
          "2019-Q4",
          "2020-Q1",
          "2020-Q2",
          "2020-Q3",
          "2020-Q4",
          "2021-Q1",
          "2021-Q2",
          "2021-Q3",
          "2021-Q4",
          "2022-Q1",
          "2022-Q2",
          "2022-Q3",
          "2022-Q4",
          "2023-Q1",
          "2023-Q2",
          "2023-Q3"
         ],
         "y": [
          1.368,
          1.317,
          1.102,
          1.5525000000000002,
          2.003,
          2.536,
          2.048,
          0.7667,
          1.957,
          1.311,
          0.6147,
          0.5163,
          0.828,
          0.8309,
          1.018,
          0.819,
          0.9877,
          0.8544,
          1.035,
          0.8743,
          0.602,
          0.5915,
          0.6109,
          0.47,
          0.4549,
          0.891,
          0.5376,
          0.5302,
          0.4755,
          0.4951,
          0.4589,
          0.3768,
          0.4308,
          0.2684,
          0.3556,
          0.3769,
          0.2256,
          0.216,
          0.5602,
          0.1836,
          0.241,
          0.2192,
          0.1941,
          0.1661,
          0.1316,
          0.1427,
          0.1676,
          0.1679,
          0.2104,
          0.1279,
          0.3006,
          0.3859,
          0.3904,
          0.3204,
          0.5461,
          0.4915,
          0.1838,
          0.2001,
          0.2237,
          0.5265,
          0.1774,
          0.2091,
          0.2588,
          0.442,
          0.2545,
          0.176,
          0.1956,
          0.282,
          0.3457,
          0.2968,
          0.3274,
          0.3263,
          0.3287,
          0.3306,
          0.3314,
          0.1921,
          0.2939,
          0.2807,
          0.3689,
          0.1924,
          0.4198,
          0.4564,
          0.3509,
          0.2315,
          0.3867,
          0.4407,
          0.4952,
          0.2576,
          0.3914,
          0.4081,
          0.4556,
          0.2118,
          0.2493,
          0.1893,
          0.1856,
          0.1871,
          0.1846,
          0.3728,
          0.4283,
          0.4204,
          0.4942,
          0.506,
          0.5327,
          0.5005,
          0.5201,
          0.4788,
          0.4677,
          0.4034,
          0.4343,
          0.4485,
          0.3729
         ]
        },
        {
         "line": {
          "color": "red",
          "width": 2
         },
         "mode": "lines",
         "name": "Logarithmic Fit",
         "type": "scatter",
         "x": [
          "1996-Q1",
          "1996-Q2",
          "1996-Q3",
          "1996-Q4",
          "1997-Q1",
          "1997-Q2",
          "1997-Q3",
          "1997-Q4",
          "1998-Q1",
          "1998-Q2",
          "1998-Q3",
          "1998-Q4",
          "1999-Q1",
          "1999-Q2",
          "1999-Q3",
          "1999-Q4",
          "2000-Q1",
          "2000-Q2",
          "2000-Q3",
          "2000-Q4",
          "2001-Q1",
          "2001-Q2",
          "2001-Q3",
          "2001-Q4",
          "2002-Q1",
          "2002-Q2",
          "2002-Q3",
          "2002-Q4",
          "2003-Q1",
          "2003-Q2",
          "2003-Q3",
          "2003-Q4",
          "2004-Q1",
          "2004-Q2",
          "2004-Q3",
          "2004-Q4",
          "2005-Q1",
          "2005-Q2",
          "2005-Q3",
          "2005-Q4",
          "2006-Q1",
          "2006-Q2",
          "2006-Q3",
          "2006-Q4",
          "2007-Q1",
          "2007-Q2",
          "2007-Q3",
          "2007-Q4",
          "2008-Q1",
          "2008-Q2",
          "2008-Q3",
          "2008-Q4",
          "2009-Q1",
          "2009-Q2",
          "2009-Q3",
          "2009-Q4",
          "2010-Q1",
          "2010-Q2",
          "2010-Q3",
          "2010-Q4",
          "2011-Q1",
          "2011-Q2",
          "2011-Q3",
          "2011-Q4",
          "2012-Q1",
          "2012-Q2",
          "2012-Q3",
          "2012-Q4",
          "2013-Q1",
          "2013-Q2",
          "2013-Q3",
          "2013-Q4",
          "2014-Q1",
          "2014-Q2",
          "2014-Q3",
          "2014-Q4",
          "2015-Q1",
          "2015-Q2",
          "2015-Q3",
          "2015-Q4",
          "2016-Q1",
          "2016-Q2",
          "2016-Q3",
          "2016-Q4",
          "2017-Q1",
          "2017-Q2",
          "2017-Q3",
          "2017-Q4",
          "2018-Q1",
          "2018-Q2",
          "2018-Q3",
          "2018-Q4",
          "2019-Q1",
          "2019-Q2",
          "2019-Q3",
          "2019-Q4",
          "2020-Q1",
          "2020-Q2",
          "2020-Q3",
          "2020-Q4",
          "2021-Q1",
          "2021-Q2",
          "2021-Q3",
          "2021-Q4",
          "2022-Q1",
          "2022-Q2",
          "2022-Q3",
          "2022-Q4",
          "2023-Q1",
          "2023-Q2",
          "2023-Q3"
         ],
         "y": [
          1.7847265728313313,
          1.547866305569618,
          1.4093119313107247,
          1.3110060383079047,
          1.23475406371383,
          1.1724516640490115,
          1.1197757356942808,
          1.0741457710461915,
          1.0338972897901182,
          0.9978937964521165,
          0.9653246750672796,
          0.9355913967872982,
          0.9082394322065732,
          0.8829154684325676,
          0.8593394221932233,
          0.8372855037844782,
          0.8165690318304539,
          0.797037022528405,
          0.7785613266886986,
          0.7610335291904033,
          0.7443610941736745,
          0.7284644078055662,
          0.7132744789447487,
          0.6987311295255849,
          0.6847815545963285,
          0.6713791649448599,
          0.6584826482695119,
          0.6460552011708542,
          0.6340638959730907,
          0.6224791549315101,
          0.611274310686102,
          0.6004252365227649,
          0.5899100335466732,
          0.5797087645687407,
          0.5698032265767796,
          0.5601767552666916,
          0.5508140563610264,
          0.5417010594269851,
          0.5328247906859667,
          0.5241732619286901,
          0.5157353731489642,
          0.507500826911961,
          0.49946005279977723,
          0.49160414054385315,
          0.4839247806726168,
          0.47641421168303544,
          0.46906517289403293,
          0.46187086226387164,
          0.4548248985572305,
          0.4479212873346152,
          0.4411543903098474,
          0.43451889768314644,
          0.4280098031096575,
          0.42162238100779836,
          0.4153521659497781,
          0.40919493390914097,
          0.4031466851680918,
          0.3972036287113774,
          0.3913621679542254,
          0.3856188876697968,
          0.3799705419971642,
          0.3744140434243888,
          0.3689464526530679,
          0.36356496926105164,
          0.3582669230890718,
          0.3530497662849599,
          0.3479110659461133,
          0.34284849730702716,
          0.33785983742414216,
          0.3329429593150661,
          0.3280958265135008,
          0.32331648800497836,
          0.3186030735118939,
          0.31395378909931293,
          0.30936691307572195,
          0.3048407921652718,
          0.3003738379302292,
          0.2959645234242534,
          0.2916113800588598,
          0.2873129946669768,
          0.2830680067489051,
          0.27887510588725073,
          0.27473302931853794,
          0.2706405596502479,
          0.2665965227129523,
          0.2625997855380642,
          0.2586492544524841,
          0.25474387328213965,
          0.2508826216570188,
          0.24706451341090352,
          0.24328859506952294,
          0.23955394442132194,
          0.2358596691654955,
          0.23220490563231966,
          0.22858881757119698,
          0.22501059500215836,
          0.22146945312687438,
          0.21796463129551702,
          0.2144953920260666,
          0.21106102007290173,
          0.20766082154173282,
          0.20429412304813432,
          0.20096027091712743,
          0.1976586304214334,
          0.19438858505617307,
          0.19114953584794447,
          0.18794090069633884,
          0.1847621137460851,
          0.18161262478813,
          0.1784918986880648,
          0.1753994148404201
         ]
        }
       ],
       "layout": {
        "template": {
         "data": {
          "bar": [
           {
            "error_x": {
             "color": "#2a3f5f"
            },
            "error_y": {
             "color": "#2a3f5f"
            },
            "marker": {
             "line": {
              "color": "#E5ECF6",
              "width": 0.5
             },
             "pattern": {
              "fillmode": "overlay",
              "size": 10,
              "solidity": 0.2
             }
            },
            "type": "bar"
           }
          ],
          "barpolar": [
           {
            "marker": {
             "line": {
              "color": "#E5ECF6",
              "width": 0.5
             },
             "pattern": {
              "fillmode": "overlay",
              "size": 10,
              "solidity": 0.2
             }
            },
            "type": "barpolar"
           }
          ],
          "carpet": [
           {
            "aaxis": {
             "endlinecolor": "#2a3f5f",
             "gridcolor": "white",
             "linecolor": "white",
             "minorgridcolor": "white",
             "startlinecolor": "#2a3f5f"
            },
            "baxis": {
             "endlinecolor": "#2a3f5f",
             "gridcolor": "white",
             "linecolor": "white",
             "minorgridcolor": "white",
             "startlinecolor": "#2a3f5f"
            },
            "type": "carpet"
           }
          ],
          "choropleth": [
           {
            "colorbar": {
             "outlinewidth": 0,
             "ticks": ""
            },
            "type": "choropleth"
           }
          ],
          "contour": [
           {
            "colorbar": {
             "outlinewidth": 0,
             "ticks": ""
            },
            "colorscale": [
             [
              0,
              "#0d0887"
             ],
             [
              0.1111111111111111,
              "#46039f"
             ],
             [
              0.2222222222222222,
              "#7201a8"
             ],
             [
              0.3333333333333333,
              "#9c179e"
             ],
             [
              0.4444444444444444,
              "#bd3786"
             ],
             [
              0.5555555555555556,
              "#d8576b"
             ],
             [
              0.6666666666666666,
              "#ed7953"
             ],
             [
              0.7777777777777778,
              "#fb9f3a"
             ],
             [
              0.8888888888888888,
              "#fdca26"
             ],
             [
              1,
              "#f0f921"
             ]
            ],
            "type": "contour"
           }
          ],
          "contourcarpet": [
           {
            "colorbar": {
             "outlinewidth": 0,
             "ticks": ""
            },
            "type": "contourcarpet"
           }
          ],
          "heatmap": [
           {
            "colorbar": {
             "outlinewidth": 0,
             "ticks": ""
            },
            "colorscale": [
             [
              0,
              "#0d0887"
             ],
             [
              0.1111111111111111,
              "#46039f"
             ],
             [
              0.2222222222222222,
              "#7201a8"
             ],
             [
              0.3333333333333333,
              "#9c179e"
             ],
             [
              0.4444444444444444,
              "#bd3786"
             ],
             [
              0.5555555555555556,
              "#d8576b"
             ],
             [
              0.6666666666666666,
              "#ed7953"
             ],
             [
              0.7777777777777778,
              "#fb9f3a"
             ],
             [
              0.8888888888888888,
              "#fdca26"
             ],
             [
              1,
              "#f0f921"
             ]
            ],
            "type": "heatmap"
           }
          ],
          "heatmapgl": [
           {
            "colorbar": {
             "outlinewidth": 0,
             "ticks": ""
            },
            "colorscale": [
             [
              0,
              "#0d0887"
             ],
             [
              0.1111111111111111,
              "#46039f"
             ],
             [
              0.2222222222222222,
              "#7201a8"
             ],
             [
              0.3333333333333333,
              "#9c179e"
             ],
             [
              0.4444444444444444,
              "#bd3786"
             ],
             [
              0.5555555555555556,
              "#d8576b"
             ],
             [
              0.6666666666666666,
              "#ed7953"
             ],
             [
              0.7777777777777778,
              "#fb9f3a"
             ],
             [
              0.8888888888888888,
              "#fdca26"
             ],
             [
              1,
              "#f0f921"
             ]
            ],
            "type": "heatmapgl"
           }
          ],
          "histogram": [
           {
            "marker": {
             "pattern": {
              "fillmode": "overlay",
              "size": 10,
              "solidity": 0.2
             }
            },
            "type": "histogram"
           }
          ],
          "histogram2d": [
           {
            "colorbar": {
             "outlinewidth": 0,
             "ticks": ""
            },
            "colorscale": [
             [
              0,
              "#0d0887"
             ],
             [
              0.1111111111111111,
              "#46039f"
             ],
             [
              0.2222222222222222,
              "#7201a8"
             ],
             [
              0.3333333333333333,
              "#9c179e"
             ],
             [
              0.4444444444444444,
              "#bd3786"
             ],
             [
              0.5555555555555556,
              "#d8576b"
             ],
             [
              0.6666666666666666,
              "#ed7953"
             ],
             [
              0.7777777777777778,
              "#fb9f3a"
             ],
             [
              0.8888888888888888,
              "#fdca26"
             ],
             [
              1,
              "#f0f921"
             ]
            ],
            "type": "histogram2d"
           }
          ],
          "histogram2dcontour": [
           {
            "colorbar": {
             "outlinewidth": 0,
             "ticks": ""
            },
            "colorscale": [
             [
              0,
              "#0d0887"
             ],
             [
              0.1111111111111111,
              "#46039f"
             ],
             [
              0.2222222222222222,
              "#7201a8"
             ],
             [
              0.3333333333333333,
              "#9c179e"
             ],
             [
              0.4444444444444444,
              "#bd3786"
             ],
             [
              0.5555555555555556,
              "#d8576b"
             ],
             [
              0.6666666666666666,
              "#ed7953"
             ],
             [
              0.7777777777777778,
              "#fb9f3a"
             ],
             [
              0.8888888888888888,
              "#fdca26"
             ],
             [
              1,
              "#f0f921"
             ]
            ],
            "type": "histogram2dcontour"
           }
          ],
          "mesh3d": [
           {
            "colorbar": {
             "outlinewidth": 0,
             "ticks": ""
            },
            "type": "mesh3d"
           }
          ],
          "parcoords": [
           {
            "line": {
             "colorbar": {
              "outlinewidth": 0,
              "ticks": ""
             }
            },
            "type": "parcoords"
           }
          ],
          "pie": [
           {
            "automargin": true,
            "type": "pie"
           }
          ],
          "scatter": [
           {
            "fillpattern": {
             "fillmode": "overlay",
             "size": 10,
             "solidity": 0.2
            },
            "type": "scatter"
           }
          ],
          "scatter3d": [
           {
            "line": {
             "colorbar": {
              "outlinewidth": 0,
              "ticks": ""
             }
            },
            "marker": {
             "colorbar": {
              "outlinewidth": 0,
              "ticks": ""
             }
            },
            "type": "scatter3d"
           }
          ],
          "scattercarpet": [
           {
            "marker": {
             "colorbar": {
              "outlinewidth": 0,
              "ticks": ""
             }
            },
            "type": "scattercarpet"
           }
          ],
          "scattergeo": [
           {
            "marker": {
             "colorbar": {
              "outlinewidth": 0,
              "ticks": ""
             }
            },
            "type": "scattergeo"
           }
          ],
          "scattergl": [
           {
            "marker": {
             "colorbar": {
              "outlinewidth": 0,
              "ticks": ""
             }
            },
            "type": "scattergl"
           }
          ],
          "scattermapbox": [
           {
            "marker": {
             "colorbar": {
              "outlinewidth": 0,
              "ticks": ""
             }
            },
            "type": "scattermapbox"
           }
          ],
          "scatterpolar": [
           {
            "marker": {
             "colorbar": {
              "outlinewidth": 0,
              "ticks": ""
             }
            },
            "type": "scatterpolar"
           }
          ],
          "scatterpolargl": [
           {
            "marker": {
             "colorbar": {
              "outlinewidth": 0,
              "ticks": ""
             }
            },
            "type": "scatterpolargl"
           }
          ],
          "scatterternary": [
           {
            "marker": {
             "colorbar": {
              "outlinewidth": 0,
              "ticks": ""
             }
            },
            "type": "scatterternary"
           }
          ],
          "surface": [
           {
            "colorbar": {
             "outlinewidth": 0,
             "ticks": ""
            },
            "colorscale": [
             [
              0,
              "#0d0887"
             ],
             [
              0.1111111111111111,
              "#46039f"
             ],
             [
              0.2222222222222222,
              "#7201a8"
             ],
             [
              0.3333333333333333,
              "#9c179e"
             ],
             [
              0.4444444444444444,
              "#bd3786"
             ],
             [
              0.5555555555555556,
              "#d8576b"
             ],
             [
              0.6666666666666666,
              "#ed7953"
             ],
             [
              0.7777777777777778,
              "#fb9f3a"
             ],
             [
              0.8888888888888888,
              "#fdca26"
             ],
             [
              1,
              "#f0f921"
             ]
            ],
            "type": "surface"
           }
          ],
          "table": [
           {
            "cells": {
             "fill": {
              "color": "#EBF0F8"
             },
             "line": {
              "color": "white"
             }
            },
            "header": {
             "fill": {
              "color": "#C8D4E3"
             },
             "line": {
              "color": "white"
             }
            },
            "type": "table"
           }
          ]
         },
         "layout": {
          "annotationdefaults": {
           "arrowcolor": "#2a3f5f",
           "arrowhead": 0,
           "arrowwidth": 1
          },
          "autotypenumbers": "strict",
          "coloraxis": {
           "colorbar": {
            "outlinewidth": 0,
            "ticks": ""
           }
          },
          "colorscale": {
           "diverging": [
            [
             0,
             "#8e0152"
            ],
            [
             0.1,
             "#c51b7d"
            ],
            [
             0.2,
             "#de77ae"
            ],
            [
             0.3,
             "#f1b6da"
            ],
            [
             0.4,
             "#fde0ef"
            ],
            [
             0.5,
             "#f7f7f7"
            ],
            [
             0.6,
             "#e6f5d0"
            ],
            [
             0.7,
             "#b8e186"
            ],
            [
             0.8,
             "#7fbc41"
            ],
            [
             0.9,
             "#4d9221"
            ],
            [
             1,
             "#276419"
            ]
           ],
           "sequential": [
            [
             0,
             "#0d0887"
            ],
            [
             0.1111111111111111,
             "#46039f"
            ],
            [
             0.2222222222222222,
             "#7201a8"
            ],
            [
             0.3333333333333333,
             "#9c179e"
            ],
            [
             0.4444444444444444,
             "#bd3786"
            ],
            [
             0.5555555555555556,
             "#d8576b"
            ],
            [
             0.6666666666666666,
             "#ed7953"
            ],
            [
             0.7777777777777778,
             "#fb9f3a"
            ],
            [
             0.8888888888888888,
             "#fdca26"
            ],
            [
             1,
             "#f0f921"
            ]
           ],
           "sequentialminus": [
            [
             0,
             "#0d0887"
            ],
            [
             0.1111111111111111,
             "#46039f"
            ],
            [
             0.2222222222222222,
             "#7201a8"
            ],
            [
             0.3333333333333333,
             "#9c179e"
            ],
            [
             0.4444444444444444,
             "#bd3786"
            ],
            [
             0.5555555555555556,
             "#d8576b"
            ],
            [
             0.6666666666666666,
             "#ed7953"
            ],
            [
             0.7777777777777778,
             "#fb9f3a"
            ],
            [
             0.8888888888888888,
             "#fdca26"
            ],
            [
             1,
             "#f0f921"
            ]
           ]
          },
          "colorway": [
           "#636efa",
           "#EF553B",
           "#00cc96",
           "#ab63fa",
           "#FFA15A",
           "#19d3f3",
           "#FF6692",
           "#B6E880",
           "#FF97FF",
           "#FECB52"
          ],
          "font": {
           "color": "#2a3f5f"
          },
          "geo": {
           "bgcolor": "white",
           "lakecolor": "white",
           "landcolor": "#E5ECF6",
           "showlakes": true,
           "showland": true,
           "subunitcolor": "white"
          },
          "hoverlabel": {
           "align": "left"
          },
          "hovermode": "closest",
          "mapbox": {
           "style": "light"
          },
          "paper_bgcolor": "white",
          "plot_bgcolor": "#E5ECF6",
          "polar": {
           "angularaxis": {
            "gridcolor": "white",
            "linecolor": "white",
            "ticks": ""
           },
           "bgcolor": "#E5ECF6",
           "radialaxis": {
            "gridcolor": "white",
            "linecolor": "white",
            "ticks": ""
           }
          },
          "scene": {
           "xaxis": {
            "backgroundcolor": "#E5ECF6",
            "gridcolor": "white",
            "gridwidth": 2,
            "linecolor": "white",
            "showbackground": true,
            "ticks": "",
            "zerolinecolor": "white"
           },
           "yaxis": {
            "backgroundcolor": "#E5ECF6",
            "gridcolor": "white",
            "gridwidth": 2,
            "linecolor": "white",
            "showbackground": true,
            "ticks": "",
            "zerolinecolor": "white"
           },
           "zaxis": {
            "backgroundcolor": "#E5ECF6",
            "gridcolor": "white",
            "gridwidth": 2,
            "linecolor": "white",
            "showbackground": true,
            "ticks": "",
            "zerolinecolor": "white"
           }
          },
          "shapedefaults": {
           "line": {
            "color": "#2a3f5f"
           }
          },
          "ternary": {
           "aaxis": {
            "gridcolor": "white",
            "linecolor": "white",
            "ticks": ""
           },
           "baxis": {
            "gridcolor": "white",
            "linecolor": "white",
            "ticks": ""
           },
           "bgcolor": "#E5ECF6",
           "caxis": {
            "gridcolor": "white",
            "linecolor": "white",
            "ticks": ""
           }
          },
          "title": {
           "x": 0.05
          },
          "xaxis": {
           "automargin": true,
           "gridcolor": "white",
           "linecolor": "white",
           "ticks": "",
           "title": {
            "standoff": 15
           },
           "zerolinecolor": "white",
           "zerolinewidth": 2
          },
          "yaxis": {
           "automargin": true,
           "gridcolor": "white",
           "linecolor": "white",
           "ticks": "",
           "title": {
            "standoff": 15
           },
           "zerolinecolor": "white",
           "zerolinewidth": 2
          }
         }
        },
        "xaxis": {
         "title": {
          "text": "Quarters"
         }
        },
        "yaxis": {
         "title": {
          "text": "Cash Ratio"
         }
        }
       }
      },
      "text/html": [
       "<div>                            <div id=\"529efc30-02ba-46b1-9e12-eb539e6ac113\" class=\"plotly-graph-div\" style=\"height:525px; width:100%;\"></div>            <script type=\"text/javascript\">                require([\"plotly\"], function(Plotly) {                    window.PLOTLYENV=window.PLOTLYENV || {};                                    if (document.getElementById(\"529efc30-02ba-46b1-9e12-eb539e6ac113\")) {                    Plotly.newPlot(                        \"529efc30-02ba-46b1-9e12-eb539e6ac113\",                        [{\"marker\":{\"size\":6},\"mode\":\"markers\",\"name\":\"RY.TO Data\",\"x\":[\"1996-Q1\",\"1996-Q2\",\"1996-Q3\",\"1996-Q4\",\"1997-Q1\",\"1997-Q2\",\"1997-Q3\",\"1997-Q4\",\"1998-Q1\",\"1998-Q2\",\"1998-Q3\",\"1998-Q4\",\"1999-Q1\",\"1999-Q2\",\"1999-Q3\",\"1999-Q4\",\"2000-Q1\",\"2000-Q2\",\"2000-Q3\",\"2000-Q4\",\"2001-Q1\",\"2001-Q2\",\"2001-Q3\",\"2001-Q4\",\"2002-Q1\",\"2002-Q2\",\"2002-Q3\",\"2002-Q4\",\"2003-Q1\",\"2003-Q2\",\"2003-Q3\",\"2003-Q4\",\"2004-Q1\",\"2004-Q2\",\"2004-Q3\",\"2004-Q4\",\"2005-Q1\",\"2005-Q2\",\"2005-Q3\",\"2005-Q4\",\"2006-Q1\",\"2006-Q2\",\"2006-Q3\",\"2006-Q4\",\"2007-Q1\",\"2007-Q2\",\"2007-Q3\",\"2007-Q4\",\"2008-Q1\",\"2008-Q2\",\"2008-Q3\",\"2008-Q4\",\"2009-Q1\",\"2009-Q2\",\"2009-Q3\",\"2009-Q4\",\"2010-Q1\",\"2010-Q2\",\"2010-Q3\",\"2010-Q4\",\"2011-Q1\",\"2011-Q2\",\"2011-Q3\",\"2011-Q4\",\"2012-Q1\",\"2012-Q2\",\"2012-Q3\",\"2012-Q4\",\"2013-Q1\",\"2013-Q2\",\"2013-Q3\",\"2013-Q4\",\"2014-Q1\",\"2014-Q2\",\"2014-Q3\",\"2014-Q4\",\"2015-Q1\",\"2015-Q2\",\"2015-Q3\",\"2015-Q4\",\"2016-Q1\",\"2016-Q2\",\"2016-Q3\",\"2016-Q4\",\"2017-Q1\",\"2017-Q2\",\"2017-Q3\",\"2017-Q4\",\"2018-Q1\",\"2018-Q2\",\"2018-Q3\",\"2018-Q4\",\"2019-Q1\",\"2019-Q2\",\"2019-Q3\",\"2019-Q4\",\"2020-Q1\",\"2020-Q2\",\"2020-Q3\",\"2020-Q4\",\"2021-Q1\",\"2021-Q2\",\"2021-Q3\",\"2021-Q4\",\"2022-Q1\",\"2022-Q2\",\"2022-Q3\",\"2022-Q4\",\"2023-Q1\",\"2023-Q2\",\"2023-Q3\"],\"y\":[1.368,1.317,1.102,1.5525000000000002,2.003,2.536,2.048,0.7667,1.957,1.311,0.6147,0.5163,0.828,0.8309,1.018,0.819,0.9877,0.8544,1.035,0.8743,0.602,0.5915,0.6109,0.47,0.4549,0.891,0.5376,0.5302,0.4755,0.4951,0.4589,0.3768,0.4308,0.2684,0.3556,0.3769,0.2256,0.216,0.5602,0.1836,0.241,0.2192,0.1941,0.1661,0.1316,0.1427,0.1676,0.1679,0.2104,0.1279,0.3006,0.3859,0.3904,0.3204,0.5461,0.4915,0.1838,0.2001,0.2237,0.5265,0.1774,0.2091,0.2588,0.442,0.2545,0.176,0.1956,0.282,0.3457,0.2968,0.3274,0.3263,0.3287,0.3306,0.3314,0.1921,0.2939,0.2807,0.3689,0.1924,0.4198,0.4564,0.3509,0.2315,0.3867,0.4407,0.4952,0.2576,0.3914,0.4081,0.4556,0.2118,0.2493,0.1893,0.1856,0.1871,0.1846,0.3728,0.4283,0.4204,0.4942,0.506,0.5327,0.5005,0.5201,0.4788,0.4677,0.4034,0.4343,0.4485,0.3729],\"type\":\"scatter\"},{\"line\":{\"color\":\"red\",\"width\":2},\"mode\":\"lines\",\"name\":\"Logarithmic Fit\",\"x\":[\"1996-Q1\",\"1996-Q2\",\"1996-Q3\",\"1996-Q4\",\"1997-Q1\",\"1997-Q2\",\"1997-Q3\",\"1997-Q4\",\"1998-Q1\",\"1998-Q2\",\"1998-Q3\",\"1998-Q4\",\"1999-Q1\",\"1999-Q2\",\"1999-Q3\",\"1999-Q4\",\"2000-Q1\",\"2000-Q2\",\"2000-Q3\",\"2000-Q4\",\"2001-Q1\",\"2001-Q2\",\"2001-Q3\",\"2001-Q4\",\"2002-Q1\",\"2002-Q2\",\"2002-Q3\",\"2002-Q4\",\"2003-Q1\",\"2003-Q2\",\"2003-Q3\",\"2003-Q4\",\"2004-Q1\",\"2004-Q2\",\"2004-Q3\",\"2004-Q4\",\"2005-Q1\",\"2005-Q2\",\"2005-Q3\",\"2005-Q4\",\"2006-Q1\",\"2006-Q2\",\"2006-Q3\",\"2006-Q4\",\"2007-Q1\",\"2007-Q2\",\"2007-Q3\",\"2007-Q4\",\"2008-Q1\",\"2008-Q2\",\"2008-Q3\",\"2008-Q4\",\"2009-Q1\",\"2009-Q2\",\"2009-Q3\",\"2009-Q4\",\"2010-Q1\",\"2010-Q2\",\"2010-Q3\",\"2010-Q4\",\"2011-Q1\",\"2011-Q2\",\"2011-Q3\",\"2011-Q4\",\"2012-Q1\",\"2012-Q2\",\"2012-Q3\",\"2012-Q4\",\"2013-Q1\",\"2013-Q2\",\"2013-Q3\",\"2013-Q4\",\"2014-Q1\",\"2014-Q2\",\"2014-Q3\",\"2014-Q4\",\"2015-Q1\",\"2015-Q2\",\"2015-Q3\",\"2015-Q4\",\"2016-Q1\",\"2016-Q2\",\"2016-Q3\",\"2016-Q4\",\"2017-Q1\",\"2017-Q2\",\"2017-Q3\",\"2017-Q4\",\"2018-Q1\",\"2018-Q2\",\"2018-Q3\",\"2018-Q4\",\"2019-Q1\",\"2019-Q2\",\"2019-Q3\",\"2019-Q4\",\"2020-Q1\",\"2020-Q2\",\"2020-Q3\",\"2020-Q4\",\"2021-Q1\",\"2021-Q2\",\"2021-Q3\",\"2021-Q4\",\"2022-Q1\",\"2022-Q2\",\"2022-Q3\",\"2022-Q4\",\"2023-Q1\",\"2023-Q2\",\"2023-Q3\"],\"y\":[1.7847265728313313,1.547866305569618,1.4093119313107247,1.3110060383079047,1.23475406371383,1.1724516640490115,1.1197757356942808,1.0741457710461915,1.0338972897901182,0.9978937964521165,0.9653246750672796,0.9355913967872982,0.9082394322065732,0.8829154684325676,0.8593394221932233,0.8372855037844782,0.8165690318304539,0.797037022528405,0.7785613266886986,0.7610335291904033,0.7443610941736745,0.7284644078055662,0.7132744789447487,0.6987311295255849,0.6847815545963285,0.6713791649448599,0.6584826482695119,0.6460552011708542,0.6340638959730907,0.6224791549315101,0.611274310686102,0.6004252365227649,0.5899100335466732,0.5797087645687407,0.5698032265767796,0.5601767552666916,0.5508140563610264,0.5417010594269851,0.5328247906859667,0.5241732619286901,0.5157353731489642,0.507500826911961,0.49946005279977723,0.49160414054385315,0.4839247806726168,0.47641421168303544,0.46906517289403293,0.46187086226387164,0.4548248985572305,0.4479212873346152,0.4411543903098474,0.43451889768314644,0.4280098031096575,0.42162238100779836,0.4153521659497781,0.40919493390914097,0.4031466851680918,0.3972036287113774,0.3913621679542254,0.3856188876697968,0.3799705419971642,0.3744140434243888,0.3689464526530679,0.36356496926105164,0.3582669230890718,0.3530497662849599,0.3479110659461133,0.34284849730702716,0.33785983742414216,0.3329429593150661,0.3280958265135008,0.32331648800497836,0.3186030735118939,0.31395378909931293,0.30936691307572195,0.3048407921652718,0.3003738379302292,0.2959645234242534,0.2916113800588598,0.2873129946669768,0.2830680067489051,0.27887510588725073,0.27473302931853794,0.2706405596502479,0.2665965227129523,0.2625997855380642,0.2586492544524841,0.25474387328213965,0.2508826216570188,0.24706451341090352,0.24328859506952294,0.23955394442132194,0.2358596691654955,0.23220490563231966,0.22858881757119698,0.22501059500215836,0.22146945312687438,0.21796463129551702,0.2144953920260666,0.21106102007290173,0.20766082154173282,0.20429412304813432,0.20096027091712743,0.1976586304214334,0.19438858505617307,0.19114953584794447,0.18794090069633884,0.1847621137460851,0.18161262478813,0.1784918986880648,0.1753994148404201],\"type\":\"scatter\"}],                        {\"xaxis\":{\"title\":{\"text\":\"Quarters\"}},\"yaxis\":{\"title\":{\"text\":\"Cash Ratio\"}},\"template\":{\"data\":{\"histogram2dcontour\":[{\"type\":\"histogram2dcontour\",\"colorbar\":{\"outlinewidth\":0,\"ticks\":\"\"},\"colorscale\":[[0.0,\"#0d0887\"],[0.1111111111111111,\"#46039f\"],[0.2222222222222222,\"#7201a8\"],[0.3333333333333333,\"#9c179e\"],[0.4444444444444444,\"#bd3786\"],[0.5555555555555556,\"#d8576b\"],[0.6666666666666666,\"#ed7953\"],[0.7777777777777778,\"#fb9f3a\"],[0.8888888888888888,\"#fdca26\"],[1.0,\"#f0f921\"]]}],\"choropleth\":[{\"type\":\"choropleth\",\"colorbar\":{\"outlinewidth\":0,\"ticks\":\"\"}}],\"histogram2d\":[{\"type\":\"histogram2d\",\"colorbar\":{\"outlinewidth\":0,\"ticks\":\"\"},\"colorscale\":[[0.0,\"#0d0887\"],[0.1111111111111111,\"#46039f\"],[0.2222222222222222,\"#7201a8\"],[0.3333333333333333,\"#9c179e\"],[0.4444444444444444,\"#bd3786\"],[0.5555555555555556,\"#d8576b\"],[0.6666666666666666,\"#ed7953\"],[0.7777777777777778,\"#fb9f3a\"],[0.8888888888888888,\"#fdca26\"],[1.0,\"#f0f921\"]]}],\"heatmap\":[{\"type\":\"heatmap\",\"colorbar\":{\"outlinewidth\":0,\"ticks\":\"\"},\"colorscale\":[[0.0,\"#0d0887\"],[0.1111111111111111,\"#46039f\"],[0.2222222222222222,\"#7201a8\"],[0.3333333333333333,\"#9c179e\"],[0.4444444444444444,\"#bd3786\"],[0.5555555555555556,\"#d8576b\"],[0.6666666666666666,\"#ed7953\"],[0.7777777777777778,\"#fb9f3a\"],[0.8888888888888888,\"#fdca26\"],[1.0,\"#f0f921\"]]}],\"heatmapgl\":[{\"type\":\"heatmapgl\",\"colorbar\":{\"outlinewidth\":0,\"ticks\":\"\"},\"colorscale\":[[0.0,\"#0d0887\"],[0.1111111111111111,\"#46039f\"],[0.2222222222222222,\"#7201a8\"],[0.3333333333333333,\"#9c179e\"],[0.4444444444444444,\"#bd3786\"],[0.5555555555555556,\"#d8576b\"],[0.6666666666666666,\"#ed7953\"],[0.7777777777777778,\"#fb9f3a\"],[0.8888888888888888,\"#fdca26\"],[1.0,\"#f0f921\"]]}],\"contourcarpet\":[{\"type\":\"contourcarpet\",\"colorbar\":{\"outlinewidth\":0,\"ticks\":\"\"}}],\"contour\":[{\"type\":\"contour\",\"colorbar\":{\"outlinewidth\":0,\"ticks\":\"\"},\"colorscale\":[[0.0,\"#0d0887\"],[0.1111111111111111,\"#46039f\"],[0.2222222222222222,\"#7201a8\"],[0.3333333333333333,\"#9c179e\"],[0.4444444444444444,\"#bd3786\"],[0.5555555555555556,\"#d8576b\"],[0.6666666666666666,\"#ed7953\"],[0.7777777777777778,\"#fb9f3a\"],[0.8888888888888888,\"#fdca26\"],[1.0,\"#f0f921\"]]}],\"surface\":[{\"type\":\"surface\",\"colorbar\":{\"outlinewidth\":0,\"ticks\":\"\"},\"colorscale\":[[0.0,\"#0d0887\"],[0.1111111111111111,\"#46039f\"],[0.2222222222222222,\"#7201a8\"],[0.3333333333333333,\"#9c179e\"],[0.4444444444444444,\"#bd3786\"],[0.5555555555555556,\"#d8576b\"],[0.6666666666666666,\"#ed7953\"],[0.7777777777777778,\"#fb9f3a\"],[0.8888888888888888,\"#fdca26\"],[1.0,\"#f0f921\"]]}],\"mesh3d\":[{\"type\":\"mesh3d\",\"colorbar\":{\"outlinewidth\":0,\"ticks\":\"\"}}],\"scatter\":[{\"fillpattern\":{\"fillmode\":\"overlay\",\"size\":10,\"solidity\":0.2},\"type\":\"scatter\"}],\"parcoords\":[{\"type\":\"parcoords\",\"line\":{\"colorbar\":{\"outlinewidth\":0,\"ticks\":\"\"}}}],\"scatterpolargl\":[{\"type\":\"scatterpolargl\",\"marker\":{\"colorbar\":{\"outlinewidth\":0,\"ticks\":\"\"}}}],\"bar\":[{\"error_x\":{\"color\":\"#2a3f5f\"},\"error_y\":{\"color\":\"#2a3f5f\"},\"marker\":{\"line\":{\"color\":\"#E5ECF6\",\"width\":0.5},\"pattern\":{\"fillmode\":\"overlay\",\"size\":10,\"solidity\":0.2}},\"type\":\"bar\"}],\"scattergeo\":[{\"type\":\"scattergeo\",\"marker\":{\"colorbar\":{\"outlinewidth\":0,\"ticks\":\"\"}}}],\"scatterpolar\":[{\"type\":\"scatterpolar\",\"marker\":{\"colorbar\":{\"outlinewidth\":0,\"ticks\":\"\"}}}],\"histogram\":[{\"marker\":{\"pattern\":{\"fillmode\":\"overlay\",\"size\":10,\"solidity\":0.2}},\"type\":\"histogram\"}],\"scattergl\":[{\"type\":\"scattergl\",\"marker\":{\"colorbar\":{\"outlinewidth\":0,\"ticks\":\"\"}}}],\"scatter3d\":[{\"type\":\"scatter3d\",\"line\":{\"colorbar\":{\"outlinewidth\":0,\"ticks\":\"\"}},\"marker\":{\"colorbar\":{\"outlinewidth\":0,\"ticks\":\"\"}}}],\"scattermapbox\":[{\"type\":\"scattermapbox\",\"marker\":{\"colorbar\":{\"outlinewidth\":0,\"ticks\":\"\"}}}],\"scatterternary\":[{\"type\":\"scatterternary\",\"marker\":{\"colorbar\":{\"outlinewidth\":0,\"ticks\":\"\"}}}],\"scattercarpet\":[{\"type\":\"scattercarpet\",\"marker\":{\"colorbar\":{\"outlinewidth\":0,\"ticks\":\"\"}}}],\"carpet\":[{\"aaxis\":{\"endlinecolor\":\"#2a3f5f\",\"gridcolor\":\"white\",\"linecolor\":\"white\",\"minorgridcolor\":\"white\",\"startlinecolor\":\"#2a3f5f\"},\"baxis\":{\"endlinecolor\":\"#2a3f5f\",\"gridcolor\":\"white\",\"linecolor\":\"white\",\"minorgridcolor\":\"white\",\"startlinecolor\":\"#2a3f5f\"},\"type\":\"carpet\"}],\"table\":[{\"cells\":{\"fill\":{\"color\":\"#EBF0F8\"},\"line\":{\"color\":\"white\"}},\"header\":{\"fill\":{\"color\":\"#C8D4E3\"},\"line\":{\"color\":\"white\"}},\"type\":\"table\"}],\"barpolar\":[{\"marker\":{\"line\":{\"color\":\"#E5ECF6\",\"width\":0.5},\"pattern\":{\"fillmode\":\"overlay\",\"size\":10,\"solidity\":0.2}},\"type\":\"barpolar\"}],\"pie\":[{\"automargin\":true,\"type\":\"pie\"}]},\"layout\":{\"autotypenumbers\":\"strict\",\"colorway\":[\"#636efa\",\"#EF553B\",\"#00cc96\",\"#ab63fa\",\"#FFA15A\",\"#19d3f3\",\"#FF6692\",\"#B6E880\",\"#FF97FF\",\"#FECB52\"],\"font\":{\"color\":\"#2a3f5f\"},\"hovermode\":\"closest\",\"hoverlabel\":{\"align\":\"left\"},\"paper_bgcolor\":\"white\",\"plot_bgcolor\":\"#E5ECF6\",\"polar\":{\"bgcolor\":\"#E5ECF6\",\"angularaxis\":{\"gridcolor\":\"white\",\"linecolor\":\"white\",\"ticks\":\"\"},\"radialaxis\":{\"gridcolor\":\"white\",\"linecolor\":\"white\",\"ticks\":\"\"}},\"ternary\":{\"bgcolor\":\"#E5ECF6\",\"aaxis\":{\"gridcolor\":\"white\",\"linecolor\":\"white\",\"ticks\":\"\"},\"baxis\":{\"gridcolor\":\"white\",\"linecolor\":\"white\",\"ticks\":\"\"},\"caxis\":{\"gridcolor\":\"white\",\"linecolor\":\"white\",\"ticks\":\"\"}},\"coloraxis\":{\"colorbar\":{\"outlinewidth\":0,\"ticks\":\"\"}},\"colorscale\":{\"sequential\":[[0.0,\"#0d0887\"],[0.1111111111111111,\"#46039f\"],[0.2222222222222222,\"#7201a8\"],[0.3333333333333333,\"#9c179e\"],[0.4444444444444444,\"#bd3786\"],[0.5555555555555556,\"#d8576b\"],[0.6666666666666666,\"#ed7953\"],[0.7777777777777778,\"#fb9f3a\"],[0.8888888888888888,\"#fdca26\"],[1.0,\"#f0f921\"]],\"sequentialminus\":[[0.0,\"#0d0887\"],[0.1111111111111111,\"#46039f\"],[0.2222222222222222,\"#7201a8\"],[0.3333333333333333,\"#9c179e\"],[0.4444444444444444,\"#bd3786\"],[0.5555555555555556,\"#d8576b\"],[0.6666666666666666,\"#ed7953\"],[0.7777777777777778,\"#fb9f3a\"],[0.8888888888888888,\"#fdca26\"],[1.0,\"#f0f921\"]],\"diverging\":[[0,\"#8e0152\"],[0.1,\"#c51b7d\"],[0.2,\"#de77ae\"],[0.3,\"#f1b6da\"],[0.4,\"#fde0ef\"],[0.5,\"#f7f7f7\"],[0.6,\"#e6f5d0\"],[0.7,\"#b8e186\"],[0.8,\"#7fbc41\"],[0.9,\"#4d9221\"],[1,\"#276419\"]]},\"xaxis\":{\"gridcolor\":\"white\",\"linecolor\":\"white\",\"ticks\":\"\",\"title\":{\"standoff\":15},\"zerolinecolor\":\"white\",\"automargin\":true,\"zerolinewidth\":2},\"yaxis\":{\"gridcolor\":\"white\",\"linecolor\":\"white\",\"ticks\":\"\",\"title\":{\"standoff\":15},\"zerolinecolor\":\"white\",\"automargin\":true,\"zerolinewidth\":2},\"scene\":{\"xaxis\":{\"backgroundcolor\":\"#E5ECF6\",\"gridcolor\":\"white\",\"linecolor\":\"white\",\"showbackground\":true,\"ticks\":\"\",\"zerolinecolor\":\"white\",\"gridwidth\":2},\"yaxis\":{\"backgroundcolor\":\"#E5ECF6\",\"gridcolor\":\"white\",\"linecolor\":\"white\",\"showbackground\":true,\"ticks\":\"\",\"zerolinecolor\":\"white\",\"gridwidth\":2},\"zaxis\":{\"backgroundcolor\":\"#E5ECF6\",\"gridcolor\":\"white\",\"linecolor\":\"white\",\"showbackground\":true,\"ticks\":\"\",\"zerolinecolor\":\"white\",\"gridwidth\":2}},\"shapedefaults\":{\"line\":{\"color\":\"#2a3f5f\"}},\"annotationdefaults\":{\"arrowcolor\":\"#2a3f5f\",\"arrowhead\":0,\"arrowwidth\":1},\"geo\":{\"bgcolor\":\"white\",\"landcolor\":\"#E5ECF6\",\"subunitcolor\":\"white\",\"showland\":true,\"showlakes\":true,\"lakecolor\":\"white\"},\"title\":{\"x\":0.05},\"mapbox\":{\"style\":\"light\"}}}},                        {\"responsive\": true}                    ).then(function(){\n",
       "                            \n",
       "var gd = document.getElementById('529efc30-02ba-46b1-9e12-eb539e6ac113');\n",
       "var x = new MutationObserver(function (mutations, observer) {{\n",
       "        var display = window.getComputedStyle(gd).display;\n",
       "        if (!display || display === 'none') {{\n",
       "            console.log([gd, 'removed!']);\n",
       "            Plotly.purge(gd);\n",
       "            observer.disconnect();\n",
       "        }}\n",
       "}});\n",
       "\n",
       "// Listen for the removal of the full notebook cells\n",
       "var notebookContainer = gd.closest('#notebook-container');\n",
       "if (notebookContainer) {{\n",
       "    x.observe(notebookContainer, {childList: true});\n",
       "}}\n",
       "\n",
       "// Listen for the clearing of the current output cell\n",
       "var outputEl = gd.closest('.output');\n",
       "if (outputEl) {{\n",
       "    x.observe(outputEl, {childList: true});\n",
       "}}\n",
       "\n",
       "                        })                };                });            </script>        </div>"
      ]
     },
     "metadata": {},
     "output_type": "display_data"
    }
   ],
   "source": [
    "# Define the logarithmic function\n",
    "def log_func(x, a, b):\n",
    "    return a * np.log(x + 1) + b\n",
    "\n",
    "# Extract data\n",
    "x = np.arange(len(combined_df.index))  # Create an index for x values\n",
    "y = combined_df['RY.TO'].values\n",
    "\n",
    "# Fit the logarithmic model\n",
    "params, _ = curve_fit(log_func, x, y, p0=[1, 1])\n",
    "\n",
    "# Generate fitted values\n",
    "fitted_y = log_func(x, *params)\n",
    "\n",
    "# Create traces for original data and fitted curve\n",
    "trace_data = go.Scatter(\n",
    "    x=combined_df.index,\n",
    "    y=combined_df['RY.TO'],\n",
    "    mode='markers',\n",
    "    name='RY.TO Data',\n",
    "    marker=dict(size=6)\n",
    ")\n",
    "\n",
    "trace_fit = go.Scatter(\n",
    "    x=combined_df.index,\n",
    "    y=fitted_y,\n",
    "    mode='lines',\n",
    "    name='Logarithmic Fit',\n",
    "    line=dict(width=2, color='red')\n",
    ")\n",
    "\n",
    "# Define the layout\n",
    "layout = go.Layout(\n",
    "    #title='Cash Ratio for RY.TO with Fitted Logarithmic Line',\n",
    "    xaxis=dict(title='Quarters'),\n",
    "    yaxis=dict(title='Cash Ratio')\n",
    ")\n",
    "\n",
    "# Create the figure\n",
    "fig = go.Figure(data=[trace_data, trace_fit], layout=layout)\n",
    "\n",
    "# Plot the figure\n",
    "fig.show()"
   ]
  },
  {
   "cell_type": "code",
   "execution_count": null,
   "metadata": {},
   "outputs": [
    {
     "name": "stdout",
     "output_type": "stream",
     "text": [
      "Log-Linear Regression Results for RY.TO:\n",
      "                            OLS Regression Results                            \n",
      "==============================================================================\n",
      "Dep. Variable:         Log_Cash_Ratio   R-squared:                       0.713\n",
      "Model:                            OLS   Adj. R-squared:                  0.696\n",
      "Method:                 Least Squares   F-statistic:                     43.05\n",
      "Date:                Thu, 08 Aug 2024   Prob (F-statistic):           4.82e-26\n",
      "Time:                        14:32:22   Log-Likelihood:                -38.173\n",
      "No. Observations:                 111   AIC:                             90.35\n",
      "Df Residuals:                     104   BIC:                             109.3\n",
      "Df Model:                           6                                         \n",
      "Covariance Type:            nonrobust                                         \n",
      "==============================================================================\n",
      "                 coef    std err          t      P>|t|      [0.025      0.975]\n",
      "------------------------------------------------------------------------------\n",
      "Intercept      1.8327      0.220      8.345      0.000       1.397       2.268\n",
      "Sea_Lvl_M     -0.4189      0.222     -1.890      0.062      -0.858       0.021\n",
      "CDD_M          0.2102      0.065      3.243      0.002       0.082       0.339\n",
      "Rx5Day_M       0.1085      0.183      0.591      0.556      -0.255       0.472\n",
      "T10_M          0.2868      0.316      0.908      0.366      -0.340       0.913\n",
      "T90_M         -1.0328      0.234     -4.416      0.000      -1.497      -0.569\n",
      "WP90_M        -3.8199      0.589     -6.485      0.000      -4.988      -2.652\n",
      "==============================================================================\n",
      "Omnibus:                        6.749   Durbin-Watson:                   1.426\n",
      "Prob(Omnibus):                  0.034   Jarque-Bera (JB):                4.714\n",
      "Skew:                          -0.365   Prob(JB):                       0.0947\n",
      "Kurtosis:                       2.302   Cond. No.                         33.5\n",
      "==============================================================================\n",
      "\n",
      "Notes:\n",
      "[1] Standard Errors assume that the covariance matrix of the errors is correctly specified.\n",
      "MSE (Log Scale): 0.11647442720101557\n",
      "R-squared (Log Scale): 0.7129330847838438\n",
      "MSE (Original Scale): 0.03780537257985153\n",
      "\n",
      "\n",
      "Log-Linear Regression Results for TD.TO:\n",
      "                            OLS Regression Results                            \n",
      "==============================================================================\n",
      "Dep. Variable:         Log_Cash_Ratio   R-squared:                       0.557\n",
      "Model:                            OLS   Adj. R-squared:                  0.532\n",
      "Method:                 Least Squares   F-statistic:                     21.81\n",
      "Date:                Thu, 08 Aug 2024   Prob (F-statistic):           1.84e-16\n",
      "Time:                        14:32:22   Log-Likelihood:                -80.712\n",
      "No. Observations:                 111   AIC:                             175.4\n",
      "Df Residuals:                     104   BIC:                             194.4\n",
      "Df Model:                           6                                         \n",
      "Covariance Type:            nonrobust                                         \n",
      "==============================================================================\n",
      "                 coef    std err          t      P>|t|      [0.025      0.975]\n",
      "------------------------------------------------------------------------------\n",
      "Intercept     -3.3756      0.322    -10.478      0.000      -4.014      -2.737\n",
      "Sea_Lvl_M     -0.5391      0.325     -1.658      0.100      -1.184       0.106\n",
      "CDD_M          0.1112      0.095      1.170      0.245      -0.077       0.300\n",
      "Rx5Day_M       0.9084      0.269      3.376      0.001       0.375       1.442\n",
      "T10_M         -2.0885      0.463     -4.508      0.000      -3.007      -1.170\n",
      "T90_M         -0.9619      0.343     -2.803      0.006      -1.642      -0.281\n",
      "WP90_M         1.2055      0.864      1.395      0.166      -0.508       2.919\n",
      "==============================================================================\n",
      "Omnibus:                        3.679   Durbin-Watson:                   0.968\n",
      "Prob(Omnibus):                  0.159   Jarque-Bera (JB):                3.101\n",
      "Skew:                          -0.387   Prob(JB):                        0.212\n",
      "Kurtosis:                       3.269   Cond. No.                         33.5\n",
      "==============================================================================\n",
      "\n",
      "Notes:\n",
      "[1] Standard Errors assume that the covariance matrix of the errors is correctly specified.\n",
      "MSE (Log Scale): 0.2506708637653492\n",
      "R-squared (Log Scale): 0.5571793693249021\n",
      "MSE (Original Scale): 0.02481126115585139\n",
      "\n",
      "\n",
      "Log-Linear Regression Results for BNS.TO:\n",
      "                            OLS Regression Results                            \n",
      "==============================================================================\n",
      "Dep. Variable:         Log_Cash_Ratio   R-squared:                       0.549\n",
      "Model:                            OLS   Adj. R-squared:                  0.523\n",
      "Method:                 Least Squares   F-statistic:                     21.09\n",
      "Date:                Thu, 08 Aug 2024   Prob (F-statistic):           4.71e-16\n",
      "Time:                        14:32:22   Log-Likelihood:                -60.568\n",
      "No. Observations:                 111   AIC:                             135.1\n",
      "Df Residuals:                     104   BIC:                             154.1\n",
      "Df Model:                           6                                         \n",
      "Covariance Type:            nonrobust                                         \n",
      "==============================================================================\n",
      "                 coef    std err          t      P>|t|      [0.025      0.975]\n",
      "------------------------------------------------------------------------------\n",
      "Intercept     -0.7431      0.269     -2.766      0.007      -1.276      -0.210\n",
      "Sea_Lvl_M     -0.1147      0.271     -0.423      0.673      -0.652       0.423\n",
      "CDD_M         -0.2531      0.079     -3.191      0.002      -0.410      -0.096\n",
      "Rx5Day_M       0.7056      0.224      3.144      0.002       0.261       1.151\n",
      "T10_M         -0.6652      0.386     -1.721      0.088      -1.432       0.101\n",
      "T90_M         -2.5242      0.286     -8.821      0.000      -3.092      -1.957\n",
      "WP90_M         1.3181      0.721      1.829      0.070      -0.111       2.747\n",
      "==============================================================================\n",
      "Omnibus:                       13.422   Durbin-Watson:                   1.186\n",
      "Prob(Omnibus):                  0.001   Jarque-Bera (JB):               19.408\n",
      "Skew:                           0.589   Prob(JB):                     6.10e-05\n",
      "Kurtosis:                       4.676   Cond. No.                         33.5\n",
      "==============================================================================\n",
      "\n",
      "Notes:\n",
      "[1] Standard Errors assume that the covariance matrix of the errors is correctly specified.\n",
      "MSE (Log Scale): 0.17437367630835063\n",
      "R-squared (Log Scale): 0.5488529051259312\n",
      "MSE (Original Scale): 0.287155119223966\n",
      "\n",
      "\n"
     ]
    }
   ],
   "source": [
    "# Function to perform log-linear regression analysis\n",
    "def perform_log_linear_regression(df):\n",
    "    # Apply log transformation to the target variable\n",
    "    df['Log_Cash_Ratio'] = np.log(df['Cash ratio'])\n",
    "    # Create a formula for OLS\n",
    "    \n",
    "    formula = 'Log_Cash_Ratio ~ ' + ' + '.join(features)\n",
    "    \n",
    "    # Fit the model using OLS\n",
    "    model = ols(formula, data=df).fit()\n",
    "    \n",
    "    # Predict and evaluate the model\n",
    "    y_pred = model.fittedvalues\n",
    "    y_test = df['Log_Cash_Ratio']\n",
    "    \n",
    "    # Calculate metrics\n",
    "    mse = mean_squared_error(y_test, y_pred)\n",
    "    r2 = r2_score(y_test, y_pred)\n",
    "    \n",
    "    # Transform predictions back to original scale\n",
    "    y_pred_original = np.exp(y_pred)\n",
    "    y_test_original = np.exp(y_test)\n",
    "    mse_original = mean_squared_error(y_test_original, y_pred_original)\n",
    "    \n",
    "    return model.summary(), mse, r2, mse_original\n",
    "\n",
    "# Perform log-linear regression for each bank\n",
    "results = {}\n",
    "for symbol, regression_df in regression_dataframes.items():\n",
    "    summary, mse, r2, mse_original = perform_log_linear_regression(regression_df)\n",
    "    results[symbol] = {\n",
    "        'Summary': summary,\n",
    "        'MSE (Log Scale)': mse,\n",
    "        'R2 (Log Scale)': r2,\n",
    "        'MSE (Original Scale)': mse_original\n",
    "    }\n",
    "\n",
    "# Display the results\n",
    "for symbol, result in results.items():\n",
    "    print(f\"Log-Linear Regression Results for {symbol}:\")\n",
    "    print(result['Summary'])\n",
    "    print(f\"MSE (Log Scale): {result['MSE (Log Scale)']}\")\n",
    "    print(f\"R-squared (Log Scale): {result['R2 (Log Scale)']}\")\n",
    "    print(f\"MSE (Original Scale): {result['MSE (Original Scale)']}\")\n",
    "    print(\"\\n\")"
   ]
  },
  {
   "cell_type": "markdown",
   "metadata": {},
   "source": [
    "## Quick ratio"
   ]
  },
  {
   "cell_type": "markdown",
   "metadata": {},
   "source": [
    "### Visualizing data"
   ]
  },
  {
   "cell_type": "code",
   "execution_count": null,
   "metadata": {},
   "outputs": [
    {
     "data": {
      "application/vnd.plotly.v1+json": {
       "config": {
        "plotlyServerURL": "https://plot.ly"
       },
       "data": [
        {
         "line": {
          "width": 1.5
         },
         "marker": {
          "size": 6
         },
         "mode": "lines+markers",
         "name": "RY.TO",
         "type": "scatter",
         "x": [
          "1996-Q1",
          "1996-Q2",
          "1996-Q3",
          "1996-Q4",
          "1997-Q1",
          "1997-Q2",
          "1997-Q3",
          "1997-Q4",
          "1998-Q1",
          "1998-Q2",
          "1998-Q3",
          "1998-Q4",
          "1999-Q1",
          "1999-Q2",
          "1999-Q3",
          "1999-Q4",
          "2000-Q1",
          "2000-Q2",
          "2000-Q3",
          "2000-Q4",
          "2001-Q1",
          "2001-Q2",
          "2001-Q3",
          "2001-Q4",
          "2002-Q1",
          "2002-Q2",
          "2002-Q3",
          "2002-Q4",
          "2003-Q1",
          "2003-Q2",
          "2003-Q3",
          "2003-Q4",
          "2004-Q1",
          "2004-Q2",
          "2004-Q3",
          "2004-Q4",
          "2005-Q1",
          "2005-Q2",
          "2005-Q3",
          "2005-Q4",
          "2006-Q1",
          "2006-Q2",
          "2006-Q3",
          "2006-Q4",
          "2007-Q1",
          "2007-Q2",
          "2007-Q3",
          "2007-Q4",
          "2008-Q1",
          "2008-Q2",
          "2008-Q3",
          "2008-Q4",
          "2009-Q1",
          "2009-Q2",
          "2009-Q3",
          "2009-Q4",
          "2010-Q1",
          "2010-Q2",
          "2010-Q3",
          "2010-Q4",
          "2011-Q1",
          "2011-Q2",
          "2011-Q3",
          "2011-Q4",
          "2012-Q1",
          "2012-Q2",
          "2012-Q3",
          "2012-Q4",
          "2013-Q1",
          "2013-Q2",
          "2013-Q3",
          "2013-Q4",
          "2014-Q1",
          "2014-Q2",
          "2014-Q3",
          "2014-Q4",
          "2015-Q1",
          "2015-Q2",
          "2015-Q3",
          "2015-Q4",
          "2016-Q1",
          "2016-Q2",
          "2016-Q3",
          "2016-Q4",
          "2017-Q1",
          "2017-Q2",
          "2017-Q3",
          "2017-Q4",
          "2018-Q1",
          "2018-Q2",
          "2018-Q3",
          "2018-Q4",
          "2019-Q1",
          "2019-Q2",
          "2019-Q3",
          "2019-Q4",
          "2020-Q1",
          "2020-Q2",
          "2020-Q3",
          "2020-Q4",
          "2021-Q1",
          "2021-Q2",
          "2021-Q3",
          "2021-Q4",
          "2022-Q1",
          "2022-Q2",
          "2022-Q3",
          "2022-Q4",
          "2023-Q1",
          "2023-Q2",
          "2023-Q3"
         ],
         "y": [
          1.368,
          1.317,
          1.102,
          1.5525000000000002,
          2.003,
          2.536,
          2.048,
          0.8531,
          1.957,
          1.311,
          0.6147,
          0.5163,
          0.828,
          0.8309,
          1.018,
          0.819,
          0.9877,
          0.8544,
          1.035,
          0.8743,
          0.602,
          0.5915,
          0.6109,
          0.47,
          0.4549,
          0.891,
          0.5376,
          0.5302,
          0.4755,
          0.4951,
          0.4589,
          0.3768,
          0.4308,
          0.2684,
          0.3556,
          0.3769,
          0.2256,
          0.216,
          0.5602,
          0.1836,
          0.241,
          0.2192,
          0.1941,
          0.2262,
          0.1316,
          0.1427,
          0.1676,
          0.2372,
          0.2104,
          0.1279,
          0.3006,
          0.3859,
          0.3904,
          0.3204,
          0.5461,
          1.806,
          0.1838,
          0.2001,
          0.2237,
          1.463,
          0.1774,
          0.2091,
          0.2588,
          1.352,
          0.2545,
          0.2661,
          0.2775,
          0.898,
          0.9437,
          0.8017,
          0.889,
          0.9467,
          0.9364,
          1.006,
          1.04,
          0.6168,
          0.9039,
          0.9319,
          1.128,
          0.5558,
          1.148,
          1.206,
          0.9981,
          0.745,
          1.056,
          1.121,
          1.196,
          0.685,
          0.8982,
          0.9327,
          0.9649,
          0.3732,
          0.721,
          0.6522,
          0.6426,
          0.3525,
          0.4031,
          0.8315,
          0.9402,
          0.5881,
          0.9297,
          0.8715,
          0.9003,
          0.6559,
          0.9284,
          0.8868,
          0.875,
          0.5967,
          0.8635,
          0.8861,
          0.8682
         ]
        },
        {
         "line": {
          "width": 1.5
         },
         "marker": {
          "size": 6
         },
         "mode": "lines+markers",
         "name": "TD.TO",
         "type": "scatter",
         "x": [
          "1996-Q1",
          "1996-Q2",
          "1996-Q3",
          "1996-Q4",
          "1997-Q1",
          "1997-Q2",
          "1997-Q3",
          "1997-Q4",
          "1998-Q1",
          "1998-Q2",
          "1998-Q3",
          "1998-Q4",
          "1999-Q1",
          "1999-Q2",
          "1999-Q3",
          "1999-Q4",
          "2000-Q1",
          "2000-Q2",
          "2000-Q3",
          "2000-Q4",
          "2001-Q1",
          "2001-Q2",
          "2001-Q3",
          "2001-Q4",
          "2002-Q1",
          "2002-Q2",
          "2002-Q3",
          "2002-Q4",
          "2003-Q1",
          "2003-Q2",
          "2003-Q3",
          "2003-Q4",
          "2004-Q1",
          "2004-Q2",
          "2004-Q3",
          "2004-Q4",
          "2005-Q1",
          "2005-Q2",
          "2005-Q3",
          "2005-Q4",
          "2006-Q1",
          "2006-Q2",
          "2006-Q3",
          "2006-Q4",
          "2007-Q1",
          "2007-Q2",
          "2007-Q3",
          "2007-Q4",
          "2008-Q1",
          "2008-Q2",
          "2008-Q3",
          "2008-Q4",
          "2009-Q1",
          "2009-Q2",
          "2009-Q3",
          "2009-Q4",
          "2010-Q1",
          "2010-Q2",
          "2010-Q3",
          "2010-Q4",
          "2011-Q1",
          "2011-Q2",
          "2011-Q3",
          "2011-Q4",
          "2012-Q1",
          "2012-Q2",
          "2012-Q3",
          "2012-Q4",
          "2013-Q1",
          "2013-Q2",
          "2013-Q3",
          "2013-Q4",
          "2014-Q1",
          "2014-Q2",
          "2014-Q3",
          "2014-Q4",
          "2015-Q1",
          "2015-Q2",
          "2015-Q3",
          "2015-Q4",
          "2016-Q1",
          "2016-Q2",
          "2016-Q3",
          "2016-Q4",
          "2017-Q1",
          "2017-Q2",
          "2017-Q3",
          "2017-Q4",
          "2018-Q1",
          "2018-Q2",
          "2018-Q3",
          "2018-Q4",
          "2019-Q1",
          "2019-Q2",
          "2019-Q3",
          "2019-Q4",
          "2020-Q1",
          "2020-Q2",
          "2020-Q3",
          "2020-Q4",
          "2021-Q1",
          "2021-Q2",
          "2021-Q3",
          "2021-Q4",
          "2022-Q1",
          "2022-Q2",
          "2022-Q3",
          "2022-Q4",
          "2023-Q1",
          "2023-Q2",
          "2023-Q3"
         ],
         "y": [
          0.0448,
          0.0448,
          0.0416,
          0.2871,
          0.0371,
          0.0197,
          0.0221,
          0.4,
          0.2036,
          0.2193,
          0.1707,
          0.3375,
          0.2639,
          0.2431,
          0.1978,
          0.2558,
          0.2571,
          0.1945,
          0.1993,
          0.1503,
          0.1918,
          0.1133,
          0.1262,
          0.1648,
          0.1277,
          0.1531,
          0.1837,
          0.2542,
          0.2596,
          0.1676,
          0.2332,
          0.3328,
          0.2186,
          0.32,
          0.3373,
          0.5168,
          0.3301,
          0.3535,
          0.3627,
          1.087,
          0.3442,
          0.3658,
          0.2798,
          0.7349,
          0.2314,
          0.3233,
          0.3115,
          1.95,
          0.3494,
          0.4719,
          0.3834,
          3.396,
          0.9517,
          0.7064,
          0.9046,
          3.802,
          0.6904,
          0.5556,
          0.9128,
          3.29,
          0.4158,
          0.7069,
          0.6015,
          3.29,
          0.3692,
          0.405,
          0.7653,
          2.683,
          2.731,
          2.782,
          2.706,
          2.584,
          2.145,
          1.763,
          1.724,
          0.5913,
          1.71,
          1.758,
          1.631,
          1.719,
          1.883,
          1.871,
          2.096,
          1.276,
          2.242,
          1.99,
          1.929,
          1.096,
          1.86,
          1.661,
          1.668,
          0.3934,
          0.7936,
          0.72,
          0.6325,
          0.3223,
          0.5916,
          0.9116,
          0.8996,
          0.753,
          1.052,
          1.117,
          0.9312,
          0.7636,
          0.8388,
          0.7413,
          0.7131,
          0.5187,
          0.624,
          0.5185,
          0.4871
         ]
        },
        {
         "line": {
          "width": 1.5
         },
         "marker": {
          "size": 6
         },
         "mode": "lines+markers",
         "name": "BNS.TO",
         "type": "scatter",
         "x": [
          "1996-Q1",
          "1996-Q2",
          "1996-Q3",
          "1996-Q4",
          "1997-Q1",
          "1997-Q2",
          "1997-Q3",
          "1997-Q4",
          "1998-Q1",
          "1998-Q2",
          "1998-Q3",
          "1998-Q4",
          "1999-Q1",
          "1999-Q2",
          "1999-Q3",
          "1999-Q4",
          "2000-Q1",
          "2000-Q2",
          "2000-Q3",
          "2000-Q4",
          "2001-Q1",
          "2001-Q2",
          "2001-Q3",
          "2001-Q4",
          "2002-Q1",
          "2002-Q2",
          "2002-Q3",
          "2002-Q4",
          "2003-Q1",
          "2003-Q2",
          "2003-Q3",
          "2003-Q4",
          "2004-Q1",
          "2004-Q2",
          "2004-Q3",
          "2004-Q4",
          "2005-Q1",
          "2005-Q2",
          "2005-Q3",
          "2005-Q4",
          "2006-Q1",
          "2006-Q2",
          "2006-Q3",
          "2006-Q4",
          "2007-Q1",
          "2007-Q2",
          "2007-Q3",
          "2007-Q4",
          "2008-Q1",
          "2008-Q2",
          "2008-Q3",
          "2008-Q4",
          "2009-Q1",
          "2009-Q2",
          "2009-Q3",
          "2009-Q4",
          "2010-Q1",
          "2010-Q2",
          "2010-Q3",
          "2010-Q4",
          "2011-Q1",
          "2011-Q2",
          "2011-Q3",
          "2011-Q4",
          "2012-Q1",
          "2012-Q2",
          "2012-Q3",
          "2012-Q4",
          "2013-Q1",
          "2013-Q2",
          "2013-Q3",
          "2013-Q4",
          "2014-Q1",
          "2014-Q2",
          "2014-Q3",
          "2014-Q4",
          "2015-Q1",
          "2015-Q2",
          "2015-Q3",
          "2015-Q4",
          "2016-Q1",
          "2016-Q2",
          "2016-Q3",
          "2016-Q4",
          "2017-Q1",
          "2017-Q2",
          "2017-Q3",
          "2017-Q4",
          "2018-Q1",
          "2018-Q2",
          "2018-Q3",
          "2018-Q4",
          "2019-Q1",
          "2019-Q2",
          "2019-Q3",
          "2019-Q4",
          "2020-Q1",
          "2020-Q2",
          "2020-Q3",
          "2020-Q4",
          "2021-Q1",
          "2021-Q2",
          "2021-Q3",
          "2021-Q4",
          "2022-Q1",
          "2022-Q2",
          "2022-Q3",
          "2022-Q4",
          "2023-Q1",
          "2023-Q2",
          "2023-Q3"
         ],
         "y": [
          1.456,
          1.1,
          1.144,
          0.9657,
          1.086,
          1.106,
          0.8083,
          1.135,
          1.192,
          0.9533,
          0.9718,
          1.181,
          1.089,
          0.8394,
          0.8569,
          0.8321,
          0.8586,
          0.8074,
          0.728,
          0.6329,
          0.6001,
          0.4896,
          0.374,
          0.4876,
          0.4683,
          0.4365,
          0.4568,
          0.4766,
          0.425,
          0.3755,
          0.4548,
          0.5028,
          0.4911,
          0.8025,
          0.5256,
          0.5396,
          0.5504,
          0.5367,
          0.5356,
          0.4782,
          0.5802,
          0.529,
          0.4665,
          1.4,
          0.4766,
          0.5186,
          0.4837,
          1.616,
          0.6929,
          0.6785,
          0.7,
          1.785,
          0.6367,
          2.56,
          2.394,
          2.189,
          4.576,
          2.668,
          2.538,
          1.864,
          2.201,
          2.972,
          2.827,
          1.717,
          2.642,
          1.017,
          2.547,
          1.3,
          0.7337,
          0.6833,
          0.6045,
          0.9337,
          0.6289,
          0.6762,
          0.549,
          0.3924,
          1.344,
          1.119,
          1.592,
          0.4978,
          1.352,
          1.059,
          1.254,
          0.4009,
          0.9881,
          1.039,
          1.168,
          0.5575,
          1.22,
          1.258,
          1.287,
          0.5268,
          0.49,
          0.4925,
          0.453,
          0.3611,
          0.4596,
          0.6655,
          0.6599,
          0.6052,
          0.8085,
          0.6376,
          0.734,
          0.5931,
          0.7095,
          0.6964,
          0.6434,
          0.4703,
          0.614,
          0.5541,
          0.6056
         ]
        }
       ],
       "layout": {
        "template": {
         "data": {
          "bar": [
           {
            "error_x": {
             "color": "#2a3f5f"
            },
            "error_y": {
             "color": "#2a3f5f"
            },
            "marker": {
             "line": {
              "color": "#E5ECF6",
              "width": 0.5
             },
             "pattern": {
              "fillmode": "overlay",
              "size": 10,
              "solidity": 0.2
             }
            },
            "type": "bar"
           }
          ],
          "barpolar": [
           {
            "marker": {
             "line": {
              "color": "#E5ECF6",
              "width": 0.5
             },
             "pattern": {
              "fillmode": "overlay",
              "size": 10,
              "solidity": 0.2
             }
            },
            "type": "barpolar"
           }
          ],
          "carpet": [
           {
            "aaxis": {
             "endlinecolor": "#2a3f5f",
             "gridcolor": "white",
             "linecolor": "white",
             "minorgridcolor": "white",
             "startlinecolor": "#2a3f5f"
            },
            "baxis": {
             "endlinecolor": "#2a3f5f",
             "gridcolor": "white",
             "linecolor": "white",
             "minorgridcolor": "white",
             "startlinecolor": "#2a3f5f"
            },
            "type": "carpet"
           }
          ],
          "choropleth": [
           {
            "colorbar": {
             "outlinewidth": 0,
             "ticks": ""
            },
            "type": "choropleth"
           }
          ],
          "contour": [
           {
            "colorbar": {
             "outlinewidth": 0,
             "ticks": ""
            },
            "colorscale": [
             [
              0,
              "#0d0887"
             ],
             [
              0.1111111111111111,
              "#46039f"
             ],
             [
              0.2222222222222222,
              "#7201a8"
             ],
             [
              0.3333333333333333,
              "#9c179e"
             ],
             [
              0.4444444444444444,
              "#bd3786"
             ],
             [
              0.5555555555555556,
              "#d8576b"
             ],
             [
              0.6666666666666666,
              "#ed7953"
             ],
             [
              0.7777777777777778,
              "#fb9f3a"
             ],
             [
              0.8888888888888888,
              "#fdca26"
             ],
             [
              1,
              "#f0f921"
             ]
            ],
            "type": "contour"
           }
          ],
          "contourcarpet": [
           {
            "colorbar": {
             "outlinewidth": 0,
             "ticks": ""
            },
            "type": "contourcarpet"
           }
          ],
          "heatmap": [
           {
            "colorbar": {
             "outlinewidth": 0,
             "ticks": ""
            },
            "colorscale": [
             [
              0,
              "#0d0887"
             ],
             [
              0.1111111111111111,
              "#46039f"
             ],
             [
              0.2222222222222222,
              "#7201a8"
             ],
             [
              0.3333333333333333,
              "#9c179e"
             ],
             [
              0.4444444444444444,
              "#bd3786"
             ],
             [
              0.5555555555555556,
              "#d8576b"
             ],
             [
              0.6666666666666666,
              "#ed7953"
             ],
             [
              0.7777777777777778,
              "#fb9f3a"
             ],
             [
              0.8888888888888888,
              "#fdca26"
             ],
             [
              1,
              "#f0f921"
             ]
            ],
            "type": "heatmap"
           }
          ],
          "heatmapgl": [
           {
            "colorbar": {
             "outlinewidth": 0,
             "ticks": ""
            },
            "colorscale": [
             [
              0,
              "#0d0887"
             ],
             [
              0.1111111111111111,
              "#46039f"
             ],
             [
              0.2222222222222222,
              "#7201a8"
             ],
             [
              0.3333333333333333,
              "#9c179e"
             ],
             [
              0.4444444444444444,
              "#bd3786"
             ],
             [
              0.5555555555555556,
              "#d8576b"
             ],
             [
              0.6666666666666666,
              "#ed7953"
             ],
             [
              0.7777777777777778,
              "#fb9f3a"
             ],
             [
              0.8888888888888888,
              "#fdca26"
             ],
             [
              1,
              "#f0f921"
             ]
            ],
            "type": "heatmapgl"
           }
          ],
          "histogram": [
           {
            "marker": {
             "pattern": {
              "fillmode": "overlay",
              "size": 10,
              "solidity": 0.2
             }
            },
            "type": "histogram"
           }
          ],
          "histogram2d": [
           {
            "colorbar": {
             "outlinewidth": 0,
             "ticks": ""
            },
            "colorscale": [
             [
              0,
              "#0d0887"
             ],
             [
              0.1111111111111111,
              "#46039f"
             ],
             [
              0.2222222222222222,
              "#7201a8"
             ],
             [
              0.3333333333333333,
              "#9c179e"
             ],
             [
              0.4444444444444444,
              "#bd3786"
             ],
             [
              0.5555555555555556,
              "#d8576b"
             ],
             [
              0.6666666666666666,
              "#ed7953"
             ],
             [
              0.7777777777777778,
              "#fb9f3a"
             ],
             [
              0.8888888888888888,
              "#fdca26"
             ],
             [
              1,
              "#f0f921"
             ]
            ],
            "type": "histogram2d"
           }
          ],
          "histogram2dcontour": [
           {
            "colorbar": {
             "outlinewidth": 0,
             "ticks": ""
            },
            "colorscale": [
             [
              0,
              "#0d0887"
             ],
             [
              0.1111111111111111,
              "#46039f"
             ],
             [
              0.2222222222222222,
              "#7201a8"
             ],
             [
              0.3333333333333333,
              "#9c179e"
             ],
             [
              0.4444444444444444,
              "#bd3786"
             ],
             [
              0.5555555555555556,
              "#d8576b"
             ],
             [
              0.6666666666666666,
              "#ed7953"
             ],
             [
              0.7777777777777778,
              "#fb9f3a"
             ],
             [
              0.8888888888888888,
              "#fdca26"
             ],
             [
              1,
              "#f0f921"
             ]
            ],
            "type": "histogram2dcontour"
           }
          ],
          "mesh3d": [
           {
            "colorbar": {
             "outlinewidth": 0,
             "ticks": ""
            },
            "type": "mesh3d"
           }
          ],
          "parcoords": [
           {
            "line": {
             "colorbar": {
              "outlinewidth": 0,
              "ticks": ""
             }
            },
            "type": "parcoords"
           }
          ],
          "pie": [
           {
            "automargin": true,
            "type": "pie"
           }
          ],
          "scatter": [
           {
            "fillpattern": {
             "fillmode": "overlay",
             "size": 10,
             "solidity": 0.2
            },
            "type": "scatter"
           }
          ],
          "scatter3d": [
           {
            "line": {
             "colorbar": {
              "outlinewidth": 0,
              "ticks": ""
             }
            },
            "marker": {
             "colorbar": {
              "outlinewidth": 0,
              "ticks": ""
             }
            },
            "type": "scatter3d"
           }
          ],
          "scattercarpet": [
           {
            "marker": {
             "colorbar": {
              "outlinewidth": 0,
              "ticks": ""
             }
            },
            "type": "scattercarpet"
           }
          ],
          "scattergeo": [
           {
            "marker": {
             "colorbar": {
              "outlinewidth": 0,
              "ticks": ""
             }
            },
            "type": "scattergeo"
           }
          ],
          "scattergl": [
           {
            "marker": {
             "colorbar": {
              "outlinewidth": 0,
              "ticks": ""
             }
            },
            "type": "scattergl"
           }
          ],
          "scattermapbox": [
           {
            "marker": {
             "colorbar": {
              "outlinewidth": 0,
              "ticks": ""
             }
            },
            "type": "scattermapbox"
           }
          ],
          "scatterpolar": [
           {
            "marker": {
             "colorbar": {
              "outlinewidth": 0,
              "ticks": ""
             }
            },
            "type": "scatterpolar"
           }
          ],
          "scatterpolargl": [
           {
            "marker": {
             "colorbar": {
              "outlinewidth": 0,
              "ticks": ""
             }
            },
            "type": "scatterpolargl"
           }
          ],
          "scatterternary": [
           {
            "marker": {
             "colorbar": {
              "outlinewidth": 0,
              "ticks": ""
             }
            },
            "type": "scatterternary"
           }
          ],
          "surface": [
           {
            "colorbar": {
             "outlinewidth": 0,
             "ticks": ""
            },
            "colorscale": [
             [
              0,
              "#0d0887"
             ],
             [
              0.1111111111111111,
              "#46039f"
             ],
             [
              0.2222222222222222,
              "#7201a8"
             ],
             [
              0.3333333333333333,
              "#9c179e"
             ],
             [
              0.4444444444444444,
              "#bd3786"
             ],
             [
              0.5555555555555556,
              "#d8576b"
             ],
             [
              0.6666666666666666,
              "#ed7953"
             ],
             [
              0.7777777777777778,
              "#fb9f3a"
             ],
             [
              0.8888888888888888,
              "#fdca26"
             ],
             [
              1,
              "#f0f921"
             ]
            ],
            "type": "surface"
           }
          ],
          "table": [
           {
            "cells": {
             "fill": {
              "color": "#EBF0F8"
             },
             "line": {
              "color": "white"
             }
            },
            "header": {
             "fill": {
              "color": "#C8D4E3"
             },
             "line": {
              "color": "white"
             }
            },
            "type": "table"
           }
          ]
         },
         "layout": {
          "annotationdefaults": {
           "arrowcolor": "#2a3f5f",
           "arrowhead": 0,
           "arrowwidth": 1
          },
          "autotypenumbers": "strict",
          "coloraxis": {
           "colorbar": {
            "outlinewidth": 0,
            "ticks": ""
           }
          },
          "colorscale": {
           "diverging": [
            [
             0,
             "#8e0152"
            ],
            [
             0.1,
             "#c51b7d"
            ],
            [
             0.2,
             "#de77ae"
            ],
            [
             0.3,
             "#f1b6da"
            ],
            [
             0.4,
             "#fde0ef"
            ],
            [
             0.5,
             "#f7f7f7"
            ],
            [
             0.6,
             "#e6f5d0"
            ],
            [
             0.7,
             "#b8e186"
            ],
            [
             0.8,
             "#7fbc41"
            ],
            [
             0.9,
             "#4d9221"
            ],
            [
             1,
             "#276419"
            ]
           ],
           "sequential": [
            [
             0,
             "#0d0887"
            ],
            [
             0.1111111111111111,
             "#46039f"
            ],
            [
             0.2222222222222222,
             "#7201a8"
            ],
            [
             0.3333333333333333,
             "#9c179e"
            ],
            [
             0.4444444444444444,
             "#bd3786"
            ],
            [
             0.5555555555555556,
             "#d8576b"
            ],
            [
             0.6666666666666666,
             "#ed7953"
            ],
            [
             0.7777777777777778,
             "#fb9f3a"
            ],
            [
             0.8888888888888888,
             "#fdca26"
            ],
            [
             1,
             "#f0f921"
            ]
           ],
           "sequentialminus": [
            [
             0,
             "#0d0887"
            ],
            [
             0.1111111111111111,
             "#46039f"
            ],
            [
             0.2222222222222222,
             "#7201a8"
            ],
            [
             0.3333333333333333,
             "#9c179e"
            ],
            [
             0.4444444444444444,
             "#bd3786"
            ],
            [
             0.5555555555555556,
             "#d8576b"
            ],
            [
             0.6666666666666666,
             "#ed7953"
            ],
            [
             0.7777777777777778,
             "#fb9f3a"
            ],
            [
             0.8888888888888888,
             "#fdca26"
            ],
            [
             1,
             "#f0f921"
            ]
           ]
          },
          "colorway": [
           "#636efa",
           "#EF553B",
           "#00cc96",
           "#ab63fa",
           "#FFA15A",
           "#19d3f3",
           "#FF6692",
           "#B6E880",
           "#FF97FF",
           "#FECB52"
          ],
          "font": {
           "color": "#2a3f5f"
          },
          "geo": {
           "bgcolor": "white",
           "lakecolor": "white",
           "landcolor": "#E5ECF6",
           "showlakes": true,
           "showland": true,
           "subunitcolor": "white"
          },
          "hoverlabel": {
           "align": "left"
          },
          "hovermode": "closest",
          "mapbox": {
           "style": "light"
          },
          "paper_bgcolor": "white",
          "plot_bgcolor": "#E5ECF6",
          "polar": {
           "angularaxis": {
            "gridcolor": "white",
            "linecolor": "white",
            "ticks": ""
           },
           "bgcolor": "#E5ECF6",
           "radialaxis": {
            "gridcolor": "white",
            "linecolor": "white",
            "ticks": ""
           }
          },
          "scene": {
           "xaxis": {
            "backgroundcolor": "#E5ECF6",
            "gridcolor": "white",
            "gridwidth": 2,
            "linecolor": "white",
            "showbackground": true,
            "ticks": "",
            "zerolinecolor": "white"
           },
           "yaxis": {
            "backgroundcolor": "#E5ECF6",
            "gridcolor": "white",
            "gridwidth": 2,
            "linecolor": "white",
            "showbackground": true,
            "ticks": "",
            "zerolinecolor": "white"
           },
           "zaxis": {
            "backgroundcolor": "#E5ECF6",
            "gridcolor": "white",
            "gridwidth": 2,
            "linecolor": "white",
            "showbackground": true,
            "ticks": "",
            "zerolinecolor": "white"
           }
          },
          "shapedefaults": {
           "line": {
            "color": "#2a3f5f"
           }
          },
          "ternary": {
           "aaxis": {
            "gridcolor": "white",
            "linecolor": "white",
            "ticks": ""
           },
           "baxis": {
            "gridcolor": "white",
            "linecolor": "white",
            "ticks": ""
           },
           "bgcolor": "#E5ECF6",
           "caxis": {
            "gridcolor": "white",
            "linecolor": "white",
            "ticks": ""
           }
          },
          "title": {
           "x": 0.05
          },
          "xaxis": {
           "automargin": true,
           "gridcolor": "white",
           "linecolor": "white",
           "ticks": "",
           "title": {
            "standoff": 15
           },
           "zerolinecolor": "white",
           "zerolinewidth": 2
          },
          "yaxis": {
           "automargin": true,
           "gridcolor": "white",
           "linecolor": "white",
           "ticks": "",
           "title": {
            "standoff": 15
           },
           "zerolinecolor": "white",
           "zerolinewidth": 2
          }
         }
        },
        "title": {
         "text": "Quick Ratio for RY.TO, TD.TO, and BNS.TO on a Quarterly Basis"
        },
        "xaxis": {
         "title": {
          "text": "Quarters"
         }
        },
        "yaxis": {
         "title": {
          "text": "Quick Ratio"
         }
        }
       }
      },
      "text/html": [
       "<div>                            <div id=\"12338b69-21e2-4b21-9800-a55986092667\" class=\"plotly-graph-div\" style=\"height:525px; width:100%;\"></div>            <script type=\"text/javascript\">                require([\"plotly\"], function(Plotly) {                    window.PLOTLYENV=window.PLOTLYENV || {};                                    if (document.getElementById(\"12338b69-21e2-4b21-9800-a55986092667\")) {                    Plotly.newPlot(                        \"12338b69-21e2-4b21-9800-a55986092667\",                        [{\"line\":{\"width\":1.5},\"marker\":{\"size\":6},\"mode\":\"lines+markers\",\"name\":\"RY.TO\",\"x\":[\"1996-Q1\",\"1996-Q2\",\"1996-Q3\",\"1996-Q4\",\"1997-Q1\",\"1997-Q2\",\"1997-Q3\",\"1997-Q4\",\"1998-Q1\",\"1998-Q2\",\"1998-Q3\",\"1998-Q4\",\"1999-Q1\",\"1999-Q2\",\"1999-Q3\",\"1999-Q4\",\"2000-Q1\",\"2000-Q2\",\"2000-Q3\",\"2000-Q4\",\"2001-Q1\",\"2001-Q2\",\"2001-Q3\",\"2001-Q4\",\"2002-Q1\",\"2002-Q2\",\"2002-Q3\",\"2002-Q4\",\"2003-Q1\",\"2003-Q2\",\"2003-Q3\",\"2003-Q4\",\"2004-Q1\",\"2004-Q2\",\"2004-Q3\",\"2004-Q4\",\"2005-Q1\",\"2005-Q2\",\"2005-Q3\",\"2005-Q4\",\"2006-Q1\",\"2006-Q2\",\"2006-Q3\",\"2006-Q4\",\"2007-Q1\",\"2007-Q2\",\"2007-Q3\",\"2007-Q4\",\"2008-Q1\",\"2008-Q2\",\"2008-Q3\",\"2008-Q4\",\"2009-Q1\",\"2009-Q2\",\"2009-Q3\",\"2009-Q4\",\"2010-Q1\",\"2010-Q2\",\"2010-Q3\",\"2010-Q4\",\"2011-Q1\",\"2011-Q2\",\"2011-Q3\",\"2011-Q4\",\"2012-Q1\",\"2012-Q2\",\"2012-Q3\",\"2012-Q4\",\"2013-Q1\",\"2013-Q2\",\"2013-Q3\",\"2013-Q4\",\"2014-Q1\",\"2014-Q2\",\"2014-Q3\",\"2014-Q4\",\"2015-Q1\",\"2015-Q2\",\"2015-Q3\",\"2015-Q4\",\"2016-Q1\",\"2016-Q2\",\"2016-Q3\",\"2016-Q4\",\"2017-Q1\",\"2017-Q2\",\"2017-Q3\",\"2017-Q4\",\"2018-Q1\",\"2018-Q2\",\"2018-Q3\",\"2018-Q4\",\"2019-Q1\",\"2019-Q2\",\"2019-Q3\",\"2019-Q4\",\"2020-Q1\",\"2020-Q2\",\"2020-Q3\",\"2020-Q4\",\"2021-Q1\",\"2021-Q2\",\"2021-Q3\",\"2021-Q4\",\"2022-Q1\",\"2022-Q2\",\"2022-Q3\",\"2022-Q4\",\"2023-Q1\",\"2023-Q2\",\"2023-Q3\"],\"y\":[1.368,1.317,1.102,1.5525000000000002,2.003,2.536,2.048,0.8531,1.957,1.311,0.6147,0.5163,0.828,0.8309,1.018,0.819,0.9877,0.8544,1.035,0.8743,0.602,0.5915,0.6109,0.47,0.4549,0.891,0.5376,0.5302,0.4755,0.4951,0.4589,0.3768,0.4308,0.2684,0.3556,0.3769,0.2256,0.216,0.5602,0.1836,0.241,0.2192,0.1941,0.2262,0.1316,0.1427,0.1676,0.2372,0.2104,0.1279,0.3006,0.3859,0.3904,0.3204,0.5461,1.806,0.1838,0.2001,0.2237,1.463,0.1774,0.2091,0.2588,1.352,0.2545,0.2661,0.2775,0.898,0.9437,0.8017,0.889,0.9467,0.9364,1.006,1.04,0.6168,0.9039,0.9319,1.128,0.5558,1.148,1.206,0.9981,0.745,1.056,1.121,1.196,0.685,0.8982,0.9327,0.9649,0.3732,0.721,0.6522,0.6426,0.3525,0.4031,0.8315,0.9402,0.5881,0.9297,0.8715,0.9003,0.6559,0.9284,0.8868,0.875,0.5967,0.8635,0.8861,0.8682],\"type\":\"scatter\"},{\"line\":{\"width\":1.5},\"marker\":{\"size\":6},\"mode\":\"lines+markers\",\"name\":\"TD.TO\",\"x\":[\"1996-Q1\",\"1996-Q2\",\"1996-Q3\",\"1996-Q4\",\"1997-Q1\",\"1997-Q2\",\"1997-Q3\",\"1997-Q4\",\"1998-Q1\",\"1998-Q2\",\"1998-Q3\",\"1998-Q4\",\"1999-Q1\",\"1999-Q2\",\"1999-Q3\",\"1999-Q4\",\"2000-Q1\",\"2000-Q2\",\"2000-Q3\",\"2000-Q4\",\"2001-Q1\",\"2001-Q2\",\"2001-Q3\",\"2001-Q4\",\"2002-Q1\",\"2002-Q2\",\"2002-Q3\",\"2002-Q4\",\"2003-Q1\",\"2003-Q2\",\"2003-Q3\",\"2003-Q4\",\"2004-Q1\",\"2004-Q2\",\"2004-Q3\",\"2004-Q4\",\"2005-Q1\",\"2005-Q2\",\"2005-Q3\",\"2005-Q4\",\"2006-Q1\",\"2006-Q2\",\"2006-Q3\",\"2006-Q4\",\"2007-Q1\",\"2007-Q2\",\"2007-Q3\",\"2007-Q4\",\"2008-Q1\",\"2008-Q2\",\"2008-Q3\",\"2008-Q4\",\"2009-Q1\",\"2009-Q2\",\"2009-Q3\",\"2009-Q4\",\"2010-Q1\",\"2010-Q2\",\"2010-Q3\",\"2010-Q4\",\"2011-Q1\",\"2011-Q2\",\"2011-Q3\",\"2011-Q4\",\"2012-Q1\",\"2012-Q2\",\"2012-Q3\",\"2012-Q4\",\"2013-Q1\",\"2013-Q2\",\"2013-Q3\",\"2013-Q4\",\"2014-Q1\",\"2014-Q2\",\"2014-Q3\",\"2014-Q4\",\"2015-Q1\",\"2015-Q2\",\"2015-Q3\",\"2015-Q4\",\"2016-Q1\",\"2016-Q2\",\"2016-Q3\",\"2016-Q4\",\"2017-Q1\",\"2017-Q2\",\"2017-Q3\",\"2017-Q4\",\"2018-Q1\",\"2018-Q2\",\"2018-Q3\",\"2018-Q4\",\"2019-Q1\",\"2019-Q2\",\"2019-Q3\",\"2019-Q4\",\"2020-Q1\",\"2020-Q2\",\"2020-Q3\",\"2020-Q4\",\"2021-Q1\",\"2021-Q2\",\"2021-Q3\",\"2021-Q4\",\"2022-Q1\",\"2022-Q2\",\"2022-Q3\",\"2022-Q4\",\"2023-Q1\",\"2023-Q2\",\"2023-Q3\"],\"y\":[0.0448,0.0448,0.0416,0.2871,0.0371,0.0197,0.0221,0.4,0.2036,0.2193,0.1707,0.3375,0.2639,0.2431,0.1978,0.2558,0.2571,0.1945,0.1993,0.1503,0.1918,0.1133,0.1262,0.1648,0.1277,0.1531,0.1837,0.2542,0.2596,0.1676,0.2332,0.3328,0.2186,0.32,0.3373,0.5168,0.3301,0.3535,0.3627,1.087,0.3442,0.3658,0.2798,0.7349,0.2314,0.3233,0.3115,1.95,0.3494,0.4719,0.3834,3.396,0.9517,0.7064,0.9046,3.802,0.6904,0.5556,0.9128,3.29,0.4158,0.7069,0.6015,3.29,0.3692,0.405,0.7653,2.683,2.731,2.782,2.706,2.584,2.145,1.763,1.724,0.5913,1.71,1.758,1.631,1.719,1.883,1.871,2.096,1.276,2.242,1.99,1.929,1.096,1.86,1.661,1.668,0.3934,0.7936,0.72,0.6325,0.3223,0.5916,0.9116,0.8996,0.753,1.052,1.117,0.9312,0.7636,0.8388,0.7413,0.7131,0.5187,0.624,0.5185,0.4871],\"type\":\"scatter\"},{\"line\":{\"width\":1.5},\"marker\":{\"size\":6},\"mode\":\"lines+markers\",\"name\":\"BNS.TO\",\"x\":[\"1996-Q1\",\"1996-Q2\",\"1996-Q3\",\"1996-Q4\",\"1997-Q1\",\"1997-Q2\",\"1997-Q3\",\"1997-Q4\",\"1998-Q1\",\"1998-Q2\",\"1998-Q3\",\"1998-Q4\",\"1999-Q1\",\"1999-Q2\",\"1999-Q3\",\"1999-Q4\",\"2000-Q1\",\"2000-Q2\",\"2000-Q3\",\"2000-Q4\",\"2001-Q1\",\"2001-Q2\",\"2001-Q3\",\"2001-Q4\",\"2002-Q1\",\"2002-Q2\",\"2002-Q3\",\"2002-Q4\",\"2003-Q1\",\"2003-Q2\",\"2003-Q3\",\"2003-Q4\",\"2004-Q1\",\"2004-Q2\",\"2004-Q3\",\"2004-Q4\",\"2005-Q1\",\"2005-Q2\",\"2005-Q3\",\"2005-Q4\",\"2006-Q1\",\"2006-Q2\",\"2006-Q3\",\"2006-Q4\",\"2007-Q1\",\"2007-Q2\",\"2007-Q3\",\"2007-Q4\",\"2008-Q1\",\"2008-Q2\",\"2008-Q3\",\"2008-Q4\",\"2009-Q1\",\"2009-Q2\",\"2009-Q3\",\"2009-Q4\",\"2010-Q1\",\"2010-Q2\",\"2010-Q3\",\"2010-Q4\",\"2011-Q1\",\"2011-Q2\",\"2011-Q3\",\"2011-Q4\",\"2012-Q1\",\"2012-Q2\",\"2012-Q3\",\"2012-Q4\",\"2013-Q1\",\"2013-Q2\",\"2013-Q3\",\"2013-Q4\",\"2014-Q1\",\"2014-Q2\",\"2014-Q3\",\"2014-Q4\",\"2015-Q1\",\"2015-Q2\",\"2015-Q3\",\"2015-Q4\",\"2016-Q1\",\"2016-Q2\",\"2016-Q3\",\"2016-Q4\",\"2017-Q1\",\"2017-Q2\",\"2017-Q3\",\"2017-Q4\",\"2018-Q1\",\"2018-Q2\",\"2018-Q3\",\"2018-Q4\",\"2019-Q1\",\"2019-Q2\",\"2019-Q3\",\"2019-Q4\",\"2020-Q1\",\"2020-Q2\",\"2020-Q3\",\"2020-Q4\",\"2021-Q1\",\"2021-Q2\",\"2021-Q3\",\"2021-Q4\",\"2022-Q1\",\"2022-Q2\",\"2022-Q3\",\"2022-Q4\",\"2023-Q1\",\"2023-Q2\",\"2023-Q3\"],\"y\":[1.456,1.1,1.144,0.9657,1.086,1.106,0.8083,1.135,1.192,0.9533,0.9718,1.181,1.089,0.8394,0.8569,0.8321,0.8586,0.8074,0.728,0.6329,0.6001,0.4896,0.374,0.4876,0.4683,0.4365,0.4568,0.4766,0.425,0.3755,0.4548,0.5028,0.4911,0.8025,0.5256,0.5396,0.5504,0.5367,0.5356,0.4782,0.5802,0.529,0.4665,1.4,0.4766,0.5186,0.4837,1.616,0.6929,0.6785,0.7,1.785,0.6367,2.56,2.394,2.189,4.576,2.668,2.538,1.864,2.201,2.972,2.827,1.717,2.642,1.017,2.547,1.3,0.7337,0.6833,0.6045,0.9337,0.6289,0.6762,0.549,0.3924,1.344,1.119,1.592,0.4978,1.352,1.059,1.254,0.4009,0.9881,1.039,1.168,0.5575,1.22,1.258,1.287,0.5268,0.49,0.4925,0.453,0.3611,0.4596,0.6655,0.6599,0.6052,0.8085,0.6376,0.734,0.5931,0.7095,0.6964,0.6434,0.4703,0.614,0.5541,0.6056],\"type\":\"scatter\"}],                        {\"title\":{\"text\":\"Quick Ratio for RY.TO, TD.TO, and BNS.TO on a Quarterly Basis\"},\"xaxis\":{\"title\":{\"text\":\"Quarters\"}},\"yaxis\":{\"title\":{\"text\":\"Quick Ratio\"}},\"template\":{\"data\":{\"histogram2dcontour\":[{\"type\":\"histogram2dcontour\",\"colorbar\":{\"outlinewidth\":0,\"ticks\":\"\"},\"colorscale\":[[0.0,\"#0d0887\"],[0.1111111111111111,\"#46039f\"],[0.2222222222222222,\"#7201a8\"],[0.3333333333333333,\"#9c179e\"],[0.4444444444444444,\"#bd3786\"],[0.5555555555555556,\"#d8576b\"],[0.6666666666666666,\"#ed7953\"],[0.7777777777777778,\"#fb9f3a\"],[0.8888888888888888,\"#fdca26\"],[1.0,\"#f0f921\"]]}],\"choropleth\":[{\"type\":\"choropleth\",\"colorbar\":{\"outlinewidth\":0,\"ticks\":\"\"}}],\"histogram2d\":[{\"type\":\"histogram2d\",\"colorbar\":{\"outlinewidth\":0,\"ticks\":\"\"},\"colorscale\":[[0.0,\"#0d0887\"],[0.1111111111111111,\"#46039f\"],[0.2222222222222222,\"#7201a8\"],[0.3333333333333333,\"#9c179e\"],[0.4444444444444444,\"#bd3786\"],[0.5555555555555556,\"#d8576b\"],[0.6666666666666666,\"#ed7953\"],[0.7777777777777778,\"#fb9f3a\"],[0.8888888888888888,\"#fdca26\"],[1.0,\"#f0f921\"]]}],\"heatmap\":[{\"type\":\"heatmap\",\"colorbar\":{\"outlinewidth\":0,\"ticks\":\"\"},\"colorscale\":[[0.0,\"#0d0887\"],[0.1111111111111111,\"#46039f\"],[0.2222222222222222,\"#7201a8\"],[0.3333333333333333,\"#9c179e\"],[0.4444444444444444,\"#bd3786\"],[0.5555555555555556,\"#d8576b\"],[0.6666666666666666,\"#ed7953\"],[0.7777777777777778,\"#fb9f3a\"],[0.8888888888888888,\"#fdca26\"],[1.0,\"#f0f921\"]]}],\"heatmapgl\":[{\"type\":\"heatmapgl\",\"colorbar\":{\"outlinewidth\":0,\"ticks\":\"\"},\"colorscale\":[[0.0,\"#0d0887\"],[0.1111111111111111,\"#46039f\"],[0.2222222222222222,\"#7201a8\"],[0.3333333333333333,\"#9c179e\"],[0.4444444444444444,\"#bd3786\"],[0.5555555555555556,\"#d8576b\"],[0.6666666666666666,\"#ed7953\"],[0.7777777777777778,\"#fb9f3a\"],[0.8888888888888888,\"#fdca26\"],[1.0,\"#f0f921\"]]}],\"contourcarpet\":[{\"type\":\"contourcarpet\",\"colorbar\":{\"outlinewidth\":0,\"ticks\":\"\"}}],\"contour\":[{\"type\":\"contour\",\"colorbar\":{\"outlinewidth\":0,\"ticks\":\"\"},\"colorscale\":[[0.0,\"#0d0887\"],[0.1111111111111111,\"#46039f\"],[0.2222222222222222,\"#7201a8\"],[0.3333333333333333,\"#9c179e\"],[0.4444444444444444,\"#bd3786\"],[0.5555555555555556,\"#d8576b\"],[0.6666666666666666,\"#ed7953\"],[0.7777777777777778,\"#fb9f3a\"],[0.8888888888888888,\"#fdca26\"],[1.0,\"#f0f921\"]]}],\"surface\":[{\"type\":\"surface\",\"colorbar\":{\"outlinewidth\":0,\"ticks\":\"\"},\"colorscale\":[[0.0,\"#0d0887\"],[0.1111111111111111,\"#46039f\"],[0.2222222222222222,\"#7201a8\"],[0.3333333333333333,\"#9c179e\"],[0.4444444444444444,\"#bd3786\"],[0.5555555555555556,\"#d8576b\"],[0.6666666666666666,\"#ed7953\"],[0.7777777777777778,\"#fb9f3a\"],[0.8888888888888888,\"#fdca26\"],[1.0,\"#f0f921\"]]}],\"mesh3d\":[{\"type\":\"mesh3d\",\"colorbar\":{\"outlinewidth\":0,\"ticks\":\"\"}}],\"scatter\":[{\"fillpattern\":{\"fillmode\":\"overlay\",\"size\":10,\"solidity\":0.2},\"type\":\"scatter\"}],\"parcoords\":[{\"type\":\"parcoords\",\"line\":{\"colorbar\":{\"outlinewidth\":0,\"ticks\":\"\"}}}],\"scatterpolargl\":[{\"type\":\"scatterpolargl\",\"marker\":{\"colorbar\":{\"outlinewidth\":0,\"ticks\":\"\"}}}],\"bar\":[{\"error_x\":{\"color\":\"#2a3f5f\"},\"error_y\":{\"color\":\"#2a3f5f\"},\"marker\":{\"line\":{\"color\":\"#E5ECF6\",\"width\":0.5},\"pattern\":{\"fillmode\":\"overlay\",\"size\":10,\"solidity\":0.2}},\"type\":\"bar\"}],\"scattergeo\":[{\"type\":\"scattergeo\",\"marker\":{\"colorbar\":{\"outlinewidth\":0,\"ticks\":\"\"}}}],\"scatterpolar\":[{\"type\":\"scatterpolar\",\"marker\":{\"colorbar\":{\"outlinewidth\":0,\"ticks\":\"\"}}}],\"histogram\":[{\"marker\":{\"pattern\":{\"fillmode\":\"overlay\",\"size\":10,\"solidity\":0.2}},\"type\":\"histogram\"}],\"scattergl\":[{\"type\":\"scattergl\",\"marker\":{\"colorbar\":{\"outlinewidth\":0,\"ticks\":\"\"}}}],\"scatter3d\":[{\"type\":\"scatter3d\",\"line\":{\"colorbar\":{\"outlinewidth\":0,\"ticks\":\"\"}},\"marker\":{\"colorbar\":{\"outlinewidth\":0,\"ticks\":\"\"}}}],\"scattermapbox\":[{\"type\":\"scattermapbox\",\"marker\":{\"colorbar\":{\"outlinewidth\":0,\"ticks\":\"\"}}}],\"scatterternary\":[{\"type\":\"scatterternary\",\"marker\":{\"colorbar\":{\"outlinewidth\":0,\"ticks\":\"\"}}}],\"scattercarpet\":[{\"type\":\"scattercarpet\",\"marker\":{\"colorbar\":{\"outlinewidth\":0,\"ticks\":\"\"}}}],\"carpet\":[{\"aaxis\":{\"endlinecolor\":\"#2a3f5f\",\"gridcolor\":\"white\",\"linecolor\":\"white\",\"minorgridcolor\":\"white\",\"startlinecolor\":\"#2a3f5f\"},\"baxis\":{\"endlinecolor\":\"#2a3f5f\",\"gridcolor\":\"white\",\"linecolor\":\"white\",\"minorgridcolor\":\"white\",\"startlinecolor\":\"#2a3f5f\"},\"type\":\"carpet\"}],\"table\":[{\"cells\":{\"fill\":{\"color\":\"#EBF0F8\"},\"line\":{\"color\":\"white\"}},\"header\":{\"fill\":{\"color\":\"#C8D4E3\"},\"line\":{\"color\":\"white\"}},\"type\":\"table\"}],\"barpolar\":[{\"marker\":{\"line\":{\"color\":\"#E5ECF6\",\"width\":0.5},\"pattern\":{\"fillmode\":\"overlay\",\"size\":10,\"solidity\":0.2}},\"type\":\"barpolar\"}],\"pie\":[{\"automargin\":true,\"type\":\"pie\"}]},\"layout\":{\"autotypenumbers\":\"strict\",\"colorway\":[\"#636efa\",\"#EF553B\",\"#00cc96\",\"#ab63fa\",\"#FFA15A\",\"#19d3f3\",\"#FF6692\",\"#B6E880\",\"#FF97FF\",\"#FECB52\"],\"font\":{\"color\":\"#2a3f5f\"},\"hovermode\":\"closest\",\"hoverlabel\":{\"align\":\"left\"},\"paper_bgcolor\":\"white\",\"plot_bgcolor\":\"#E5ECF6\",\"polar\":{\"bgcolor\":\"#E5ECF6\",\"angularaxis\":{\"gridcolor\":\"white\",\"linecolor\":\"white\",\"ticks\":\"\"},\"radialaxis\":{\"gridcolor\":\"white\",\"linecolor\":\"white\",\"ticks\":\"\"}},\"ternary\":{\"bgcolor\":\"#E5ECF6\",\"aaxis\":{\"gridcolor\":\"white\",\"linecolor\":\"white\",\"ticks\":\"\"},\"baxis\":{\"gridcolor\":\"white\",\"linecolor\":\"white\",\"ticks\":\"\"},\"caxis\":{\"gridcolor\":\"white\",\"linecolor\":\"white\",\"ticks\":\"\"}},\"coloraxis\":{\"colorbar\":{\"outlinewidth\":0,\"ticks\":\"\"}},\"colorscale\":{\"sequential\":[[0.0,\"#0d0887\"],[0.1111111111111111,\"#46039f\"],[0.2222222222222222,\"#7201a8\"],[0.3333333333333333,\"#9c179e\"],[0.4444444444444444,\"#bd3786\"],[0.5555555555555556,\"#d8576b\"],[0.6666666666666666,\"#ed7953\"],[0.7777777777777778,\"#fb9f3a\"],[0.8888888888888888,\"#fdca26\"],[1.0,\"#f0f921\"]],\"sequentialminus\":[[0.0,\"#0d0887\"],[0.1111111111111111,\"#46039f\"],[0.2222222222222222,\"#7201a8\"],[0.3333333333333333,\"#9c179e\"],[0.4444444444444444,\"#bd3786\"],[0.5555555555555556,\"#d8576b\"],[0.6666666666666666,\"#ed7953\"],[0.7777777777777778,\"#fb9f3a\"],[0.8888888888888888,\"#fdca26\"],[1.0,\"#f0f921\"]],\"diverging\":[[0,\"#8e0152\"],[0.1,\"#c51b7d\"],[0.2,\"#de77ae\"],[0.3,\"#f1b6da\"],[0.4,\"#fde0ef\"],[0.5,\"#f7f7f7\"],[0.6,\"#e6f5d0\"],[0.7,\"#b8e186\"],[0.8,\"#7fbc41\"],[0.9,\"#4d9221\"],[1,\"#276419\"]]},\"xaxis\":{\"gridcolor\":\"white\",\"linecolor\":\"white\",\"ticks\":\"\",\"title\":{\"standoff\":15},\"zerolinecolor\":\"white\",\"automargin\":true,\"zerolinewidth\":2},\"yaxis\":{\"gridcolor\":\"white\",\"linecolor\":\"white\",\"ticks\":\"\",\"title\":{\"standoff\":15},\"zerolinecolor\":\"white\",\"automargin\":true,\"zerolinewidth\":2},\"scene\":{\"xaxis\":{\"backgroundcolor\":\"#E5ECF6\",\"gridcolor\":\"white\",\"linecolor\":\"white\",\"showbackground\":true,\"ticks\":\"\",\"zerolinecolor\":\"white\",\"gridwidth\":2},\"yaxis\":{\"backgroundcolor\":\"#E5ECF6\",\"gridcolor\":\"white\",\"linecolor\":\"white\",\"showbackground\":true,\"ticks\":\"\",\"zerolinecolor\":\"white\",\"gridwidth\":2},\"zaxis\":{\"backgroundcolor\":\"#E5ECF6\",\"gridcolor\":\"white\",\"linecolor\":\"white\",\"showbackground\":true,\"ticks\":\"\",\"zerolinecolor\":\"white\",\"gridwidth\":2}},\"shapedefaults\":{\"line\":{\"color\":\"#2a3f5f\"}},\"annotationdefaults\":{\"arrowcolor\":\"#2a3f5f\",\"arrowhead\":0,\"arrowwidth\":1},\"geo\":{\"bgcolor\":\"white\",\"landcolor\":\"#E5ECF6\",\"subunitcolor\":\"white\",\"showland\":true,\"showlakes\":true,\"lakecolor\":\"white\"},\"title\":{\"x\":0.05},\"mapbox\":{\"style\":\"light\"}}}},                        {\"responsive\": true}                    ).then(function(){\n",
       "                            \n",
       "var gd = document.getElementById('12338b69-21e2-4b21-9800-a55986092667');\n",
       "var x = new MutationObserver(function (mutations, observer) {{\n",
       "        var display = window.getComputedStyle(gd).display;\n",
       "        if (!display || display === 'none') {{\n",
       "            console.log([gd, 'removed!']);\n",
       "            Plotly.purge(gd);\n",
       "            observer.disconnect();\n",
       "        }}\n",
       "}});\n",
       "\n",
       "// Listen for the removal of the full notebook cells\n",
       "var notebookContainer = gd.closest('#notebook-container');\n",
       "if (notebookContainer) {{\n",
       "    x.observe(notebookContainer, {childList: true});\n",
       "}}\n",
       "\n",
       "// Listen for the clearing of the current output cell\n",
       "var outputEl = gd.closest('.output');\n",
       "if (outputEl) {{\n",
       "    x.observe(outputEl, {childList: true});\n",
       "}}\n",
       "\n",
       "                        })                };                });            </script>        </div>"
      ]
     },
     "metadata": {},
     "output_type": "display_data"
    }
   ],
   "source": [
    "# Combine data into a single DataFrame for plotting\n",
    "combined_df = pd.DataFrame({\n",
    "    'Quarters': regression_df_RY['Quarters'],\n",
    "    'RY.TO': regression_df_RY['Quick ratio'],  \n",
    "    'TD.TO': regression_df_TD['Quick ratio'], \n",
    "    'BNS.TO': regression_df_BNS['Quick ratio']\n",
    "})\n",
    "\n",
    "# Set the index to 'Quarters' for better plotting\n",
    "combined_df.set_index('Quarters', inplace=True)\n",
    "\n",
    "# Create traces for each company\n",
    "trace_ry = go.Scatter(\n",
    "    x=combined_df.index,\n",
    "    y=combined_df['RY.TO'],\n",
    "    mode='lines+markers',\n",
    "    name='RY.TO',\n",
    "    marker=dict(size=6),  # Adjust the size of the markers\n",
    "    line=dict(width=1.5)  # Adjust the width of the lines\n",
    ")\n",
    "\n",
    "trace_td = go.Scatter(\n",
    "    x=combined_df.index,\n",
    "    y=combined_df['TD.TO'],\n",
    "    mode='lines+markers',\n",
    "    name='TD.TO',\n",
    "    marker=dict(size=6),\n",
    "    line=dict(width=1.5)\n",
    ")\n",
    "\n",
    "trace_bns = go.Scatter(\n",
    "    x=combined_df.index,\n",
    "    y=combined_df['BNS.TO'],\n",
    "    mode='lines+markers',\n",
    "    name='BNS.TO',\n",
    "    marker=dict(size=6),\n",
    "    line=dict(width=1.5)\n",
    ")\n",
    "\n",
    "# Combine the traces\n",
    "data = [trace_ry, trace_td, trace_bns]\n",
    "\n",
    "# Define the layout\n",
    "layout = go.Layout(\n",
    "    title='Quick Ratio for RY.TO, TD.TO, and BNS.TO on a Quarterly Basis',\n",
    "    xaxis=dict(title='Quarters'),\n",
    "    yaxis=dict(title='Quick Ratio')\n",
    ")\n",
    "\n",
    "# Create the figure\n",
    "fig = go.Figure(data=data, layout=layout)\n",
    "\n",
    "# Plot the figure\n",
    "fig.show()"
   ]
  },
  {
   "cell_type": "markdown",
   "metadata": {},
   "source": [
    "### Linear regression"
   ]
  },
  {
   "cell_type": "code",
   "execution_count": null,
   "metadata": {},
   "outputs": [
    {
     "name": "stdout",
     "output_type": "stream",
     "text": [
      "Linear Regression Results for RY.TO:\n",
      "                            OLS Regression Results                            \n",
      "==============================================================================\n",
      "Dep. Variable:            Quick_Ratio   R-squared:                       0.521\n",
      "Model:                            OLS   Adj. R-squared:                  0.493\n",
      "Method:                 Least Squares   F-statistic:                     18.86\n",
      "Date:                Fri, 09 Aug 2024   Prob (F-statistic):           9.56e-15\n",
      "Time:                        16:54:57   Log-Likelihood:                -28.784\n",
      "No. Observations:                 111   AIC:                             71.57\n",
      "Df Residuals:                     104   BIC:                             90.54\n",
      "Df Model:                           6                                         \n",
      "Covariance Type:            nonrobust                                         \n",
      "==============================================================================\n",
      "                 coef    std err          t      P>|t|      [0.025      0.975]\n",
      "------------------------------------------------------------------------------\n",
      "Intercept      1.9461      0.202      9.644      0.000       1.546       2.346\n",
      "Sea_Lvl_M     -0.3872      0.204     -1.902      0.060      -0.791       0.017\n",
      "CDD_M          0.0366      0.060      0.614      0.541      -0.082       0.155\n",
      "Rx5Day_M       0.9142      0.169      5.425      0.000       0.580       1.248\n",
      "T10_M          0.6573      0.290      2.265      0.026       0.082       1.233\n",
      "T90_M         -0.7921      0.215     -3.685      0.000      -1.218      -0.366\n",
      "WP90_M        -1.8838      0.541     -3.480      0.001      -2.957      -0.810\n",
      "==============================================================================\n",
      "Omnibus:                        9.858   Durbin-Watson:                   1.735\n",
      "Prob(Omnibus):                  0.007   Jarque-Bera (JB):               10.047\n",
      "Skew:                           0.620   Prob(JB):                      0.00658\n",
      "Kurtosis:                       3.796   Cond. No.                         33.5\n",
      "==============================================================================\n",
      "\n",
      "Notes:\n",
      "[1] Standard Errors assume that the covariance matrix of the errors is correctly specified.\n",
      "MSE: 0.09834831048125851\n",
      "R-squared: 0.521031514418402\n",
      "\n",
      "\n",
      "Linear Regression Results for TD.TO:\n",
      "                            OLS Regression Results                            \n",
      "==============================================================================\n",
      "Dep. Variable:            Quick_Ratio   R-squared:                       0.488\n",
      "Model:                            OLS   Adj. R-squared:                  0.459\n",
      "Method:                 Least Squares   F-statistic:                     16.55\n",
      "Date:                Fri, 09 Aug 2024   Prob (F-statistic):           2.60e-13\n",
      "Time:                        16:54:57   Log-Likelihood:                -104.18\n",
      "No. Observations:                 111   AIC:                             222.4\n",
      "Df Residuals:                     104   BIC:                             241.3\n",
      "Df Model:                           6                                         \n",
      "Covariance Type:            nonrobust                                         \n",
      "==============================================================================\n",
      "                 coef    std err          t      P>|t|      [0.025      0.975]\n",
      "------------------------------------------------------------------------------\n",
      "Intercept     -1.3251      0.398     -3.329      0.001      -2.114      -0.536\n",
      "Sea_Lvl_M     -0.6036      0.402     -1.503      0.136      -1.400       0.193\n",
      "CDD_M         -0.2164      0.117     -1.842      0.068      -0.449       0.017\n",
      "Rx5Day_M       1.8524      0.332      5.573      0.000       1.193       2.512\n",
      "T10_M         -1.2031      0.572     -2.102      0.038      -2.338      -0.068\n",
      "T90_M         -1.4534      0.424     -3.429      0.001      -2.294      -0.613\n",
      "WP90_M         1.4593      1.068      1.367      0.175      -0.658       3.576\n",
      "==============================================================================\n",
      "Omnibus:                       30.935   Durbin-Watson:                   1.947\n",
      "Prob(Omnibus):                  0.000   Jarque-Bera (JB):               61.244\n",
      "Skew:                           1.136   Prob(JB):                     5.02e-14\n",
      "Kurtosis:                       5.842   Cond. No.                         33.5\n",
      "==============================================================================\n",
      "\n",
      "Notes:\n",
      "[1] Standard Errors assume that the covariance matrix of the errors is correctly specified.\n",
      "MSE: 0.3825983326126163\n",
      "R-squared: 0.48840506870486344\n",
      "\n",
      "\n",
      "Linear Regression Results for BNS.TO:\n",
      "                            OLS Regression Results                            \n",
      "==============================================================================\n",
      "Dep. Variable:            Quick_Ratio   R-squared:                       0.333\n",
      "Model:                            OLS   Adj. R-squared:                  0.295\n",
      "Method:                 Least Squares   F-statistic:                     8.659\n",
      "Date:                Fri, 09 Aug 2024   Prob (F-statistic):           1.21e-07\n",
      "Time:                        16:54:57   Log-Likelihood:                -95.230\n",
      "No. Observations:                 111   AIC:                             204.5\n",
      "Df Residuals:                     104   BIC:                             223.4\n",
      "Df Model:                           6                                         \n",
      "Covariance Type:            nonrobust                                         \n",
      "==============================================================================\n",
      "                 coef    std err          t      P>|t|      [0.025      0.975]\n",
      "------------------------------------------------------------------------------\n",
      "Intercept     -0.0044      0.367     -0.012      0.990      -0.733       0.724\n",
      "Sea_Lvl_M      0.0911      0.371      0.246      0.806      -0.644       0.826\n",
      "CDD_M         -0.2432      0.108     -2.244      0.027      -0.458      -0.028\n",
      "Rx5Day_M       0.9537      0.307      3.110      0.002       0.346       1.562\n",
      "T10_M         -0.8652      0.528     -1.638      0.104      -1.912       0.182\n",
      "T90_M         -2.2255      0.391     -5.691      0.000      -3.001      -1.450\n",
      "WP90_M         1.8597      0.985      1.888      0.062      -0.093       3.813\n",
      "==============================================================================\n",
      "Omnibus:                       65.295   Durbin-Watson:                   1.015\n",
      "Prob(Omnibus):                  0.000   Jarque-Bera (JB):              384.123\n",
      "Skew:                           1.876   Prob(JB):                     3.88e-84\n",
      "Kurtosis:                      11.305   Cond. No.                         33.5\n",
      "==============================================================================\n",
      "\n",
      "Notes:\n",
      "[1] Standard Errors assume that the covariance matrix of the errors is correctly specified.\n",
      "MSE: 0.3256207742885801\n",
      "R-squared: 0.3331344024226778\n",
      "\n",
      "\n"
     ]
    }
   ],
   "source": [
    "# Function to perform linear regression analysis for the Quick Ratio\n",
    "def perform_linear_regression(df):\n",
    "    # Rename the 'Quick ratio' column to 'Quick_Ratio'\n",
    "    df = df.rename(columns={'Quick ratio': 'Quick_Ratio'})\n",
    "    \n",
    "    # Create a formula for OLS\n",
    "    formula = 'Quick_Ratio ~ ' + ' + '.join(features)\n",
    "    \n",
    "    # Fit the model using OLS\n",
    "    model = ols(formula, data=df).fit()\n",
    "    \n",
    "    # Predict and evaluate the model\n",
    "    y_pred = model.fittedvalues\n",
    "    y_test = df['Quick_Ratio']\n",
    "    \n",
    "    # Calculate metrics\n",
    "    mse = mean_squared_error(y_test, y_pred)\n",
    "    r2 = r2_score(y_test, y_pred)\n",
    "    \n",
    "    return model.summary(), mse, r2\n",
    "\n",
    "# Perform linear regression for each bank\n",
    "linear_results = {}\n",
    "for symbol, regression_df in regression_dataframes.items():\n",
    "    summary, mse, r2 = perform_linear_regression(regression_df)\n",
    "    linear_results[symbol] = {\n",
    "        'Summary': summary,\n",
    "        'MSE': mse,\n",
    "        'R2': r2\n",
    "    }\n",
    "\n",
    "# Display the results\n",
    "for symbol, result in linear_results.items():\n",
    "    print(f\"Linear Regression Results for {symbol}:\")\n",
    "    print(result['Summary'])\n",
    "    print(f\"MSE: {result['MSE']}\")\n",
    "    print(f\"R-squared: {result['R2']}\")\n",
    "    print(\"\\n\")"
   ]
  },
  {
   "cell_type": "markdown",
   "metadata": {},
   "source": [
    "### Log-linear regression"
   ]
  },
  {
   "cell_type": "code",
   "execution_count": null,
   "metadata": {},
   "outputs": [
    {
     "data": {
      "application/vnd.plotly.v1+json": {
       "config": {
        "plotlyServerURL": "https://plot.ly"
       },
       "data": [
        {
         "marker": {
          "color": "blue",
          "size": 8
         },
         "mode": "markers",
         "name": "TD.TO Quick Ratio",
         "type": "scatter",
         "x": [
          "1996-Q1",
          "1996-Q2",
          "1996-Q3",
          "1996-Q4",
          "1997-Q1",
          "1997-Q2",
          "1997-Q3",
          "1997-Q4",
          "1998-Q1",
          "1998-Q2",
          "1998-Q3",
          "1998-Q4",
          "1999-Q1",
          "1999-Q2",
          "1999-Q3",
          "1999-Q4",
          "2000-Q1",
          "2000-Q2",
          "2000-Q3",
          "2000-Q4",
          "2001-Q1",
          "2001-Q2",
          "2001-Q3",
          "2001-Q4",
          "2002-Q1",
          "2002-Q2",
          "2002-Q3",
          "2002-Q4",
          "2003-Q1",
          "2003-Q2",
          "2003-Q3",
          "2003-Q4",
          "2004-Q1",
          "2004-Q2",
          "2004-Q3",
          "2004-Q4",
          "2005-Q1",
          "2005-Q2",
          "2005-Q3",
          "2005-Q4",
          "2006-Q1",
          "2006-Q2",
          "2006-Q3",
          "2006-Q4",
          "2007-Q1",
          "2007-Q2",
          "2007-Q3",
          "2007-Q4",
          "2008-Q1",
          "2008-Q2",
          "2008-Q3",
          "2008-Q4",
          "2009-Q1",
          "2009-Q2",
          "2009-Q3",
          "2009-Q4",
          "2010-Q1",
          "2010-Q2",
          "2010-Q3",
          "2010-Q4",
          "2011-Q1",
          "2011-Q2",
          "2011-Q3",
          "2011-Q4",
          "2012-Q1",
          "2012-Q2",
          "2012-Q3",
          "2012-Q4",
          "2013-Q1",
          "2013-Q2",
          "2013-Q3",
          "2013-Q4",
          "2014-Q1",
          "2014-Q2",
          "2014-Q3",
          "2014-Q4",
          "2015-Q1",
          "2015-Q2",
          "2015-Q3",
          "2015-Q4",
          "2016-Q1",
          "2016-Q2",
          "2016-Q3",
          "2016-Q4",
          "2017-Q1",
          "2017-Q2",
          "2017-Q3",
          "2017-Q4",
          "2018-Q1",
          "2018-Q2",
          "2018-Q3",
          "2018-Q4",
          "2019-Q1",
          "2019-Q2",
          "2019-Q3",
          "2019-Q4",
          "2020-Q1",
          "2020-Q2",
          "2020-Q3",
          "2020-Q4",
          "2021-Q1",
          "2021-Q2",
          "2021-Q3",
          "2021-Q4",
          "2022-Q1",
          "2022-Q2",
          "2022-Q3",
          "2022-Q4",
          "2023-Q1",
          "2023-Q2",
          "2023-Q3"
         ],
         "y": [
          0.0448,
          0.0448,
          0.0416,
          0.2871,
          0.0371,
          0.0197,
          0.0221,
          0.4,
          0.2036,
          0.2193,
          0.1707,
          0.3375,
          0.2639,
          0.2431,
          0.1978,
          0.2558,
          0.2571,
          0.1945,
          0.1993,
          0.1503,
          0.1918,
          0.1133,
          0.1262,
          0.1648,
          0.1277,
          0.1531,
          0.1837,
          0.2542,
          0.2596,
          0.1676,
          0.2332,
          0.3328,
          0.2186,
          0.32,
          0.3373,
          0.5168,
          0.3301,
          0.3535,
          0.3627,
          1.087,
          0.3442,
          0.3658,
          0.2798,
          0.7349,
          0.2314,
          0.3233,
          0.3115,
          1.95,
          0.3494,
          0.4719,
          0.3834,
          3.396,
          0.9517,
          0.7064,
          0.9046,
          3.802,
          0.6904,
          0.5556,
          0.9128,
          3.29,
          0.4158,
          0.7069,
          0.6015,
          3.29,
          0.3692,
          0.405,
          0.7653,
          2.683,
          2.731,
          2.782,
          2.706,
          2.584,
          2.145,
          1.763,
          1.724,
          0.5913,
          1.71,
          1.758,
          1.631,
          1.719,
          1.883,
          1.871,
          2.096,
          1.276,
          2.242,
          1.99,
          1.929,
          1.096,
          1.86,
          1.661,
          1.668,
          0.3934,
          0.7936,
          0.72,
          0.6325,
          0.3223,
          0.5916,
          0.9116,
          0.8996,
          0.753,
          1.052,
          1.117,
          0.9312,
          0.7636,
          0.8388,
          0.7413,
          0.7131,
          0.5187,
          0.624,
          0.5185,
          0.4871
         ]
        },
        {
         "line": {
          "color": "red",
          "width": 2
         },
         "mode": "lines",
         "name": "Fitted Logarithmic Line",
         "type": "scatter",
         "x": [
          "1996-Q1",
          "1996-Q2",
          "1996-Q3",
          "1996-Q4",
          "1997-Q1",
          "1997-Q2",
          "1997-Q3",
          "1997-Q4",
          "1998-Q1",
          "1998-Q2",
          "1998-Q3",
          "1998-Q4",
          "1999-Q1",
          "1999-Q2",
          "1999-Q3",
          "1999-Q4",
          "2000-Q1",
          "2000-Q2",
          "2000-Q3",
          "2000-Q4",
          "2001-Q1",
          "2001-Q2",
          "2001-Q3",
          "2001-Q4",
          "2002-Q1",
          "2002-Q2",
          "2002-Q3",
          "2002-Q4",
          "2003-Q1",
          "2003-Q2",
          "2003-Q3",
          "2003-Q4",
          "2004-Q1",
          "2004-Q2",
          "2004-Q3",
          "2004-Q4",
          "2005-Q1",
          "2005-Q2",
          "2005-Q3",
          "2005-Q4",
          "2006-Q1",
          "2006-Q2",
          "2006-Q3",
          "2006-Q4",
          "2007-Q1",
          "2007-Q2",
          "2007-Q3",
          "2007-Q4",
          "2008-Q1",
          "2008-Q2",
          "2008-Q3",
          "2008-Q4",
          "2009-Q1",
          "2009-Q2",
          "2009-Q3",
          "2009-Q4",
          "2010-Q1",
          "2010-Q2",
          "2010-Q3",
          "2010-Q4",
          "2011-Q1",
          "2011-Q2",
          "2011-Q3",
          "2011-Q4",
          "2012-Q1",
          "2012-Q2",
          "2012-Q3",
          "2012-Q4",
          "2013-Q1",
          "2013-Q2",
          "2013-Q3",
          "2013-Q4",
          "2014-Q1",
          "2014-Q2",
          "2014-Q3",
          "2014-Q4",
          "2015-Q1",
          "2015-Q2",
          "2015-Q3",
          "2015-Q4",
          "2016-Q1",
          "2016-Q2",
          "2016-Q3",
          "2016-Q4",
          "2017-Q1",
          "2017-Q2",
          "2017-Q3",
          "2017-Q4",
          "2018-Q1",
          "2018-Q2",
          "2018-Q3",
          "2018-Q4",
          "2019-Q1",
          "2019-Q2",
          "2019-Q3",
          "2019-Q4",
          "2020-Q1",
          "2020-Q2",
          "2020-Q3",
          "2020-Q4",
          "2021-Q1",
          "2021-Q2",
          "2021-Q3",
          "2021-Q4",
          "2022-Q1",
          "2022-Q2",
          "2022-Q3",
          "2022-Q4",
          "2023-Q1",
          "2023-Q2",
          "2023-Q3"
         ],
         "y": [
          -0.7836708240522732,
          -0.47579954602822705,
          -0.29570639333506277,
          -0.16792826800418095,
          -0.06881585399936233,
          0.012164884688983309,
          0.0806331236686977,
          0.13994301001986512,
          0.1922580373821477,
          0.23905542402468377,
          0.28138880961438595,
          0.3200361627130294,
          0.3555882812227657,
          0.38850440169274375,
          0.41914857671784805,
          0.4478142880439112,
          0.4747415847592674,
          0.5001293154061938,
          0.5241440484651118,
          0.5469267020487298,
          0.5685975543859081,
          0.589260087638432,
          0.6090039765799532,
          0.6279074407370754,
          0.6460391160535484,
          0.6634595592468119,
          0.680222468099358,
          0.6963756797167899,
          0.7119619935341797,
          0.7270198547418941,
          0.7415839256085479,
          0.7556855660679572,
          0.7693532403315964,
          0.7826128627833135,
          0.7954880937216084,
          0.8080005934302399,
          0.8201702414305798,
          0.8320153264891578,
          0.8435527119399762,
          0.854797980072776,
          0.8657655586897863,
          0.8764688324099542,
          0.8869202408746987,
          0.8971313656624781,
          0.9071130074350585,
          0.9168752546039993,
          0.9264275446118396,
          0.9357787187611215,
          0.9449370713896685,
          0.9539103940775945,
          0.9627060154764779,
          0.9713308372708579,
          0.9797913667141741,
          0.9880937461234041,
          0.9962437796672967,
          1.004246957740836,
          1.012108479182322,
          1.0198332715582257,
          1.0274260097140284,
          1.0348911327659402,
          1.042232859688141,
          1.049455203632594,
          1.0565619851031185,
          1.0635568440920034,
          1.0704432512756765,
          1.0772245183556424,
          1.0839038076218124,
          1.0904841408073596,
          1.0969684072971635,
          1.1033593717456547,
          1.1096596811543296,
          1.115871871454286,
          1.121998373634745,
          1.128041519454626,
          1.1340035467707588,
          1.139886604513204,
          1.1456927573353568,
          1.1514239899640224,
          1.157082211272389,
          1.162669258096822,
          1.1681868988165685,
          1.1736368367138323,
          1.1790207131301926,
          1.1843401104340003,
          1.189596554812178,
          1.1947915188987448,
          1.19992642425139,
          1.2050026436865242,
          1.2100215034823925,
          1.2149842854591046,
          1.2198922289437366,
          1.2247465326280453,
          1.2295483563257583,
          1.2342988226358858,
          1.2389990185180226,
          1.2436499967851677,
          1.2482527775191923,
          1.2528083494137148,
          1.2573176710488068,
          1.2617816721016406,
          1.2662012544969008,
          1.270577293500524,
          1.2749106387600821,
          1.279202115294904,
          1.2834525244388189,
          1.28766264473822,
          1.2918332328079625,
          1.2959650241474503,
          1.3000587339191145,
          1.304115057691343,
          1.3081346721477902
         ]
        }
       ],
       "layout": {
        "template": {
         "data": {
          "bar": [
           {
            "error_x": {
             "color": "#2a3f5f"
            },
            "error_y": {
             "color": "#2a3f5f"
            },
            "marker": {
             "line": {
              "color": "#E5ECF6",
              "width": 0.5
             },
             "pattern": {
              "fillmode": "overlay",
              "size": 10,
              "solidity": 0.2
             }
            },
            "type": "bar"
           }
          ],
          "barpolar": [
           {
            "marker": {
             "line": {
              "color": "#E5ECF6",
              "width": 0.5
             },
             "pattern": {
              "fillmode": "overlay",
              "size": 10,
              "solidity": 0.2
             }
            },
            "type": "barpolar"
           }
          ],
          "carpet": [
           {
            "aaxis": {
             "endlinecolor": "#2a3f5f",
             "gridcolor": "white",
             "linecolor": "white",
             "minorgridcolor": "white",
             "startlinecolor": "#2a3f5f"
            },
            "baxis": {
             "endlinecolor": "#2a3f5f",
             "gridcolor": "white",
             "linecolor": "white",
             "minorgridcolor": "white",
             "startlinecolor": "#2a3f5f"
            },
            "type": "carpet"
           }
          ],
          "choropleth": [
           {
            "colorbar": {
             "outlinewidth": 0,
             "ticks": ""
            },
            "type": "choropleth"
           }
          ],
          "contour": [
           {
            "colorbar": {
             "outlinewidth": 0,
             "ticks": ""
            },
            "colorscale": [
             [
              0,
              "#0d0887"
             ],
             [
              0.1111111111111111,
              "#46039f"
             ],
             [
              0.2222222222222222,
              "#7201a8"
             ],
             [
              0.3333333333333333,
              "#9c179e"
             ],
             [
              0.4444444444444444,
              "#bd3786"
             ],
             [
              0.5555555555555556,
              "#d8576b"
             ],
             [
              0.6666666666666666,
              "#ed7953"
             ],
             [
              0.7777777777777778,
              "#fb9f3a"
             ],
             [
              0.8888888888888888,
              "#fdca26"
             ],
             [
              1,
              "#f0f921"
             ]
            ],
            "type": "contour"
           }
          ],
          "contourcarpet": [
           {
            "colorbar": {
             "outlinewidth": 0,
             "ticks": ""
            },
            "type": "contourcarpet"
           }
          ],
          "heatmap": [
           {
            "colorbar": {
             "outlinewidth": 0,
             "ticks": ""
            },
            "colorscale": [
             [
              0,
              "#0d0887"
             ],
             [
              0.1111111111111111,
              "#46039f"
             ],
             [
              0.2222222222222222,
              "#7201a8"
             ],
             [
              0.3333333333333333,
              "#9c179e"
             ],
             [
              0.4444444444444444,
              "#bd3786"
             ],
             [
              0.5555555555555556,
              "#d8576b"
             ],
             [
              0.6666666666666666,
              "#ed7953"
             ],
             [
              0.7777777777777778,
              "#fb9f3a"
             ],
             [
              0.8888888888888888,
              "#fdca26"
             ],
             [
              1,
              "#f0f921"
             ]
            ],
            "type": "heatmap"
           }
          ],
          "heatmapgl": [
           {
            "colorbar": {
             "outlinewidth": 0,
             "ticks": ""
            },
            "colorscale": [
             [
              0,
              "#0d0887"
             ],
             [
              0.1111111111111111,
              "#46039f"
             ],
             [
              0.2222222222222222,
              "#7201a8"
             ],
             [
              0.3333333333333333,
              "#9c179e"
             ],
             [
              0.4444444444444444,
              "#bd3786"
             ],
             [
              0.5555555555555556,
              "#d8576b"
             ],
             [
              0.6666666666666666,
              "#ed7953"
             ],
             [
              0.7777777777777778,
              "#fb9f3a"
             ],
             [
              0.8888888888888888,
              "#fdca26"
             ],
             [
              1,
              "#f0f921"
             ]
            ],
            "type": "heatmapgl"
           }
          ],
          "histogram": [
           {
            "marker": {
             "pattern": {
              "fillmode": "overlay",
              "size": 10,
              "solidity": 0.2
             }
            },
            "type": "histogram"
           }
          ],
          "histogram2d": [
           {
            "colorbar": {
             "outlinewidth": 0,
             "ticks": ""
            },
            "colorscale": [
             [
              0,
              "#0d0887"
             ],
             [
              0.1111111111111111,
              "#46039f"
             ],
             [
              0.2222222222222222,
              "#7201a8"
             ],
             [
              0.3333333333333333,
              "#9c179e"
             ],
             [
              0.4444444444444444,
              "#bd3786"
             ],
             [
              0.5555555555555556,
              "#d8576b"
             ],
             [
              0.6666666666666666,
              "#ed7953"
             ],
             [
              0.7777777777777778,
              "#fb9f3a"
             ],
             [
              0.8888888888888888,
              "#fdca26"
             ],
             [
              1,
              "#f0f921"
             ]
            ],
            "type": "histogram2d"
           }
          ],
          "histogram2dcontour": [
           {
            "colorbar": {
             "outlinewidth": 0,
             "ticks": ""
            },
            "colorscale": [
             [
              0,
              "#0d0887"
             ],
             [
              0.1111111111111111,
              "#46039f"
             ],
             [
              0.2222222222222222,
              "#7201a8"
             ],
             [
              0.3333333333333333,
              "#9c179e"
             ],
             [
              0.4444444444444444,
              "#bd3786"
             ],
             [
              0.5555555555555556,
              "#d8576b"
             ],
             [
              0.6666666666666666,
              "#ed7953"
             ],
             [
              0.7777777777777778,
              "#fb9f3a"
             ],
             [
              0.8888888888888888,
              "#fdca26"
             ],
             [
              1,
              "#f0f921"
             ]
            ],
            "type": "histogram2dcontour"
           }
          ],
          "mesh3d": [
           {
            "colorbar": {
             "outlinewidth": 0,
             "ticks": ""
            },
            "type": "mesh3d"
           }
          ],
          "parcoords": [
           {
            "line": {
             "colorbar": {
              "outlinewidth": 0,
              "ticks": ""
             }
            },
            "type": "parcoords"
           }
          ],
          "pie": [
           {
            "automargin": true,
            "type": "pie"
           }
          ],
          "scatter": [
           {
            "fillpattern": {
             "fillmode": "overlay",
             "size": 10,
             "solidity": 0.2
            },
            "type": "scatter"
           }
          ],
          "scatter3d": [
           {
            "line": {
             "colorbar": {
              "outlinewidth": 0,
              "ticks": ""
             }
            },
            "marker": {
             "colorbar": {
              "outlinewidth": 0,
              "ticks": ""
             }
            },
            "type": "scatter3d"
           }
          ],
          "scattercarpet": [
           {
            "marker": {
             "colorbar": {
              "outlinewidth": 0,
              "ticks": ""
             }
            },
            "type": "scattercarpet"
           }
          ],
          "scattergeo": [
           {
            "marker": {
             "colorbar": {
              "outlinewidth": 0,
              "ticks": ""
             }
            },
            "type": "scattergeo"
           }
          ],
          "scattergl": [
           {
            "marker": {
             "colorbar": {
              "outlinewidth": 0,
              "ticks": ""
             }
            },
            "type": "scattergl"
           }
          ],
          "scattermapbox": [
           {
            "marker": {
             "colorbar": {
              "outlinewidth": 0,
              "ticks": ""
             }
            },
            "type": "scattermapbox"
           }
          ],
          "scatterpolar": [
           {
            "marker": {
             "colorbar": {
              "outlinewidth": 0,
              "ticks": ""
             }
            },
            "type": "scatterpolar"
           }
          ],
          "scatterpolargl": [
           {
            "marker": {
             "colorbar": {
              "outlinewidth": 0,
              "ticks": ""
             }
            },
            "type": "scatterpolargl"
           }
          ],
          "scatterternary": [
           {
            "marker": {
             "colorbar": {
              "outlinewidth": 0,
              "ticks": ""
             }
            },
            "type": "scatterternary"
           }
          ],
          "surface": [
           {
            "colorbar": {
             "outlinewidth": 0,
             "ticks": ""
            },
            "colorscale": [
             [
              0,
              "#0d0887"
             ],
             [
              0.1111111111111111,
              "#46039f"
             ],
             [
              0.2222222222222222,
              "#7201a8"
             ],
             [
              0.3333333333333333,
              "#9c179e"
             ],
             [
              0.4444444444444444,
              "#bd3786"
             ],
             [
              0.5555555555555556,
              "#d8576b"
             ],
             [
              0.6666666666666666,
              "#ed7953"
             ],
             [
              0.7777777777777778,
              "#fb9f3a"
             ],
             [
              0.8888888888888888,
              "#fdca26"
             ],
             [
              1,
              "#f0f921"
             ]
            ],
            "type": "surface"
           }
          ],
          "table": [
           {
            "cells": {
             "fill": {
              "color": "#EBF0F8"
             },
             "line": {
              "color": "white"
             }
            },
            "header": {
             "fill": {
              "color": "#C8D4E3"
             },
             "line": {
              "color": "white"
             }
            },
            "type": "table"
           }
          ]
         },
         "layout": {
          "annotationdefaults": {
           "arrowcolor": "#2a3f5f",
           "arrowhead": 0,
           "arrowwidth": 1
          },
          "autotypenumbers": "strict",
          "coloraxis": {
           "colorbar": {
            "outlinewidth": 0,
            "ticks": ""
           }
          },
          "colorscale": {
           "diverging": [
            [
             0,
             "#8e0152"
            ],
            [
             0.1,
             "#c51b7d"
            ],
            [
             0.2,
             "#de77ae"
            ],
            [
             0.3,
             "#f1b6da"
            ],
            [
             0.4,
             "#fde0ef"
            ],
            [
             0.5,
             "#f7f7f7"
            ],
            [
             0.6,
             "#e6f5d0"
            ],
            [
             0.7,
             "#b8e186"
            ],
            [
             0.8,
             "#7fbc41"
            ],
            [
             0.9,
             "#4d9221"
            ],
            [
             1,
             "#276419"
            ]
           ],
           "sequential": [
            [
             0,
             "#0d0887"
            ],
            [
             0.1111111111111111,
             "#46039f"
            ],
            [
             0.2222222222222222,
             "#7201a8"
            ],
            [
             0.3333333333333333,
             "#9c179e"
            ],
            [
             0.4444444444444444,
             "#bd3786"
            ],
            [
             0.5555555555555556,
             "#d8576b"
            ],
            [
             0.6666666666666666,
             "#ed7953"
            ],
            [
             0.7777777777777778,
             "#fb9f3a"
            ],
            [
             0.8888888888888888,
             "#fdca26"
            ],
            [
             1,
             "#f0f921"
            ]
           ],
           "sequentialminus": [
            [
             0,
             "#0d0887"
            ],
            [
             0.1111111111111111,
             "#46039f"
            ],
            [
             0.2222222222222222,
             "#7201a8"
            ],
            [
             0.3333333333333333,
             "#9c179e"
            ],
            [
             0.4444444444444444,
             "#bd3786"
            ],
            [
             0.5555555555555556,
             "#d8576b"
            ],
            [
             0.6666666666666666,
             "#ed7953"
            ],
            [
             0.7777777777777778,
             "#fb9f3a"
            ],
            [
             0.8888888888888888,
             "#fdca26"
            ],
            [
             1,
             "#f0f921"
            ]
           ]
          },
          "colorway": [
           "#636efa",
           "#EF553B",
           "#00cc96",
           "#ab63fa",
           "#FFA15A",
           "#19d3f3",
           "#FF6692",
           "#B6E880",
           "#FF97FF",
           "#FECB52"
          ],
          "font": {
           "color": "#2a3f5f"
          },
          "geo": {
           "bgcolor": "white",
           "lakecolor": "white",
           "landcolor": "#E5ECF6",
           "showlakes": true,
           "showland": true,
           "subunitcolor": "white"
          },
          "hoverlabel": {
           "align": "left"
          },
          "hovermode": "closest",
          "mapbox": {
           "style": "light"
          },
          "paper_bgcolor": "white",
          "plot_bgcolor": "#E5ECF6",
          "polar": {
           "angularaxis": {
            "gridcolor": "white",
            "linecolor": "white",
            "ticks": ""
           },
           "bgcolor": "#E5ECF6",
           "radialaxis": {
            "gridcolor": "white",
            "linecolor": "white",
            "ticks": ""
           }
          },
          "scene": {
           "xaxis": {
            "backgroundcolor": "#E5ECF6",
            "gridcolor": "white",
            "gridwidth": 2,
            "linecolor": "white",
            "showbackground": true,
            "ticks": "",
            "zerolinecolor": "white"
           },
           "yaxis": {
            "backgroundcolor": "#E5ECF6",
            "gridcolor": "white",
            "gridwidth": 2,
            "linecolor": "white",
            "showbackground": true,
            "ticks": "",
            "zerolinecolor": "white"
           },
           "zaxis": {
            "backgroundcolor": "#E5ECF6",
            "gridcolor": "white",
            "gridwidth": 2,
            "linecolor": "white",
            "showbackground": true,
            "ticks": "",
            "zerolinecolor": "white"
           }
          },
          "shapedefaults": {
           "line": {
            "color": "#2a3f5f"
           }
          },
          "ternary": {
           "aaxis": {
            "gridcolor": "white",
            "linecolor": "white",
            "ticks": ""
           },
           "baxis": {
            "gridcolor": "white",
            "linecolor": "white",
            "ticks": ""
           },
           "bgcolor": "#E5ECF6",
           "caxis": {
            "gridcolor": "white",
            "linecolor": "white",
            "ticks": ""
           }
          },
          "title": {
           "x": 0.05
          },
          "xaxis": {
           "automargin": true,
           "gridcolor": "white",
           "linecolor": "white",
           "ticks": "",
           "title": {
            "standoff": 15
           },
           "zerolinecolor": "white",
           "zerolinewidth": 2
          },
          "yaxis": {
           "automargin": true,
           "gridcolor": "white",
           "linecolor": "white",
           "ticks": "",
           "title": {
            "standoff": 15
           },
           "zerolinecolor": "white",
           "zerolinewidth": 2
          }
         }
        },
        "xaxis": {
         "title": {
          "text": "Quarters"
         }
        },
        "yaxis": {
         "title": {
          "text": "Quick Ratio"
         },
         "type": "log"
        }
       }
      },
      "text/html": [
       "<div>                            <div id=\"8bffe711-2040-4104-bf6e-bc99bea5f8e3\" class=\"plotly-graph-div\" style=\"height:525px; width:100%;\"></div>            <script type=\"text/javascript\">                require([\"plotly\"], function(Plotly) {                    window.PLOTLYENV=window.PLOTLYENV || {};                                    if (document.getElementById(\"8bffe711-2040-4104-bf6e-bc99bea5f8e3\")) {                    Plotly.newPlot(                        \"8bffe711-2040-4104-bf6e-bc99bea5f8e3\",                        [{\"marker\":{\"color\":\"blue\",\"size\":8},\"mode\":\"markers\",\"name\":\"TD.TO Quick Ratio\",\"x\":[\"1996-Q1\",\"1996-Q2\",\"1996-Q3\",\"1996-Q4\",\"1997-Q1\",\"1997-Q2\",\"1997-Q3\",\"1997-Q4\",\"1998-Q1\",\"1998-Q2\",\"1998-Q3\",\"1998-Q4\",\"1999-Q1\",\"1999-Q2\",\"1999-Q3\",\"1999-Q4\",\"2000-Q1\",\"2000-Q2\",\"2000-Q3\",\"2000-Q4\",\"2001-Q1\",\"2001-Q2\",\"2001-Q3\",\"2001-Q4\",\"2002-Q1\",\"2002-Q2\",\"2002-Q3\",\"2002-Q4\",\"2003-Q1\",\"2003-Q2\",\"2003-Q3\",\"2003-Q4\",\"2004-Q1\",\"2004-Q2\",\"2004-Q3\",\"2004-Q4\",\"2005-Q1\",\"2005-Q2\",\"2005-Q3\",\"2005-Q4\",\"2006-Q1\",\"2006-Q2\",\"2006-Q3\",\"2006-Q4\",\"2007-Q1\",\"2007-Q2\",\"2007-Q3\",\"2007-Q4\",\"2008-Q1\",\"2008-Q2\",\"2008-Q3\",\"2008-Q4\",\"2009-Q1\",\"2009-Q2\",\"2009-Q3\",\"2009-Q4\",\"2010-Q1\",\"2010-Q2\",\"2010-Q3\",\"2010-Q4\",\"2011-Q1\",\"2011-Q2\",\"2011-Q3\",\"2011-Q4\",\"2012-Q1\",\"2012-Q2\",\"2012-Q3\",\"2012-Q4\",\"2013-Q1\",\"2013-Q2\",\"2013-Q3\",\"2013-Q4\",\"2014-Q1\",\"2014-Q2\",\"2014-Q3\",\"2014-Q4\",\"2015-Q1\",\"2015-Q2\",\"2015-Q3\",\"2015-Q4\",\"2016-Q1\",\"2016-Q2\",\"2016-Q3\",\"2016-Q4\",\"2017-Q1\",\"2017-Q2\",\"2017-Q3\",\"2017-Q4\",\"2018-Q1\",\"2018-Q2\",\"2018-Q3\",\"2018-Q4\",\"2019-Q1\",\"2019-Q2\",\"2019-Q3\",\"2019-Q4\",\"2020-Q1\",\"2020-Q2\",\"2020-Q3\",\"2020-Q4\",\"2021-Q1\",\"2021-Q2\",\"2021-Q3\",\"2021-Q4\",\"2022-Q1\",\"2022-Q2\",\"2022-Q3\",\"2022-Q4\",\"2023-Q1\",\"2023-Q2\",\"2023-Q3\"],\"y\":[0.0448,0.0448,0.0416,0.2871,0.0371,0.0197,0.0221,0.4,0.2036,0.2193,0.1707,0.3375,0.2639,0.2431,0.1978,0.2558,0.2571,0.1945,0.1993,0.1503,0.1918,0.1133,0.1262,0.1648,0.1277,0.1531,0.1837,0.2542,0.2596,0.1676,0.2332,0.3328,0.2186,0.32,0.3373,0.5168,0.3301,0.3535,0.3627,1.087,0.3442,0.3658,0.2798,0.7349,0.2314,0.3233,0.3115,1.95,0.3494,0.4719,0.3834,3.396,0.9517,0.7064,0.9046,3.802,0.6904,0.5556,0.9128,3.29,0.4158,0.7069,0.6015,3.29,0.3692,0.405,0.7653,2.683,2.731,2.782,2.706,2.584,2.145,1.763,1.724,0.5913,1.71,1.758,1.631,1.719,1.883,1.871,2.096,1.276,2.242,1.99,1.929,1.096,1.86,1.661,1.668,0.3934,0.7936,0.72,0.6325,0.3223,0.5916,0.9116,0.8996,0.753,1.052,1.117,0.9312,0.7636,0.8388,0.7413,0.7131,0.5187,0.624,0.5185,0.4871],\"type\":\"scatter\"},{\"line\":{\"color\":\"red\",\"width\":2},\"mode\":\"lines\",\"name\":\"Fitted Logarithmic Line\",\"x\":[\"1996-Q1\",\"1996-Q2\",\"1996-Q3\",\"1996-Q4\",\"1997-Q1\",\"1997-Q2\",\"1997-Q3\",\"1997-Q4\",\"1998-Q1\",\"1998-Q2\",\"1998-Q3\",\"1998-Q4\",\"1999-Q1\",\"1999-Q2\",\"1999-Q3\",\"1999-Q4\",\"2000-Q1\",\"2000-Q2\",\"2000-Q3\",\"2000-Q4\",\"2001-Q1\",\"2001-Q2\",\"2001-Q3\",\"2001-Q4\",\"2002-Q1\",\"2002-Q2\",\"2002-Q3\",\"2002-Q4\",\"2003-Q1\",\"2003-Q2\",\"2003-Q3\",\"2003-Q4\",\"2004-Q1\",\"2004-Q2\",\"2004-Q3\",\"2004-Q4\",\"2005-Q1\",\"2005-Q2\",\"2005-Q3\",\"2005-Q4\",\"2006-Q1\",\"2006-Q2\",\"2006-Q3\",\"2006-Q4\",\"2007-Q1\",\"2007-Q2\",\"2007-Q3\",\"2007-Q4\",\"2008-Q1\",\"2008-Q2\",\"2008-Q3\",\"2008-Q4\",\"2009-Q1\",\"2009-Q2\",\"2009-Q3\",\"2009-Q4\",\"2010-Q1\",\"2010-Q2\",\"2010-Q3\",\"2010-Q4\",\"2011-Q1\",\"2011-Q2\",\"2011-Q3\",\"2011-Q4\",\"2012-Q1\",\"2012-Q2\",\"2012-Q3\",\"2012-Q4\",\"2013-Q1\",\"2013-Q2\",\"2013-Q3\",\"2013-Q4\",\"2014-Q1\",\"2014-Q2\",\"2014-Q3\",\"2014-Q4\",\"2015-Q1\",\"2015-Q2\",\"2015-Q3\",\"2015-Q4\",\"2016-Q1\",\"2016-Q2\",\"2016-Q3\",\"2016-Q4\",\"2017-Q1\",\"2017-Q2\",\"2017-Q3\",\"2017-Q4\",\"2018-Q1\",\"2018-Q2\",\"2018-Q3\",\"2018-Q4\",\"2019-Q1\",\"2019-Q2\",\"2019-Q3\",\"2019-Q4\",\"2020-Q1\",\"2020-Q2\",\"2020-Q3\",\"2020-Q4\",\"2021-Q1\",\"2021-Q2\",\"2021-Q3\",\"2021-Q4\",\"2022-Q1\",\"2022-Q2\",\"2022-Q3\",\"2022-Q4\",\"2023-Q1\",\"2023-Q2\",\"2023-Q3\"],\"y\":[-0.7836708240522732,-0.47579954602822705,-0.29570639333506277,-0.16792826800418095,-0.06881585399936233,0.012164884688983309,0.0806331236686977,0.13994301001986512,0.1922580373821477,0.23905542402468377,0.28138880961438595,0.3200361627130294,0.3555882812227657,0.38850440169274375,0.41914857671784805,0.4478142880439112,0.4747415847592674,0.5001293154061938,0.5241440484651118,0.5469267020487298,0.5685975543859081,0.589260087638432,0.6090039765799532,0.6279074407370754,0.6460391160535484,0.6634595592468119,0.680222468099358,0.6963756797167899,0.7119619935341797,0.7270198547418941,0.7415839256085479,0.7556855660679572,0.7693532403315964,0.7826128627833135,0.7954880937216084,0.8080005934302399,0.8201702414305798,0.8320153264891578,0.8435527119399762,0.854797980072776,0.8657655586897863,0.8764688324099542,0.8869202408746987,0.8971313656624781,0.9071130074350585,0.9168752546039993,0.9264275446118396,0.9357787187611215,0.9449370713896685,0.9539103940775945,0.9627060154764779,0.9713308372708579,0.9797913667141741,0.9880937461234041,0.9962437796672967,1.004246957740836,1.012108479182322,1.0198332715582257,1.0274260097140284,1.0348911327659402,1.042232859688141,1.049455203632594,1.0565619851031185,1.0635568440920034,1.0704432512756765,1.0772245183556424,1.0839038076218124,1.0904841408073596,1.0969684072971635,1.1033593717456547,1.1096596811543296,1.115871871454286,1.121998373634745,1.128041519454626,1.1340035467707588,1.139886604513204,1.1456927573353568,1.1514239899640224,1.157082211272389,1.162669258096822,1.1681868988165685,1.1736368367138323,1.1790207131301926,1.1843401104340003,1.189596554812178,1.1947915188987448,1.19992642425139,1.2050026436865242,1.2100215034823925,1.2149842854591046,1.2198922289437366,1.2247465326280453,1.2295483563257583,1.2342988226358858,1.2389990185180226,1.2436499967851677,1.2482527775191923,1.2528083494137148,1.2573176710488068,1.2617816721016406,1.2662012544969008,1.270577293500524,1.2749106387600821,1.279202115294904,1.2834525244388189,1.28766264473822,1.2918332328079625,1.2959650241474503,1.3000587339191145,1.304115057691343,1.3081346721477902],\"type\":\"scatter\"}],                        {\"xaxis\":{\"title\":{\"text\":\"Quarters\"}},\"yaxis\":{\"title\":{\"text\":\"Quick Ratio\"},\"type\":\"log\"},\"template\":{\"data\":{\"histogram2dcontour\":[{\"type\":\"histogram2dcontour\",\"colorbar\":{\"outlinewidth\":0,\"ticks\":\"\"},\"colorscale\":[[0.0,\"#0d0887\"],[0.1111111111111111,\"#46039f\"],[0.2222222222222222,\"#7201a8\"],[0.3333333333333333,\"#9c179e\"],[0.4444444444444444,\"#bd3786\"],[0.5555555555555556,\"#d8576b\"],[0.6666666666666666,\"#ed7953\"],[0.7777777777777778,\"#fb9f3a\"],[0.8888888888888888,\"#fdca26\"],[1.0,\"#f0f921\"]]}],\"choropleth\":[{\"type\":\"choropleth\",\"colorbar\":{\"outlinewidth\":0,\"ticks\":\"\"}}],\"histogram2d\":[{\"type\":\"histogram2d\",\"colorbar\":{\"outlinewidth\":0,\"ticks\":\"\"},\"colorscale\":[[0.0,\"#0d0887\"],[0.1111111111111111,\"#46039f\"],[0.2222222222222222,\"#7201a8\"],[0.3333333333333333,\"#9c179e\"],[0.4444444444444444,\"#bd3786\"],[0.5555555555555556,\"#d8576b\"],[0.6666666666666666,\"#ed7953\"],[0.7777777777777778,\"#fb9f3a\"],[0.8888888888888888,\"#fdca26\"],[1.0,\"#f0f921\"]]}],\"heatmap\":[{\"type\":\"heatmap\",\"colorbar\":{\"outlinewidth\":0,\"ticks\":\"\"},\"colorscale\":[[0.0,\"#0d0887\"],[0.1111111111111111,\"#46039f\"],[0.2222222222222222,\"#7201a8\"],[0.3333333333333333,\"#9c179e\"],[0.4444444444444444,\"#bd3786\"],[0.5555555555555556,\"#d8576b\"],[0.6666666666666666,\"#ed7953\"],[0.7777777777777778,\"#fb9f3a\"],[0.8888888888888888,\"#fdca26\"],[1.0,\"#f0f921\"]]}],\"heatmapgl\":[{\"type\":\"heatmapgl\",\"colorbar\":{\"outlinewidth\":0,\"ticks\":\"\"},\"colorscale\":[[0.0,\"#0d0887\"],[0.1111111111111111,\"#46039f\"],[0.2222222222222222,\"#7201a8\"],[0.3333333333333333,\"#9c179e\"],[0.4444444444444444,\"#bd3786\"],[0.5555555555555556,\"#d8576b\"],[0.6666666666666666,\"#ed7953\"],[0.7777777777777778,\"#fb9f3a\"],[0.8888888888888888,\"#fdca26\"],[1.0,\"#f0f921\"]]}],\"contourcarpet\":[{\"type\":\"contourcarpet\",\"colorbar\":{\"outlinewidth\":0,\"ticks\":\"\"}}],\"contour\":[{\"type\":\"contour\",\"colorbar\":{\"outlinewidth\":0,\"ticks\":\"\"},\"colorscale\":[[0.0,\"#0d0887\"],[0.1111111111111111,\"#46039f\"],[0.2222222222222222,\"#7201a8\"],[0.3333333333333333,\"#9c179e\"],[0.4444444444444444,\"#bd3786\"],[0.5555555555555556,\"#d8576b\"],[0.6666666666666666,\"#ed7953\"],[0.7777777777777778,\"#fb9f3a\"],[0.8888888888888888,\"#fdca26\"],[1.0,\"#f0f921\"]]}],\"surface\":[{\"type\":\"surface\",\"colorbar\":{\"outlinewidth\":0,\"ticks\":\"\"},\"colorscale\":[[0.0,\"#0d0887\"],[0.1111111111111111,\"#46039f\"],[0.2222222222222222,\"#7201a8\"],[0.3333333333333333,\"#9c179e\"],[0.4444444444444444,\"#bd3786\"],[0.5555555555555556,\"#d8576b\"],[0.6666666666666666,\"#ed7953\"],[0.7777777777777778,\"#fb9f3a\"],[0.8888888888888888,\"#fdca26\"],[1.0,\"#f0f921\"]]}],\"mesh3d\":[{\"type\":\"mesh3d\",\"colorbar\":{\"outlinewidth\":0,\"ticks\":\"\"}}],\"scatter\":[{\"fillpattern\":{\"fillmode\":\"overlay\",\"size\":10,\"solidity\":0.2},\"type\":\"scatter\"}],\"parcoords\":[{\"type\":\"parcoords\",\"line\":{\"colorbar\":{\"outlinewidth\":0,\"ticks\":\"\"}}}],\"scatterpolargl\":[{\"type\":\"scatterpolargl\",\"marker\":{\"colorbar\":{\"outlinewidth\":0,\"ticks\":\"\"}}}],\"bar\":[{\"error_x\":{\"color\":\"#2a3f5f\"},\"error_y\":{\"color\":\"#2a3f5f\"},\"marker\":{\"line\":{\"color\":\"#E5ECF6\",\"width\":0.5},\"pattern\":{\"fillmode\":\"overlay\",\"size\":10,\"solidity\":0.2}},\"type\":\"bar\"}],\"scattergeo\":[{\"type\":\"scattergeo\",\"marker\":{\"colorbar\":{\"outlinewidth\":0,\"ticks\":\"\"}}}],\"scatterpolar\":[{\"type\":\"scatterpolar\",\"marker\":{\"colorbar\":{\"outlinewidth\":0,\"ticks\":\"\"}}}],\"histogram\":[{\"marker\":{\"pattern\":{\"fillmode\":\"overlay\",\"size\":10,\"solidity\":0.2}},\"type\":\"histogram\"}],\"scattergl\":[{\"type\":\"scattergl\",\"marker\":{\"colorbar\":{\"outlinewidth\":0,\"ticks\":\"\"}}}],\"scatter3d\":[{\"type\":\"scatter3d\",\"line\":{\"colorbar\":{\"outlinewidth\":0,\"ticks\":\"\"}},\"marker\":{\"colorbar\":{\"outlinewidth\":0,\"ticks\":\"\"}}}],\"scattermapbox\":[{\"type\":\"scattermapbox\",\"marker\":{\"colorbar\":{\"outlinewidth\":0,\"ticks\":\"\"}}}],\"scatterternary\":[{\"type\":\"scatterternary\",\"marker\":{\"colorbar\":{\"outlinewidth\":0,\"ticks\":\"\"}}}],\"scattercarpet\":[{\"type\":\"scattercarpet\",\"marker\":{\"colorbar\":{\"outlinewidth\":0,\"ticks\":\"\"}}}],\"carpet\":[{\"aaxis\":{\"endlinecolor\":\"#2a3f5f\",\"gridcolor\":\"white\",\"linecolor\":\"white\",\"minorgridcolor\":\"white\",\"startlinecolor\":\"#2a3f5f\"},\"baxis\":{\"endlinecolor\":\"#2a3f5f\",\"gridcolor\":\"white\",\"linecolor\":\"white\",\"minorgridcolor\":\"white\",\"startlinecolor\":\"#2a3f5f\"},\"type\":\"carpet\"}],\"table\":[{\"cells\":{\"fill\":{\"color\":\"#EBF0F8\"},\"line\":{\"color\":\"white\"}},\"header\":{\"fill\":{\"color\":\"#C8D4E3\"},\"line\":{\"color\":\"white\"}},\"type\":\"table\"}],\"barpolar\":[{\"marker\":{\"line\":{\"color\":\"#E5ECF6\",\"width\":0.5},\"pattern\":{\"fillmode\":\"overlay\",\"size\":10,\"solidity\":0.2}},\"type\":\"barpolar\"}],\"pie\":[{\"automargin\":true,\"type\":\"pie\"}]},\"layout\":{\"autotypenumbers\":\"strict\",\"colorway\":[\"#636efa\",\"#EF553B\",\"#00cc96\",\"#ab63fa\",\"#FFA15A\",\"#19d3f3\",\"#FF6692\",\"#B6E880\",\"#FF97FF\",\"#FECB52\"],\"font\":{\"color\":\"#2a3f5f\"},\"hovermode\":\"closest\",\"hoverlabel\":{\"align\":\"left\"},\"paper_bgcolor\":\"white\",\"plot_bgcolor\":\"#E5ECF6\",\"polar\":{\"bgcolor\":\"#E5ECF6\",\"angularaxis\":{\"gridcolor\":\"white\",\"linecolor\":\"white\",\"ticks\":\"\"},\"radialaxis\":{\"gridcolor\":\"white\",\"linecolor\":\"white\",\"ticks\":\"\"}},\"ternary\":{\"bgcolor\":\"#E5ECF6\",\"aaxis\":{\"gridcolor\":\"white\",\"linecolor\":\"white\",\"ticks\":\"\"},\"baxis\":{\"gridcolor\":\"white\",\"linecolor\":\"white\",\"ticks\":\"\"},\"caxis\":{\"gridcolor\":\"white\",\"linecolor\":\"white\",\"ticks\":\"\"}},\"coloraxis\":{\"colorbar\":{\"outlinewidth\":0,\"ticks\":\"\"}},\"colorscale\":{\"sequential\":[[0.0,\"#0d0887\"],[0.1111111111111111,\"#46039f\"],[0.2222222222222222,\"#7201a8\"],[0.3333333333333333,\"#9c179e\"],[0.4444444444444444,\"#bd3786\"],[0.5555555555555556,\"#d8576b\"],[0.6666666666666666,\"#ed7953\"],[0.7777777777777778,\"#fb9f3a\"],[0.8888888888888888,\"#fdca26\"],[1.0,\"#f0f921\"]],\"sequentialminus\":[[0.0,\"#0d0887\"],[0.1111111111111111,\"#46039f\"],[0.2222222222222222,\"#7201a8\"],[0.3333333333333333,\"#9c179e\"],[0.4444444444444444,\"#bd3786\"],[0.5555555555555556,\"#d8576b\"],[0.6666666666666666,\"#ed7953\"],[0.7777777777777778,\"#fb9f3a\"],[0.8888888888888888,\"#fdca26\"],[1.0,\"#f0f921\"]],\"diverging\":[[0,\"#8e0152\"],[0.1,\"#c51b7d\"],[0.2,\"#de77ae\"],[0.3,\"#f1b6da\"],[0.4,\"#fde0ef\"],[0.5,\"#f7f7f7\"],[0.6,\"#e6f5d0\"],[0.7,\"#b8e186\"],[0.8,\"#7fbc41\"],[0.9,\"#4d9221\"],[1,\"#276419\"]]},\"xaxis\":{\"gridcolor\":\"white\",\"linecolor\":\"white\",\"ticks\":\"\",\"title\":{\"standoff\":15},\"zerolinecolor\":\"white\",\"automargin\":true,\"zerolinewidth\":2},\"yaxis\":{\"gridcolor\":\"white\",\"linecolor\":\"white\",\"ticks\":\"\",\"title\":{\"standoff\":15},\"zerolinecolor\":\"white\",\"automargin\":true,\"zerolinewidth\":2},\"scene\":{\"xaxis\":{\"backgroundcolor\":\"#E5ECF6\",\"gridcolor\":\"white\",\"linecolor\":\"white\",\"showbackground\":true,\"ticks\":\"\",\"zerolinecolor\":\"white\",\"gridwidth\":2},\"yaxis\":{\"backgroundcolor\":\"#E5ECF6\",\"gridcolor\":\"white\",\"linecolor\":\"white\",\"showbackground\":true,\"ticks\":\"\",\"zerolinecolor\":\"white\",\"gridwidth\":2},\"zaxis\":{\"backgroundcolor\":\"#E5ECF6\",\"gridcolor\":\"white\",\"linecolor\":\"white\",\"showbackground\":true,\"ticks\":\"\",\"zerolinecolor\":\"white\",\"gridwidth\":2}},\"shapedefaults\":{\"line\":{\"color\":\"#2a3f5f\"}},\"annotationdefaults\":{\"arrowcolor\":\"#2a3f5f\",\"arrowhead\":0,\"arrowwidth\":1},\"geo\":{\"bgcolor\":\"white\",\"landcolor\":\"#E5ECF6\",\"subunitcolor\":\"white\",\"showland\":true,\"showlakes\":true,\"lakecolor\":\"white\"},\"title\":{\"x\":0.05},\"mapbox\":{\"style\":\"light\"}}}},                        {\"responsive\": true}                    ).then(function(){\n",
       "                            \n",
       "var gd = document.getElementById('8bffe711-2040-4104-bf6e-bc99bea5f8e3');\n",
       "var x = new MutationObserver(function (mutations, observer) {{\n",
       "        var display = window.getComputedStyle(gd).display;\n",
       "        if (!display || display === 'none') {{\n",
       "            console.log([gd, 'removed!']);\n",
       "            Plotly.purge(gd);\n",
       "            observer.disconnect();\n",
       "        }}\n",
       "}});\n",
       "\n",
       "// Listen for the removal of the full notebook cells\n",
       "var notebookContainer = gd.closest('#notebook-container');\n",
       "if (notebookContainer) {{\n",
       "    x.observe(notebookContainer, {childList: true});\n",
       "}}\n",
       "\n",
       "// Listen for the clearing of the current output cell\n",
       "var outputEl = gd.closest('.output');\n",
       "if (outputEl) {{\n",
       "    x.observe(outputEl, {childList: true});\n",
       "}}\n",
       "\n",
       "                        })                };                });            </script>        </div>"
      ]
     },
     "metadata": {},
     "output_type": "display_data"
    }
   ],
   "source": [
    "# Define the logarithmic function\n",
    "def log_func(x, a, b):\n",
    "    return a * np.log(b * x)\n",
    "\n",
    "# Extract data for TD.TO Quick Ratio\n",
    "td_df = regression_df_TD[['Quarters', 'Quick ratio']].dropna()\n",
    "td_df.set_index('Quarters', inplace=True)\n",
    "\n",
    "# Prepare data for fitting\n",
    "x_data = np.arange(1, len(td_df) + 1)  # Numeric index starting from 1 to avoid log(0)\n",
    "y_data = td_df['Quick ratio'].values\n",
    "\n",
    "# Fit the logarithmic function\n",
    "popt, _ = curve_fit(log_func, x_data, y_data, maxfev=10000)\n",
    "\n",
    "# Generate the fitted values\n",
    "y_fit = log_func(x_data, *popt)\n",
    "\n",
    "# Create traces for the original data and the fitted line\n",
    "trace_data = go.Scatter(\n",
    "    x=td_df.index,\n",
    "    y=td_df['Quick ratio'],\n",
    "    mode='markers',\n",
    "    name='TD.TO Quick Ratio',\n",
    "    marker=dict(size=8, color='blue')\n",
    ")\n",
    "\n",
    "trace_fit = go.Scatter(\n",
    "    x=td_df.index,\n",
    "    y=y_fit,\n",
    "    mode='lines',\n",
    "    name='Fitted Logarithmic Line',\n",
    "    line=dict(color='red', width=2)\n",
    ")\n",
    "\n",
    "# Define the layout with a logarithmic y-axis\n",
    "layout = go.Layout(\n",
    "    #title='Quick Ratio of TD.TO with Fitted Logarithmic Line',\n",
    "    xaxis=dict(title='Quarters'),\n",
    "    yaxis=dict(\n",
    "        title='Quick Ratio',\n",
    "        type='log'  # Set y-axis to logarithmic scale\n",
    "    )\n",
    ")\n",
    "\n",
    "# Create the figure\n",
    "fig = go.Figure(data=[trace_data, trace_fit], layout=layout)\n",
    "\n",
    "# Plot the figure\n",
    "fig.show()"
   ]
  },
  {
   "cell_type": "code",
   "execution_count": null,
   "metadata": {},
   "outputs": [
    {
     "name": "stdout",
     "output_type": "stream",
     "text": [
      "Log-Linear Regression Results for RY.TO (Quick Ratio):\n",
      "                            OLS Regression Results                            \n",
      "==============================================================================\n",
      "Dep. Variable:        Log_Quick_Ratio   R-squared:                       0.470\n",
      "Model:                            OLS   Adj. R-squared:                  0.440\n",
      "Method:                 Least Squares   F-statistic:                     15.39\n",
      "Date:                Fri, 09 Aug 2024   Prob (F-statistic):           1.48e-12\n",
      "Time:                        16:57:13   Log-Likelihood:                -79.620\n",
      "No. Observations:                 111   AIC:                             173.2\n",
      "Df Residuals:                     104   BIC:                             192.2\n",
      "Df Model:                           6                                         \n",
      "Covariance Type:            nonrobust                                         \n",
      "==============================================================================\n",
      "                 coef    std err          t      P>|t|      [0.025      0.975]\n",
      "------------------------------------------------------------------------------\n",
      "Intercept      1.3933      0.319      4.367      0.000       0.761       2.026\n",
      "Sea_Lvl_M     -0.6781      0.322     -2.107      0.038      -1.317      -0.040\n",
      "CDD_M          0.1785      0.094      1.895      0.061      -0.008       0.365\n",
      "Rx5Day_M       1.1554      0.266      4.337      0.000       0.627       1.684\n",
      "T10_M          0.0320      0.459      0.070      0.944      -0.878       0.942\n",
      "T90_M         -1.1109      0.340     -3.270      0.001      -1.785      -0.437\n",
      "WP90_M        -3.9448      0.856     -4.610      0.000      -5.642      -2.248\n",
      "==============================================================================\n",
      "Omnibus:                        2.131   Durbin-Watson:                   1.388\n",
      "Prob(Omnibus):                  0.344   Jarque-Bera (JB):                2.031\n",
      "Skew:                          -0.327   Prob(JB):                        0.362\n",
      "Kurtosis:                       2.895   Cond. No.                         33.5\n",
      "==============================================================================\n",
      "\n",
      "Notes:\n",
      "[1] Standard Errors assume that the covariance matrix of the errors is correctly specified.\n",
      "MSE (Log Scale): 0.24578753863017194\n",
      "R-squared (Log Scale): 0.47028783286268994\n",
      "MSE (Original Scale): 0.10409138442469829\n",
      "\n",
      "\n",
      "Log-Linear Regression Results for TD.TO (Quick Ratio):\n",
      "                            OLS Regression Results                            \n",
      "==============================================================================\n",
      "Dep. Variable:        Log_Quick_Ratio   R-squared:                       0.686\n",
      "Model:                            OLS   Adj. R-squared:                  0.668\n",
      "Method:                 Least Squares   F-statistic:                     37.92\n",
      "Date:                Fri, 09 Aug 2024   Prob (F-statistic):           4.53e-24\n",
      "Time:                        16:57:13   Log-Likelihood:                -104.65\n",
      "No. Observations:                 111   AIC:                             223.3\n",
      "Df Residuals:                     104   BIC:                             242.3\n",
      "Df Model:                           6                                         \n",
      "Covariance Type:            nonrobust                                         \n",
      "==============================================================================\n",
      "                 coef    std err          t      P>|t|      [0.025      0.975]\n",
      "------------------------------------------------------------------------------\n",
      "Intercept     -4.2723      0.400    -10.689      0.000      -5.065      -3.480\n",
      "Sea_Lvl_M     -0.3524      0.403     -0.874      0.384      -1.152       0.447\n",
      "CDD_M         -0.1499      0.118     -1.271      0.207      -0.384       0.084\n",
      "Rx5Day_M       1.8177      0.334      5.445      0.000       1.156       2.480\n",
      "T10_M         -2.0248      0.575     -3.522      0.001      -3.165      -0.885\n",
      "T90_M         -0.6332      0.426     -1.488      0.140      -1.477       0.211\n",
      "WP90_M         2.4123      1.072      2.250      0.027       0.286       4.538\n",
      "==============================================================================\n",
      "Omnibus:                        0.220   Durbin-Watson:                   1.544\n",
      "Prob(Omnibus):                  0.896   Jarque-Bera (JB):                0.345\n",
      "Skew:                           0.094   Prob(JB):                        0.842\n",
      "Kurtosis:                       2.803   Cond. No.                         33.5\n",
      "==============================================================================\n",
      "\n",
      "Notes:\n",
      "[1] Standard Errors assume that the covariance matrix of the errors is correctly specified.\n",
      "MSE (Log Scale): 0.3858364209294623\n",
      "R-squared (Log Scale): 0.6862825893447055\n",
      "MSE (Original Scale): 0.4285822259756316\n",
      "\n",
      "\n",
      "Log-Linear Regression Results for BNS.TO (Quick Ratio):\n",
      "                            OLS Regression Results                            \n",
      "==============================================================================\n",
      "Dep. Variable:        Log_Quick_Ratio   R-squared:                       0.411\n",
      "Model:                            OLS   Adj. R-squared:                  0.377\n",
      "Method:                 Least Squares   F-statistic:                     12.09\n",
      "Date:                Fri, 09 Aug 2024   Prob (F-statistic):           2.84e-10\n",
      "Time:                        16:57:13   Log-Likelihood:                -63.008\n",
      "No. Observations:                 111   AIC:                             140.0\n",
      "Df Residuals:                     104   BIC:                             159.0\n",
      "Df Model:                           6                                         \n",
      "Covariance Type:            nonrobust                                         \n",
      "==============================================================================\n",
      "                 coef    std err          t      P>|t|      [0.025      0.975]\n",
      "------------------------------------------------------------------------------\n",
      "Intercept     -0.7394      0.275     -2.692      0.008      -1.284      -0.195\n",
      "Sea_Lvl_M      0.0287      0.277      0.103      0.918      -0.521       0.578\n",
      "CDD_M         -0.2222      0.081     -2.741      0.007      -0.383      -0.061\n",
      "Rx5Day_M       1.0085      0.229      4.397      0.000       0.554       1.463\n",
      "T10_M         -0.3768      0.395     -0.954      0.342      -1.160       0.407\n",
      "T90_M         -1.8996      0.293     -6.493      0.000      -2.480      -1.319\n",
      "WP90_M         1.2076      0.737      1.639      0.104      -0.253       2.669\n",
      "==============================================================================\n",
      "Omnibus:                        6.218   Durbin-Watson:                   1.155\n",
      "Prob(Omnibus):                  0.045   Jarque-Bera (JB):                6.604\n",
      "Skew:                           0.365   Prob(JB):                       0.0368\n",
      "Kurtosis:                       3.947   Cond. No.                         33.5\n",
      "==============================================================================\n",
      "\n",
      "Notes:\n",
      "[1] Standard Errors assume that the covariance matrix of the errors is correctly specified.\n",
      "MSE (Log Scale): 0.18220975796285416\n",
      "R-squared (Log Scale): 0.4109843283630147\n",
      "MSE (Original Scale): 0.34865971654112593\n",
      "\n",
      "\n"
     ]
    }
   ],
   "source": [
    "# Function to perform log-linear regression analysis for Quick Ratio\n",
    "def perform_log_linear_regression_quick_ratio(df):\n",
    "    # Apply log transformation to the target variable\n",
    "    df['Log_Quick_Ratio'] = np.log(df['Quick ratio'])\n",
    "    \n",
    "    # Create a formula for OLS\n",
    "    formula = 'Log_Quick_Ratio ~ ' + ' + '.join(features)\n",
    "    \n",
    "    # Fit the model using OLS\n",
    "    model = ols(formula, data=df).fit()\n",
    "    \n",
    "    # Predict and evaluate the model\n",
    "    y_pred = model.fittedvalues\n",
    "    y_test = df['Log_Quick_Ratio']\n",
    "    \n",
    "    # Calculate metrics\n",
    "    mse = mean_squared_error(y_test, y_pred)\n",
    "    r2 = r2_score(y_test, y_pred)\n",
    "    \n",
    "    # Transform predictions back to original scale\n",
    "    y_pred_original = np.exp(y_pred)\n",
    "    y_test_original = np.exp(y_test)\n",
    "    mse_original = mean_squared_error(y_test_original, y_pred_original)\n",
    "    \n",
    "    return model.summary(), mse, r2, mse_original\n",
    "\n",
    "# Perform log-linear regression for each bank's Quick Ratio\n",
    "results_quick_ratio = {}\n",
    "for symbol, regression_df in regression_dataframes.items():\n",
    "    summary, mse, r2, mse_original = perform_log_linear_regression_quick_ratio(regression_df)\n",
    "    results_quick_ratio[symbol] = {\n",
    "        'Summary': summary,\n",
    "        'MSE (Log Scale)': mse,\n",
    "        'R2 (Log Scale)': r2,\n",
    "        'MSE (Original Scale)': mse_original\n",
    "    }\n",
    "\n",
    "# Display the results\n",
    "for symbol, result in results_quick_ratio.items():\n",
    "    print(f\"Log-Linear Regression Results for {symbol} (Quick Ratio):\")\n",
    "    print(result['Summary'])\n",
    "    print(f\"MSE (Log Scale): {result['MSE (Log Scale)']}\")\n",
    "    print(f\"R-squared (Log Scale): {result['R2 (Log Scale)']}\")\n",
    "    print(f\"MSE (Original Scale): {result['MSE (Original Scale)']}\")\n",
    "    print(\"\\n\")"
   ]
  },
  {
   "cell_type": "markdown",
   "metadata": {},
   "source": [
    "## Current ratio"
   ]
  },
  {
   "cell_type": "markdown",
   "metadata": {},
   "source": [
    "### Visualizing data"
   ]
  },
  {
   "cell_type": "code",
   "execution_count": null,
   "metadata": {},
   "outputs": [
    {
     "data": {
      "application/vnd.plotly.v1+json": {
       "config": {
        "plotlyServerURL": "https://plot.ly"
       },
       "data": [
        {
         "line": {
          "width": 1.5
         },
         "marker": {
          "size": 6
         },
         "mode": "lines+markers",
         "name": "RY.TO",
         "type": "scatter",
         "x": [
          "1996-Q1",
          "1996-Q2",
          "1996-Q3",
          "1996-Q4",
          "1997-Q1",
          "1997-Q2",
          "1997-Q3",
          "1997-Q4",
          "1998-Q1",
          "1998-Q2",
          "1998-Q3",
          "1998-Q4",
          "1999-Q1",
          "1999-Q2",
          "1999-Q3",
          "1999-Q4",
          "2000-Q1",
          "2000-Q2",
          "2000-Q3",
          "2000-Q4",
          "2001-Q1",
          "2001-Q2",
          "2001-Q3",
          "2001-Q4",
          "2002-Q1",
          "2002-Q2",
          "2002-Q3",
          "2002-Q4",
          "2003-Q1",
          "2003-Q2",
          "2003-Q3",
          "2003-Q4",
          "2004-Q1",
          "2004-Q2",
          "2004-Q3",
          "2004-Q4",
          "2005-Q1",
          "2005-Q2",
          "2005-Q3",
          "2005-Q4",
          "2006-Q1",
          "2006-Q2",
          "2006-Q3",
          "2006-Q4",
          "2007-Q1",
          "2007-Q2",
          "2007-Q3",
          "2007-Q4",
          "2008-Q1",
          "2008-Q2",
          "2008-Q3",
          "2008-Q4",
          "2009-Q1",
          "2009-Q2",
          "2009-Q3",
          "2009-Q4",
          "2010-Q1",
          "2010-Q2",
          "2010-Q3",
          "2010-Q4",
          "2011-Q1",
          "2011-Q2",
          "2011-Q3",
          "2011-Q4",
          "2012-Q1",
          "2012-Q2",
          "2012-Q3",
          "2012-Q4",
          "2013-Q1",
          "2013-Q2",
          "2013-Q3",
          "2013-Q4",
          "2014-Q1",
          "2014-Q2",
          "2014-Q3",
          "2014-Q4",
          "2015-Q1",
          "2015-Q2",
          "2015-Q3",
          "2015-Q4",
          "2016-Q1",
          "2016-Q2",
          "2016-Q3",
          "2016-Q4",
          "2017-Q1",
          "2017-Q2",
          "2017-Q3",
          "2017-Q4",
          "2018-Q1",
          "2018-Q2",
          "2018-Q3",
          "2018-Q4",
          "2019-Q1",
          "2019-Q2",
          "2019-Q3",
          "2019-Q4",
          "2020-Q1",
          "2020-Q2",
          "2020-Q3",
          "2020-Q4",
          "2021-Q1",
          "2021-Q2",
          "2021-Q3",
          "2021-Q4",
          "2022-Q1",
          "2022-Q2",
          "2022-Q3",
          "2022-Q4",
          "2023-Q1",
          "2023-Q2",
          "2023-Q3"
         ],
         "y": [
          1.368,
          1.317,
          1.102,
          1.5525000000000002,
          2.003,
          2.536,
          2.048,
          0.8531,
          1.957,
          1.311,
          0.6147,
          0.5163,
          0.828,
          1.76,
          1.018,
          0.819,
          0.9877,
          0.8544,
          1.035,
          0.8743,
          0.602,
          0.5915,
          0.6109,
          0.47,
          0.4549,
          0.891,
          0.5376,
          1.421,
          1.359,
          1.331,
          1.362,
          1.156,
          1.156,
          0.9932,
          1.134,
          2.109,
          1.022,
          1.047,
          2.678,
          0.9541,
          0.9762,
          1.094,
          1.009,
          0.8879,
          0.906,
          0.948,
          1.016,
          0.9075,
          1.111,
          0.5582,
          1.109,
          0.9415,
          1.016,
          2.234,
          3.869,
          5.611,
          1.123,
          1.684,
          2.023,
          5.803,
          1.565,
          1.741,
          2.003,
          5.672,
          2.449,
          1.932,
          2.156,
          3.407,
          4.186,
          3.818,
          3.91,
          3.499,
          4.221,
          4.245,
          4.22,
          2.276,
          4.768,
          4.261,
          4.553,
          2.091,
          4.459,
          4.314,
          3.796,
          2.397,
          3.443,
          3.604,
          3.774,
          2.018,
          2.891,
          3.012,
          2.944,
          1.608,
          1.933,
          1.902,
          1.94,
          1.535,
          1.583,
          2.013,
          2.188,
          1.724,
          2.067,
          2.025,
          2.048,
          1.7,
          2.009,
          2.112,
          1.976,
          1.653,
          1.971,
          2.024,
          1.896
         ]
        },
        {
         "line": {
          "width": 1.5
         },
         "marker": {
          "size": 6
         },
         "mode": "lines+markers",
         "name": "TD.TO",
         "type": "scatter",
         "x": [
          "1996-Q1",
          "1996-Q2",
          "1996-Q3",
          "1996-Q4",
          "1997-Q1",
          "1997-Q2",
          "1997-Q3",
          "1997-Q4",
          "1998-Q1",
          "1998-Q2",
          "1998-Q3",
          "1998-Q4",
          "1999-Q1",
          "1999-Q2",
          "1999-Q3",
          "1999-Q4",
          "2000-Q1",
          "2000-Q2",
          "2000-Q3",
          "2000-Q4",
          "2001-Q1",
          "2001-Q2",
          "2001-Q3",
          "2001-Q4",
          "2002-Q1",
          "2002-Q2",
          "2002-Q3",
          "2002-Q4",
          "2003-Q1",
          "2003-Q2",
          "2003-Q3",
          "2003-Q4",
          "2004-Q1",
          "2004-Q2",
          "2004-Q3",
          "2004-Q4",
          "2005-Q1",
          "2005-Q2",
          "2005-Q3",
          "2005-Q4",
          "2006-Q1",
          "2006-Q2",
          "2006-Q3",
          "2006-Q4",
          "2007-Q1",
          "2007-Q2",
          "2007-Q3",
          "2007-Q4",
          "2008-Q1",
          "2008-Q2",
          "2008-Q3",
          "2008-Q4",
          "2009-Q1",
          "2009-Q2",
          "2009-Q3",
          "2009-Q4",
          "2010-Q1",
          "2010-Q2",
          "2010-Q3",
          "2010-Q4",
          "2011-Q1",
          "2011-Q2",
          "2011-Q3",
          "2011-Q4",
          "2012-Q1",
          "2012-Q2",
          "2012-Q3",
          "2012-Q4",
          "2013-Q1",
          "2013-Q2",
          "2013-Q3",
          "2013-Q4",
          "2014-Q1",
          "2014-Q2",
          "2014-Q3",
          "2014-Q4",
          "2015-Q1",
          "2015-Q2",
          "2015-Q3",
          "2015-Q4",
          "2016-Q1",
          "2016-Q2",
          "2016-Q3",
          "2016-Q4",
          "2017-Q1",
          "2017-Q2",
          "2017-Q3",
          "2017-Q4",
          "2018-Q1",
          "2018-Q2",
          "2018-Q3",
          "2018-Q4",
          "2019-Q1",
          "2019-Q2",
          "2019-Q3",
          "2019-Q4",
          "2020-Q1",
          "2020-Q2",
          "2020-Q3",
          "2020-Q4",
          "2021-Q1",
          "2021-Q2",
          "2021-Q3",
          "2021-Q4",
          "2022-Q1",
          "2022-Q2",
          "2022-Q3",
          "2022-Q4",
          "2023-Q1",
          "2023-Q2",
          "2023-Q3"
         ],
         "y": [
          0.0448,
          0.0448,
          0.0416,
          0.2871,
          0.0371,
          0.8415,
          0.0221,
          1.235,
          1.153,
          1.139,
          0.988,
          0.8125,
          0.9869,
          0.9005,
          0.859,
          0.8958,
          1.028,
          0.7578,
          0.8168,
          0.6518,
          0.785,
          0.7262,
          0.6706,
          0.7249,
          0.8213,
          0.8603,
          0.8396,
          0.7622,
          1.021,
          1.191,
          1.028,
          1.086,
          0.9732,
          1.303,
          1.174,
          1.068,
          1.147,
          1.126,
          1.107,
          3.521,
          0.9834,
          1.101,
          0.9189,
          2.596,
          0.9224,
          1.021,
          0.917,
          3.944,
          1.14,
          1.333,
          1.246,
          7.322,
          2.727,
          4.674,
          3.795,
          6.447,
          2.956,
          2.448,
          4.864,
          5.991,
          2.231,
          4.871,
          4.337,
          6.248,
          2.593,
          2.295,
          4.713,
          5.228,
          5.2,
          5.801,
          5.048,
          4.897,
          4.468,
          3.685,
          3.644,
          1.465,
          3.775,
          3.614,
          3.481,
          3.443,
          3.846,
          3.61,
          4.04,
          2.33,
          3.972,
          3.563,
          3.71,
          1.962,
          3.453,
          3.277,
          3.17,
          1.171,
          1.5,
          1.461,
          1.355,
          1.122,
          1.271,
          1.607,
          1.577,
          1.444,
          1.644,
          1.821,
          1.615,
          1.472,
          1.487,
          1.561,
          1.39,
          1.216,
          1.214,
          1.133,
          1.147
         ]
        },
        {
         "line": {
          "width": 1.5
         },
         "marker": {
          "size": 6
         },
         "mode": "lines+markers",
         "name": "BNS.TO",
         "type": "scatter",
         "x": [
          "1996-Q1",
          "1996-Q2",
          "1996-Q3",
          "1996-Q4",
          "1997-Q1",
          "1997-Q2",
          "1997-Q3",
          "1997-Q4",
          "1998-Q1",
          "1998-Q2",
          "1998-Q3",
          "1998-Q4",
          "1999-Q1",
          "1999-Q2",
          "1999-Q3",
          "1999-Q4",
          "2000-Q1",
          "2000-Q2",
          "2000-Q3",
          "2000-Q4",
          "2001-Q1",
          "2001-Q2",
          "2001-Q3",
          "2001-Q4",
          "2002-Q1",
          "2002-Q2",
          "2002-Q3",
          "2002-Q4",
          "2003-Q1",
          "2003-Q2",
          "2003-Q3",
          "2003-Q4",
          "2004-Q1",
          "2004-Q2",
          "2004-Q3",
          "2004-Q4",
          "2005-Q1",
          "2005-Q2",
          "2005-Q3",
          "2005-Q4",
          "2006-Q1",
          "2006-Q2",
          "2006-Q3",
          "2006-Q4",
          "2007-Q1",
          "2007-Q2",
          "2007-Q3",
          "2007-Q4",
          "2008-Q1",
          "2008-Q2",
          "2008-Q3",
          "2008-Q4",
          "2009-Q1",
          "2009-Q2",
          "2009-Q3",
          "2009-Q4",
          "2010-Q1",
          "2010-Q2",
          "2010-Q3",
          "2010-Q4",
          "2011-Q1",
          "2011-Q2",
          "2011-Q3",
          "2011-Q4",
          "2012-Q1",
          "2012-Q2",
          "2012-Q3",
          "2012-Q4",
          "2013-Q1",
          "2013-Q2",
          "2013-Q3",
          "2013-Q4",
          "2014-Q1",
          "2014-Q2",
          "2014-Q3",
          "2014-Q4",
          "2015-Q1",
          "2015-Q2",
          "2015-Q3",
          "2015-Q4",
          "2016-Q1",
          "2016-Q2",
          "2016-Q3",
          "2016-Q4",
          "2017-Q1",
          "2017-Q2",
          "2017-Q3",
          "2017-Q4",
          "2018-Q1",
          "2018-Q2",
          "2018-Q3",
          "2018-Q4",
          "2019-Q1",
          "2019-Q2",
          "2019-Q3",
          "2019-Q4",
          "2020-Q1",
          "2020-Q2",
          "2020-Q3",
          "2020-Q4",
          "2021-Q1",
          "2021-Q2",
          "2021-Q3",
          "2021-Q4",
          "2022-Q1",
          "2022-Q2",
          "2022-Q3",
          "2022-Q4",
          "2023-Q1",
          "2023-Q2",
          "2023-Q3"
         ],
         "y": [
          1.456,
          1.1,
          1.144,
          0.9657,
          1.086,
          1.106,
          0.8083,
          1.135,
          1.192,
          0.9533,
          0.9718,
          1.181,
          1.089,
          0.8394,
          0.8569,
          0.8321,
          0.8586,
          0.8074,
          0.728,
          0.6329,
          0.6001,
          0.4896,
          0.374,
          0.4876,
          0.4683,
          0.4365,
          0.4568,
          0.4766,
          0.425,
          0.3755,
          0.4548,
          0.5028,
          0.4911,
          0.8025,
          0.5256,
          0.5396,
          0.5504,
          0.5367,
          0.5356,
          0.4782,
          0.5802,
          0.529,
          0.4665,
          2.352,
          0.9812,
          1.025,
          0.9944,
          2.894,
          1.13,
          1.039,
          0.7,
          3.247,
          0.935,
          6.263,
          5.726,
          3.177,
          7.75,
          4.575,
          4.993,
          3.214,
          4.388,
          5.102,
          5.539,
          3.254,
          5.621,
          2.015,
          5.21,
          2.747,
          2.125,
          2.111,
          1.837,
          2.173,
          1.912,
          1.905,
          1.83,
          0.9995,
          3.142,
          2.634,
          3.324,
          1.142,
          3.008,
          2.489,
          2.704,
          1.083,
          2.3,
          2.495,
          2.506,
          1.23,
          2.6,
          2.558,
          2.751,
          1.235,
          1.205,
          1.192,
          1.137,
          1.069,
          1.156,
          1.356,
          1.492,
          1.426,
          1.643,
          1.596,
          1.657,
          1.402,
          1.47,
          1.539,
          1.496,
          1.344,
          1.438,
          1.399,
          1.468
         ]
        }
       ],
       "layout": {
        "template": {
         "data": {
          "bar": [
           {
            "error_x": {
             "color": "#2a3f5f"
            },
            "error_y": {
             "color": "#2a3f5f"
            },
            "marker": {
             "line": {
              "color": "#E5ECF6",
              "width": 0.5
             },
             "pattern": {
              "fillmode": "overlay",
              "size": 10,
              "solidity": 0.2
             }
            },
            "type": "bar"
           }
          ],
          "barpolar": [
           {
            "marker": {
             "line": {
              "color": "#E5ECF6",
              "width": 0.5
             },
             "pattern": {
              "fillmode": "overlay",
              "size": 10,
              "solidity": 0.2
             }
            },
            "type": "barpolar"
           }
          ],
          "carpet": [
           {
            "aaxis": {
             "endlinecolor": "#2a3f5f",
             "gridcolor": "white",
             "linecolor": "white",
             "minorgridcolor": "white",
             "startlinecolor": "#2a3f5f"
            },
            "baxis": {
             "endlinecolor": "#2a3f5f",
             "gridcolor": "white",
             "linecolor": "white",
             "minorgridcolor": "white",
             "startlinecolor": "#2a3f5f"
            },
            "type": "carpet"
           }
          ],
          "choropleth": [
           {
            "colorbar": {
             "outlinewidth": 0,
             "ticks": ""
            },
            "type": "choropleth"
           }
          ],
          "contour": [
           {
            "colorbar": {
             "outlinewidth": 0,
             "ticks": ""
            },
            "colorscale": [
             [
              0,
              "#0d0887"
             ],
             [
              0.1111111111111111,
              "#46039f"
             ],
             [
              0.2222222222222222,
              "#7201a8"
             ],
             [
              0.3333333333333333,
              "#9c179e"
             ],
             [
              0.4444444444444444,
              "#bd3786"
             ],
             [
              0.5555555555555556,
              "#d8576b"
             ],
             [
              0.6666666666666666,
              "#ed7953"
             ],
             [
              0.7777777777777778,
              "#fb9f3a"
             ],
             [
              0.8888888888888888,
              "#fdca26"
             ],
             [
              1,
              "#f0f921"
             ]
            ],
            "type": "contour"
           }
          ],
          "contourcarpet": [
           {
            "colorbar": {
             "outlinewidth": 0,
             "ticks": ""
            },
            "type": "contourcarpet"
           }
          ],
          "heatmap": [
           {
            "colorbar": {
             "outlinewidth": 0,
             "ticks": ""
            },
            "colorscale": [
             [
              0,
              "#0d0887"
             ],
             [
              0.1111111111111111,
              "#46039f"
             ],
             [
              0.2222222222222222,
              "#7201a8"
             ],
             [
              0.3333333333333333,
              "#9c179e"
             ],
             [
              0.4444444444444444,
              "#bd3786"
             ],
             [
              0.5555555555555556,
              "#d8576b"
             ],
             [
              0.6666666666666666,
              "#ed7953"
             ],
             [
              0.7777777777777778,
              "#fb9f3a"
             ],
             [
              0.8888888888888888,
              "#fdca26"
             ],
             [
              1,
              "#f0f921"
             ]
            ],
            "type": "heatmap"
           }
          ],
          "heatmapgl": [
           {
            "colorbar": {
             "outlinewidth": 0,
             "ticks": ""
            },
            "colorscale": [
             [
              0,
              "#0d0887"
             ],
             [
              0.1111111111111111,
              "#46039f"
             ],
             [
              0.2222222222222222,
              "#7201a8"
             ],
             [
              0.3333333333333333,
              "#9c179e"
             ],
             [
              0.4444444444444444,
              "#bd3786"
             ],
             [
              0.5555555555555556,
              "#d8576b"
             ],
             [
              0.6666666666666666,
              "#ed7953"
             ],
             [
              0.7777777777777778,
              "#fb9f3a"
             ],
             [
              0.8888888888888888,
              "#fdca26"
             ],
             [
              1,
              "#f0f921"
             ]
            ],
            "type": "heatmapgl"
           }
          ],
          "histogram": [
           {
            "marker": {
             "pattern": {
              "fillmode": "overlay",
              "size": 10,
              "solidity": 0.2
             }
            },
            "type": "histogram"
           }
          ],
          "histogram2d": [
           {
            "colorbar": {
             "outlinewidth": 0,
             "ticks": ""
            },
            "colorscale": [
             [
              0,
              "#0d0887"
             ],
             [
              0.1111111111111111,
              "#46039f"
             ],
             [
              0.2222222222222222,
              "#7201a8"
             ],
             [
              0.3333333333333333,
              "#9c179e"
             ],
             [
              0.4444444444444444,
              "#bd3786"
             ],
             [
              0.5555555555555556,
              "#d8576b"
             ],
             [
              0.6666666666666666,
              "#ed7953"
             ],
             [
              0.7777777777777778,
              "#fb9f3a"
             ],
             [
              0.8888888888888888,
              "#fdca26"
             ],
             [
              1,
              "#f0f921"
             ]
            ],
            "type": "histogram2d"
           }
          ],
          "histogram2dcontour": [
           {
            "colorbar": {
             "outlinewidth": 0,
             "ticks": ""
            },
            "colorscale": [
             [
              0,
              "#0d0887"
             ],
             [
              0.1111111111111111,
              "#46039f"
             ],
             [
              0.2222222222222222,
              "#7201a8"
             ],
             [
              0.3333333333333333,
              "#9c179e"
             ],
             [
              0.4444444444444444,
              "#bd3786"
             ],
             [
              0.5555555555555556,
              "#d8576b"
             ],
             [
              0.6666666666666666,
              "#ed7953"
             ],
             [
              0.7777777777777778,
              "#fb9f3a"
             ],
             [
              0.8888888888888888,
              "#fdca26"
             ],
             [
              1,
              "#f0f921"
             ]
            ],
            "type": "histogram2dcontour"
           }
          ],
          "mesh3d": [
           {
            "colorbar": {
             "outlinewidth": 0,
             "ticks": ""
            },
            "type": "mesh3d"
           }
          ],
          "parcoords": [
           {
            "line": {
             "colorbar": {
              "outlinewidth": 0,
              "ticks": ""
             }
            },
            "type": "parcoords"
           }
          ],
          "pie": [
           {
            "automargin": true,
            "type": "pie"
           }
          ],
          "scatter": [
           {
            "fillpattern": {
             "fillmode": "overlay",
             "size": 10,
             "solidity": 0.2
            },
            "type": "scatter"
           }
          ],
          "scatter3d": [
           {
            "line": {
             "colorbar": {
              "outlinewidth": 0,
              "ticks": ""
             }
            },
            "marker": {
             "colorbar": {
              "outlinewidth": 0,
              "ticks": ""
             }
            },
            "type": "scatter3d"
           }
          ],
          "scattercarpet": [
           {
            "marker": {
             "colorbar": {
              "outlinewidth": 0,
              "ticks": ""
             }
            },
            "type": "scattercarpet"
           }
          ],
          "scattergeo": [
           {
            "marker": {
             "colorbar": {
              "outlinewidth": 0,
              "ticks": ""
             }
            },
            "type": "scattergeo"
           }
          ],
          "scattergl": [
           {
            "marker": {
             "colorbar": {
              "outlinewidth": 0,
              "ticks": ""
             }
            },
            "type": "scattergl"
           }
          ],
          "scattermapbox": [
           {
            "marker": {
             "colorbar": {
              "outlinewidth": 0,
              "ticks": ""
             }
            },
            "type": "scattermapbox"
           }
          ],
          "scatterpolar": [
           {
            "marker": {
             "colorbar": {
              "outlinewidth": 0,
              "ticks": ""
             }
            },
            "type": "scatterpolar"
           }
          ],
          "scatterpolargl": [
           {
            "marker": {
             "colorbar": {
              "outlinewidth": 0,
              "ticks": ""
             }
            },
            "type": "scatterpolargl"
           }
          ],
          "scatterternary": [
           {
            "marker": {
             "colorbar": {
              "outlinewidth": 0,
              "ticks": ""
             }
            },
            "type": "scatterternary"
           }
          ],
          "surface": [
           {
            "colorbar": {
             "outlinewidth": 0,
             "ticks": ""
            },
            "colorscale": [
             [
              0,
              "#0d0887"
             ],
             [
              0.1111111111111111,
              "#46039f"
             ],
             [
              0.2222222222222222,
              "#7201a8"
             ],
             [
              0.3333333333333333,
              "#9c179e"
             ],
             [
              0.4444444444444444,
              "#bd3786"
             ],
             [
              0.5555555555555556,
              "#d8576b"
             ],
             [
              0.6666666666666666,
              "#ed7953"
             ],
             [
              0.7777777777777778,
              "#fb9f3a"
             ],
             [
              0.8888888888888888,
              "#fdca26"
             ],
             [
              1,
              "#f0f921"
             ]
            ],
            "type": "surface"
           }
          ],
          "table": [
           {
            "cells": {
             "fill": {
              "color": "#EBF0F8"
             },
             "line": {
              "color": "white"
             }
            },
            "header": {
             "fill": {
              "color": "#C8D4E3"
             },
             "line": {
              "color": "white"
             }
            },
            "type": "table"
           }
          ]
         },
         "layout": {
          "annotationdefaults": {
           "arrowcolor": "#2a3f5f",
           "arrowhead": 0,
           "arrowwidth": 1
          },
          "autotypenumbers": "strict",
          "coloraxis": {
           "colorbar": {
            "outlinewidth": 0,
            "ticks": ""
           }
          },
          "colorscale": {
           "diverging": [
            [
             0,
             "#8e0152"
            ],
            [
             0.1,
             "#c51b7d"
            ],
            [
             0.2,
             "#de77ae"
            ],
            [
             0.3,
             "#f1b6da"
            ],
            [
             0.4,
             "#fde0ef"
            ],
            [
             0.5,
             "#f7f7f7"
            ],
            [
             0.6,
             "#e6f5d0"
            ],
            [
             0.7,
             "#b8e186"
            ],
            [
             0.8,
             "#7fbc41"
            ],
            [
             0.9,
             "#4d9221"
            ],
            [
             1,
             "#276419"
            ]
           ],
           "sequential": [
            [
             0,
             "#0d0887"
            ],
            [
             0.1111111111111111,
             "#46039f"
            ],
            [
             0.2222222222222222,
             "#7201a8"
            ],
            [
             0.3333333333333333,
             "#9c179e"
            ],
            [
             0.4444444444444444,
             "#bd3786"
            ],
            [
             0.5555555555555556,
             "#d8576b"
            ],
            [
             0.6666666666666666,
             "#ed7953"
            ],
            [
             0.7777777777777778,
             "#fb9f3a"
            ],
            [
             0.8888888888888888,
             "#fdca26"
            ],
            [
             1,
             "#f0f921"
            ]
           ],
           "sequentialminus": [
            [
             0,
             "#0d0887"
            ],
            [
             0.1111111111111111,
             "#46039f"
            ],
            [
             0.2222222222222222,
             "#7201a8"
            ],
            [
             0.3333333333333333,
             "#9c179e"
            ],
            [
             0.4444444444444444,
             "#bd3786"
            ],
            [
             0.5555555555555556,
             "#d8576b"
            ],
            [
             0.6666666666666666,
             "#ed7953"
            ],
            [
             0.7777777777777778,
             "#fb9f3a"
            ],
            [
             0.8888888888888888,
             "#fdca26"
            ],
            [
             1,
             "#f0f921"
            ]
           ]
          },
          "colorway": [
           "#636efa",
           "#EF553B",
           "#00cc96",
           "#ab63fa",
           "#FFA15A",
           "#19d3f3",
           "#FF6692",
           "#B6E880",
           "#FF97FF",
           "#FECB52"
          ],
          "font": {
           "color": "#2a3f5f"
          },
          "geo": {
           "bgcolor": "white",
           "lakecolor": "white",
           "landcolor": "#E5ECF6",
           "showlakes": true,
           "showland": true,
           "subunitcolor": "white"
          },
          "hoverlabel": {
           "align": "left"
          },
          "hovermode": "closest",
          "mapbox": {
           "style": "light"
          },
          "paper_bgcolor": "white",
          "plot_bgcolor": "#E5ECF6",
          "polar": {
           "angularaxis": {
            "gridcolor": "white",
            "linecolor": "white",
            "ticks": ""
           },
           "bgcolor": "#E5ECF6",
           "radialaxis": {
            "gridcolor": "white",
            "linecolor": "white",
            "ticks": ""
           }
          },
          "scene": {
           "xaxis": {
            "backgroundcolor": "#E5ECF6",
            "gridcolor": "white",
            "gridwidth": 2,
            "linecolor": "white",
            "showbackground": true,
            "ticks": "",
            "zerolinecolor": "white"
           },
           "yaxis": {
            "backgroundcolor": "#E5ECF6",
            "gridcolor": "white",
            "gridwidth": 2,
            "linecolor": "white",
            "showbackground": true,
            "ticks": "",
            "zerolinecolor": "white"
           },
           "zaxis": {
            "backgroundcolor": "#E5ECF6",
            "gridcolor": "white",
            "gridwidth": 2,
            "linecolor": "white",
            "showbackground": true,
            "ticks": "",
            "zerolinecolor": "white"
           }
          },
          "shapedefaults": {
           "line": {
            "color": "#2a3f5f"
           }
          },
          "ternary": {
           "aaxis": {
            "gridcolor": "white",
            "linecolor": "white",
            "ticks": ""
           },
           "baxis": {
            "gridcolor": "white",
            "linecolor": "white",
            "ticks": ""
           },
           "bgcolor": "#E5ECF6",
           "caxis": {
            "gridcolor": "white",
            "linecolor": "white",
            "ticks": ""
           }
          },
          "title": {
           "x": 0.05
          },
          "xaxis": {
           "automargin": true,
           "gridcolor": "white",
           "linecolor": "white",
           "ticks": "",
           "title": {
            "standoff": 15
           },
           "zerolinecolor": "white",
           "zerolinewidth": 2
          },
          "yaxis": {
           "automargin": true,
           "gridcolor": "white",
           "linecolor": "white",
           "ticks": "",
           "title": {
            "standoff": 15
           },
           "zerolinecolor": "white",
           "zerolinewidth": 2
          }
         }
        },
        "xaxis": {
         "title": {
          "text": "Quarters"
         }
        },
        "yaxis": {
         "title": {
          "text": "Current Ratio"
         }
        }
       }
      },
      "text/html": [
       "<div>                            <div id=\"4e455869-3c28-4e32-b833-a529ec30c8f6\" class=\"plotly-graph-div\" style=\"height:525px; width:100%;\"></div>            <script type=\"text/javascript\">                require([\"plotly\"], function(Plotly) {                    window.PLOTLYENV=window.PLOTLYENV || {};                                    if (document.getElementById(\"4e455869-3c28-4e32-b833-a529ec30c8f6\")) {                    Plotly.newPlot(                        \"4e455869-3c28-4e32-b833-a529ec30c8f6\",                        [{\"line\":{\"width\":1.5},\"marker\":{\"size\":6},\"mode\":\"lines+markers\",\"name\":\"RY.TO\",\"x\":[\"1996-Q1\",\"1996-Q2\",\"1996-Q3\",\"1996-Q4\",\"1997-Q1\",\"1997-Q2\",\"1997-Q3\",\"1997-Q4\",\"1998-Q1\",\"1998-Q2\",\"1998-Q3\",\"1998-Q4\",\"1999-Q1\",\"1999-Q2\",\"1999-Q3\",\"1999-Q4\",\"2000-Q1\",\"2000-Q2\",\"2000-Q3\",\"2000-Q4\",\"2001-Q1\",\"2001-Q2\",\"2001-Q3\",\"2001-Q4\",\"2002-Q1\",\"2002-Q2\",\"2002-Q3\",\"2002-Q4\",\"2003-Q1\",\"2003-Q2\",\"2003-Q3\",\"2003-Q4\",\"2004-Q1\",\"2004-Q2\",\"2004-Q3\",\"2004-Q4\",\"2005-Q1\",\"2005-Q2\",\"2005-Q3\",\"2005-Q4\",\"2006-Q1\",\"2006-Q2\",\"2006-Q3\",\"2006-Q4\",\"2007-Q1\",\"2007-Q2\",\"2007-Q3\",\"2007-Q4\",\"2008-Q1\",\"2008-Q2\",\"2008-Q3\",\"2008-Q4\",\"2009-Q1\",\"2009-Q2\",\"2009-Q3\",\"2009-Q4\",\"2010-Q1\",\"2010-Q2\",\"2010-Q3\",\"2010-Q4\",\"2011-Q1\",\"2011-Q2\",\"2011-Q3\",\"2011-Q4\",\"2012-Q1\",\"2012-Q2\",\"2012-Q3\",\"2012-Q4\",\"2013-Q1\",\"2013-Q2\",\"2013-Q3\",\"2013-Q4\",\"2014-Q1\",\"2014-Q2\",\"2014-Q3\",\"2014-Q4\",\"2015-Q1\",\"2015-Q2\",\"2015-Q3\",\"2015-Q4\",\"2016-Q1\",\"2016-Q2\",\"2016-Q3\",\"2016-Q4\",\"2017-Q1\",\"2017-Q2\",\"2017-Q3\",\"2017-Q4\",\"2018-Q1\",\"2018-Q2\",\"2018-Q3\",\"2018-Q4\",\"2019-Q1\",\"2019-Q2\",\"2019-Q3\",\"2019-Q4\",\"2020-Q1\",\"2020-Q2\",\"2020-Q3\",\"2020-Q4\",\"2021-Q1\",\"2021-Q2\",\"2021-Q3\",\"2021-Q4\",\"2022-Q1\",\"2022-Q2\",\"2022-Q3\",\"2022-Q4\",\"2023-Q1\",\"2023-Q2\",\"2023-Q3\"],\"y\":[1.368,1.317,1.102,1.5525000000000002,2.003,2.536,2.048,0.8531,1.957,1.311,0.6147,0.5163,0.828,1.76,1.018,0.819,0.9877,0.8544,1.035,0.8743,0.602,0.5915,0.6109,0.47,0.4549,0.891,0.5376,1.421,1.359,1.331,1.362,1.156,1.156,0.9932,1.134,2.109,1.022,1.047,2.678,0.9541,0.9762,1.094,1.009,0.8879,0.906,0.948,1.016,0.9075,1.111,0.5582,1.109,0.9415,1.016,2.234,3.869,5.611,1.123,1.684,2.023,5.803,1.565,1.741,2.003,5.672,2.449,1.932,2.156,3.407,4.186,3.818,3.91,3.499,4.221,4.245,4.22,2.276,4.768,4.261,4.553,2.091,4.459,4.314,3.796,2.397,3.443,3.604,3.774,2.018,2.891,3.012,2.944,1.608,1.933,1.902,1.94,1.535,1.583,2.013,2.188,1.724,2.067,2.025,2.048,1.7,2.009,2.112,1.976,1.653,1.971,2.024,1.896],\"type\":\"scatter\"},{\"line\":{\"width\":1.5},\"marker\":{\"size\":6},\"mode\":\"lines+markers\",\"name\":\"TD.TO\",\"x\":[\"1996-Q1\",\"1996-Q2\",\"1996-Q3\",\"1996-Q4\",\"1997-Q1\",\"1997-Q2\",\"1997-Q3\",\"1997-Q4\",\"1998-Q1\",\"1998-Q2\",\"1998-Q3\",\"1998-Q4\",\"1999-Q1\",\"1999-Q2\",\"1999-Q3\",\"1999-Q4\",\"2000-Q1\",\"2000-Q2\",\"2000-Q3\",\"2000-Q4\",\"2001-Q1\",\"2001-Q2\",\"2001-Q3\",\"2001-Q4\",\"2002-Q1\",\"2002-Q2\",\"2002-Q3\",\"2002-Q4\",\"2003-Q1\",\"2003-Q2\",\"2003-Q3\",\"2003-Q4\",\"2004-Q1\",\"2004-Q2\",\"2004-Q3\",\"2004-Q4\",\"2005-Q1\",\"2005-Q2\",\"2005-Q3\",\"2005-Q4\",\"2006-Q1\",\"2006-Q2\",\"2006-Q3\",\"2006-Q4\",\"2007-Q1\",\"2007-Q2\",\"2007-Q3\",\"2007-Q4\",\"2008-Q1\",\"2008-Q2\",\"2008-Q3\",\"2008-Q4\",\"2009-Q1\",\"2009-Q2\",\"2009-Q3\",\"2009-Q4\",\"2010-Q1\",\"2010-Q2\",\"2010-Q3\",\"2010-Q4\",\"2011-Q1\",\"2011-Q2\",\"2011-Q3\",\"2011-Q4\",\"2012-Q1\",\"2012-Q2\",\"2012-Q3\",\"2012-Q4\",\"2013-Q1\",\"2013-Q2\",\"2013-Q3\",\"2013-Q4\",\"2014-Q1\",\"2014-Q2\",\"2014-Q3\",\"2014-Q4\",\"2015-Q1\",\"2015-Q2\",\"2015-Q3\",\"2015-Q4\",\"2016-Q1\",\"2016-Q2\",\"2016-Q3\",\"2016-Q4\",\"2017-Q1\",\"2017-Q2\",\"2017-Q3\",\"2017-Q4\",\"2018-Q1\",\"2018-Q2\",\"2018-Q3\",\"2018-Q4\",\"2019-Q1\",\"2019-Q2\",\"2019-Q3\",\"2019-Q4\",\"2020-Q1\",\"2020-Q2\",\"2020-Q3\",\"2020-Q4\",\"2021-Q1\",\"2021-Q2\",\"2021-Q3\",\"2021-Q4\",\"2022-Q1\",\"2022-Q2\",\"2022-Q3\",\"2022-Q4\",\"2023-Q1\",\"2023-Q2\",\"2023-Q3\"],\"y\":[0.0448,0.0448,0.0416,0.2871,0.0371,0.8415,0.0221,1.235,1.153,1.139,0.988,0.8125,0.9869,0.9005,0.859,0.8958,1.028,0.7578,0.8168,0.6518,0.785,0.7262,0.6706,0.7249,0.8213,0.8603,0.8396,0.7622,1.021,1.191,1.028,1.086,0.9732,1.303,1.174,1.068,1.147,1.126,1.107,3.521,0.9834,1.101,0.9189,2.596,0.9224,1.021,0.917,3.944,1.14,1.333,1.246,7.322,2.727,4.674,3.795,6.447,2.956,2.448,4.864,5.991,2.231,4.871,4.337,6.248,2.593,2.295,4.713,5.228,5.2,5.801,5.048,4.897,4.468,3.685,3.644,1.465,3.775,3.614,3.481,3.443,3.846,3.61,4.04,2.33,3.972,3.563,3.71,1.962,3.453,3.277,3.17,1.171,1.5,1.461,1.355,1.122,1.271,1.607,1.577,1.444,1.644,1.821,1.615,1.472,1.487,1.561,1.39,1.216,1.214,1.133,1.147],\"type\":\"scatter\"},{\"line\":{\"width\":1.5},\"marker\":{\"size\":6},\"mode\":\"lines+markers\",\"name\":\"BNS.TO\",\"x\":[\"1996-Q1\",\"1996-Q2\",\"1996-Q3\",\"1996-Q4\",\"1997-Q1\",\"1997-Q2\",\"1997-Q3\",\"1997-Q4\",\"1998-Q1\",\"1998-Q2\",\"1998-Q3\",\"1998-Q4\",\"1999-Q1\",\"1999-Q2\",\"1999-Q3\",\"1999-Q4\",\"2000-Q1\",\"2000-Q2\",\"2000-Q3\",\"2000-Q4\",\"2001-Q1\",\"2001-Q2\",\"2001-Q3\",\"2001-Q4\",\"2002-Q1\",\"2002-Q2\",\"2002-Q3\",\"2002-Q4\",\"2003-Q1\",\"2003-Q2\",\"2003-Q3\",\"2003-Q4\",\"2004-Q1\",\"2004-Q2\",\"2004-Q3\",\"2004-Q4\",\"2005-Q1\",\"2005-Q2\",\"2005-Q3\",\"2005-Q4\",\"2006-Q1\",\"2006-Q2\",\"2006-Q3\",\"2006-Q4\",\"2007-Q1\",\"2007-Q2\",\"2007-Q3\",\"2007-Q4\",\"2008-Q1\",\"2008-Q2\",\"2008-Q3\",\"2008-Q4\",\"2009-Q1\",\"2009-Q2\",\"2009-Q3\",\"2009-Q4\",\"2010-Q1\",\"2010-Q2\",\"2010-Q3\",\"2010-Q4\",\"2011-Q1\",\"2011-Q2\",\"2011-Q3\",\"2011-Q4\",\"2012-Q1\",\"2012-Q2\",\"2012-Q3\",\"2012-Q4\",\"2013-Q1\",\"2013-Q2\",\"2013-Q3\",\"2013-Q4\",\"2014-Q1\",\"2014-Q2\",\"2014-Q3\",\"2014-Q4\",\"2015-Q1\",\"2015-Q2\",\"2015-Q3\",\"2015-Q4\",\"2016-Q1\",\"2016-Q2\",\"2016-Q3\",\"2016-Q4\",\"2017-Q1\",\"2017-Q2\",\"2017-Q3\",\"2017-Q4\",\"2018-Q1\",\"2018-Q2\",\"2018-Q3\",\"2018-Q4\",\"2019-Q1\",\"2019-Q2\",\"2019-Q3\",\"2019-Q4\",\"2020-Q1\",\"2020-Q2\",\"2020-Q3\",\"2020-Q4\",\"2021-Q1\",\"2021-Q2\",\"2021-Q3\",\"2021-Q4\",\"2022-Q1\",\"2022-Q2\",\"2022-Q3\",\"2022-Q4\",\"2023-Q1\",\"2023-Q2\",\"2023-Q3\"],\"y\":[1.456,1.1,1.144,0.9657,1.086,1.106,0.8083,1.135,1.192,0.9533,0.9718,1.181,1.089,0.8394,0.8569,0.8321,0.8586,0.8074,0.728,0.6329,0.6001,0.4896,0.374,0.4876,0.4683,0.4365,0.4568,0.4766,0.425,0.3755,0.4548,0.5028,0.4911,0.8025,0.5256,0.5396,0.5504,0.5367,0.5356,0.4782,0.5802,0.529,0.4665,2.352,0.9812,1.025,0.9944,2.894,1.13,1.039,0.7,3.247,0.935,6.263,5.726,3.177,7.75,4.575,4.993,3.214,4.388,5.102,5.539,3.254,5.621,2.015,5.21,2.747,2.125,2.111,1.837,2.173,1.912,1.905,1.83,0.9995,3.142,2.634,3.324,1.142,3.008,2.489,2.704,1.083,2.3,2.495,2.506,1.23,2.6,2.558,2.751,1.235,1.205,1.192,1.137,1.069,1.156,1.356,1.492,1.426,1.643,1.596,1.657,1.402,1.47,1.539,1.496,1.344,1.438,1.399,1.468],\"type\":\"scatter\"}],                        {\"xaxis\":{\"title\":{\"text\":\"Quarters\"}},\"yaxis\":{\"title\":{\"text\":\"Current Ratio\"}},\"template\":{\"data\":{\"histogram2dcontour\":[{\"type\":\"histogram2dcontour\",\"colorbar\":{\"outlinewidth\":0,\"ticks\":\"\"},\"colorscale\":[[0.0,\"#0d0887\"],[0.1111111111111111,\"#46039f\"],[0.2222222222222222,\"#7201a8\"],[0.3333333333333333,\"#9c179e\"],[0.4444444444444444,\"#bd3786\"],[0.5555555555555556,\"#d8576b\"],[0.6666666666666666,\"#ed7953\"],[0.7777777777777778,\"#fb9f3a\"],[0.8888888888888888,\"#fdca26\"],[1.0,\"#f0f921\"]]}],\"choropleth\":[{\"type\":\"choropleth\",\"colorbar\":{\"outlinewidth\":0,\"ticks\":\"\"}}],\"histogram2d\":[{\"type\":\"histogram2d\",\"colorbar\":{\"outlinewidth\":0,\"ticks\":\"\"},\"colorscale\":[[0.0,\"#0d0887\"],[0.1111111111111111,\"#46039f\"],[0.2222222222222222,\"#7201a8\"],[0.3333333333333333,\"#9c179e\"],[0.4444444444444444,\"#bd3786\"],[0.5555555555555556,\"#d8576b\"],[0.6666666666666666,\"#ed7953\"],[0.7777777777777778,\"#fb9f3a\"],[0.8888888888888888,\"#fdca26\"],[1.0,\"#f0f921\"]]}],\"heatmap\":[{\"type\":\"heatmap\",\"colorbar\":{\"outlinewidth\":0,\"ticks\":\"\"},\"colorscale\":[[0.0,\"#0d0887\"],[0.1111111111111111,\"#46039f\"],[0.2222222222222222,\"#7201a8\"],[0.3333333333333333,\"#9c179e\"],[0.4444444444444444,\"#bd3786\"],[0.5555555555555556,\"#d8576b\"],[0.6666666666666666,\"#ed7953\"],[0.7777777777777778,\"#fb9f3a\"],[0.8888888888888888,\"#fdca26\"],[1.0,\"#f0f921\"]]}],\"heatmapgl\":[{\"type\":\"heatmapgl\",\"colorbar\":{\"outlinewidth\":0,\"ticks\":\"\"},\"colorscale\":[[0.0,\"#0d0887\"],[0.1111111111111111,\"#46039f\"],[0.2222222222222222,\"#7201a8\"],[0.3333333333333333,\"#9c179e\"],[0.4444444444444444,\"#bd3786\"],[0.5555555555555556,\"#d8576b\"],[0.6666666666666666,\"#ed7953\"],[0.7777777777777778,\"#fb9f3a\"],[0.8888888888888888,\"#fdca26\"],[1.0,\"#f0f921\"]]}],\"contourcarpet\":[{\"type\":\"contourcarpet\",\"colorbar\":{\"outlinewidth\":0,\"ticks\":\"\"}}],\"contour\":[{\"type\":\"contour\",\"colorbar\":{\"outlinewidth\":0,\"ticks\":\"\"},\"colorscale\":[[0.0,\"#0d0887\"],[0.1111111111111111,\"#46039f\"],[0.2222222222222222,\"#7201a8\"],[0.3333333333333333,\"#9c179e\"],[0.4444444444444444,\"#bd3786\"],[0.5555555555555556,\"#d8576b\"],[0.6666666666666666,\"#ed7953\"],[0.7777777777777778,\"#fb9f3a\"],[0.8888888888888888,\"#fdca26\"],[1.0,\"#f0f921\"]]}],\"surface\":[{\"type\":\"surface\",\"colorbar\":{\"outlinewidth\":0,\"ticks\":\"\"},\"colorscale\":[[0.0,\"#0d0887\"],[0.1111111111111111,\"#46039f\"],[0.2222222222222222,\"#7201a8\"],[0.3333333333333333,\"#9c179e\"],[0.4444444444444444,\"#bd3786\"],[0.5555555555555556,\"#d8576b\"],[0.6666666666666666,\"#ed7953\"],[0.7777777777777778,\"#fb9f3a\"],[0.8888888888888888,\"#fdca26\"],[1.0,\"#f0f921\"]]}],\"mesh3d\":[{\"type\":\"mesh3d\",\"colorbar\":{\"outlinewidth\":0,\"ticks\":\"\"}}],\"scatter\":[{\"fillpattern\":{\"fillmode\":\"overlay\",\"size\":10,\"solidity\":0.2},\"type\":\"scatter\"}],\"parcoords\":[{\"type\":\"parcoords\",\"line\":{\"colorbar\":{\"outlinewidth\":0,\"ticks\":\"\"}}}],\"scatterpolargl\":[{\"type\":\"scatterpolargl\",\"marker\":{\"colorbar\":{\"outlinewidth\":0,\"ticks\":\"\"}}}],\"bar\":[{\"error_x\":{\"color\":\"#2a3f5f\"},\"error_y\":{\"color\":\"#2a3f5f\"},\"marker\":{\"line\":{\"color\":\"#E5ECF6\",\"width\":0.5},\"pattern\":{\"fillmode\":\"overlay\",\"size\":10,\"solidity\":0.2}},\"type\":\"bar\"}],\"scattergeo\":[{\"type\":\"scattergeo\",\"marker\":{\"colorbar\":{\"outlinewidth\":0,\"ticks\":\"\"}}}],\"scatterpolar\":[{\"type\":\"scatterpolar\",\"marker\":{\"colorbar\":{\"outlinewidth\":0,\"ticks\":\"\"}}}],\"histogram\":[{\"marker\":{\"pattern\":{\"fillmode\":\"overlay\",\"size\":10,\"solidity\":0.2}},\"type\":\"histogram\"}],\"scattergl\":[{\"type\":\"scattergl\",\"marker\":{\"colorbar\":{\"outlinewidth\":0,\"ticks\":\"\"}}}],\"scatter3d\":[{\"type\":\"scatter3d\",\"line\":{\"colorbar\":{\"outlinewidth\":0,\"ticks\":\"\"}},\"marker\":{\"colorbar\":{\"outlinewidth\":0,\"ticks\":\"\"}}}],\"scattermapbox\":[{\"type\":\"scattermapbox\",\"marker\":{\"colorbar\":{\"outlinewidth\":0,\"ticks\":\"\"}}}],\"scatterternary\":[{\"type\":\"scatterternary\",\"marker\":{\"colorbar\":{\"outlinewidth\":0,\"ticks\":\"\"}}}],\"scattercarpet\":[{\"type\":\"scattercarpet\",\"marker\":{\"colorbar\":{\"outlinewidth\":0,\"ticks\":\"\"}}}],\"carpet\":[{\"aaxis\":{\"endlinecolor\":\"#2a3f5f\",\"gridcolor\":\"white\",\"linecolor\":\"white\",\"minorgridcolor\":\"white\",\"startlinecolor\":\"#2a3f5f\"},\"baxis\":{\"endlinecolor\":\"#2a3f5f\",\"gridcolor\":\"white\",\"linecolor\":\"white\",\"minorgridcolor\":\"white\",\"startlinecolor\":\"#2a3f5f\"},\"type\":\"carpet\"}],\"table\":[{\"cells\":{\"fill\":{\"color\":\"#EBF0F8\"},\"line\":{\"color\":\"white\"}},\"header\":{\"fill\":{\"color\":\"#C8D4E3\"},\"line\":{\"color\":\"white\"}},\"type\":\"table\"}],\"barpolar\":[{\"marker\":{\"line\":{\"color\":\"#E5ECF6\",\"width\":0.5},\"pattern\":{\"fillmode\":\"overlay\",\"size\":10,\"solidity\":0.2}},\"type\":\"barpolar\"}],\"pie\":[{\"automargin\":true,\"type\":\"pie\"}]},\"layout\":{\"autotypenumbers\":\"strict\",\"colorway\":[\"#636efa\",\"#EF553B\",\"#00cc96\",\"#ab63fa\",\"#FFA15A\",\"#19d3f3\",\"#FF6692\",\"#B6E880\",\"#FF97FF\",\"#FECB52\"],\"font\":{\"color\":\"#2a3f5f\"},\"hovermode\":\"closest\",\"hoverlabel\":{\"align\":\"left\"},\"paper_bgcolor\":\"white\",\"plot_bgcolor\":\"#E5ECF6\",\"polar\":{\"bgcolor\":\"#E5ECF6\",\"angularaxis\":{\"gridcolor\":\"white\",\"linecolor\":\"white\",\"ticks\":\"\"},\"radialaxis\":{\"gridcolor\":\"white\",\"linecolor\":\"white\",\"ticks\":\"\"}},\"ternary\":{\"bgcolor\":\"#E5ECF6\",\"aaxis\":{\"gridcolor\":\"white\",\"linecolor\":\"white\",\"ticks\":\"\"},\"baxis\":{\"gridcolor\":\"white\",\"linecolor\":\"white\",\"ticks\":\"\"},\"caxis\":{\"gridcolor\":\"white\",\"linecolor\":\"white\",\"ticks\":\"\"}},\"coloraxis\":{\"colorbar\":{\"outlinewidth\":0,\"ticks\":\"\"}},\"colorscale\":{\"sequential\":[[0.0,\"#0d0887\"],[0.1111111111111111,\"#46039f\"],[0.2222222222222222,\"#7201a8\"],[0.3333333333333333,\"#9c179e\"],[0.4444444444444444,\"#bd3786\"],[0.5555555555555556,\"#d8576b\"],[0.6666666666666666,\"#ed7953\"],[0.7777777777777778,\"#fb9f3a\"],[0.8888888888888888,\"#fdca26\"],[1.0,\"#f0f921\"]],\"sequentialminus\":[[0.0,\"#0d0887\"],[0.1111111111111111,\"#46039f\"],[0.2222222222222222,\"#7201a8\"],[0.3333333333333333,\"#9c179e\"],[0.4444444444444444,\"#bd3786\"],[0.5555555555555556,\"#d8576b\"],[0.6666666666666666,\"#ed7953\"],[0.7777777777777778,\"#fb9f3a\"],[0.8888888888888888,\"#fdca26\"],[1.0,\"#f0f921\"]],\"diverging\":[[0,\"#8e0152\"],[0.1,\"#c51b7d\"],[0.2,\"#de77ae\"],[0.3,\"#f1b6da\"],[0.4,\"#fde0ef\"],[0.5,\"#f7f7f7\"],[0.6,\"#e6f5d0\"],[0.7,\"#b8e186\"],[0.8,\"#7fbc41\"],[0.9,\"#4d9221\"],[1,\"#276419\"]]},\"xaxis\":{\"gridcolor\":\"white\",\"linecolor\":\"white\",\"ticks\":\"\",\"title\":{\"standoff\":15},\"zerolinecolor\":\"white\",\"automargin\":true,\"zerolinewidth\":2},\"yaxis\":{\"gridcolor\":\"white\",\"linecolor\":\"white\",\"ticks\":\"\",\"title\":{\"standoff\":15},\"zerolinecolor\":\"white\",\"automargin\":true,\"zerolinewidth\":2},\"scene\":{\"xaxis\":{\"backgroundcolor\":\"#E5ECF6\",\"gridcolor\":\"white\",\"linecolor\":\"white\",\"showbackground\":true,\"ticks\":\"\",\"zerolinecolor\":\"white\",\"gridwidth\":2},\"yaxis\":{\"backgroundcolor\":\"#E5ECF6\",\"gridcolor\":\"white\",\"linecolor\":\"white\",\"showbackground\":true,\"ticks\":\"\",\"zerolinecolor\":\"white\",\"gridwidth\":2},\"zaxis\":{\"backgroundcolor\":\"#E5ECF6\",\"gridcolor\":\"white\",\"linecolor\":\"white\",\"showbackground\":true,\"ticks\":\"\",\"zerolinecolor\":\"white\",\"gridwidth\":2}},\"shapedefaults\":{\"line\":{\"color\":\"#2a3f5f\"}},\"annotationdefaults\":{\"arrowcolor\":\"#2a3f5f\",\"arrowhead\":0,\"arrowwidth\":1},\"geo\":{\"bgcolor\":\"white\",\"landcolor\":\"#E5ECF6\",\"subunitcolor\":\"white\",\"showland\":true,\"showlakes\":true,\"lakecolor\":\"white\"},\"title\":{\"x\":0.05},\"mapbox\":{\"style\":\"light\"}}}},                        {\"responsive\": true}                    ).then(function(){\n",
       "                            \n",
       "var gd = document.getElementById('4e455869-3c28-4e32-b833-a529ec30c8f6');\n",
       "var x = new MutationObserver(function (mutations, observer) {{\n",
       "        var display = window.getComputedStyle(gd).display;\n",
       "        if (!display || display === 'none') {{\n",
       "            console.log([gd, 'removed!']);\n",
       "            Plotly.purge(gd);\n",
       "            observer.disconnect();\n",
       "        }}\n",
       "}});\n",
       "\n",
       "// Listen for the removal of the full notebook cells\n",
       "var notebookContainer = gd.closest('#notebook-container');\n",
       "if (notebookContainer) {{\n",
       "    x.observe(notebookContainer, {childList: true});\n",
       "}}\n",
       "\n",
       "// Listen for the clearing of the current output cell\n",
       "var outputEl = gd.closest('.output');\n",
       "if (outputEl) {{\n",
       "    x.observe(outputEl, {childList: true});\n",
       "}}\n",
       "\n",
       "                        })                };                });            </script>        </div>"
      ]
     },
     "metadata": {},
     "output_type": "display_data"
    }
   ],
   "source": [
    "# Combine data into a single DataFrame for plotting\n",
    "combined_df_current_ratio = pd.DataFrame({\n",
    "    'Quarters': regression_df_RY['Quarters'],\n",
    "    'RY.TO': regression_df_RY['Current ratio'],\n",
    "    'TD.TO': regression_df_TD['Current ratio'],\n",
    "    'BNS.TO': regression_df_BNS['Current ratio']\n",
    "})\n",
    "\n",
    "# Set the index to 'Quarters' for better plotting\n",
    "combined_df_current_ratio.set_index('Quarters', inplace=True)\n",
    "\n",
    "# Create traces for each company\n",
    "trace_ry_current = go.Scatter(\n",
    "    x=combined_df_current_ratio.index,\n",
    "    y=combined_df_current_ratio['RY.TO'],\n",
    "    mode='lines+markers',\n",
    "    name='RY.TO',\n",
    "    marker=dict(size=6),  # Adjust the size of the markers\n",
    "    line=dict(width=1.5)  # Adjust the width of the lines\n",
    ")\n",
    "\n",
    "trace_td_current = go.Scatter(\n",
    "    x=combined_df_current_ratio.index,\n",
    "    y=combined_df_current_ratio['TD.TO'],\n",
    "    mode='lines+markers',\n",
    "    name='TD.TO',\n",
    "    marker=dict(size=6),\n",
    "    line=dict(width=1.5)\n",
    ")\n",
    "\n",
    "trace_bns_current = go.Scatter(\n",
    "    x=combined_df_current_ratio.index,\n",
    "    y=combined_df_current_ratio['BNS.TO'],\n",
    "    mode='lines+markers',\n",
    "    name='BNS.TO',\n",
    "    marker=dict(size=6),\n",
    "    line=dict(width=1.5)\n",
    ")\n",
    "\n",
    "# Combine the traces\n",
    "data_current_ratio = [trace_ry_current, trace_td_current, trace_bns_current]\n",
    "\n",
    "# Define the layout\n",
    "layout_current_ratio = go.Layout(\n",
    "    #title='Current Ratio for RY.TO, TD.TO, and BNS.TO on quarter basis',\n",
    "    xaxis=dict(title='Quarters'),\n",
    "    yaxis=dict(title='Current Ratio')\n",
    ")\n",
    "\n",
    "# Create the figure\n",
    "fig_current_ratio = go.Figure(data=data_current_ratio, layout=layout_current_ratio)\n",
    "\n",
    "# Plot the figure\n",
    "fig_current_ratio.show()"
   ]
  },
  {
   "cell_type": "markdown",
   "metadata": {},
   "source": [
    "### Linear regression"
   ]
  },
  {
   "cell_type": "code",
   "execution_count": null,
   "metadata": {},
   "outputs": [
    {
     "name": "stdout",
     "output_type": "stream",
     "text": [
      "Linear Regression Results for RY.TO:\n",
      "                            OLS Regression Results                            \n",
      "==============================================================================\n",
      "Dep. Variable:          Current_Ratio   R-squared:                       0.529\n",
      "Model:                            OLS   Adj. R-squared:                  0.502\n",
      "Method:                 Least Squares   F-statistic:                     19.49\n",
      "Date:                Thu, 08 Aug 2024   Prob (F-statistic):           4.00e-15\n",
      "Time:                        14:27:20   Log-Likelihood:                -141.02\n",
      "No. Observations:                 111   AIC:                             296.0\n",
      "Df Residuals:                     104   BIC:                             315.0\n",
      "Df Model:                           6                                         \n",
      "Covariance Type:            nonrobust                                         \n",
      "==============================================================================\n",
      "                 coef    std err          t      P>|t|      [0.025      0.975]\n",
      "------------------------------------------------------------------------------\n",
      "Intercept     -0.2452      0.555     -0.442      0.659      -1.345       0.855\n",
      "Sea_Lvl_M     -1.6273      0.560     -2.907      0.004      -2.737      -0.517\n",
      "CDD_M         -0.1588      0.164     -0.970      0.334      -0.484       0.166\n",
      "Rx5Day_M       3.8566      0.463      8.325      0.000       2.938       4.775\n",
      "T10_M         -0.8620      0.798     -1.081      0.282      -2.444       0.720\n",
      "T90_M         -2.8968      0.591     -4.904      0.000      -4.068      -1.725\n",
      "WP90_M         0.6143      1.488      0.413      0.681      -2.336       3.565\n",
      "==============================================================================\n",
      "Omnibus:                       19.342   Durbin-Watson:                   1.688\n",
      "Prob(Omnibus):                  0.000   Jarque-Bera (JB):               32.175\n",
      "Skew:                           0.772   Prob(JB):                     1.03e-07\n",
      "Kurtosis:                       5.139   Cond. No.                         33.5\n",
      "==============================================================================\n",
      "\n",
      "Notes:\n",
      "[1] Standard Errors assume that the covariance matrix of the errors is correctly specified.\n",
      "MSE: 0.7430315340014283\n",
      "R-squared: 0.529256215223115\n",
      "\n",
      "\n",
      "Linear Regression Results for TD.TO:\n",
      "                            OLS Regression Results                            \n",
      "==============================================================================\n",
      "Dep. Variable:          Current_Ratio   R-squared:                       0.655\n",
      "Model:                            OLS   Adj. R-squared:                  0.635\n",
      "Method:                 Least Squares   F-statistic:                     32.90\n",
      "Date:                Thu, 08 Aug 2024   Prob (F-statistic):           5.85e-22\n",
      "Time:                        14:27:20   Log-Likelihood:                -154.02\n",
      "No. Observations:                 111   AIC:                             322.0\n",
      "Df Residuals:                     104   BIC:                             341.0\n",
      "Df Model:                           6                                         \n",
      "Covariance Type:            nonrobust                                         \n",
      "==============================================================================\n",
      "                 coef    std err          t      P>|t|      [0.025      0.975]\n",
      "------------------------------------------------------------------------------\n",
      "Intercept     -3.1957      0.624     -5.124      0.000      -4.432      -1.959\n",
      "Sea_Lvl_M     -0.9819      0.629     -1.560      0.122      -2.230       0.266\n",
      "CDD_M         -0.5201      0.184     -2.825      0.006      -0.885      -0.155\n",
      "Rx5Day_M       3.4982      0.521      6.717      0.000       2.465       4.531\n",
      "T10_M         -3.9646      0.897     -4.421      0.000      -5.743      -2.186\n",
      "T90_M         -4.7650      0.664     -7.174      0.000      -6.082      -3.448\n",
      "WP90_M         5.0497      1.673      3.019      0.003       1.733       8.367\n",
      "==============================================================================\n",
      "Omnibus:                       15.790   Durbin-Watson:                   1.894\n",
      "Prob(Omnibus):                  0.000   Jarque-Bera (JB):               32.024\n",
      "Skew:                           0.539   Prob(JB):                     1.11e-07\n",
      "Kurtosis:                       5.400   Cond. No.                         33.5\n",
      "==============================================================================\n",
      "\n",
      "Notes:\n",
      "[1] Standard Errors assume that the covariance matrix of the errors is correctly specified.\n",
      "MSE: 0.9392437852306108\n",
      "R-squared: 0.6549351547366691\n",
      "\n",
      "\n",
      "Linear Regression Results for BNS.TO:\n",
      "                            OLS Regression Results                            \n",
      "==============================================================================\n",
      "Dep. Variable:          Current_Ratio   R-squared:                       0.472\n",
      "Model:                            OLS   Adj. R-squared:                  0.442\n",
      "Method:                 Least Squares   F-statistic:                     15.50\n",
      "Date:                Thu, 08 Aug 2024   Prob (F-statistic):           1.25e-12\n",
      "Time:                        14:27:20   Log-Likelihood:                -162.88\n",
      "No. Observations:                 111   AIC:                             339.8\n",
      "Df Residuals:                     104   BIC:                             358.7\n",
      "Df Model:                           6                                         \n",
      "Covariance Type:            nonrobust                                         \n",
      "==============================================================================\n",
      "                 coef    std err          t      P>|t|      [0.025      0.975]\n",
      "------------------------------------------------------------------------------\n",
      "Intercept     -1.6525      0.675     -2.447      0.016      -2.992      -0.313\n",
      "Sea_Lvl_M     -0.1254      0.682     -0.184      0.854      -1.477       1.226\n",
      "CDD_M         -0.3760      0.199     -1.886      0.062      -0.771       0.019\n",
      "Rx5Day_M       2.8542      0.564      5.060      0.000       1.736       3.973\n",
      "T10_M         -2.5542      0.971     -2.630      0.010      -4.480      -0.628\n",
      "T90_M         -4.4593      0.719     -6.199      0.000      -5.886      -3.033\n",
      "WP90_M         4.1178      1.812      2.273      0.025       0.525       7.710\n",
      "==============================================================================\n",
      "Omnibus:                       48.668   Durbin-Watson:                   1.320\n",
      "Prob(Omnibus):                  0.000   Jarque-Bera (JB):              172.670\n",
      "Skew:                           1.502   Prob(JB):                     3.20e-38\n",
      "Kurtosis:                       8.320   Cond. No.                         33.5\n",
      "==============================================================================\n",
      "\n",
      "Notes:\n",
      "[1] Standard Errors assume that the covariance matrix of the errors is correctly specified.\n",
      "MSE: 1.1017151397033154\n",
      "R-squared: 0.4720188945926955\n",
      "\n",
      "\n"
     ]
    }
   ],
   "source": [
    "def perform_linear_regression_current_ratio(df):\n",
    "    # Rename the 'Current ratio' column to 'Current_Ratio'\n",
    "    df = df.rename(columns={'Current ratio': 'Current_Ratio'})\n",
    "    \n",
    "    # Create a formula for OLS\n",
    "    formula = 'Current_Ratio ~ ' + ' + '.join(features)\n",
    "    \n",
    "    # Fit the model using OLS\n",
    "    model = ols(formula, data=df).fit()\n",
    "    \n",
    "    # Predict and evaluate the model\n",
    "    y_pred = model.fittedvalues\n",
    "    y_test = df['Current_Ratio']\n",
    "    \n",
    "    # Calculate metrics\n",
    "    mse = mean_squared_error(y_test, y_pred)\n",
    "    r2 = r2_score(y_test, y_pred)\n",
    "    \n",
    "    return model.summary(), mse, r2\n",
    "\n",
    "# Perform linear regression for each bank\n",
    "current_ratio_results = {}\n",
    "for symbol, regression_df in regression_dataframes.items():\n",
    "    summary, mse, r2 = perform_linear_regression_current_ratio(regression_df)\n",
    "    current_ratio_results[symbol] = {\n",
    "        'Summary': summary,\n",
    "        'MSE': mse,\n",
    "        'R2': r2\n",
    "    }\n",
    "\n",
    "# Display the results\n",
    "for symbol, result in current_ratio_results.items():\n",
    "    print(f\"Linear Regression Results for {symbol}:\")\n",
    "    print(result['Summary'])\n",
    "    print(f\"MSE: {result['MSE']}\")\n",
    "    print(f\"R-squared: {result['R2']}\")\n",
    "    print(\"\\n\")"
   ]
  },
  {
   "cell_type": "markdown",
   "metadata": {},
   "source": [
    "### Log-linear regression"
   ]
  },
  {
   "cell_type": "code",
   "execution_count": null,
   "metadata": {},
   "outputs": [
    {
     "data": {
      "application/vnd.plotly.v1+json": {
       "config": {
        "plotlyServerURL": "https://plot.ly"
       },
       "data": [
        {
         "marker": {
          "color": "blue",
          "size": 8
         },
         "mode": "markers",
         "name": "TD.TO Current Ratio",
         "type": "scatter",
         "x": [
          "1996-Q1",
          "1996-Q2",
          "1996-Q3",
          "1996-Q4",
          "1997-Q1",
          "1997-Q2",
          "1997-Q3",
          "1997-Q4",
          "1998-Q1",
          "1998-Q2",
          "1998-Q3",
          "1998-Q4",
          "1999-Q1",
          "1999-Q2",
          "1999-Q3",
          "1999-Q4",
          "2000-Q1",
          "2000-Q2",
          "2000-Q3",
          "2000-Q4",
          "2001-Q1",
          "2001-Q2",
          "2001-Q3",
          "2001-Q4",
          "2002-Q1",
          "2002-Q2",
          "2002-Q3",
          "2002-Q4",
          "2003-Q1",
          "2003-Q2",
          "2003-Q3",
          "2003-Q4",
          "2004-Q1",
          "2004-Q2",
          "2004-Q3",
          "2004-Q4",
          "2005-Q1",
          "2005-Q2",
          "2005-Q3",
          "2005-Q4",
          "2006-Q1",
          "2006-Q2",
          "2006-Q3",
          "2006-Q4",
          "2007-Q1",
          "2007-Q2",
          "2007-Q3",
          "2007-Q4",
          "2008-Q1",
          "2008-Q2",
          "2008-Q3",
          "2008-Q4",
          "2009-Q1",
          "2009-Q2",
          "2009-Q3",
          "2009-Q4",
          "2010-Q1",
          "2010-Q2",
          "2010-Q3",
          "2010-Q4",
          "2011-Q1",
          "2011-Q2",
          "2011-Q3",
          "2011-Q4",
          "2012-Q1",
          "2012-Q2",
          "2012-Q3",
          "2012-Q4",
          "2013-Q1",
          "2013-Q2",
          "2013-Q3",
          "2013-Q4",
          "2014-Q1",
          "2014-Q2",
          "2014-Q3",
          "2014-Q4",
          "2015-Q1",
          "2015-Q2",
          "2015-Q3",
          "2015-Q4",
          "2016-Q1",
          "2016-Q2",
          "2016-Q3",
          "2016-Q4",
          "2017-Q1",
          "2017-Q2",
          "2017-Q3",
          "2017-Q4",
          "2018-Q1",
          "2018-Q2",
          "2018-Q3",
          "2018-Q4",
          "2019-Q1",
          "2019-Q2",
          "2019-Q3",
          "2019-Q4",
          "2020-Q1",
          "2020-Q2",
          "2020-Q3",
          "2020-Q4",
          "2021-Q1",
          "2021-Q2",
          "2021-Q3",
          "2021-Q4",
          "2022-Q1",
          "2022-Q2",
          "2022-Q3",
          "2022-Q4",
          "2023-Q1",
          "2023-Q2",
          "2023-Q3"
         ],
         "y": [
          0.0448,
          0.0448,
          0.0416,
          0.2871,
          0.0371,
          0.8415,
          0.0221,
          1.235,
          1.153,
          1.139,
          0.988,
          0.8125,
          0.9869,
          0.9005,
          0.859,
          0.8958,
          1.028,
          0.7578,
          0.8168,
          0.6518,
          0.785,
          0.7262,
          0.6706,
          0.7249,
          0.8213,
          0.8603,
          0.8396,
          0.7622,
          1.021,
          1.191,
          1.028,
          1.086,
          0.9732,
          1.303,
          1.174,
          1.068,
          1.147,
          1.126,
          1.107,
          3.521,
          0.9834,
          1.101,
          0.9189,
          2.596,
          0.9224,
          1.021,
          0.917,
          3.944,
          1.14,
          1.333,
          1.246,
          7.322,
          2.727,
          4.674,
          3.795,
          6.447,
          2.956,
          2.448,
          4.864,
          5.991,
          2.231,
          4.871,
          4.337,
          6.248,
          2.593,
          2.295,
          4.713,
          5.228,
          5.2,
          5.801,
          5.048,
          4.897,
          4.468,
          3.685,
          3.644,
          1.465,
          3.775,
          3.614,
          3.481,
          3.443,
          3.846,
          3.61,
          4.04,
          2.33,
          3.972,
          3.563,
          3.71,
          1.962,
          3.453,
          3.277,
          3.17,
          1.171,
          1.5,
          1.461,
          1.355,
          1.122,
          1.271,
          1.607,
          1.577,
          1.444,
          1.644,
          1.821,
          1.615,
          1.472,
          1.487,
          1.561,
          1.39,
          1.216,
          1.214,
          1.133,
          1.147
         ]
        },
        {
         "line": {
          "color": "red",
          "width": 2
         },
         "mode": "lines",
         "name": "Fitted Logarithmic Line",
         "type": "scatter",
         "x": [
          "1996-Q1",
          "1996-Q2",
          "1996-Q3",
          "1996-Q4",
          "1997-Q1",
          "1997-Q2",
          "1997-Q3",
          "1997-Q4",
          "1998-Q1",
          "1998-Q2",
          "1998-Q3",
          "1998-Q4",
          "1999-Q1",
          "1999-Q2",
          "1999-Q3",
          "1999-Q4",
          "2000-Q1",
          "2000-Q2",
          "2000-Q3",
          "2000-Q4",
          "2001-Q1",
          "2001-Q2",
          "2001-Q3",
          "2001-Q4",
          "2002-Q1",
          "2002-Q2",
          "2002-Q3",
          "2002-Q4",
          "2003-Q1",
          "2003-Q2",
          "2003-Q3",
          "2003-Q4",
          "2004-Q1",
          "2004-Q2",
          "2004-Q3",
          "2004-Q4",
          "2005-Q1",
          "2005-Q2",
          "2005-Q3",
          "2005-Q4",
          "2006-Q1",
          "2006-Q2",
          "2006-Q3",
          "2006-Q4",
          "2007-Q1",
          "2007-Q2",
          "2007-Q3",
          "2007-Q4",
          "2008-Q1",
          "2008-Q2",
          "2008-Q3",
          "2008-Q4",
          "2009-Q1",
          "2009-Q2",
          "2009-Q3",
          "2009-Q4",
          "2010-Q1",
          "2010-Q2",
          "2010-Q3",
          "2010-Q4",
          "2011-Q1",
          "2011-Q2",
          "2011-Q3",
          "2011-Q4",
          "2012-Q1",
          "2012-Q2",
          "2012-Q3",
          "2012-Q4",
          "2013-Q1",
          "2013-Q2",
          "2013-Q3",
          "2013-Q4",
          "2014-Q1",
          "2014-Q2",
          "2014-Q3",
          "2014-Q4",
          "2015-Q1",
          "2015-Q2",
          "2015-Q3",
          "2015-Q4",
          "2016-Q1",
          "2016-Q2",
          "2016-Q3",
          "2016-Q4",
          "2017-Q1",
          "2017-Q2",
          "2017-Q3",
          "2017-Q4",
          "2018-Q1",
          "2018-Q2",
          "2018-Q3",
          "2018-Q4",
          "2019-Q1",
          "2019-Q2",
          "2019-Q3",
          "2019-Q4",
          "2020-Q1",
          "2020-Q2",
          "2020-Q3",
          "2020-Q4",
          "2021-Q1",
          "2021-Q2",
          "2021-Q3",
          "2021-Q4",
          "2022-Q1",
          "2022-Q2",
          "2022-Q3",
          "2022-Q4",
          "2023-Q1",
          "2023-Q2",
          "2023-Q3"
         ],
         "y": [
          -1.0539293627705932,
          -0.4593902202180106,
          -0.11160711661383983,
          0.13514892233457215,
          0.3265477758324911,
          0.48293202593874285,
          0.6151530254303073,
          0.7296880648871549,
          0.8307151295429137,
          0.9210869183850738,
          1.0028381454933188,
          1.0774711684913256,
          1.1461268943205327,
          1.20969216798289,
          1.2688700219892444,
          1.3242272074397377,
          1.376227290081927,
          1.4252542720954964,
          1.471629818697681,
          1.5156260609376564,
          1.5574752715870608,
          1.5973772880459014,
          1.6355052838670272,
          1.6720103110439084,
          1.7070249144355754,
          1.7406660368731155,
          1.7730373756996674,
          1.8042313105354728,
          1.8343304926092963,
          1.8634091645418274,
          1.8915342636439887,
          1.9187663499923204,
          1.9451603916500724,
          1.9707664326345096,
          1.9956301640333918,
          2.019793414648079,
          2.0432945743981086,
          2.0661689612502636,
          2.088449140477286,
          2.110165203490239,
          2.1313450122359128,
          2.1520144141396433,
          2.172197431753293,
          2.1919164305984844,
          2.211192268145998,
          2.2300444264196098,
          2.2484911303379644,
          2.266549453596491,
          2.284235413631208,
          2.301564056988158,
          2.3185495362386805,
          2.335205179425698,
          2.3515435528948108,
          2.36757651825225,
          2.383315284096403,
          2.398770453088056,
          2.4139520648544344,
          2.428869635161879,
          2.4435321917399064,
          2.45794830709441,
          2.472126128608633,
          2.4860734061965712,
          2.4997975177438145,
          2.5133054925449034,
          2.526604032923617,
          2.5396995342026547,
          2.552598103171661,
          2.5653055751870926,
          2.5778275300237805,
          2.5901693065859743,
          2.602336016574936,
          2.614332557200662,
          2.6261636230168506,
          2.6378337169506914,
          2.649347160592329,
          2.6607081038028464,
          2.6719205336942196,
          2.682988283029869,
          2.6939150380901,
          2.704704346042822,
          2.7153596218564204,
          2.7258841547884956,
          2.736281114481312,
          2.746553556692226,
          2.7567044286850115,
          2.7667365743058756,
          2.7766527387660496,
          2.786455573151067,
          2.7961476386752633,
          2.8057314106985807,
          2.815209282521433,
          2.8245835689721925,
          2.833856509800742,
          2.843030272890547,
          2.8521069573007654,
          2.8610885961490737,
          2.869977159345121,
          2.878774556183791,
          2.887482637806826,
          2.896103199540741,
          2.9046379831184193,
          2.9130886787912633,
          2.9214569273383098,
          2.929744321978281,
          2.937952410190145,
          2.9460826954473935,
          2.9541366388708887,
          2.9621156608048325,
          2.9700211423201113,
          2.9778544266489857,
          2.985616820554862
         ]
        }
       ],
       "layout": {
        "template": {
         "data": {
          "bar": [
           {
            "error_x": {
             "color": "#2a3f5f"
            },
            "error_y": {
             "color": "#2a3f5f"
            },
            "marker": {
             "line": {
              "color": "#E5ECF6",
              "width": 0.5
             },
             "pattern": {
              "fillmode": "overlay",
              "size": 10,
              "solidity": 0.2
             }
            },
            "type": "bar"
           }
          ],
          "barpolar": [
           {
            "marker": {
             "line": {
              "color": "#E5ECF6",
              "width": 0.5
             },
             "pattern": {
              "fillmode": "overlay",
              "size": 10,
              "solidity": 0.2
             }
            },
            "type": "barpolar"
           }
          ],
          "carpet": [
           {
            "aaxis": {
             "endlinecolor": "#2a3f5f",
             "gridcolor": "white",
             "linecolor": "white",
             "minorgridcolor": "white",
             "startlinecolor": "#2a3f5f"
            },
            "baxis": {
             "endlinecolor": "#2a3f5f",
             "gridcolor": "white",
             "linecolor": "white",
             "minorgridcolor": "white",
             "startlinecolor": "#2a3f5f"
            },
            "type": "carpet"
           }
          ],
          "choropleth": [
           {
            "colorbar": {
             "outlinewidth": 0,
             "ticks": ""
            },
            "type": "choropleth"
           }
          ],
          "contour": [
           {
            "colorbar": {
             "outlinewidth": 0,
             "ticks": ""
            },
            "colorscale": [
             [
              0,
              "#0d0887"
             ],
             [
              0.1111111111111111,
              "#46039f"
             ],
             [
              0.2222222222222222,
              "#7201a8"
             ],
             [
              0.3333333333333333,
              "#9c179e"
             ],
             [
              0.4444444444444444,
              "#bd3786"
             ],
             [
              0.5555555555555556,
              "#d8576b"
             ],
             [
              0.6666666666666666,
              "#ed7953"
             ],
             [
              0.7777777777777778,
              "#fb9f3a"
             ],
             [
              0.8888888888888888,
              "#fdca26"
             ],
             [
              1,
              "#f0f921"
             ]
            ],
            "type": "contour"
           }
          ],
          "contourcarpet": [
           {
            "colorbar": {
             "outlinewidth": 0,
             "ticks": ""
            },
            "type": "contourcarpet"
           }
          ],
          "heatmap": [
           {
            "colorbar": {
             "outlinewidth": 0,
             "ticks": ""
            },
            "colorscale": [
             [
              0,
              "#0d0887"
             ],
             [
              0.1111111111111111,
              "#46039f"
             ],
             [
              0.2222222222222222,
              "#7201a8"
             ],
             [
              0.3333333333333333,
              "#9c179e"
             ],
             [
              0.4444444444444444,
              "#bd3786"
             ],
             [
              0.5555555555555556,
              "#d8576b"
             ],
             [
              0.6666666666666666,
              "#ed7953"
             ],
             [
              0.7777777777777778,
              "#fb9f3a"
             ],
             [
              0.8888888888888888,
              "#fdca26"
             ],
             [
              1,
              "#f0f921"
             ]
            ],
            "type": "heatmap"
           }
          ],
          "heatmapgl": [
           {
            "colorbar": {
             "outlinewidth": 0,
             "ticks": ""
            },
            "colorscale": [
             [
              0,
              "#0d0887"
             ],
             [
              0.1111111111111111,
              "#46039f"
             ],
             [
              0.2222222222222222,
              "#7201a8"
             ],
             [
              0.3333333333333333,
              "#9c179e"
             ],
             [
              0.4444444444444444,
              "#bd3786"
             ],
             [
              0.5555555555555556,
              "#d8576b"
             ],
             [
              0.6666666666666666,
              "#ed7953"
             ],
             [
              0.7777777777777778,
              "#fb9f3a"
             ],
             [
              0.8888888888888888,
              "#fdca26"
             ],
             [
              1,
              "#f0f921"
             ]
            ],
            "type": "heatmapgl"
           }
          ],
          "histogram": [
           {
            "marker": {
             "pattern": {
              "fillmode": "overlay",
              "size": 10,
              "solidity": 0.2
             }
            },
            "type": "histogram"
           }
          ],
          "histogram2d": [
           {
            "colorbar": {
             "outlinewidth": 0,
             "ticks": ""
            },
            "colorscale": [
             [
              0,
              "#0d0887"
             ],
             [
              0.1111111111111111,
              "#46039f"
             ],
             [
              0.2222222222222222,
              "#7201a8"
             ],
             [
              0.3333333333333333,
              "#9c179e"
             ],
             [
              0.4444444444444444,
              "#bd3786"
             ],
             [
              0.5555555555555556,
              "#d8576b"
             ],
             [
              0.6666666666666666,
              "#ed7953"
             ],
             [
              0.7777777777777778,
              "#fb9f3a"
             ],
             [
              0.8888888888888888,
              "#fdca26"
             ],
             [
              1,
              "#f0f921"
             ]
            ],
            "type": "histogram2d"
           }
          ],
          "histogram2dcontour": [
           {
            "colorbar": {
             "outlinewidth": 0,
             "ticks": ""
            },
            "colorscale": [
             [
              0,
              "#0d0887"
             ],
             [
              0.1111111111111111,
              "#46039f"
             ],
             [
              0.2222222222222222,
              "#7201a8"
             ],
             [
              0.3333333333333333,
              "#9c179e"
             ],
             [
              0.4444444444444444,
              "#bd3786"
             ],
             [
              0.5555555555555556,
              "#d8576b"
             ],
             [
              0.6666666666666666,
              "#ed7953"
             ],
             [
              0.7777777777777778,
              "#fb9f3a"
             ],
             [
              0.8888888888888888,
              "#fdca26"
             ],
             [
              1,
              "#f0f921"
             ]
            ],
            "type": "histogram2dcontour"
           }
          ],
          "mesh3d": [
           {
            "colorbar": {
             "outlinewidth": 0,
             "ticks": ""
            },
            "type": "mesh3d"
           }
          ],
          "parcoords": [
           {
            "line": {
             "colorbar": {
              "outlinewidth": 0,
              "ticks": ""
             }
            },
            "type": "parcoords"
           }
          ],
          "pie": [
           {
            "automargin": true,
            "type": "pie"
           }
          ],
          "scatter": [
           {
            "fillpattern": {
             "fillmode": "overlay",
             "size": 10,
             "solidity": 0.2
            },
            "type": "scatter"
           }
          ],
          "scatter3d": [
           {
            "line": {
             "colorbar": {
              "outlinewidth": 0,
              "ticks": ""
             }
            },
            "marker": {
             "colorbar": {
              "outlinewidth": 0,
              "ticks": ""
             }
            },
            "type": "scatter3d"
           }
          ],
          "scattercarpet": [
           {
            "marker": {
             "colorbar": {
              "outlinewidth": 0,
              "ticks": ""
             }
            },
            "type": "scattercarpet"
           }
          ],
          "scattergeo": [
           {
            "marker": {
             "colorbar": {
              "outlinewidth": 0,
              "ticks": ""
             }
            },
            "type": "scattergeo"
           }
          ],
          "scattergl": [
           {
            "marker": {
             "colorbar": {
              "outlinewidth": 0,
              "ticks": ""
             }
            },
            "type": "scattergl"
           }
          ],
          "scattermapbox": [
           {
            "marker": {
             "colorbar": {
              "outlinewidth": 0,
              "ticks": ""
             }
            },
            "type": "scattermapbox"
           }
          ],
          "scatterpolar": [
           {
            "marker": {
             "colorbar": {
              "outlinewidth": 0,
              "ticks": ""
             }
            },
            "type": "scatterpolar"
           }
          ],
          "scatterpolargl": [
           {
            "marker": {
             "colorbar": {
              "outlinewidth": 0,
              "ticks": ""
             }
            },
            "type": "scatterpolargl"
           }
          ],
          "scatterternary": [
           {
            "marker": {
             "colorbar": {
              "outlinewidth": 0,
              "ticks": ""
             }
            },
            "type": "scatterternary"
           }
          ],
          "surface": [
           {
            "colorbar": {
             "outlinewidth": 0,
             "ticks": ""
            },
            "colorscale": [
             [
              0,
              "#0d0887"
             ],
             [
              0.1111111111111111,
              "#46039f"
             ],
             [
              0.2222222222222222,
              "#7201a8"
             ],
             [
              0.3333333333333333,
              "#9c179e"
             ],
             [
              0.4444444444444444,
              "#bd3786"
             ],
             [
              0.5555555555555556,
              "#d8576b"
             ],
             [
              0.6666666666666666,
              "#ed7953"
             ],
             [
              0.7777777777777778,
              "#fb9f3a"
             ],
             [
              0.8888888888888888,
              "#fdca26"
             ],
             [
              1,
              "#f0f921"
             ]
            ],
            "type": "surface"
           }
          ],
          "table": [
           {
            "cells": {
             "fill": {
              "color": "#EBF0F8"
             },
             "line": {
              "color": "white"
             }
            },
            "header": {
             "fill": {
              "color": "#C8D4E3"
             },
             "line": {
              "color": "white"
             }
            },
            "type": "table"
           }
          ]
         },
         "layout": {
          "annotationdefaults": {
           "arrowcolor": "#2a3f5f",
           "arrowhead": 0,
           "arrowwidth": 1
          },
          "autotypenumbers": "strict",
          "coloraxis": {
           "colorbar": {
            "outlinewidth": 0,
            "ticks": ""
           }
          },
          "colorscale": {
           "diverging": [
            [
             0,
             "#8e0152"
            ],
            [
             0.1,
             "#c51b7d"
            ],
            [
             0.2,
             "#de77ae"
            ],
            [
             0.3,
             "#f1b6da"
            ],
            [
             0.4,
             "#fde0ef"
            ],
            [
             0.5,
             "#f7f7f7"
            ],
            [
             0.6,
             "#e6f5d0"
            ],
            [
             0.7,
             "#b8e186"
            ],
            [
             0.8,
             "#7fbc41"
            ],
            [
             0.9,
             "#4d9221"
            ],
            [
             1,
             "#276419"
            ]
           ],
           "sequential": [
            [
             0,
             "#0d0887"
            ],
            [
             0.1111111111111111,
             "#46039f"
            ],
            [
             0.2222222222222222,
             "#7201a8"
            ],
            [
             0.3333333333333333,
             "#9c179e"
            ],
            [
             0.4444444444444444,
             "#bd3786"
            ],
            [
             0.5555555555555556,
             "#d8576b"
            ],
            [
             0.6666666666666666,
             "#ed7953"
            ],
            [
             0.7777777777777778,
             "#fb9f3a"
            ],
            [
             0.8888888888888888,
             "#fdca26"
            ],
            [
             1,
             "#f0f921"
            ]
           ],
           "sequentialminus": [
            [
             0,
             "#0d0887"
            ],
            [
             0.1111111111111111,
             "#46039f"
            ],
            [
             0.2222222222222222,
             "#7201a8"
            ],
            [
             0.3333333333333333,
             "#9c179e"
            ],
            [
             0.4444444444444444,
             "#bd3786"
            ],
            [
             0.5555555555555556,
             "#d8576b"
            ],
            [
             0.6666666666666666,
             "#ed7953"
            ],
            [
             0.7777777777777778,
             "#fb9f3a"
            ],
            [
             0.8888888888888888,
             "#fdca26"
            ],
            [
             1,
             "#f0f921"
            ]
           ]
          },
          "colorway": [
           "#636efa",
           "#EF553B",
           "#00cc96",
           "#ab63fa",
           "#FFA15A",
           "#19d3f3",
           "#FF6692",
           "#B6E880",
           "#FF97FF",
           "#FECB52"
          ],
          "font": {
           "color": "#2a3f5f"
          },
          "geo": {
           "bgcolor": "white",
           "lakecolor": "white",
           "landcolor": "#E5ECF6",
           "showlakes": true,
           "showland": true,
           "subunitcolor": "white"
          },
          "hoverlabel": {
           "align": "left"
          },
          "hovermode": "closest",
          "mapbox": {
           "style": "light"
          },
          "paper_bgcolor": "white",
          "plot_bgcolor": "#E5ECF6",
          "polar": {
           "angularaxis": {
            "gridcolor": "white",
            "linecolor": "white",
            "ticks": ""
           },
           "bgcolor": "#E5ECF6",
           "radialaxis": {
            "gridcolor": "white",
            "linecolor": "white",
            "ticks": ""
           }
          },
          "scene": {
           "xaxis": {
            "backgroundcolor": "#E5ECF6",
            "gridcolor": "white",
            "gridwidth": 2,
            "linecolor": "white",
            "showbackground": true,
            "ticks": "",
            "zerolinecolor": "white"
           },
           "yaxis": {
            "backgroundcolor": "#E5ECF6",
            "gridcolor": "white",
            "gridwidth": 2,
            "linecolor": "white",
            "showbackground": true,
            "ticks": "",
            "zerolinecolor": "white"
           },
           "zaxis": {
            "backgroundcolor": "#E5ECF6",
            "gridcolor": "white",
            "gridwidth": 2,
            "linecolor": "white",
            "showbackground": true,
            "ticks": "",
            "zerolinecolor": "white"
           }
          },
          "shapedefaults": {
           "line": {
            "color": "#2a3f5f"
           }
          },
          "ternary": {
           "aaxis": {
            "gridcolor": "white",
            "linecolor": "white",
            "ticks": ""
           },
           "baxis": {
            "gridcolor": "white",
            "linecolor": "white",
            "ticks": ""
           },
           "bgcolor": "#E5ECF6",
           "caxis": {
            "gridcolor": "white",
            "linecolor": "white",
            "ticks": ""
           }
          },
          "title": {
           "x": 0.05
          },
          "xaxis": {
           "automargin": true,
           "gridcolor": "white",
           "linecolor": "white",
           "ticks": "",
           "title": {
            "standoff": 15
           },
           "zerolinecolor": "white",
           "zerolinewidth": 2
          },
          "yaxis": {
           "automargin": true,
           "gridcolor": "white",
           "linecolor": "white",
           "ticks": "",
           "title": {
            "standoff": 15
           },
           "zerolinecolor": "white",
           "zerolinewidth": 2
          }
         }
        },
        "title": {
         "text": "Current Ratio of TD.TO with Fitted Logarithmic Line"
        },
        "xaxis": {
         "title": {
          "text": "Quarters"
         }
        },
        "yaxis": {
         "title": {
          "text": "Current Ratio"
         },
         "type": "log"
        }
       }
      },
      "text/html": [
       "<div>                            <div id=\"74866a4e-1918-4ab6-a7d8-dea464313662\" class=\"plotly-graph-div\" style=\"height:525px; width:100%;\"></div>            <script type=\"text/javascript\">                require([\"plotly\"], function(Plotly) {                    window.PLOTLYENV=window.PLOTLYENV || {};                                    if (document.getElementById(\"74866a4e-1918-4ab6-a7d8-dea464313662\")) {                    Plotly.newPlot(                        \"74866a4e-1918-4ab6-a7d8-dea464313662\",                        [{\"marker\":{\"color\":\"blue\",\"size\":8},\"mode\":\"markers\",\"name\":\"TD.TO Current Ratio\",\"x\":[\"1996-Q1\",\"1996-Q2\",\"1996-Q3\",\"1996-Q4\",\"1997-Q1\",\"1997-Q2\",\"1997-Q3\",\"1997-Q4\",\"1998-Q1\",\"1998-Q2\",\"1998-Q3\",\"1998-Q4\",\"1999-Q1\",\"1999-Q2\",\"1999-Q3\",\"1999-Q4\",\"2000-Q1\",\"2000-Q2\",\"2000-Q3\",\"2000-Q4\",\"2001-Q1\",\"2001-Q2\",\"2001-Q3\",\"2001-Q4\",\"2002-Q1\",\"2002-Q2\",\"2002-Q3\",\"2002-Q4\",\"2003-Q1\",\"2003-Q2\",\"2003-Q3\",\"2003-Q4\",\"2004-Q1\",\"2004-Q2\",\"2004-Q3\",\"2004-Q4\",\"2005-Q1\",\"2005-Q2\",\"2005-Q3\",\"2005-Q4\",\"2006-Q1\",\"2006-Q2\",\"2006-Q3\",\"2006-Q4\",\"2007-Q1\",\"2007-Q2\",\"2007-Q3\",\"2007-Q4\",\"2008-Q1\",\"2008-Q2\",\"2008-Q3\",\"2008-Q4\",\"2009-Q1\",\"2009-Q2\",\"2009-Q3\",\"2009-Q4\",\"2010-Q1\",\"2010-Q2\",\"2010-Q3\",\"2010-Q4\",\"2011-Q1\",\"2011-Q2\",\"2011-Q3\",\"2011-Q4\",\"2012-Q1\",\"2012-Q2\",\"2012-Q3\",\"2012-Q4\",\"2013-Q1\",\"2013-Q2\",\"2013-Q3\",\"2013-Q4\",\"2014-Q1\",\"2014-Q2\",\"2014-Q3\",\"2014-Q4\",\"2015-Q1\",\"2015-Q2\",\"2015-Q3\",\"2015-Q4\",\"2016-Q1\",\"2016-Q2\",\"2016-Q3\",\"2016-Q4\",\"2017-Q1\",\"2017-Q2\",\"2017-Q3\",\"2017-Q4\",\"2018-Q1\",\"2018-Q2\",\"2018-Q3\",\"2018-Q4\",\"2019-Q1\",\"2019-Q2\",\"2019-Q3\",\"2019-Q4\",\"2020-Q1\",\"2020-Q2\",\"2020-Q3\",\"2020-Q4\",\"2021-Q1\",\"2021-Q2\",\"2021-Q3\",\"2021-Q4\",\"2022-Q1\",\"2022-Q2\",\"2022-Q3\",\"2022-Q4\",\"2023-Q1\",\"2023-Q2\",\"2023-Q3\"],\"y\":[0.0448,0.0448,0.0416,0.2871,0.0371,0.8415,0.0221,1.235,1.153,1.139,0.988,0.8125,0.9869,0.9005,0.859,0.8958,1.028,0.7578,0.8168,0.6518,0.785,0.7262,0.6706,0.7249,0.8213,0.8603,0.8396,0.7622,1.021,1.191,1.028,1.086,0.9732,1.303,1.174,1.068,1.147,1.126,1.107,3.521,0.9834,1.101,0.9189,2.596,0.9224,1.021,0.917,3.944,1.14,1.333,1.246,7.322,2.727,4.674,3.795,6.447,2.956,2.448,4.864,5.991,2.231,4.871,4.337,6.248,2.593,2.295,4.713,5.228,5.2,5.801,5.048,4.897,4.468,3.685,3.644,1.465,3.775,3.614,3.481,3.443,3.846,3.61,4.04,2.33,3.972,3.563,3.71,1.962,3.453,3.277,3.17,1.171,1.5,1.461,1.355,1.122,1.271,1.607,1.577,1.444,1.644,1.821,1.615,1.472,1.487,1.561,1.39,1.216,1.214,1.133,1.147],\"type\":\"scatter\"},{\"line\":{\"color\":\"red\",\"width\":2},\"mode\":\"lines\",\"name\":\"Fitted Logarithmic Line\",\"x\":[\"1996-Q1\",\"1996-Q2\",\"1996-Q3\",\"1996-Q4\",\"1997-Q1\",\"1997-Q2\",\"1997-Q3\",\"1997-Q4\",\"1998-Q1\",\"1998-Q2\",\"1998-Q3\",\"1998-Q4\",\"1999-Q1\",\"1999-Q2\",\"1999-Q3\",\"1999-Q4\",\"2000-Q1\",\"2000-Q2\",\"2000-Q3\",\"2000-Q4\",\"2001-Q1\",\"2001-Q2\",\"2001-Q3\",\"2001-Q4\",\"2002-Q1\",\"2002-Q2\",\"2002-Q3\",\"2002-Q4\",\"2003-Q1\",\"2003-Q2\",\"2003-Q3\",\"2003-Q4\",\"2004-Q1\",\"2004-Q2\",\"2004-Q3\",\"2004-Q4\",\"2005-Q1\",\"2005-Q2\",\"2005-Q3\",\"2005-Q4\",\"2006-Q1\",\"2006-Q2\",\"2006-Q3\",\"2006-Q4\",\"2007-Q1\",\"2007-Q2\",\"2007-Q3\",\"2007-Q4\",\"2008-Q1\",\"2008-Q2\",\"2008-Q3\",\"2008-Q4\",\"2009-Q1\",\"2009-Q2\",\"2009-Q3\",\"2009-Q4\",\"2010-Q1\",\"2010-Q2\",\"2010-Q3\",\"2010-Q4\",\"2011-Q1\",\"2011-Q2\",\"2011-Q3\",\"2011-Q4\",\"2012-Q1\",\"2012-Q2\",\"2012-Q3\",\"2012-Q4\",\"2013-Q1\",\"2013-Q2\",\"2013-Q3\",\"2013-Q4\",\"2014-Q1\",\"2014-Q2\",\"2014-Q3\",\"2014-Q4\",\"2015-Q1\",\"2015-Q2\",\"2015-Q3\",\"2015-Q4\",\"2016-Q1\",\"2016-Q2\",\"2016-Q3\",\"2016-Q4\",\"2017-Q1\",\"2017-Q2\",\"2017-Q3\",\"2017-Q4\",\"2018-Q1\",\"2018-Q2\",\"2018-Q3\",\"2018-Q4\",\"2019-Q1\",\"2019-Q2\",\"2019-Q3\",\"2019-Q4\",\"2020-Q1\",\"2020-Q2\",\"2020-Q3\",\"2020-Q4\",\"2021-Q1\",\"2021-Q2\",\"2021-Q3\",\"2021-Q4\",\"2022-Q1\",\"2022-Q2\",\"2022-Q3\",\"2022-Q4\",\"2023-Q1\",\"2023-Q2\",\"2023-Q3\"],\"y\":[-1.0539293627705932,-0.4593902202180106,-0.11160711661383983,0.13514892233457215,0.3265477758324911,0.48293202593874285,0.6151530254303073,0.7296880648871549,0.8307151295429137,0.9210869183850738,1.0028381454933188,1.0774711684913256,1.1461268943205327,1.20969216798289,1.2688700219892444,1.3242272074397377,1.376227290081927,1.4252542720954964,1.471629818697681,1.5156260609376564,1.5574752715870608,1.5973772880459014,1.6355052838670272,1.6720103110439084,1.7070249144355754,1.7406660368731155,1.7730373756996674,1.8042313105354728,1.8343304926092963,1.8634091645418274,1.8915342636439887,1.9187663499923204,1.9451603916500724,1.9707664326345096,1.9956301640333918,2.019793414648079,2.0432945743981086,2.0661689612502636,2.088449140477286,2.110165203490239,2.1313450122359128,2.1520144141396433,2.172197431753293,2.1919164305984844,2.211192268145998,2.2300444264196098,2.2484911303379644,2.266549453596491,2.284235413631208,2.301564056988158,2.3185495362386805,2.335205179425698,2.3515435528948108,2.36757651825225,2.383315284096403,2.398770453088056,2.4139520648544344,2.428869635161879,2.4435321917399064,2.45794830709441,2.472126128608633,2.4860734061965712,2.4997975177438145,2.5133054925449034,2.526604032923617,2.5396995342026547,2.552598103171661,2.5653055751870926,2.5778275300237805,2.5901693065859743,2.602336016574936,2.614332557200662,2.6261636230168506,2.6378337169506914,2.649347160592329,2.6607081038028464,2.6719205336942196,2.682988283029869,2.6939150380901,2.704704346042822,2.7153596218564204,2.7258841547884956,2.736281114481312,2.746553556692226,2.7567044286850115,2.7667365743058756,2.7766527387660496,2.786455573151067,2.7961476386752633,2.8057314106985807,2.815209282521433,2.8245835689721925,2.833856509800742,2.843030272890547,2.8521069573007654,2.8610885961490737,2.869977159345121,2.878774556183791,2.887482637806826,2.896103199540741,2.9046379831184193,2.9130886787912633,2.9214569273383098,2.929744321978281,2.937952410190145,2.9460826954473935,2.9541366388708887,2.9621156608048325,2.9700211423201113,2.9778544266489857,2.985616820554862],\"type\":\"scatter\"}],                        {\"title\":{\"text\":\"Current Ratio of TD.TO with Fitted Logarithmic Line\"},\"xaxis\":{\"title\":{\"text\":\"Quarters\"}},\"yaxis\":{\"title\":{\"text\":\"Current Ratio\"},\"type\":\"log\"},\"template\":{\"data\":{\"histogram2dcontour\":[{\"type\":\"histogram2dcontour\",\"colorbar\":{\"outlinewidth\":0,\"ticks\":\"\"},\"colorscale\":[[0.0,\"#0d0887\"],[0.1111111111111111,\"#46039f\"],[0.2222222222222222,\"#7201a8\"],[0.3333333333333333,\"#9c179e\"],[0.4444444444444444,\"#bd3786\"],[0.5555555555555556,\"#d8576b\"],[0.6666666666666666,\"#ed7953\"],[0.7777777777777778,\"#fb9f3a\"],[0.8888888888888888,\"#fdca26\"],[1.0,\"#f0f921\"]]}],\"choropleth\":[{\"type\":\"choropleth\",\"colorbar\":{\"outlinewidth\":0,\"ticks\":\"\"}}],\"histogram2d\":[{\"type\":\"histogram2d\",\"colorbar\":{\"outlinewidth\":0,\"ticks\":\"\"},\"colorscale\":[[0.0,\"#0d0887\"],[0.1111111111111111,\"#46039f\"],[0.2222222222222222,\"#7201a8\"],[0.3333333333333333,\"#9c179e\"],[0.4444444444444444,\"#bd3786\"],[0.5555555555555556,\"#d8576b\"],[0.6666666666666666,\"#ed7953\"],[0.7777777777777778,\"#fb9f3a\"],[0.8888888888888888,\"#fdca26\"],[1.0,\"#f0f921\"]]}],\"heatmap\":[{\"type\":\"heatmap\",\"colorbar\":{\"outlinewidth\":0,\"ticks\":\"\"},\"colorscale\":[[0.0,\"#0d0887\"],[0.1111111111111111,\"#46039f\"],[0.2222222222222222,\"#7201a8\"],[0.3333333333333333,\"#9c179e\"],[0.4444444444444444,\"#bd3786\"],[0.5555555555555556,\"#d8576b\"],[0.6666666666666666,\"#ed7953\"],[0.7777777777777778,\"#fb9f3a\"],[0.8888888888888888,\"#fdca26\"],[1.0,\"#f0f921\"]]}],\"heatmapgl\":[{\"type\":\"heatmapgl\",\"colorbar\":{\"outlinewidth\":0,\"ticks\":\"\"},\"colorscale\":[[0.0,\"#0d0887\"],[0.1111111111111111,\"#46039f\"],[0.2222222222222222,\"#7201a8\"],[0.3333333333333333,\"#9c179e\"],[0.4444444444444444,\"#bd3786\"],[0.5555555555555556,\"#d8576b\"],[0.6666666666666666,\"#ed7953\"],[0.7777777777777778,\"#fb9f3a\"],[0.8888888888888888,\"#fdca26\"],[1.0,\"#f0f921\"]]}],\"contourcarpet\":[{\"type\":\"contourcarpet\",\"colorbar\":{\"outlinewidth\":0,\"ticks\":\"\"}}],\"contour\":[{\"type\":\"contour\",\"colorbar\":{\"outlinewidth\":0,\"ticks\":\"\"},\"colorscale\":[[0.0,\"#0d0887\"],[0.1111111111111111,\"#46039f\"],[0.2222222222222222,\"#7201a8\"],[0.3333333333333333,\"#9c179e\"],[0.4444444444444444,\"#bd3786\"],[0.5555555555555556,\"#d8576b\"],[0.6666666666666666,\"#ed7953\"],[0.7777777777777778,\"#fb9f3a\"],[0.8888888888888888,\"#fdca26\"],[1.0,\"#f0f921\"]]}],\"surface\":[{\"type\":\"surface\",\"colorbar\":{\"outlinewidth\":0,\"ticks\":\"\"},\"colorscale\":[[0.0,\"#0d0887\"],[0.1111111111111111,\"#46039f\"],[0.2222222222222222,\"#7201a8\"],[0.3333333333333333,\"#9c179e\"],[0.4444444444444444,\"#bd3786\"],[0.5555555555555556,\"#d8576b\"],[0.6666666666666666,\"#ed7953\"],[0.7777777777777778,\"#fb9f3a\"],[0.8888888888888888,\"#fdca26\"],[1.0,\"#f0f921\"]]}],\"mesh3d\":[{\"type\":\"mesh3d\",\"colorbar\":{\"outlinewidth\":0,\"ticks\":\"\"}}],\"scatter\":[{\"fillpattern\":{\"fillmode\":\"overlay\",\"size\":10,\"solidity\":0.2},\"type\":\"scatter\"}],\"parcoords\":[{\"type\":\"parcoords\",\"line\":{\"colorbar\":{\"outlinewidth\":0,\"ticks\":\"\"}}}],\"scatterpolargl\":[{\"type\":\"scatterpolargl\",\"marker\":{\"colorbar\":{\"outlinewidth\":0,\"ticks\":\"\"}}}],\"bar\":[{\"error_x\":{\"color\":\"#2a3f5f\"},\"error_y\":{\"color\":\"#2a3f5f\"},\"marker\":{\"line\":{\"color\":\"#E5ECF6\",\"width\":0.5},\"pattern\":{\"fillmode\":\"overlay\",\"size\":10,\"solidity\":0.2}},\"type\":\"bar\"}],\"scattergeo\":[{\"type\":\"scattergeo\",\"marker\":{\"colorbar\":{\"outlinewidth\":0,\"ticks\":\"\"}}}],\"scatterpolar\":[{\"type\":\"scatterpolar\",\"marker\":{\"colorbar\":{\"outlinewidth\":0,\"ticks\":\"\"}}}],\"histogram\":[{\"marker\":{\"pattern\":{\"fillmode\":\"overlay\",\"size\":10,\"solidity\":0.2}},\"type\":\"histogram\"}],\"scattergl\":[{\"type\":\"scattergl\",\"marker\":{\"colorbar\":{\"outlinewidth\":0,\"ticks\":\"\"}}}],\"scatter3d\":[{\"type\":\"scatter3d\",\"line\":{\"colorbar\":{\"outlinewidth\":0,\"ticks\":\"\"}},\"marker\":{\"colorbar\":{\"outlinewidth\":0,\"ticks\":\"\"}}}],\"scattermapbox\":[{\"type\":\"scattermapbox\",\"marker\":{\"colorbar\":{\"outlinewidth\":0,\"ticks\":\"\"}}}],\"scatterternary\":[{\"type\":\"scatterternary\",\"marker\":{\"colorbar\":{\"outlinewidth\":0,\"ticks\":\"\"}}}],\"scattercarpet\":[{\"type\":\"scattercarpet\",\"marker\":{\"colorbar\":{\"outlinewidth\":0,\"ticks\":\"\"}}}],\"carpet\":[{\"aaxis\":{\"endlinecolor\":\"#2a3f5f\",\"gridcolor\":\"white\",\"linecolor\":\"white\",\"minorgridcolor\":\"white\",\"startlinecolor\":\"#2a3f5f\"},\"baxis\":{\"endlinecolor\":\"#2a3f5f\",\"gridcolor\":\"white\",\"linecolor\":\"white\",\"minorgridcolor\":\"white\",\"startlinecolor\":\"#2a3f5f\"},\"type\":\"carpet\"}],\"table\":[{\"cells\":{\"fill\":{\"color\":\"#EBF0F8\"},\"line\":{\"color\":\"white\"}},\"header\":{\"fill\":{\"color\":\"#C8D4E3\"},\"line\":{\"color\":\"white\"}},\"type\":\"table\"}],\"barpolar\":[{\"marker\":{\"line\":{\"color\":\"#E5ECF6\",\"width\":0.5},\"pattern\":{\"fillmode\":\"overlay\",\"size\":10,\"solidity\":0.2}},\"type\":\"barpolar\"}],\"pie\":[{\"automargin\":true,\"type\":\"pie\"}]},\"layout\":{\"autotypenumbers\":\"strict\",\"colorway\":[\"#636efa\",\"#EF553B\",\"#00cc96\",\"#ab63fa\",\"#FFA15A\",\"#19d3f3\",\"#FF6692\",\"#B6E880\",\"#FF97FF\",\"#FECB52\"],\"font\":{\"color\":\"#2a3f5f\"},\"hovermode\":\"closest\",\"hoverlabel\":{\"align\":\"left\"},\"paper_bgcolor\":\"white\",\"plot_bgcolor\":\"#E5ECF6\",\"polar\":{\"bgcolor\":\"#E5ECF6\",\"angularaxis\":{\"gridcolor\":\"white\",\"linecolor\":\"white\",\"ticks\":\"\"},\"radialaxis\":{\"gridcolor\":\"white\",\"linecolor\":\"white\",\"ticks\":\"\"}},\"ternary\":{\"bgcolor\":\"#E5ECF6\",\"aaxis\":{\"gridcolor\":\"white\",\"linecolor\":\"white\",\"ticks\":\"\"},\"baxis\":{\"gridcolor\":\"white\",\"linecolor\":\"white\",\"ticks\":\"\"},\"caxis\":{\"gridcolor\":\"white\",\"linecolor\":\"white\",\"ticks\":\"\"}},\"coloraxis\":{\"colorbar\":{\"outlinewidth\":0,\"ticks\":\"\"}},\"colorscale\":{\"sequential\":[[0.0,\"#0d0887\"],[0.1111111111111111,\"#46039f\"],[0.2222222222222222,\"#7201a8\"],[0.3333333333333333,\"#9c179e\"],[0.4444444444444444,\"#bd3786\"],[0.5555555555555556,\"#d8576b\"],[0.6666666666666666,\"#ed7953\"],[0.7777777777777778,\"#fb9f3a\"],[0.8888888888888888,\"#fdca26\"],[1.0,\"#f0f921\"]],\"sequentialminus\":[[0.0,\"#0d0887\"],[0.1111111111111111,\"#46039f\"],[0.2222222222222222,\"#7201a8\"],[0.3333333333333333,\"#9c179e\"],[0.4444444444444444,\"#bd3786\"],[0.5555555555555556,\"#d8576b\"],[0.6666666666666666,\"#ed7953\"],[0.7777777777777778,\"#fb9f3a\"],[0.8888888888888888,\"#fdca26\"],[1.0,\"#f0f921\"]],\"diverging\":[[0,\"#8e0152\"],[0.1,\"#c51b7d\"],[0.2,\"#de77ae\"],[0.3,\"#f1b6da\"],[0.4,\"#fde0ef\"],[0.5,\"#f7f7f7\"],[0.6,\"#e6f5d0\"],[0.7,\"#b8e186\"],[0.8,\"#7fbc41\"],[0.9,\"#4d9221\"],[1,\"#276419\"]]},\"xaxis\":{\"gridcolor\":\"white\",\"linecolor\":\"white\",\"ticks\":\"\",\"title\":{\"standoff\":15},\"zerolinecolor\":\"white\",\"automargin\":true,\"zerolinewidth\":2},\"yaxis\":{\"gridcolor\":\"white\",\"linecolor\":\"white\",\"ticks\":\"\",\"title\":{\"standoff\":15},\"zerolinecolor\":\"white\",\"automargin\":true,\"zerolinewidth\":2},\"scene\":{\"xaxis\":{\"backgroundcolor\":\"#E5ECF6\",\"gridcolor\":\"white\",\"linecolor\":\"white\",\"showbackground\":true,\"ticks\":\"\",\"zerolinecolor\":\"white\",\"gridwidth\":2},\"yaxis\":{\"backgroundcolor\":\"#E5ECF6\",\"gridcolor\":\"white\",\"linecolor\":\"white\",\"showbackground\":true,\"ticks\":\"\",\"zerolinecolor\":\"white\",\"gridwidth\":2},\"zaxis\":{\"backgroundcolor\":\"#E5ECF6\",\"gridcolor\":\"white\",\"linecolor\":\"white\",\"showbackground\":true,\"ticks\":\"\",\"zerolinecolor\":\"white\",\"gridwidth\":2}},\"shapedefaults\":{\"line\":{\"color\":\"#2a3f5f\"}},\"annotationdefaults\":{\"arrowcolor\":\"#2a3f5f\",\"arrowhead\":0,\"arrowwidth\":1},\"geo\":{\"bgcolor\":\"white\",\"landcolor\":\"#E5ECF6\",\"subunitcolor\":\"white\",\"showland\":true,\"showlakes\":true,\"lakecolor\":\"white\"},\"title\":{\"x\":0.05},\"mapbox\":{\"style\":\"light\"}}}},                        {\"responsive\": true}                    ).then(function(){\n",
       "                            \n",
       "var gd = document.getElementById('74866a4e-1918-4ab6-a7d8-dea464313662');\n",
       "var x = new MutationObserver(function (mutations, observer) {{\n",
       "        var display = window.getComputedStyle(gd).display;\n",
       "        if (!display || display === 'none') {{\n",
       "            console.log([gd, 'removed!']);\n",
       "            Plotly.purge(gd);\n",
       "            observer.disconnect();\n",
       "        }}\n",
       "}});\n",
       "\n",
       "// Listen for the removal of the full notebook cells\n",
       "var notebookContainer = gd.closest('#notebook-container');\n",
       "if (notebookContainer) {{\n",
       "    x.observe(notebookContainer, {childList: true});\n",
       "}}\n",
       "\n",
       "// Listen for the clearing of the current output cell\n",
       "var outputEl = gd.closest('.output');\n",
       "if (outputEl) {{\n",
       "    x.observe(outputEl, {childList: true});\n",
       "}}\n",
       "\n",
       "                        })                };                });            </script>        </div>"
      ]
     },
     "metadata": {},
     "output_type": "display_data"
    }
   ],
   "source": [
    "# Define the logarithmic function\n",
    "def log_func(x, a, b):\n",
    "    return a * np.log(b * x)\n",
    "\n",
    "# Extract data for TD.TO\n",
    "td_df = regression_df_TD[['Quarters', 'Current ratio']].dropna()\n",
    "td_df.set_index('Quarters', inplace=True)\n",
    "\n",
    "# Prepare data for fitting\n",
    "x_data = np.arange(1, len(td_df) + 1)  # Numeric index starting from 1 to avoid log(0)\n",
    "y_data = td_df['Current ratio'].values\n",
    "\n",
    "# Fit the logarithmic function\n",
    "popt, _ = curve_fit(log_func, x_data, y_data, maxfev=10000)\n",
    "\n",
    "# Generate the fitted values\n",
    "y_fit = log_func(x_data, *popt)\n",
    "\n",
    "# Create traces for the original data and the fitted line\n",
    "trace_data = go.Scatter(\n",
    "    x=td_df.index,\n",
    "    y=td_df['Current ratio'],\n",
    "    mode='markers',\n",
    "    name='TD.TO Current Ratio',\n",
    "    marker=dict(size=8, color='blue')\n",
    ")\n",
    "\n",
    "trace_fit = go.Scatter(\n",
    "    x=td_df.index,\n",
    "    y=y_fit,\n",
    "    mode='lines',\n",
    "    name='Fitted Logarithmic Line',\n",
    "    line=dict(color='red', width=2)\n",
    ")\n",
    "\n",
    "# Define the layout with a logarithmic y-axis\n",
    "layout = go.Layout(\n",
    "    #title='Current Ratio of TD.TO with Fitted Logarithmic Line',\n",
    "    xaxis=dict(title='Quarters'),\n",
    "    yaxis=dict(\n",
    "        title='Current Ratio',\n",
    "        type='log'  # Set y-axis to logarithmic scale\n",
    "    )\n",
    ")\n",
    "\n",
    "# Create the figure\n",
    "fig = go.Figure(data=[trace_data, trace_fit], layout=layout)\n",
    "\n",
    "# Plot the figure\n",
    "fig.show()"
   ]
  },
  {
   "cell_type": "code",
   "execution_count": null,
   "metadata": {},
   "outputs": [
    {
     "name": "stdout",
     "output_type": "stream",
     "text": [
      "Log-Linear Regression Results for RY.TO (Current Ratio):\n",
      "                            OLS Regression Results                            \n",
      "==============================================================================\n",
      "Dep. Variable:      Log_Current_Ratio   R-squared:                       0.586\n",
      "Model:                            OLS   Adj. R-squared:                  0.562\n",
      "Method:                 Least Squares   F-statistic:                     24.49\n",
      "Date:                Thu, 08 Aug 2024   Prob (F-statistic):           6.47e-18\n",
      "Time:                        14:32:39   Log-Likelihood:                -53.837\n",
      "No. Observations:                 111   AIC:                             121.7\n",
      "Df Residuals:                     104   BIC:                             140.6\n",
      "Df Model:                           6                                         \n",
      "Covariance Type:            nonrobust                                         \n",
      "==============================================================================\n",
      "                 coef    std err          t      P>|t|      [0.025      0.975]\n",
      "------------------------------------------------------------------------------\n",
      "Intercept     -0.5967      0.253     -2.359      0.020      -1.098      -0.095\n",
      "Sea_Lvl_M     -0.6504      0.255     -2.549      0.012      -1.156      -0.144\n",
      "CDD_M         -0.0644      0.075     -0.862      0.390      -0.212       0.084\n",
      "Rx5Day_M       2.0537      0.211      9.724      0.000       1.635       2.473\n",
      "T10_M          0.3237      0.364      0.890      0.376      -0.398       1.045\n",
      "T90_M         -1.0831      0.269     -4.022      0.000      -1.617      -0.549\n",
      "WP90_M         0.7354      0.678      1.084      0.281      -0.610       2.081\n",
      "==============================================================================\n",
      "Omnibus:                        0.412   Durbin-Watson:                   1.327\n",
      "Prob(Omnibus):                  0.814   Jarque-Bera (JB):                0.247\n",
      "Skew:                           0.114   Prob(JB):                        0.884\n",
      "Kurtosis:                       3.030   Cond. No.                         33.5\n",
      "==============================================================================\n",
      "\n",
      "Notes:\n",
      "[1] Standard Errors assume that the covariance matrix of the errors is correctly specified.\n",
      "MSE (Log Scale): 0.15445637114761093\n",
      "R-squared (Log Scale): 0.5855465622430364\n",
      "MSE (Original Scale): 0.7635842411471996\n",
      "\n",
      "\n",
      "Log-Linear Regression Results for TD.TO (Current Ratio):\n",
      "                            OLS Regression Results                            \n",
      "==============================================================================\n",
      "Dep. Variable:      Log_Current_Ratio   R-squared:                       0.674\n",
      "Model:                            OLS   Adj. R-squared:                  0.655\n",
      "Method:                 Least Squares   F-statistic:                     35.81\n",
      "Date:                Thu, 08 Aug 2024   Prob (F-statistic):           3.30e-23\n",
      "Time:                        14:32:39   Log-Likelihood:                -100.75\n",
      "No. Observations:                 111   AIC:                             215.5\n",
      "Df Residuals:                     104   BIC:                             234.5\n",
      "Df Model:                           6                                         \n",
      "Covariance Type:            nonrobust                                         \n",
      "==============================================================================\n",
      "                 coef    std err          t      P>|t|      [0.025      0.975]\n",
      "------------------------------------------------------------------------------\n",
      "Intercept     -3.3699      0.386     -8.733      0.000      -4.135      -2.605\n",
      "Sea_Lvl_M     -0.0829      0.389     -0.213      0.832      -0.855       0.689\n",
      "CDD_M         -0.1737      0.114     -1.525      0.130      -0.400       0.052\n",
      "Rx5Day_M       0.8388      0.322      2.603      0.011       0.200       1.478\n",
      "T10_M         -3.6263      0.555     -6.534      0.000      -4.727      -2.526\n",
      "T90_M         -1.4186      0.411     -3.452      0.001      -2.234      -0.604\n",
      "WP90_M         2.8712      1.035      2.774      0.007       0.819       4.924\n",
      "==============================================================================\n",
      "Omnibus:                       22.484   Durbin-Watson:                   1.816\n",
      "Prob(Omnibus):                  0.000   Jarque-Bera (JB):               50.970\n",
      "Skew:                          -0.755   Prob(JB):                     8.55e-12\n",
      "Kurtosis:                       5.956   Cond. No.                         33.5\n",
      "==============================================================================\n",
      "\n",
      "Notes:\n",
      "[1] Standard Errors assume that the covariance matrix of the errors is correctly specified.\n",
      "MSE (Log Scale): 0.35964896721460893\n",
      "R-squared (Log Scale): 0.6738530466196395\n",
      "MSE (Original Scale): 1.1544095226461328\n",
      "\n",
      "\n",
      "Log-Linear Regression Results for BNS.TO (Current Ratio):\n",
      "                            OLS Regression Results                            \n",
      "==============================================================================\n",
      "Dep. Variable:      Log_Current_Ratio   R-squared:                       0.635\n",
      "Model:                            OLS   Adj. R-squared:                  0.614\n",
      "Method:                 Least Squares   F-statistic:                     30.22\n",
      "Date:                Thu, 08 Aug 2024   Prob (F-statistic):           9.58e-21\n",
      "Time:                        14:32:39   Log-Likelihood:                -66.485\n",
      "No. Observations:                 111   AIC:                             147.0\n",
      "Df Residuals:                     104   BIC:                             165.9\n",
      "Df Model:                           6                                         \n",
      "Covariance Type:            nonrobust                                         \n",
      "==============================================================================\n",
      "                 coef    std err          t      P>|t|      [0.025      0.975]\n",
      "------------------------------------------------------------------------------\n",
      "Intercept     -1.3459      0.283     -4.749      0.000      -1.908      -0.784\n",
      "Sea_Lvl_M      0.0470      0.286      0.164      0.870      -0.520       0.614\n",
      "CDD_M         -0.1919      0.084     -2.293      0.024      -0.358      -0.026\n",
      "Rx5Day_M       1.9594      0.237      8.278      0.000       1.490       2.429\n",
      "T10_M         -0.6270      0.408     -1.538      0.127      -1.435       0.181\n",
      "T90_M         -2.0386      0.302     -6.754      0.000      -2.637      -1.440\n",
      "WP90_M         1.9022      0.760      2.502      0.014       0.395       3.410\n",
      "==============================================================================\n",
      "Omnibus:                        8.223   Durbin-Watson:                   1.256\n",
      "Prob(Omnibus):                  0.016   Jarque-Bera (JB):                9.954\n",
      "Skew:                           0.418   Prob(JB):                      0.00690\n",
      "Kurtosis:                       4.205   Cond. No.                         33.5\n",
      "==============================================================================\n",
      "\n",
      "Notes:\n",
      "[1] Standard Errors assume that the covariance matrix of the errors is correctly specified.\n",
      "MSE (Log Scale): 0.19399066002357843\n",
      "R-squared (Log Scale): 0.6354702893545952\n",
      "MSE (Original Scale): 1.2725713616411296\n",
      "\n",
      "\n"
     ]
    }
   ],
   "source": [
    "# Function to perform log-linear regression analysis for Current Ratio\n",
    "def perform_log_linear_regression_current_ratio(df):\n",
    "    # Apply log transformation to the target variable\n",
    "    df['Log_Current_Ratio'] = np.log(df['Current ratio'])\n",
    "    \n",
    "    # Create a formula for OLS\n",
    "    formula = 'Log_Current_Ratio ~ ' + ' + '.join(features)\n",
    "    \n",
    "    # Fit the model using OLS\n",
    "    model = ols(formula, data=df).fit()\n",
    "    \n",
    "    # Predict and evaluate the model\n",
    "    y_pred = model.fittedvalues\n",
    "    y_test = df['Log_Current_Ratio']\n",
    "    \n",
    "    # Calculate metrics\n",
    "    mse = mean_squared_error(y_test, y_pred)\n",
    "    r2 = r2_score(y_test, y_pred)\n",
    "    \n",
    "    # Transform predictions back to original scale\n",
    "    y_pred_original = np.exp(y_pred)\n",
    "    y_test_original = np.exp(y_test)\n",
    "    mse_original = mean_squared_error(y_test_original, y_pred_original)\n",
    "    \n",
    "    return model.summary(), mse, r2, mse_original\n",
    "\n",
    "# Perform log-linear regression for each bank's Current Ratio\n",
    "results_current_ratio = {}\n",
    "for symbol, regression_df in regression_dataframes.items():\n",
    "    summary, mse, r2, mse_original = perform_log_linear_regression_current_ratio(regression_df)\n",
    "    results_current_ratio[symbol] = {\n",
    "        'Summary': summary,\n",
    "        'MSE (Log Scale)': mse,\n",
    "        'R2 (Log Scale)': r2,\n",
    "        'MSE (Original Scale)': mse_original\n",
    "    }\n",
    "\n",
    "# Display the results\n",
    "for symbol, result in results_current_ratio.items():\n",
    "    print(f\"Log-Linear Regression Results for {symbol} (Current Ratio):\")\n",
    "    print(result['Summary'])\n",
    "    print(f\"MSE (Log Scale): {result['MSE (Log Scale)']}\")\n",
    "    print(f\"R-squared (Log Scale): {result['R2 (Log Scale)']}\")\n",
    "    print(f\"MSE (Original Scale): {result['MSE (Original Scale)']}\")\n",
    "    print(\"\\n\")"
   ]
  }
 ],
 "metadata": {
  "kernelspec": {
   "display_name": "base",
   "language": "python",
   "name": "python3"
  },
  "language_info": {
   "codemirror_mode": {
    "name": "ipython",
    "version": 3
   },
   "file_extension": ".py",
   "mimetype": "text/x-python",
   "name": "python",
   "nbconvert_exporter": "python",
   "pygments_lexer": "ipython3",
   "version": "3.9.13"
  }
 },
 "nbformat": 4,
 "nbformat_minor": 2
}
